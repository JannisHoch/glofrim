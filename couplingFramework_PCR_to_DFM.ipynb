{
 "cells": [
  {
   "cell_type": "code",
   "execution_count": 1,
   "metadata": {},
   "outputs": [],
   "source": [
    "import rasterio\n",
    "import os\n",
    "from datetime import datetime\n",
    "import numpy as np"
   ]
  },
  {
   "cell_type": "code",
   "execution_count": 2,
   "metadata": {},
   "outputs": [],
   "source": [
    "# local libraries\n",
    "from coupling_PCR_FM.model_functions_v2 import PCR_model, CMF_model, DFM_model\n",
    "from coupling_PCR_FM.utils import config_to_dict\n",
    "%config Application.log_level=\"INFO\""
   ]
  },
  {
   "cell_type": "code",
   "execution_count": 6,
   "metadata": {},
   "outputs": [],
   "source": [
    "# IMPORT MODEL SETTINGS FROM INI-FILE\n",
    "argv1 = r'default_rename.set'\n",
    "argv2 = r'paths.env'\n",
    "\n",
    "# parse set/ini-file with central/general settings for coupling framework\n",
    "config = config_to_dict(argv1)\n",
    "# parse env-file for user-specific paths and environmental variables\n",
    "envs = config_to_dict(argv2)\n",
    "# combine\n",
    "config.update(envs)\n",
    "options = config\n",
    "# parse dates\n",
    "start_date = datetime.strptime(options['numerical_settings']['startTime'], '%Y-%m-%d')\n",
    "end_date = datetime.strptime(options['numerical_settings']['endTime'], '%Y-%m-%d')"
   ]
  },
  {
   "cell_type": "code",
   "execution_count": 7,
   "metadata": {},
   "outputs": [
    {
     "name": "stdout",
     "output_type": "stream",
     "text": [
      "/home/jannis/PhD/code/GLOFRIMplusCAMA/output30min/PCR\n",
      "/home/jannis/PhD/code/GLOFRIMplusCAMA/glofrim\n"
     ]
    }
   ],
   "source": [
    "# setup output dir\n",
    "cwd = os.getcwd() # note: this get changed by pcr initialization later on\n",
    "out_dir = options['PCRpaths']['outputDirectoryPCR']\n",
    "if not os.path.isdir(out_dir):\n",
    "    os.mkdir(out_dir)\n",
    "print(out_dir)\n",
    "print(cwd)"
   ]
  },
  {
   "cell_type": "markdown",
   "metadata": {},
   "source": [
    "## create PCR model BMI object"
   ]
  },
  {
   "cell_type": "code",
   "execution_count": 8,
   "metadata": {},
   "outputs": [
    {
     "name": "stdout",
     "output_type": "stream",
     "text": [
      "/home/jannis/PhD/code/GLOFRIMplusCAMA/glofrim/test_Elbe/PCR_Elbe/input30min\n",
      "/home/jannis/PhD/code/GLOFRIMplusCAMA/glofrim/test_Elbe/PCR_Elbe/setup_PCR_30min_Elbe.ini\n",
      "/home/jannis/PhD/code/GLOFRIMplusCAMA/output30min/PCR/PCR\n"
     ]
    }
   ],
   "source": [
    "PCR_config_fn = os.path.join(cwd, options['hydrologic_model']['config_dir'], options['hydrologic_model']['config_file'])\n",
    "PCR_in_dir = options['PCRpaths']['inputDirectoryPCR']\n",
    "PCR_out_dir = os.path.join(out_dir, 'PCR')\n",
    "print(PCR_in_dir)\n",
    "print(PCR_config_fn)\n",
    "print(PCR_out_dir)\n",
    "\n",
    "PCR_bmi = PCR_model(PCR_config_fn, PCR_in_dir, PCR_out_dir,\n",
    "                            start_date, end_date,)\n"
   ]
  },
  {
   "cell_type": "markdown",
   "metadata": {},
   "source": [
    "## create DFM model BMI object"
   ]
  },
  {
   "cell_type": "code",
   "execution_count": 9,
   "metadata": {},
   "outputs": [
    {
     "name": "stdout",
     "output_type": "stream",
     "text": [
      "/home/jannis/Programmes/DFLOWFM/lib/libdflowfm.so\n",
      "/home/jannis/PhD/code/GLOFRIMplusCAMA/glofrim/test_Elbe/DFM_Elbe/\n",
      "/home/jannis/PhD/code/GLOFRIMplusCAMA/glofrim/test_Elbe/DFM_Elbe/Elbe_1way_1d2dFM_400m_3200m.mdu\n",
      "/home/jannis/PhD/code/GLOFRIMplusCAMA/output30min/PCR/DFM\n"
     ]
    }
   ],
   "source": [
    "DFM_engine = os.path.join(cwd, options['DFM_engine']['DFM_path'])\n",
    "DFM_model_dir = os.path.join(cwd, options['hydrodynamic_model']['model_dir'])\n",
    "DFM_config_fn = os.path.join(DFM_model_dir, options['hydrodynamic_model']['model_file'])\n",
    "DFM_out_dir = os.path.join(out_dir, 'DFM')\n",
    "print(DFM_engine)\n",
    "print(DFM_model_dir)\n",
    "print(DFM_config_fn)\n",
    "print(DFM_out_dir)\n",
    "\n",
    "\n",
    "DFM_bmi = DFM_model(DFM_engine, DFM_config_fn, DFM_model_dir, DFM_out_dir,\n",
    "                              start_date, end_date, dt=86400.)"
   ]
  },
  {
   "cell_type": "markdown",
   "metadata": {},
   "source": [
    "## intitialize models "
   ]
  },
  {
   "cell_type": "code",
   "execution_count": 10,
   "metadata": {
    "scrolled": true
   },
   "outputs": [
    {
     "name": "stderr",
     "output_type": "stream",
     "text": [
      "2018-02-12 11:15:01,061 pcrglobwb_bmi_v203.configuration INFO Model run started at 2018-02-12 11:15:01.055955\n",
      "2018-02-12 11:15:01,062 pcrglobwb_bmi_v203.configuration INFO Logging output to /home/jannis/PhD/code/GLOFRIMplusCAMA/output30min/PCR/PCR/log/setup_PCR_30min_Elbe.ini_2018-02-12T11:15:01.055955.log\n",
      "2018-02-12 11:15:01,062 pcrglobwb_bmi_v203.configuration INFO Note that avgSurfaceWaterInputLongIni is not used and not needed.\n",
      "2018-02-12 11:15:01,063 pcrglobwb_bmi_v203.configuration INFO The initial condition \"subDischargeIni\" is not defined. Either \"avgDischargeShortIni\" or \"avgDischargeLongIni\" is used in this run. Note that the \"subDischargeIni\" is only relevant if kinematic wave approaches are used.\n",
      "2018-02-12 11:15:01,064 pcrglobwb_bmi_v203.currTimeStep INFO number of time steps :10\n",
      "2018-02-12 11:15:01,341 pcrglobwb_bmi_v203.meteo INFO No forcing downscaling is implemented.\n",
      "2018-02-12 11:15:08,731 pcrglobwb_bmi_v203.deterministic_runner INFO Adjusting some model parameters based on given values in the ini/configuration file.\n",
      "2018-02-12 11:15:08,732 pcrglobwb_bmi_v203.deterministic_runner INFO \n",
      "\n",
      "Multiplier values used: \n",
      "For minSoilDepthFrac           : 1.0\n",
      "For kSat (log-scale)           : 0.0\n",
      "For recessionCoeff (log-scale) : 1.0\n",
      "For storCap                    : 1.25\n",
      "For degreeDayFactor            : 1.0\n",
      "For refPotET                   : 1.0\n",
      "\n",
      "2018-02-12 11:15:08,734 pcrglobwb_bmi_v203.pcrglobwb_bmi INFO Model initialized. Spin-up might be required.\n",
      "2018-02-12 11:15:08,734 coupling_PCR_FM.model_functions_v2 INFO PCRGLOB-WB initialized\n",
      "2018-02-12 11:15:08,863 rasterio DEBUG GDAL dataset has no projection.\n",
      "2018-02-12 11:15:08,863 rasterio DEBUG GDAL dataset has no projection.\n"
     ]
    }
   ],
   "source": [
    "# initialize PCR to expose model LDD via BMI\n",
    "PCR_bmi.initialize()\n",
    "PCR_bmi.get_model_grid()"
   ]
  },
  {
   "cell_type": "code",
   "execution_count": 11,
   "metadata": {},
   "outputs": [
    {
     "name": "stderr",
     "output_type": "stream",
     "text": [
      "2018-02-12 11:15:08,872 coupling_PCR_FM.model_functions_v2 INFO Ini file for Delft3D-FM written to /home/jannis/PhD/code/GLOFRIMplusCAMA/output30min/PCR/DFM/Elbe_1way_1d2dFM_400m_3200m.mdu\n",
      "2018-02-12 11:15:08,873 bmi.wrapper INFO Loading model /home/jannis/PhD/code/GLOFRIMplusCAMA/output30min/PCR/DFM/Elbe_1way_1d2dFM_400m_3200m.mdu in directory /home/jannis/PhD/code/GLOFRIMplusCAMA/output30min/PCR/DFM\n",
      "2018-02-12 11:15:21,988 coupling_PCR_FM.model_functions_v2 INFO Delft3D-FM initialized\n"
     ]
    }
   ],
   "source": [
    "# initialize DFM to expose model coordinates via BMI\n",
    "DFM_bmi.initialize()\n",
    "# get 1d coordinates\n",
    "DFM_bmi.get_model_coords()"
   ]
  },
  {
   "cell_type": "markdown",
   "metadata": {},
   "source": [
    "## set coupling between PCR and DFM"
   ]
  },
  {
   "cell_type": "code",
   "execution_count": null,
   "metadata": {},
   "outputs": [],
   "source": [
    "# from coupling_PCR_FM.coupling_functions import assignPCR2cells\n",
    "# landmask_pcr = str(PCR_bmi._landmask_fn)\n",
    "# xy_coords = [[xy] for xy in DFM_bmi.model_1d_coords]\n",
    "# coupledHydro2PCR, coupledPCR2hydro, zipPCRIndices = assignPCR2cells(landmask_pcr, xy_coords, verbose=False)"
   ]
  },
  {
   "cell_type": "code",
   "execution_count": null,
   "metadata": {},
   "outputs": [],
   "source": [
    "# DFM2PCR, PCR2DFM = PCR_bmi.couple_1d_2d(DFM_bmi.model_1d_coords, DFM_bmi.model_1d_indices)"
   ]
  },
  {
   "cell_type": "code",
   "execution_count": 12,
   "metadata": {},
   "outputs": [
    {
     "ename": "TypeError",
     "evalue": "unsupported operand type(s) for -: 'tuple' and 'float'",
     "output_type": "error",
     "traceback": [
      "\u001b[0;31m---------------------------------------------------------------------------\u001b[0m",
      "\u001b[0;31mTypeError\u001b[0m                                 Traceback (most recent call last)",
      "\u001b[0;32m<ipython-input-12-b3581d243275>\u001b[0m in \u001b[0;36m<module>\u001b[0;34m()\u001b[0m\n\u001b[1;32m     26\u001b[0m \u001b[0;34m\u001b[0m\u001b[0m\n\u001b[1;32m     27\u001b[0m \u001b[0;31m# get coupled dictionaries\u001b[0m\u001b[0;34m\u001b[0m\u001b[0;34m\u001b[0m\u001b[0m\n\u001b[0;32m---> 28\u001b[0;31m \u001b[0mDFM2PCR\u001b[0m\u001b[0;34m,\u001b[0m \u001b[0mPCR2DFM\u001b[0m \u001b[0;34m=\u001b[0m \u001b[0mPCR_bmi\u001b[0m\u001b[0;34m.\u001b[0m\u001b[0mcouple_1d_2d\u001b[0m\u001b[0;34m(\u001b[0m\u001b[0mDFM_bmi\u001b[0m\u001b[0;34m.\u001b[0m\u001b[0mmodel_1d_coords\u001b[0m\u001b[0;34m,\u001b[0m \u001b[0mDFM_bmi\u001b[0m\u001b[0;34m.\u001b[0m\u001b[0mmodel_1d_indices\u001b[0m\u001b[0;34m)\u001b[0m\u001b[0;34m\u001b[0m\u001b[0m\n\u001b[0m\u001b[1;32m     29\u001b[0m \u001b[0;34m\u001b[0m\u001b[0m\n\u001b[1;32m     30\u001b[0m \u001b[0;31m# turn LDD off for coupled cells\u001b[0m\u001b[0;34m\u001b[0m\u001b[0;34m\u001b[0m\u001b[0m\n",
      "\u001b[0;32m/home/jannis/PhD/code/GLOFRIMplusCAMA/glofrim/coupling/coupling_PCR_FM/model_functions_v2.py\u001b[0m in \u001b[0;36mcouple_1d_2d\u001b[0;34m(self, xy, indices)\u001b[0m\n\u001b[1;32m    384\u001b[0m         \"\"\"\n\u001b[1;32m    385\u001b[0m \u001b[0;34m\u001b[0m\u001b[0m\n\u001b[0;32m--> 386\u001b[0;31m         \u001b[0mcellidx\u001b[0m \u001b[0;34m=\u001b[0m \u001b[0mself\u001b[0m\u001b[0;34m.\u001b[0m\u001b[0mmodel_2d_index\u001b[0m\u001b[0;34m(\u001b[0m\u001b[0mxy\u001b[0m\u001b[0;34m)\u001b[0m\u001b[0;34m\u001b[0m\u001b[0m\n\u001b[0m\u001b[1;32m    387\u001b[0m         \u001b[0;32mif\u001b[0m \u001b[0mindices\u001b[0m \u001b[0;32mis\u001b[0m \u001b[0mNone\u001b[0m\u001b[0;34m:\u001b[0m\u001b[0;34m\u001b[0m\u001b[0m\n\u001b[1;32m    388\u001b[0m             \u001b[0mcoupled_indices\u001b[0m \u001b[0;34m=\u001b[0m \u001b[0;34m{\u001b[0m\u001b[0mi\u001b[0m\u001b[0;34m:\u001b[0m \u001b[0midx\u001b[0m \u001b[0;32mfor\u001b[0m \u001b[0mi\u001b[0m\u001b[0;34m,\u001b[0m \u001b[0midx\u001b[0m \u001b[0;32min\u001b[0m \u001b[0menumerate\u001b[0m\u001b[0;34m(\u001b[0m\u001b[0mcellidx\u001b[0m\u001b[0;34m)\u001b[0m\u001b[0;34m}\u001b[0m\u001b[0;34m\u001b[0m\u001b[0m\n",
      "\u001b[0;32m/home/jannis/PhD/code/GLOFRIMplusCAMA/glofrim/coupling/coupling_PCR_FM/model_functions_v2.py\u001b[0m in \u001b[0;36mmodel_2d_index\u001b[0;34m(xy, **kwargs)\u001b[0m\n\u001b[1;32m    352\u001b[0m             \u001b[0;31m# function for grid row col index\u001b[0m\u001b[0;34m\u001b[0m\u001b[0;34m\u001b[0m\u001b[0m\n\u001b[1;32m    353\u001b[0m             \u001b[0;32mdef\u001b[0m \u001b[0mmodel_2d_index\u001b[0m\u001b[0;34m(\u001b[0m\u001b[0mxy\u001b[0m\u001b[0;34m,\u001b[0m \u001b[0;34m**\u001b[0m\u001b[0mkwargs\u001b[0m\u001b[0;34m)\u001b[0m\u001b[0;34m:\u001b[0m\u001b[0;34m\u001b[0m\u001b[0m\n\u001b[0;32m--> 354\u001b[0;31m                 \u001b[0mr\u001b[0m\u001b[0;34m,\u001b[0m \u001b[0mc\u001b[0m \u001b[0;34m=\u001b[0m \u001b[0mds\u001b[0m\u001b[0;34m.\u001b[0m\u001b[0mindex\u001b[0m\u001b[0;34m(\u001b[0m\u001b[0;34m*\u001b[0m\u001b[0mzip\u001b[0m\u001b[0;34m(\u001b[0m\u001b[0;34m*\u001b[0m\u001b[0mxy\u001b[0m\u001b[0;34m)\u001b[0m\u001b[0;34m,\u001b[0m \u001b[0;34m**\u001b[0m\u001b[0mkwargs\u001b[0m\u001b[0;34m)\u001b[0m\u001b[0;34m\u001b[0m\u001b[0m\n\u001b[0m\u001b[1;32m    355\u001b[0m                 \u001b[0mr\u001b[0m \u001b[0;34m=\u001b[0m \u001b[0mnp\u001b[0m\u001b[0;34m.\u001b[0m\u001b[0marray\u001b[0m\u001b[0;34m(\u001b[0m\u001b[0mr\u001b[0m\u001b[0;34m)\u001b[0m\u001b[0;34m.\u001b[0m\u001b[0mastype\u001b[0m\u001b[0;34m(\u001b[0m\u001b[0mint\u001b[0m\u001b[0;34m)\u001b[0m\u001b[0;34m\u001b[0m\u001b[0m\n\u001b[1;32m    356\u001b[0m                 \u001b[0mc\u001b[0m \u001b[0;34m=\u001b[0m \u001b[0mnp\u001b[0m\u001b[0;34m.\u001b[0m\u001b[0marray\u001b[0m\u001b[0;34m(\u001b[0m\u001b[0mc\u001b[0m\u001b[0;34m)\u001b[0m\u001b[0;34m.\u001b[0m\u001b[0mastype\u001b[0m\u001b[0;34m(\u001b[0m\u001b[0mint\u001b[0m\u001b[0;34m)\u001b[0m\u001b[0;34m\u001b[0m\u001b[0m\n",
      "\u001b[0;32mrasterio/_base.pyx\u001b[0m in \u001b[0;36mrasterio._base.DatasetReader.index (rasterio/_base.c:7679)\u001b[0;34m()\u001b[0m\n",
      "\u001b[0;31mTypeError\u001b[0m: unsupported operand type(s) for -: 'tuple' and 'float'"
     ]
    }
   ],
   "source": [
    "def PCR2DFM_tot_runoff_1d(PCR_bmi, DFM_bmi, DFM2PCR, PCR2DFM):\n",
    "    \"\"\n",
    "    # determine area fraction for volume distribution\n",
    "    area_frac = {} # [m2/m2]\n",
    "    area_all = DFM_bmi.get_var('ba') #[m2]\n",
    "    for PCRidx in PCR2DFM:\n",
    "        DFMidx = PCR2DFM[PCRidx]\n",
    "        area_sum = np.sum(area_all[DFMidx])\n",
    "        afs = {idx: area_all[idx]/area_sum for idx in DFMidx}\n",
    "        area_frac.update(afs)\n",
    "\n",
    "    # get short index handles\n",
    "    DFMidx = DFM_bmi.model_1d_indices\n",
    "    PCRidx = zip(*[DFM2PCR[idx] for idx in DFMidx]) # tuple of lists\n",
    "\n",
    "    # sort to DFMidx\n",
    "    area_frac = np.array([area_frac[idx] for idx in DFMidx])\n",
    "    area = np.array(area_all[DFMidx])\n",
    "        \n",
    "    def update_states():\n",
    "        delta_water_volume_pcr = PCR_bmi.get_delta_water()[PCRidx] # [m3/dt]\n",
    "        delta_water_depth_dfm = delta_water_volume_pcr * area_frac / area # [m/dt]\n",
    "        DFM_bmi.set_var_index('rain', DFMidx, delta_water_depth_dfm)\n",
    "\n",
    "    return update_states\n",
    "\n",
    "# get coupled dictionaries\n",
    "DFM2PCR, PCR2DFM = PCR_bmi.couple_1d_2d(DFM_bmi.model_1d_coords, DFM_bmi.model_1d_indices)\n",
    "\n",
    "# turn LDD off for coupled cells\n",
    "PCR_bmi.deactivate_LDD(PCR2DFM.keys())\n",
    "\n",
    "\n",
    "update_states = PCR2DFM_tot_runoff_1d(PCR_bmi, DFM_bmi, DFM2PCR, PCR2DFM)\n",
    "# DFM_bmi.set_update_states(update_states)"
   ]
  },
  {
   "cell_type": "markdown",
   "metadata": {},
   "source": [
    "## run coupled PCR - DFM model"
   ]
  },
  {
   "cell_type": "code",
   "execution_count": 13,
   "metadata": {
    "scrolled": true
   },
   "outputs": [
    {
     "name": "stderr",
     "output_type": "stream",
     "text": [
      "2018-02-12 11:19:40,229 pcrglobwb_bmi_v203.pcrglobwb INFO reading forcings for time 2000-01-01\n",
      "2018-02-12 11:19:40,395 pcrglobwb_bmi_v203.pcrglobwb INFO updating model to time 2000-01-01\n",
      "2018-02-12 11:19:41,759 coupling_PCR_FM.model_functions_v2 INFO PCRGLOB-WB -> start_time: 2000-01-01, current_time 2000-01-01, timestep 1\n"
     ]
    },
    {
     "ename": "NameError",
     "evalue": "name 'update_states' is not defined",
     "output_type": "error",
     "traceback": [
      "\u001b[0;31m---------------------------------------------------------------------------\u001b[0m",
      "\u001b[0;31mNameError\u001b[0m                                 Traceback (most recent call last)",
      "\u001b[0;32m<ipython-input-13-c7dfc0a17589>\u001b[0m in \u001b[0;36m<module>\u001b[0;34m()\u001b[0m\n\u001b[1;32m      2\u001b[0m \u001b[0;32mfor\u001b[0m \u001b[0mi\u001b[0m \u001b[0;32min\u001b[0m \u001b[0mrange\u001b[0m\u001b[0;34m(\u001b[0m\u001b[0;36m2\u001b[0m\u001b[0;34m)\u001b[0m\u001b[0;34m:\u001b[0m\u001b[0;34m\u001b[0m\u001b[0m\n\u001b[1;32m      3\u001b[0m     \u001b[0mPCR_bmi\u001b[0m\u001b[0;34m.\u001b[0m\u001b[0mupdate\u001b[0m\u001b[0;34m(\u001b[0m\u001b[0;34m)\u001b[0m\u001b[0;34m\u001b[0m\u001b[0m\n\u001b[0;32m----> 4\u001b[0;31m     \u001b[0mupdate_states\u001b[0m\u001b[0;34m(\u001b[0m\u001b[0;34m)\u001b[0m\u001b[0;34m\u001b[0m\u001b[0m\n\u001b[0m\u001b[1;32m      5\u001b[0m     \u001b[0mDFM_bmi\u001b[0m\u001b[0;34m.\u001b[0m\u001b[0mupdate\u001b[0m\u001b[0;34m(\u001b[0m\u001b[0;34m)\u001b[0m\u001b[0;34m\u001b[0m\u001b[0m\n",
      "\u001b[0;31mNameError\u001b[0m: name 'update_states' is not defined"
     ]
    }
   ],
   "source": [
    "# run coupled model for 2 timesteps\n",
    "for i in range(2):\n",
    "    PCR_bmi.update()\n",
    "    update_states()\n",
    "    DFM_bmi.update()   "
   ]
  },
  {
   "cell_type": "code",
   "execution_count": null,
   "metadata": {},
   "outputs": [],
   "source": [
    "DFM_bmi.finalize()\n",
    "PCR_bmi.finalize()"
   ]
  }
 ],
 "metadata": {
  "anaconda-cloud": {},
  "kernelspec": {
   "display_name": "Python [default]",
   "language": "python",
   "name": "python2"
  },
  "language_info": {
   "codemirror_mode": {
    "name": "ipython",
    "version": 2
   },
   "file_extension": ".py",
   "mimetype": "text/x-python",
   "name": "python",
   "nbconvert_exporter": "python",
   "pygments_lexer": "ipython2",
   "version": "2.7.12"
  }
 },
 "nbformat": 4,
 "nbformat_minor": 2
}
