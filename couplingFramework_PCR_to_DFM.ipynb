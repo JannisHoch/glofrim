{
 "cells": [
  {
   "cell_type": "code",
   "execution_count": 1,
   "metadata": {},
   "outputs": [],
   "source": [
    "%matplotlib inline\n",
    "import netCDF4\n",
    "from netCDF4 import Dataset\n",
    "import rasterio\n",
    "import os\n",
    "from datetime import datetime\n",
    "import numpy as np\n",
    "import spotpy\n",
    "import matplotlib.pyplot as plt\n",
    "import matplotlib.dates as mdates"
   ]
  },
  {
   "cell_type": "code",
   "execution_count": 2,
   "metadata": {},
   "outputs": [],
   "source": [
    "# local libraries\n",
    "from coupling_PCR_FM.model_functions_v2 import PCR_model, CMF_model, DFM_model\n",
    "from coupling_PCR_FM.utils import config_to_dict\n",
    "%config Application.log_level=\"INFO\""
   ]
  },
  {
   "cell_type": "code",
   "execution_count": 3,
   "metadata": {},
   "outputs": [],
   "source": [
    "# IMPORT MODEL SETTINGS FROM INI-FILE\n",
    "argv1 = r'couplingSettings.set'\n",
    "argv2 = r'modelPaths.env'\n",
    "\n",
    "# parse set/ini-file with central/general settings for coupling framework\n",
    "config = config_to_dict(argv1)\n",
    "# parse env-file for user-specific paths and environmental variables\n",
    "envs = config_to_dict(argv2)\n",
    "# combine\n",
    "config.update(envs)\n",
    "options = config\n",
    "# parse dates\n",
    "start_date = datetime.strptime(options['numerical_settings']['startTime'], '%Y-%m-%d')\n",
    "end_date = datetime.strptime(options['numerical_settings']['endTime'], '%Y-%m-%d')"
   ]
  },
  {
   "cell_type": "code",
   "execution_count": 4,
   "metadata": {},
   "outputs": [
    {
     "name": "stdout",
     "output_type": "stream",
     "text": [
      "/home/jannis/PhD/code/GLOFRIMplusCAMA/output30min/\n",
      "/home/jannis/PhD/code/GLOFRIMplusCAMA/glofrim\n"
     ]
    }
   ],
   "source": [
    "# setup output dir\n",
    "cwd = os.getcwd() # note: this get changed by pcr initialization later on\n",
    "out_dir = options['PCRpaths']['outputDirectoryPCR']\n",
    "if not os.path.isdir(out_dir):\n",
    "    os.mkdir(out_dir)\n",
    "print(out_dir)\n",
    "print(cwd)"
   ]
  },
  {
   "cell_type": "markdown",
   "metadata": {},
   "source": [
    "## create PCR model BMI object"
   ]
  },
  {
   "cell_type": "code",
   "execution_count": 5,
   "metadata": {},
   "outputs": [
    {
     "name": "stdout",
     "output_type": "stream",
     "text": [
      "/home/jannis/PhD/code/GLOFRIMplusCAMA/glofrim/test_Elbe/PCR_Elbe/input30min/\n",
      "/home/jannis/PhD/code/GLOFRIMplusCAMA/glofrim/test_Elbe/PCR_Elbe/setup_PCR_30min_Elbe.ini\n",
      "/home/jannis/PhD/code/GLOFRIMplusCAMA/output30min/PCR\n"
     ]
    }
   ],
   "source": [
    "PCR_config_fn = os.path.join(cwd, options['hydrologic_model']['config_dir'], options['hydrologic_model']['config_file'])\n",
    "PCR_in_dir = options['PCRpaths']['inputDirectoryPCR']\n",
    "PCR_out_dir = os.path.join(out_dir, 'PCR')\n",
    "print(PCR_in_dir)\n",
    "print(PCR_config_fn)\n",
    "print(PCR_out_dir)\n",
    "\n",
    "PCR_bmi = PCR_model(PCR_config_fn, PCR_in_dir, PCR_out_dir,\n",
    "                            start_date, end_date,)\n"
   ]
  },
  {
   "cell_type": "markdown",
   "metadata": {},
   "source": [
    "## create DFM model BMI object"
   ]
  },
  {
   "cell_type": "code",
   "execution_count": 6,
   "metadata": {},
   "outputs": [
    {
     "name": "stdout",
     "output_type": "stream",
     "text": [
      "/home/jannis/Programmes/DFLOWFM/lib/libdflowfm.so\n",
      "/home/jannis/PhD/code/GLOFRIMplusCAMA/glofrim/test_Elbe/DFM_Elbe/delta/\n",
      "/home/jannis/PhD/code/GLOFRIMplusCAMA/glofrim/test_Elbe/DFM_Elbe/delta/DFM_Elbe_VU.mdu\n",
      "/home/jannis/PhD/code/GLOFRIMplusCAMA/output30min/DFM\n"
     ]
    }
   ],
   "source": [
    "DFM_engine = os.path.join(cwd, options['DFM_engine']['DFM_path'])\n",
    "DFM_model_dir = os.path.join(cwd, options['hydrodynamic_model']['model_dir'])\n",
    "DFM_config_fn = os.path.join(DFM_model_dir, options['hydrodynamic_model']['model_file'])\n",
    "DFM_out_dir = os.path.join(out_dir, 'DFM')\n",
    "print(DFM_engine)\n",
    "print(DFM_model_dir)\n",
    "print(DFM_config_fn)\n",
    "print(DFM_out_dir)\n",
    "\n",
    "\n",
    "DFM_bmi = DFM_model(DFM_engine, DFM_config_fn, DFM_model_dir, DFM_out_dir,\n",
    "                              start_date, end_date)"
   ]
  },
  {
   "cell_type": "markdown",
   "metadata": {},
   "source": [
    "## intitialize DFM model first to expose 1d coords"
   ]
  },
  {
   "cell_type": "code",
   "execution_count": 7,
   "metadata": {},
   "outputs": [],
   "source": [
    "# initialize DFM to expose model coordinates via BMI\n",
    "DFM_bmi.initialize()"
   ]
  },
  {
   "cell_type": "markdown",
   "metadata": {},
   "source": [
    "## set coupling between PCR and DFM"
   ]
  },
  {
   "cell_type": "markdown",
   "metadata": {},
   "source": [
    "Couple external 1d coordinates to internal model 2d grid. \n",
    "\n",
    "From the green cells with value 1 (green) runoff is couled for the cells with value 2 (yellow) discharge is coupled"
   ]
  },
  {
   "cell_type": "code",
   "execution_count": 8,
   "metadata": {},
   "outputs": [
    {
     "data": {
      "text/plain": [
       "<matplotlib.text.Text at 0x7fdfe2b632d0>"
      ]
     },
     "execution_count": 8,
     "metadata": {},
     "output_type": "execute_result"
    },
    {
     "data": {
      "image/png": "[encoded data removed]",
      "text/plain": [
       "<matplotlib.figure.Figure at 0x7fdff1d5cbd0>"
      ]
     },
     "metadata": {},
     "output_type": "display_data"
    }
   ],
   "source": [
    "# get coupled dictionaries\n",
    "PCR_bmi.couple_grid_to_1d(DFM_bmi)\n",
    "\n",
    "fig = plt.figure(figsize=(10, 5))\n",
    "b=fig.add_subplot(1,1,1)\n",
    "plt.imshow(PCR_bmi.coupled_mask, vmin=0, vmax=2)\n",
    "b.set_title('CFM coupled to DFM mask')"
   ]
  },
  {
   "cell_type": "code",
   "execution_count": 9,
   "metadata": {
    "scrolled": true
   },
   "outputs": [
    {
     "name": "stderr",
     "output_type": "stream",
     "text": [
      "INFO: configuration.initialize_logging(): Model run started at 2018-03-22 16:25:36.489661\n",
      "2018-03-22 16:25:36,501 pcrglobwb_bmi_v203.configuration INFO Model run started at 2018-03-22 16:25:36.489661\n",
      "INFO: configuration.initialize_logging(): Logging output to /home/jannis/PhD/code/GLOFRIMplusCAMA/output30min/PCR/log/setup_PCR_30min_Elbe.ini_2018-03-22T16:25:36.489661.log\n",
      "2018-03-22 16:25:36,514 pcrglobwb_bmi_v203.configuration INFO Logging output to /home/jannis/PhD/code/GLOFRIMplusCAMA/output30min/PCR/log/setup_PCR_30min_Elbe.ini_2018-03-22T16:25:36.489661.log\n",
      "INFO: configuration.repair_ini_key_names(): Note that avgSurfaceWaterInputLongIni is not used and not needed.\n",
      "2018-03-22 16:25:36,520 pcrglobwb_bmi_v203.configuration INFO Note that avgSurfaceWaterInputLongIni is not used and not needed.\n",
      "INFO: configuration.repair_ini_key_names(): The initial condition \"subDischargeIni\" is not defined. Either \"avgDischargeShortIni\" or \"avgDischargeLongIni\" is used in this run. Note that the \"subDischargeIni\" is only relevant if kinematic wave approaches are used.\n",
      "2018-03-22 16:25:36,525 pcrglobwb_bmi_v203.configuration INFO The initial condition \"subDischargeIni\" is not defined. Either \"avgDischargeShortIni\" or \"avgDischargeLongIni\" is used in this run. Note that the \"subDischargeIni\" is only relevant if kinematic wave approaches are used.\n",
      "INFO: currTimeStep.getStartEndTimeSteps(): number of time steps :731\n",
      "2018-03-22 16:25:36,532 pcrglobwb_bmi_v203.currTimeStep INFO number of time steps :731\n",
      "INFO: meteo.forcingDownscalingOptions(): No forcing downscaling is implemented.\n",
      "2018-03-22 16:25:37,027 pcrglobwb_bmi_v203.meteo INFO No forcing downscaling is implemented.\n",
      "INFO: deterministic_runner.adusting_parameters(): Adjusting some model parameters based on given values in the ini/configuration file.\n",
      "2018-03-22 16:25:50,260 pcrglobwb_bmi_v203.deterministic_runner INFO Adjusting some model parameters based on given values in the ini/configuration file.\n",
      "INFO: deterministic_runner.adusting_parameters(): \n",
      "\n",
      "Multiplier values used: \n",
      "For minSoilDepthFrac           : 1.0\n",
      "For kSat (log-scale)           : 0.0\n",
      "For recessionCoeff (log-scale) : 1.0\n",
      "For storCap                    : 1.25\n",
      "For degreeDayFactor            : 1.0\n",
      "For refPotET                   : 1.0\n",
      "\n",
      "2018-03-22 16:25:50,261 pcrglobwb_bmi_v203.deterministic_runner INFO \n",
      "\n",
      "Multiplier values used: \n",
      "For minSoilDepthFrac           : 1.0\n",
      "For kSat (log-scale)           : 0.0\n",
      "For recessionCoeff (log-scale) : 1.0\n",
      "For storCap                    : 1.25\n",
      "For degreeDayFactor            : 1.0\n",
      "For refPotET                   : 1.0\n",
      "\n",
      "INFO: pcrglobwb_bmi.initialize(): Model initialized. Spin-up might be required.\n",
      "2018-03-22 16:25:50,266 pcrglobwb_bmi_v203.pcrglobwb_bmi INFO Model initialized. Spin-up might be required.\n",
      "INFO: model_functions_v2.initialize(): PCR initialized\n",
      "2018-03-22 16:25:50,268 coupling_PCR_FM.model_functions_v2 INFO PCR initialized\n"
     ]
    }
   ],
   "source": [
    "# initialize PCR to after editing ldd grid\n",
    "PCR_bmi.initialize()"
   ]
  },
  {
   "cell_type": "markdown",
   "metadata": {},
   "source": [
    "## run coupled PCR - DFM model"
   ]
  },
  {
   "cell_type": "code",
   "execution_count": null,
   "metadata": {
    "scrolled": true
   },
   "outputs": [],
   "source": [
    "# run coupled model for 2 timesteps\n",
    "def get_PCR_delta_vol():\n",
    "    # coupled 2d mask\n",
    "    mask = (PCR_bmi.coupled_mask > 0).astype(float)\n",
    "    # Q outflow 2D for coupled cells\n",
    "    # NOTE: see if we can change this for cell inflow, like with the get_CMF_delta_vol\n",
    "    q_out = PCR_bmi.get_var('discharge') * mask # [m3/s]\n",
    "    # PCR runoff inflow 2D for coupled cells\n",
    "    runoff = PCR_bmi.get_var('runoff') * mask # [m3/s]\n",
    "    # take discharge in most upstream coupled cells, runoff for other cells\n",
    "    tot_flux = np.where(PCR_bmi.coupled_mask == 2, q_out, runoff)\n",
    "    # convert flux to volume per day\n",
    "    delta_vol = tot_flux * PCR_bmi.options['dt'] # [m3/day]\n",
    "    return delta_vol \n",
    "\n",
    "\n",
    "DFMidx = DFM_bmi.coupled_idx\n",
    "DFM_area_1d = DFM_bmi.get_var('ba')[DFMidx]\n",
    "PCRidx = PCR_bmi.coupled_idx\n",
    "PCRfrac = PCR_bmi.coupled_area_frac\n",
    "def set_DFM_forcing():\n",
    "    PCR_delta_vol = get_PCR_delta_vol() # 2d array [m3/day]\n",
    "    DFM_depth_conservative = PCR_delta_vol[PCRidx] * PCRfrac / DFM_area_1d # 1d array for coupld DFM cells [m/day]\n",
    "    DFM_bmi.set_var_index('rain', DFMidx, DFM_depth_conservative)"
   ]
  },
  {
   "cell_type": "code",
   "execution_count": null,
   "metadata": {},
   "outputs": [
    {
     "name": "stderr",
     "output_type": "stream",
     "text": [
      "INFO: pcrglobwb.read_forcings(): reading forcings for time 2000-01-01\n",
      "2018-03-22 16:25:50,438 pcrglobwb_bmi_v203.pcrglobwb INFO reading forcings for time 2000-01-01\n",
      "INFO: pcrglobwb.update(): updating model to time 2000-01-01\n",
      "2018-03-22 16:25:50,690 pcrglobwb_bmi_v203.pcrglobwb INFO updating model to time 2000-01-01\n",
      "INFO: model_functions_v2.update(): PCR -> start_time: 2000-01-01, current_time 2000-01-01, timestep 1\n",
      "2018-03-22 16:25:52,742 coupling_PCR_FM.model_functions_v2 INFO PCR -> start_time: 2000-01-01, current_time 2000-01-01, timestep 1\n",
      "INFO: model_functions_v2.update(): DFM -> start_time: 0.0, current_time 86400.0, timestep 86400.0\n",
      "2018-03-22 16:25:53,209 coupling_PCR_FM.model_functions_v2 INFO DFM -> start_time: 0.0, current_time 86400.0, timestep 86400.0\n",
      "INFO: pcrglobwb.read_forcings(): reading forcings for time 2000-01-02\n",
      "2018-03-22 16:25:53,211 pcrglobwb_bmi_v203.pcrglobwb INFO reading forcings for time 2000-01-02\n",
      "INFO: pcrglobwb.update(): updating model to time 2000-01-02\n",
      "2018-03-22 16:25:53,590 pcrglobwb_bmi_v203.pcrglobwb INFO updating model to time 2000-01-02\n",
      "INFO: model_functions_v2.update(): PCR -> start_time: 2000-01-01, current_time 2000-01-02, timestep 2\n",
      "2018-03-22 16:25:54,680 coupling_PCR_FM.model_functions_v2 INFO PCR -> start_time: 2000-01-01, current_time 2000-01-02, timestep 2\n",
      "INFO: model_functions_v2.update(): DFM -> start_time: 0.0, current_time 172800.0, timestep 86400.0\n",
      "2018-03-22 16:25:54,824 coupling_PCR_FM.model_functions_v2 INFO DFM -> start_time: 0.0, current_time 172800.0, timestep 86400.0\n",
      "INFO: pcrglobwb.read_forcings(): reading forcings for time 2000-01-03\n",
      "2018-03-22 16:25:54,826 pcrglobwb_bmi_v203.pcrglobwb INFO reading forcings for time 2000-01-03\n",
      "INFO: pcrglobwb.update(): updating model to time 2000-01-03\n",
      "2018-03-22 16:25:55,251 pcrglobwb_bmi_v203.pcrglobwb INFO updating model to time 2000-01-03\n",
      "INFO: model_functions_v2.update(): PCR -> start_time: 2000-01-01, current_time 2000-01-03, timestep 3\n",
      "2018-03-22 16:25:56,381 coupling_PCR_FM.model_functions_v2 INFO PCR -> start_time: 2000-01-01, current_time 2000-01-03, timestep 3\n",
      "INFO: model_functions_v2.update(): DFM -> start_time: 0.0, current_time 259200.0, timestep 86400.0\n",
      "2018-03-22 16:25:56,621 coupling_PCR_FM.model_functions_v2 INFO DFM -> start_time: 0.0, current_time 259200.0, timestep 86400.0\n",
      "INFO: pcrglobwb.read_forcings(): reading forcings for time 2000-01-04\n",
      "2018-03-22 16:25:56,625 pcrglobwb_bmi_v203.pcrglobwb INFO reading forcings for time 2000-01-04\n",
      "INFO: pcrglobwb.update(): updating model to time 2000-01-04\n",
      "2018-03-22 16:25:57,011 pcrglobwb_bmi_v203.pcrglobwb INFO updating model to time 2000-01-04\n",
      "INFO: model_functions_v2.update(): PCR -> start_time: 2000-01-01, current_time 2000-01-04, timestep 4\n",
      "2018-03-22 16:25:58,148 coupling_PCR_FM.model_functions_v2 INFO PCR -> start_time: 2000-01-01, current_time 2000-01-04, timestep 4\n",
      "INFO: model_functions_v2.update(): DFM -> start_time: 0.0, current_time 345600.0, timestep 86400.0\n",
      "2018-03-22 16:25:58,436 coupling_PCR_FM.model_functions_v2 INFO DFM -> start_time: 0.0, current_time 345600.0, timestep 86400.0\n",
      "INFO: pcrglobwb.read_forcings(): reading forcings for time 2000-01-05\n",
      "2018-03-22 16:25:58,443 pcrglobwb_bmi_v203.pcrglobwb INFO reading forcings for time 2000-01-05\n",
      "INFO: pcrglobwb.update(): updating model to time 2000-01-05\n",
      "2018-03-22 16:25:58,834 pcrglobwb_bmi_v203.pcrglobwb INFO updating model to time 2000-01-05\n",
      "INFO: model_functions_v2.update(): PCR -> start_time: 2000-01-01, current_time 2000-01-05, timestep 5\n",
      "2018-03-22 16:25:59,909 coupling_PCR_FM.model_functions_v2 INFO PCR -> start_time: 2000-01-01, current_time 2000-01-05, timestep 5\n",
      "INFO: model_functions_v2.update(): DFM -> start_time: 0.0, current_time 432000.0, timestep 86400.0\n",
      "2018-03-22 16:26:00,028 coupling_PCR_FM.model_functions_v2 INFO DFM -> start_time: 0.0, current_time 432000.0, timestep 86400.0\n",
      "INFO: pcrglobwb.read_forcings(): reading forcings for time 2000-01-06\n",
      "2018-03-22 16:26:00,029 pcrglobwb_bmi_v203.pcrglobwb INFO reading forcings for time 2000-01-06\n",
      "INFO: pcrglobwb.update(): updating model to time 2000-01-06\n",
      "2018-03-22 16:26:00,384 pcrglobwb_bmi_v203.pcrglobwb INFO updating model to time 2000-01-06\n",
      "INFO: model_functions_v2.update(): PCR -> start_time: 2000-01-01, current_time 2000-01-06, timestep 6\n",
      "2018-03-22 16:26:01,517 coupling_PCR_FM.model_functions_v2 INFO PCR -> start_time: 2000-01-01, current_time 2000-01-06, timestep 6\n",
      "INFO: model_functions_v2.update(): DFM -> start_time: 0.0, current_time 518400.0, timestep 86400.0\n",
      "2018-03-22 16:26:01,680 coupling_PCR_FM.model_functions_v2 INFO DFM -> start_time: 0.0, current_time 518400.0, timestep 86400.0\n",
      "INFO: pcrglobwb.read_forcings(): reading forcings for time 2000-01-07\n",
      "2018-03-22 16:26:01,683 pcrglobwb_bmi_v203.pcrglobwb INFO reading forcings for time 2000-01-07\n",
      "INFO: pcrglobwb.update(): updating model to time 2000-01-07\n",
      "2018-03-22 16:26:02,063 pcrglobwb_bmi_v203.pcrglobwb INFO updating model to time 2000-01-07\n",
      "INFO: model_functions_v2.update(): PCR -> start_time: 2000-01-01, current_time 2000-01-07, timestep 7\n",
      "2018-03-22 16:26:03,132 coupling_PCR_FM.model_functions_v2 INFO PCR -> start_time: 2000-01-01, current_time 2000-01-07, timestep 7\n",
      "INFO: model_functions_v2.update(): DFM -> start_time: 0.0, current_time 604800.0, timestep 86400.0\n",
      "2018-03-22 16:26:03,309 coupling_PCR_FM.model_functions_v2 INFO DFM -> start_time: 0.0, current_time 604800.0, timestep 86400.0\n",
      "INFO: pcrglobwb.read_forcings(): reading forcings for time 2000-01-08\n",
      "2018-03-22 16:26:03,311 pcrglobwb_bmi_v203.pcrglobwb INFO reading forcings for time 2000-01-08\n",
      "INFO: pcrglobwb.update(): updating model to time 2000-01-08\n",
      "2018-03-22 16:26:03,685 pcrglobwb_bmi_v203.pcrglobwb INFO updating model to time 2000-01-08\n",
      "INFO: model_functions_v2.update(): PCR -> start_time: 2000-01-01, current_time 2000-01-08, timestep 8\n",
      "2018-03-22 16:26:04,805 coupling_PCR_FM.model_functions_v2 INFO PCR -> start_time: 2000-01-01, current_time 2000-01-08, timestep 8\n",
      "INFO: model_functions_v2.update(): DFM -> start_time: 0.0, current_time 691200.0, timestep 86400.0\n",
      "2018-03-22 16:26:05,067 coupling_PCR_FM.model_functions_v2 INFO DFM -> start_time: 0.0, current_time 691200.0, timestep 86400.0\n",
      "INFO: pcrglobwb.read_forcings(): reading forcings for time 2000-01-09\n",
      "2018-03-22 16:26:05,070 pcrglobwb_bmi_v203.pcrglobwb INFO reading forcings for time 2000-01-09\n",
      "INFO: pcrglobwb.update(): updating model to time 2000-01-09\n",
      "2018-03-22 16:26:05,504 pcrglobwb_bmi_v203.pcrglobwb INFO updating model to time 2000-01-09\n",
      "INFO: model_functions_v2.update(): PCR -> start_time: 2000-01-01, current_time 2000-01-09, timestep 9\n",
      "2018-03-22 16:26:06,641 coupling_PCR_FM.model_functions_v2 INFO PCR -> start_time: 2000-01-01, current_time 2000-01-09, timestep 9\n",
      "INFO: model_functions_v2.update(): DFM -> start_time: 0.0, current_time 777600.0, timestep 86400.0\n",
      "2018-03-22 16:26:07,046 coupling_PCR_FM.model_functions_v2 INFO DFM -> start_time: 0.0, current_time 777600.0, timestep 86400.0\n",
      "INFO: pcrglobwb.read_forcings(): reading forcings for time 2000-01-10\n",
      "2018-03-22 16:26:07,048 pcrglobwb_bmi_v203.pcrglobwb INFO reading forcings for time 2000-01-10\n",
      "INFO: pcrglobwb.update(): updating model to time 2000-01-10\n",
      "2018-03-22 16:26:07,433 pcrglobwb_bmi_v203.pcrglobwb INFO updating model to time 2000-01-10\n",
      "INFO: model_functions_v2.update(): PCR -> start_time: 2000-01-01, current_time 2000-01-10, timestep 10\n",
      "2018-03-22 16:26:08,530 coupling_PCR_FM.model_functions_v2 INFO PCR -> start_time: 2000-01-01, current_time 2000-01-10, timestep 10\n",
      "INFO: model_functions_v2.update(): DFM -> start_time: 0.0, current_time 864000.0, timestep 86400.0\n",
      "2018-03-22 16:26:08,730 coupling_PCR_FM.model_functions_v2 INFO DFM -> start_time: 0.0, current_time 864000.0, timestep 86400.0\n",
      "INFO: pcrglobwb.read_forcings(): reading forcings for time 2000-01-11\n",
      "2018-03-22 16:26:08,734 pcrglobwb_bmi_v203.pcrglobwb INFO reading forcings for time 2000-01-11\n",
      "INFO: pcrglobwb.update(): updating model to time 2000-01-11\n",
      "2018-03-22 16:26:09,056 pcrglobwb_bmi_v203.pcrglobwb INFO updating model to time 2000-01-11\n",
      "INFO: model_functions_v2.update(): PCR -> start_time: 2000-01-01, current_time 2000-01-11, timestep 11\n",
      "2018-03-22 16:26:10,179 coupling_PCR_FM.model_functions_v2 INFO PCR -> start_time: 2000-01-01, current_time 2000-01-11, timestep 11\n"
     ]
    },
    {
     "name": "stderr",
     "output_type": "stream",
     "text": [
      "INFO: model_functions_v2.update(): DFM -> start_time: 0.0, current_time 950400.0, timestep 86400.0\n",
      "2018-03-22 16:26:10,286 coupling_PCR_FM.model_functions_v2 INFO DFM -> start_time: 0.0, current_time 950400.0, timestep 86400.0\n",
      "INFO: pcrglobwb.read_forcings(): reading forcings for time 2000-01-12\n",
      "2018-03-22 16:26:10,291 pcrglobwb_bmi_v203.pcrglobwb INFO reading forcings for time 2000-01-12\n",
      "INFO: pcrglobwb.update(): updating model to time 2000-01-12\n",
      "2018-03-22 16:26:10,580 pcrglobwb_bmi_v203.pcrglobwb INFO updating model to time 2000-01-12\n",
      "INFO: model_functions_v2.update(): PCR -> start_time: 2000-01-01, current_time 2000-01-12, timestep 12\n",
      "2018-03-22 16:26:11,758 coupling_PCR_FM.model_functions_v2 INFO PCR -> start_time: 2000-01-01, current_time 2000-01-12, timestep 12\n",
      "INFO: model_functions_v2.update(): DFM -> start_time: 0.0, current_time 1036800.0, timestep 86400.0\n",
      "2018-03-22 16:26:11,866 coupling_PCR_FM.model_functions_v2 INFO DFM -> start_time: 0.0, current_time 1036800.0, timestep 86400.0\n",
      "INFO: pcrglobwb.read_forcings(): reading forcings for time 2000-01-13\n",
      "2018-03-22 16:26:11,871 pcrglobwb_bmi_v203.pcrglobwb INFO reading forcings for time 2000-01-13\n",
      "INFO: pcrglobwb.update(): updating model to time 2000-01-13\n",
      "2018-03-22 16:26:12,257 pcrglobwb_bmi_v203.pcrglobwb INFO updating model to time 2000-01-13\n",
      "INFO: model_functions_v2.update(): PCR -> start_time: 2000-01-01, current_time 2000-01-13, timestep 13\n",
      "2018-03-22 16:26:13,365 coupling_PCR_FM.model_functions_v2 INFO PCR -> start_time: 2000-01-01, current_time 2000-01-13, timestep 13\n",
      "INFO: model_functions_v2.update(): DFM -> start_time: 0.0, current_time 1123200.0, timestep 86400.0\n",
      "2018-03-22 16:26:13,788 coupling_PCR_FM.model_functions_v2 INFO DFM -> start_time: 0.0, current_time 1123200.0, timestep 86400.0\n",
      "INFO: pcrglobwb.read_forcings(): reading forcings for time 2000-01-14\n",
      "2018-03-22 16:26:13,790 pcrglobwb_bmi_v203.pcrglobwb INFO reading forcings for time 2000-01-14\n",
      "INFO: pcrglobwb.update(): updating model to time 2000-01-14\n",
      "2018-03-22 16:26:14,226 pcrglobwb_bmi_v203.pcrglobwb INFO updating model to time 2000-01-14\n",
      "INFO: model_functions_v2.update(): PCR -> start_time: 2000-01-01, current_time 2000-01-14, timestep 14\n"
     ]
    }
   ],
   "source": [
    "tStart = datetime.now()\n",
    "for i in range(50):\n",
    "    PCR_bmi.update()\n",
    "    set_DFM_forcing()\n",
    "    DFM_bmi.update()  "
   ]
  },
  {
   "cell_type": "code",
   "execution_count": null,
   "metadata": {},
   "outputs": [],
   "source": [
    "tEnd = datetime.now()\n",
    "cmf_of.close()"
   ]
  },
  {
   "cell_type": "code",
   "execution_count": null,
   "metadata": {},
   "outputs": [],
   "source": [
    "print 'start time coupling: ', tStart\n",
    "print 'end time coupling: ', tEnd\n",
    "print 'average time per update PCR->CMF->DFM: ', abs((tEnd - tStart)) / timeSteps"
   ]
  },
  {
   "cell_type": "code",
   "execution_count": null,
   "metadata": {},
   "outputs": [],
   "source": [
    "DFM_bmi.finalize()\n",
    "PCR_bmi.finalize()"
   ]
  },
  {
   "cell_type": "code",
   "execution_count": null,
   "metadata": {},
   "outputs": [],
   "source": [
    "#- load DFM output file (from this model run)\n",
    "fo = os.path.join(DFM_out_dir, 'DFM_OUTPUT_DFM_Elbe_VU/', 'DFM_Elbe_VU_his.nc')\n",
    "no = Dataset(fo, 'r')\n",
    "#- extract simulated discharge from nc-file (for this run)\n",
    "qsim = no.variables['cross_section_discharge'][:]\n",
    "#- split up to different cross-sectiosn\n",
    "qsim_upBC = np.absolute(qsim[:,2])\n",
    "qsim_ND = np.absolute(qsim[:,0])\n",
    "qsim_downBC = np.absolute(qsim[:,1])\n",
    "\n",
    "#- laod DFM output file (from DFM stand alone)\n",
    "fo_stA = os.path.join(cwd, 'test_Elbe/', 'DFM_Elbe_VU_standAlone_his.nc')\n",
    "no_stA = Dataset(fo_stA, 'r')\n",
    "#- extract simulated discharge from nc-file for DFM standalone\n",
    "qsim_stA = no_stA.variables['cross_section_discharge'][:]\n",
    "#- split up to different cross-sectiosn\n",
    "qsim_upBC_stA = np.absolute(qsim_stA[:,2])\n",
    "qsim_ND_stA = np.absolute(qsim_stA[:,0])\n",
    "qsim_downBC_stA = np.absolute(qsim_stA[:,1])\n",
    "\n",
    "#- load BfG file\n",
    "vo = os.path.join(cwd, 'test_Elbe/', 'Elbe-W+Q.csv')\n",
    "#- extract BfG data for NeuDarchau\n",
    "vd = np.loadtxt(vo, unpack=True, converters = {0: mdates.strpdate2num('%d-%m-%y')}, delimiter=';', skiprows=4)\n",
    "qobs_ND = vd[1]\n",
    "\n",
    "#- limit to list with least entries\n",
    "minLength = min(len(qobs_ND), len(qsim_ND), len(qsim_ND_stA))\n",
    "if len(qobs_ND) > len(qsim_ND):\n",
    "    qsim_ND = qsim_ND[:minLength]\n",
    "    qobs_ND = qobs_ND[:minLength]\n",
    "    qsim_ND_stA = qsim_ND_stA[:minLength]\n",
    "    \n",
    "import spotpy\n",
    "#- computed KGE at NeuDarchau\n",
    "KGE_ND = spotpy.objectivefunctions.kge(qobs_ND, qsim_ND)\n",
    "KGE_ND = np.round(KGE_ND,2)\n",
    "KGE_ND_stA = spotpy.objectivefunctions.kge(qobs_ND, qsim_ND_stA)\n",
    "KGE_ND_stA = np.round(KGE_ND_stA,2)\n",
    "\n",
    "#- plot\n",
    "plt.figure(figsize=(16,8))\n",
    "plt.plot(qsim_ND, 'b', label = 'PCR->DFM')\n",
    "plt.plot(qsim_ND_stA, 'g', label = 'DFM')\n",
    "plt.plot(qobs_ND, 'm', label = 'OBS')\n",
    "plt.text(len(qsim_ND)+1,4900, 'KGEs') \n",
    "plt.text(len(qsim_ND)+1,4600, 'DFM : '+str(KGE_ND_stA))\n",
    "plt.text(len(qsim_ND)+1,4300, 'PCR->DFM : '+str(KGE_ND))\n",
    "plt.legend(ncol=2, loc=1)\n",
    "plt.xlim(0, minLength)\n",
    "plt.ylim(0, 5000)\n",
    "plt.ylabel('discharge [m3/s]')\n",
    "plt.xlabel('timesteps since '+str(start_date))\n",
    "plt.savefig(os.path.join(cwd, 'compareAndvalidate_Qsim_PCR2DFM.png'), dpi=300)"
   ]
  }
 ],
 "metadata": {
  "anaconda-cloud": {},
  "kernelspec": {
   "display_name": "Python [default]",
   "language": "python",
   "name": "python2"
  },
  "language_info": {
   "codemirror_mode": {
    "name": "ipython",
    "version": 2
   },
   "file_extension": ".py",
   "mimetype": "text/x-python",
   "name": "python",
   "nbconvert_exporter": "python",
   "pygments_lexer": "ipython2",
   "version": "2.7.12"
  }
 },
 "nbformat": 4,
 "nbformat_minor": 2
}
