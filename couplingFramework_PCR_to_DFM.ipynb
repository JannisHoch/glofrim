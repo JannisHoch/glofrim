{
 "cells": [
  {
   "cell_type": "code",
   "execution_count": null,
   "metadata": {},
   "outputs": [],
   "source": [
    "import rasterio\n",
    "import os\n",
    "from datetime import datetime\n",
    "import numpy as np"
   ]
  },
  {
   "cell_type": "code",
   "execution_count": null,
   "metadata": {},
   "outputs": [],
   "source": [
    "# local libraries\n",
    "from coupling_PCR_FM.model_functions_v2 import PCR_model, CMF_model, DFM_model\n",
    "from coupling_PCR_FM.utils import config_to_dict\n",
    "%config Application.log_level=\"INFO\""
   ]
  },
  {
   "cell_type": "code",
   "execution_count": null,
   "metadata": {},
   "outputs": [],
   "source": [
    "# IMPORT MODEL SETTINGS FROM INI-FILE\n",
    "argv1 = r'default_rename.set'\n",
    "argv2 = r'paths.env'\n",
    "\n",
    "# parse set/ini-file with central/general settings for coupling framework\n",
    "config = config_to_dict(argv1)\n",
    "# parse env-file for user-specific paths and environmental variables\n",
    "envs = config_to_dict(argv2)\n",
    "# combine\n",
    "config.update(envs)\n",
    "options = config\n",
    "# parse dates\n",
    "start_date = datetime.strptime(options['numerical_settings']['startTime'], '%Y-%m-%d')\n",
    "end_date = datetime.strptime(options['numerical_settings']['endTime'], '%Y-%m-%d')"
   ]
  },
  {
   "cell_type": "code",
   "execution_count": null,
   "metadata": {},
   "outputs": [],
   "source": [
    "# setup output dir\n",
    "cwd = os.getcwd() # note: this get changed by pcr initialization later on\n",
    "out_dir = options['PCRpaths']['outputDirectoryPCR']\n",
    "if not os.path.isdir(out_dir):\n",
    "    os.mkdir(out_dir)\n",
    "print(out_dir)\n",
    "print(cwd)"
   ]
  },
  {
   "cell_type": "markdown",
   "metadata": {},
   "source": [
    "## create PCR model BMI object"
   ]
  },
  {
   "cell_type": "code",
   "execution_count": null,
   "metadata": {},
   "outputs": [],
   "source": [
    "PCR_config_fn = os.path.join(cwd, options['hydrologic_model']['config_dir'], options['hydrologic_model']['config_file'])\n",
    "PCR_in_dir = options['PCRpaths']['inputDirectoryPCR']\n",
    "PCR_out_dir = os.path.join(out_dir, 'PCR')\n",
    "print(PCR_in_dir)\n",
    "print(PCR_config_fn)\n",
    "print(PCR_out_dir)\n",
    "\n",
    "PCR_bmi = PCR_model(PCR_config_fn, PCR_in_dir, PCR_out_dir,\n",
    "                            start_date, end_date,)\n"
   ]
  },
  {
   "cell_type": "markdown",
   "metadata": {},
   "source": [
    "## create DFM model BMI object"
   ]
  },
  {
   "cell_type": "code",
   "execution_count": null,
   "metadata": {},
   "outputs": [],
   "source": [
    "DFM_engine = os.path.join(cwd, options['DFM_engine']['DFM_path'])\n",
    "DFM_model_dir = os.path.join(cwd, options['hydrodynamic_model']['model_dir'])\n",
    "DFM_config_fn = os.path.join(DFM_model_dir, options['hydrodynamic_model']['model_file'])\n",
    "DFM_out_dir = os.path.join(out_dir, 'DFM')\n",
    "print(DFM_engine)\n",
    "print(DFM_model_dir)\n",
    "print(DFM_config_fn)\n",
    "print(DFM_out_dir)\n",
    "\n",
    "\n",
    "DFM_bmi = DFM_model(DFM_engine, DFM_config_fn, DFM_model_dir, DFM_out_dir,\n",
    "                              start_date, end_date, dt=86400.)"
   ]
  },
  {
   "cell_type": "markdown",
   "metadata": {},
   "source": [
    "## intitialize models "
   ]
  },
  {
   "cell_type": "code",
   "execution_count": null,
   "metadata": {
    "scrolled": true
   },
   "outputs": [],
   "source": [
    "# initialize PCR to expose model LDD via BMI\n",
    "PCR_bmi.initialize()\n",
    "PCR_bmi.get_model_grid()"
   ]
  },
  {
   "cell_type": "code",
   "execution_count": null,
   "metadata": {},
   "outputs": [],
   "source": [
    "# initialize DFM to expose model coordinates via BMI\n",
    "DFM_bmi.initialize()\n",
    "# get 1d coordinates\n",
    "DFM_bmi.get_model_coords()"
   ]
  },
  {
   "cell_type": "markdown",
   "metadata": {},
   "source": [
    "## set coupling between PCR and DFM"
   ]
  },
  {
   "cell_type": "code",
   "execution_count": null,
   "metadata": {},
   "outputs": [],
   "source": [
    "# from coupling_PCR_FM.coupling_functions import assignPCR2cells\n",
    "# landmask_pcr = str(PCR_bmi._landmask_fn)\n",
    "# xy_coords = [[xy] for xy in DFM_bmi.model_1d_coords]\n",
    "# coupledHydro2PCR, coupledPCR2hydro, zipPCRIndices = assignPCR2cells(landmask_pcr, xy_coords, verbose=False)"
   ]
  },
  {
   "cell_type": "code",
   "execution_count": null,
   "metadata": {},
   "outputs": [],
   "source": [
    "# DFM2PCR, PCR2DFM = PCR_bmi.couple_1d_2d(DFM_bmi.model_1d_coords, DFM_bmi.model_1d_indices)"
   ]
  },
  {
   "cell_type": "code",
   "execution_count": null,
   "metadata": {},
   "outputs": [],
   "source": [
    "def PCR2DFM_tot_runoff_1d(PCR_bmi, DFM_bmi, DFM2PCR, PCR2DFM):\n",
    "    \"\"\n",
    "    # determine area fraction for volume distribution\n",
    "    area_frac = {} # [m2/m2]\n",
    "    area_all = DFM_bmi.get_var('ba') #[m2]\n",
    "    for PCRidx in PCR2DFM:\n",
    "        DFMidx = PCR2DFM[PCRidx]\n",
    "        area_sum = np.sum(area_all[DFMidx])\n",
    "        afs = {idx: area_all[idx]/area_sum for idx in DFMidx}\n",
    "        area_frac.update(afs)\n",
    "\n",
    "    # get short index handles\n",
    "    DFMidx = DFM_bmi.model_1d_indices\n",
    "    PCRidx = zip(*[DFM2PCR[idx] for idx in DFMidx]) # tuple of lists\n",
    "\n",
    "    # sort to DFMidx\n",
    "    area_frac = np.array([area_frac[idx] for idx in DFMidx])\n",
    "    area = np.array(area_all[DFMidx])\n",
    "        \n",
    "    def update_states():\n",
    "        delta_water_volume_pcr = PCR_bmi.get_delta_water()[PCRidx] # [m3/dt]\n",
    "        delta_water_depth_dfm = delta_water_volume_pcr * area_frac / area # [m/dt]\n",
    "        DFM_bmi.set_var_index('rain', DFMidx, delta_water_depth_dfm)\n",
    "\n",
    "    return update_states\n",
    "\n",
    "# get coupled dictionaries\n",
    "DFM2PCR, PCR2DFM = PCR_bmi.couple_1d_2d(DFM_bmi.model_1d_coords, DFM_bmi.model_1d_indices)\n",
    "\n",
    "# turn LDD off for coupled cells\n",
    "PCR_bmi.deactivate_LDD(PCR2DFM.keys())\n",
    "\n",
    "\n",
    "update_states = PCR2DFM_tot_runoff_1d(PCR_bmi, DFM_bmi, DFM2PCR, PCR2DFM)\n",
    "# DFM_bmi.set_update_states(update_states)"
   ]
  },
  {
   "cell_type": "markdown",
   "metadata": {},
   "source": [
    "## run coupled PCR - DFM model"
   ]
  },
  {
   "cell_type": "code",
   "execution_count": null,
   "metadata": {
    "scrolled": true
   },
   "outputs": [],
   "source": [
    "# run coupled model for 2 timesteps\n",
    "for i in range(2):\n",
    "    PCR_bmi.update()\n",
    "    update_states()\n",
    "    DFM_bmi.update()   "
   ]
  },
  {
   "cell_type": "code",
   "execution_count": null,
   "metadata": {},
   "outputs": [],
   "source": [
    "DFM_bmi.finalize()\n",
    "PCR_bmi.finalize()"
   ]
  }
 ],
 "metadata": {
  "kernelspec": {
   "display_name": "Python [conda env:glofrim]",
   "language": "python",
   "name": "conda-env-glofrim-py"
  },
  "language_info": {
   "codemirror_mode": {
    "name": "ipython",
    "version": 2
   },
   "file_extension": ".py",
   "mimetype": "text/x-python",
   "name": "python",
   "nbconvert_exporter": "python",
   "pygments_lexer": "ipython2",
   "version": "2.7.14"
  }
 },
 "nbformat": 4,
 "nbformat_minor": 2
}
