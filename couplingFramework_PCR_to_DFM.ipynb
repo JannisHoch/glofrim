{
 "cells": [
  {
   "cell_type": "code",
   "execution_count": null,
   "metadata": {},
   "outputs": [],
   "source": [
    "import rasterio\n",
    "import os\n",
    "from datetime import datetime\n",
    "import numpy as np"
   ]
  },
  {
   "cell_type": "code",
   "execution_count": null,
   "metadata": {},
   "outputs": [],
   "source": [
    "# local libraries\n",
    "from coupling_PCR_FM.model_functions_v2 import PCR_model, CMF_model, DFM_model\n",
    "from coupling_PCR_FM.utils import config_to_dict\n",
    "%config Application.log_level=\"INFO\""
   ]
  },
  {
   "cell_type": "code",
   "execution_count": null,
   "metadata": {},
   "outputs": [],
   "source": [
    "# IMPORT MODEL SETTINGS FROM INI-FILE\n",
    "argv1 = r'default_rename.set'\n",
    "argv2 = r'paths.env'\n",
    "\n",
    "# parse set/ini-file with central/general settings for coupling framework\n",
    "config = config_to_dict(argv1)\n",
    "# parse env-file for user-specific paths and environmental variables\n",
    "envs = config_to_dict(argv2)\n",
    "# combine\n",
    "config.update(envs)\n",
    "options = config\n",
    "# parse dates\n",
    "start_date = datetime.strptime(options['numerical_settings']['startTime'], '%Y-%m-%d')\n",
    "end_date = datetime.strptime(options['numerical_settings']['endTime'], '%Y-%m-%d')"
   ]
  },
  {
   "cell_type": "code",
   "execution_count": null,
   "metadata": {},
   "outputs": [],
   "source": [
    "# setup output dir\n",
    "cwd = os.getcwd() # note: this get changed by pcr initialization later on\n",
    "out_dir = options['PCRpaths']['outputDirectoryPCR']\n",
    "if not os.path.isdir(out_dir):\n",
    "    os.mkdir(out_dir)\n",
    "print(out_dir)\n",
    "print(cwd)"
   ]
  },
  {
   "cell_type": "markdown",
   "metadata": {},
   "source": [
    "## create PCR model BMI object"
   ]
  },
  {
   "cell_type": "code",
   "execution_count": null,
   "metadata": {},
   "outputs": [],
   "source": [
    "PCR_config_fn = os.path.join(cwd, options['hydrologic_model']['config_dir'], options['hydrologic_model']['config_file'])\n",
    "PCR_in_dir = options['PCRpaths']['inputDirectoryPCR']\n",
    "PCR_out_dir = os.path.join(out_dir, 'PCR')\n",
    "print(PCR_in_dir)\n",
    "print(PCR_config_fn)\n",
    "print(PCR_out_dir)\n",
    "\n",
    "PCR_bmi = PCR_model(PCR_config_fn, PCR_in_dir, PCR_out_dir,\n",
    "                            start_date, end_date,)\n"
   ]
  },
  {
   "cell_type": "markdown",
   "metadata": {},
   "source": [
    "## create DFM model BMI object"
   ]
  },
  {
   "cell_type": "code",
   "execution_count": null,
   "metadata": {},
   "outputs": [],
   "source": [
    "DFM_engine = os.path.join(cwd, options['DFM_engine']['DFM_path'])\n",
    "DFM_model_dir = os.path.join(cwd, options['hydrodynamic_model']['model_dir'])\n",
    "DFM_config_fn = os.path.join(DFM_model_dir, options['hydrodynamic_model']['model_file'])\n",
    "DFM_out_dir = os.path.join(out_dir, 'DFM')\n",
    "print(DFM_engine)\n",
    "print(DFM_model_dir)\n",
    "print(DFM_config_fn)\n",
    "print(DFM_out_dir)\n",
    "\n",
    "\n",
    "DFM_bmi = DFM_model(DFM_engine, DFM_config_fn, DFM_model_dir, DFM_out_dir,\n",
    "                              start_date, end_date)"
   ]
  },
  {
   "cell_type": "markdown",
   "metadata": {},
   "source": [
    "## intitialize DFM model first to expose 1d coords"
   ]
  },
  {
   "cell_type": "code",
   "execution_count": null,
   "metadata": {},
   "outputs": [],
   "source": [
    "# initialize DFM to expose model coordinates via BMI\n",
    "DFM_bmi.initialize()"
   ]
  },
  {
   "cell_type": "markdown",
   "metadata": {},
   "source": [
    "## set coupling between PCR and DFM"
   ]
  },
  {
   "cell_type": "markdown",
   "metadata": {},
   "source": [
    "Couple external 1d coordinates to internal model 2d grid. \n",
    "\n",
    "From the green cells with value 1 (green) runoff is couled for the cells with value 2 (yellow) discharge is coupled"
   ]
  },
  {
   "cell_type": "code",
   "execution_count": null,
   "metadata": {},
   "outputs": [],
   "source": [
    "%matplotlib inline\n",
    "import matplotlib.pyplot as plt\n",
    "\n",
    "# get coupled dictionaries\n",
    "PCR_bmi.couple_grid_to_1d(DFM_bmi)\n",
    "\n",
    "fig = plt.figure(figsize=(10, 5))\n",
    "b=fig.add_subplot(1,1,1)\n",
    "plt.imshow(PCR_bmi.coupled_mask, vmin=0, vmax=2)\n",
    "b.set_title('CFM coupled to DFM mask')"
   ]
  },
  {
   "cell_type": "code",
   "execution_count": null,
   "metadata": {
    "scrolled": true
   },
   "outputs": [],
   "source": [
    "# initialize PCR to after editing ldd grid\n",
    "PCR_bmi.initialize()"
   ]
  },
  {
   "cell_type": "markdown",
   "metadata": {},
   "source": [
    "## run coupled PCR - DFM model"
   ]
  },
  {
   "cell_type": "code",
   "execution_count": null,
   "metadata": {
    "scrolled": true
   },
   "outputs": [],
   "source": [
    "# run coupled model for 2 timesteps\n",
    "def get_PCR_delta_vol():\n",
    "    # coupled 2d mask\n",
    "    mask = (PCR_bmi.coupled_mask > 0).astype(float)\n",
    "    # Q outflow 2D for coupled cells\n",
    "    # NOTE: see if we can change this for cell inflow, like with the get_CMF_delta_vol\n",
    "    q_out = PCR_bmi.get_var('discharge') * mask # [m3/s]\n",
    "    # PCR runoff inflow 2D for coupled cells\n",
    "    runoff = PCR_bmi.get_var('runoff') * mask # [m3/s]\n",
    "    # take discharge in most upstream coupled cells, runoff for other cells\n",
    "    tot_flux = np.where(PCR_bmi.coupled_mask == 2, q_out, runoff)\n",
    "    # convert flux to volume per day\n",
    "    delta_vol = tot_flux * PCR_bmi.options['dt'] # [m3/day]\n",
    "    return delta_vol \n",
    "\n",
    "\n",
    "DFMidx = DFM_bmi.coupled_idx\n",
    "DFM_area_1d = DFM_bmi.get_var('ba')[DFMidx]\n",
    "PCRidx = PCR_bmi.coupled_idx\n",
    "PCRfrac = PCR_bmi.coupled_area_frac\n",
    "def set_DFM_forcing():\n",
    "    PCR_delta_vol = get_PCR_delta_vol() # 2d array [m3/day]\n",
    "    DFM_depth_conservative = PCR_delta_vol[PCRidx] * PCRfrac / DFM_area_1d # 1d array for coupld DFM cells [m/day]\n",
    "    DFM_bmi.set_var_index('rain', DFMidx, DFM_depth_conservative)"
   ]
  },
  {
   "cell_type": "code",
   "execution_count": null,
   "metadata": {},
   "outputs": [],
   "source": [
    "for i in range(2):\n",
    "    PCR_bmi.update()\n",
    "    set_DFM_forcing()\n",
    "    DFM_bmi.update()  "
   ]
  },
  {
   "cell_type": "code",
   "execution_count": null,
   "metadata": {},
   "outputs": [],
   "source": [
    "DFM_bmi.finalize()\n",
    "PCR_bmi.finalize()"
   ]
  }
 ],
 "metadata": {
  "anaconda-cloud": {},
  "kernelspec": {
   "display_name": "Python [conda env:glofrim]",
   "language": "python",
   "name": "conda-env-glofrim-py"
  },
  "language_info": {
   "codemirror_mode": {
    "name": "ipython",
    "version": 2
   },
   "file_extension": ".py",
   "mimetype": "text/x-python",
   "name": "python",
   "nbconvert_exporter": "python",
   "pygments_lexer": "ipython2",
   "version": "2.7.14"
  }
 },
 "nbformat": 4,
 "nbformat_minor": 2
}
