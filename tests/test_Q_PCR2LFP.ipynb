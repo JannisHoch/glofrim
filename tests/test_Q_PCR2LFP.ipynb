{
 "cells": [
  {
   "cell_type": "code",
   "execution_count": 1,
   "metadata": {},
   "outputs": [
    {
     "ename": "ImportError",
     "evalue": "No module named rasterio",
     "output_type": "error",
     "traceback": [
      "\u001b[1;31m---------------------------------------------------------------------------\u001b[0m",
      "\u001b[1;31mImportError\u001b[0m                               Traceback (most recent call last)",
      "\u001b[1;32m<ipython-input-1-b0e52bdf8a2a>\u001b[0m in \u001b[0;36m<module>\u001b[1;34m()\u001b[0m\n\u001b[0;32m      8\u001b[0m \u001b[1;32mimport\u001b[0m \u001b[0mmatplotlib\u001b[0m\u001b[1;33m.\u001b[0m\u001b[0mpyplot\u001b[0m \u001b[1;32mas\u001b[0m \u001b[0mplt\u001b[0m\u001b[1;33m\u001b[0m\u001b[0m\n\u001b[0;32m      9\u001b[0m \u001b[1;32mfrom\u001b[0m \u001b[0mdatetime\u001b[0m \u001b[1;32mimport\u001b[0m \u001b[0mdatetime\u001b[0m\u001b[1;33m\u001b[0m\u001b[0m\n\u001b[1;32m---> 10\u001b[1;33m \u001b[1;32mimport\u001b[0m \u001b[0mglofrim\u001b[0m\u001b[1;33m.\u001b[0m\u001b[0mglofrim_lib\u001b[0m \u001b[1;32mas\u001b[0m \u001b[0mglib\u001b[0m\u001b[1;33m\u001b[0m\u001b[0m\n\u001b[0m\u001b[0;32m     11\u001b[0m \u001b[1;32mfrom\u001b[0m \u001b[0mos\u001b[0m\u001b[1;33m.\u001b[0m\u001b[0mpath\u001b[0m \u001b[1;32mimport\u001b[0m \u001b[0mjoin\u001b[0m\u001b[1;33m,\u001b[0m \u001b[0misfile\u001b[0m\u001b[1;33m,\u001b[0m \u001b[0mabspath\u001b[0m\u001b[1;33m,\u001b[0m \u001b[0mdirname\u001b[0m\u001b[1;33m,\u001b[0m \u001b[0mbasename\u001b[0m\u001b[1;33m,\u001b[0m \u001b[0mnormpath\u001b[0m\u001b[1;33m\u001b[0m\u001b[0m\n\u001b[0;32m     12\u001b[0m \u001b[1;32mfrom\u001b[0m \u001b[0mconfigparser\u001b[0m \u001b[1;32mimport\u001b[0m \u001b[0mConfigParser\u001b[0m\u001b[1;33m\u001b[0m\u001b[0m\n",
      "\u001b[1;32mc:\\users\\icke\\desktop\\phd\\glofrim\\glofrim-py\\glofrim\\__init__.py\u001b[0m in \u001b[0;36m<module>\u001b[1;34m()\u001b[0m\n\u001b[1;32m----> 1\u001b[1;33m \u001b[1;32mfrom\u001b[0m \u001b[0mpcr_bmi\u001b[0m \u001b[1;32mimport\u001b[0m \u001b[0mPCR\u001b[0m\u001b[1;33m\u001b[0m\u001b[0m\n\u001b[0m\u001b[0;32m      2\u001b[0m \u001b[1;32mfrom\u001b[0m \u001b[0mcmf_bmi\u001b[0m \u001b[1;32mimport\u001b[0m \u001b[0mCMF\u001b[0m\u001b[1;33m\u001b[0m\u001b[0m\n\u001b[0;32m      3\u001b[0m \u001b[1;32mfrom\u001b[0m \u001b[0mdfm_bmi\u001b[0m \u001b[1;32mimport\u001b[0m \u001b[0mDFM\u001b[0m\u001b[1;33m\u001b[0m\u001b[0m\n\u001b[0;32m      4\u001b[0m \u001b[1;32mfrom\u001b[0m \u001b[0mwfl_bmi\u001b[0m \u001b[1;32mimport\u001b[0m \u001b[0mWFL\u001b[0m\u001b[1;33m\u001b[0m\u001b[0m\n\u001b[0;32m      5\u001b[0m \u001b[1;32mfrom\u001b[0m \u001b[0mlfp_bmi\u001b[0m \u001b[1;32mimport\u001b[0m \u001b[0mLFP\u001b[0m\u001b[1;33m\u001b[0m\u001b[0m\n",
      "\u001b[1;32mc:\\users\\icke\\desktop\\phd\\glofrim\\glofrim-py\\glofrim\\pcr_bmi.py\u001b[0m in \u001b[0;36m<module>\u001b[1;34m()\u001b[0m\n\u001b[0;32m      6\u001b[0m \u001b[1;32mfrom\u001b[0m \u001b[0mos\u001b[0m\u001b[1;33m.\u001b[0m\u001b[0mpath\u001b[0m \u001b[1;32mimport\u001b[0m \u001b[0mjoin\u001b[0m\u001b[1;33m,\u001b[0m \u001b[0misfile\u001b[0m\u001b[1;33m,\u001b[0m \u001b[0mabspath\u001b[0m\u001b[1;33m,\u001b[0m \u001b[0mdirname\u001b[0m\u001b[1;33m,\u001b[0m \u001b[0mbasename\u001b[0m\u001b[1;33m,\u001b[0m \u001b[0mnormpath\u001b[0m\u001b[1;33m\u001b[0m\u001b[0m\n\u001b[0;32m      7\u001b[0m \u001b[1;32mfrom\u001b[0m \u001b[0mdatetime\u001b[0m \u001b[1;32mimport\u001b[0m \u001b[0mdatetime\u001b[0m\u001b[1;33m,\u001b[0m \u001b[0mtimedelta\u001b[0m\u001b[1;33m\u001b[0m\u001b[0m\n\u001b[1;32m----> 8\u001b[1;33m \u001b[1;32mimport\u001b[0m \u001b[0mrasterio\u001b[0m\u001b[1;33m\u001b[0m\u001b[0m\n\u001b[0m\u001b[0;32m      9\u001b[0m \u001b[1;33m\u001b[0m\u001b[0m\n\u001b[0;32m     10\u001b[0m \u001b[1;32mfrom\u001b[0m \u001b[0mutils\u001b[0m \u001b[1;32mimport\u001b[0m \u001b[0msetlogger\u001b[0m\u001b[1;33m,\u001b[0m \u001b[0mcloselogger\u001b[0m\u001b[1;33m\u001b[0m\u001b[0m\n",
      "\u001b[1;31mImportError\u001b[0m: No module named rasterio"
     ]
    }
   ],
   "source": [
    "%matplotlib inline\n",
    "\n",
    "#- import required python libraries\n",
    "import netCDF4\n",
    "import sys, os\n",
    "import numpy as np\n",
    "import matplotlib as mpl\n",
    "import matplotlib.pyplot as plt\n",
    "from datetime import datetime\n",
    "import glofrim.glofrim_lib as glib\n",
    "from os.path import join, isfile, abspath, dirname, basename, normpath\n",
    "from configparser import ConfigParser\n",
    "from glofrim.glofrim_lib import configread"
   ]
  },
  {
   "cell_type": "code",
   "execution_count": null,
   "metadata": {},
   "outputs": [],
   "source": [
    "from glofrim import Glofrim, PCR, LFP\n",
    "cbmi = Glofrim()"
   ]
  },
  {
   "cell_type": "code",
   "execution_count": null,
   "metadata": {},
   "outputs": [],
   "source": [
    "#- provide file with local paths to model objects\n",
    "env_fn = r'../../environment.env'\n",
    "config = configread(env_fn)\n",
    "root_dir = config.get('models', 'root_dir')"
   ]
  },
  {
   "cell_type": "code",
   "execution_count": null,
   "metadata": {},
   "outputs": [],
   "source": [
    "#- convert model configs to dictionary\n",
    "_cf = ConfigParser(inline_comment_prefixes=('#'))\n",
    "env = glib.configread(abspath(env_fn), encoding='utf-8', cf=_cf)\n",
    "glib.config2dict(env)"
   ]
  },
  {
   "cell_type": "code",
   "execution_count": null,
   "metadata": {},
   "outputs": [],
   "source": [
    "#- provide file with coupling settings\n",
    "# config_fn = join(root_dir, 'glofrim_PCR2CMF.ini')\n",
    "# config_fn = join(root_dir, 'glofrim_PCR2DFM.ini')\n",
    "# config_fn = join(root_dir, 'glofrim_WFL2DFM.ini')\n",
    "config_fn = join(root_dir, 'glofrim_PCR2LFP.ini')\n",
    "config_fn"
   ]
  },
  {
   "cell_type": "code",
   "execution_count": null,
   "metadata": {},
   "outputs": [],
   "source": [
    "#- provide locations where to extract simulated discharge\n",
    "x_obs_coord = 10.89 # set to coords of Neu-Darchau\n",
    "y_obs_coord = 53.23"
   ]
  },
  {
   "cell_type": "code",
   "execution_count": null,
   "metadata": {},
   "outputs": [],
   "source": [
    "#- create coupled GLOFRIM model and initialize configs\n",
    "try:\n",
    "    cbmi.initialize_config(config_fn, env_fn=env_fn)\n",
    "except Exception as e:\n",
    "    print e\n",
    "    sys.exit('configs could not be initialized')"
   ]
  },
  {
   "cell_type": "code",
   "execution_count": null,
   "metadata": {},
   "outputs": [],
   "source": [
    "#- provide start and end date\n",
    "t_start = datetime(2000,1,1)\n",
    "t_end = datetime(2000,1,3)\n",
    "cbmi.set_start_time(t_start)\n",
    "cbmi.set_end_time(t_end)\n",
    "try:\n",
    "    t_start == cbmi.get_start_time()\n",
    "    t_end == cbmi.get_end_time()\n",
    "except:\n",
    "    sys.exit('start or end time differ with set_var and get_var')"
   ]
  },
  {
   "cell_type": "code",
   "execution_count": null,
   "metadata": {},
   "outputs": [],
   "source": [
    "#- create coupled GLOFRIM model and initialize models\n",
    "try:\n",
    "    cbmi.initialize_model()\n",
    "except Exception as e:\n",
    "    print e\n",
    "    sys.exit('models could not be initialized')"
   ]
  },
  {
   "cell_type": "code",
   "execution_count": null,
   "metadata": {},
   "outputs": [],
   "source": [
    "#- get corresponding indices for models\n",
    "obs_ind_PCR = cbmi.index(x_obs_coord, y_obs_coord, 'PCR', in1d=False)\n",
    "print obs_ind_PCR\n",
    "obs_ind_LFP = cbmi.index(x_obs_coord, y_obs_coord, 'LFP', in1d=True)\n",
    "print obs_ind_LFP"
   ]
  },
  {
   "cell_type": "code",
   "execution_count": null,
   "metadata": {},
   "outputs": [],
   "source": [
    "#- update models until end time is reached\n",
    "#- also, read out discharge data at specified observation point\n",
    "try:\n",
    "    i = 0\n",
    "    while i < 10:\n",
    "#     while t_start < t_end:\n",
    "        cbmi.update()\n",
    "        q_sim_PCR = cbmi.get_value_at_indices('PCR.discharge', obs_ind_PCR)\n",
    "        q_sim_LFP = cbmi.get_value_at_indices('LFP.Qx', obs_ind_DFM) \n",
    "        print q_sim_PCR, q_sim_LFP\n",
    "        i += 1\n",
    "except Exception as e:\n",
    "    print e\n",
    "    sys.exit('something is going wrong in updating - please check!')"
   ]
  },
  {
   "cell_type": "code",
   "execution_count": null,
   "metadata": {},
   "outputs": [],
   "source": [
    "#- finalize all models\n",
    "try:\n",
    "    cbmi.finalize()\n",
    "except Exception as e:\n",
    "    print e\n",
    "    sys.exit('models could not be finalized')"
   ]
  },
  {
   "cell_type": "code",
   "execution_count": null,
   "metadata": {},
   "outputs": [],
   "source": []
  }
 ],
 "metadata": {
  "kernelspec": {
   "display_name": "Python 2",
   "language": "python",
   "name": "python2"
  },
  "language_info": {
   "codemirror_mode": {
    "name": "ipython",
    "version": 2
   },
   "file_extension": ".py",
   "mimetype": "text/x-python",
   "name": "python",
   "nbconvert_exporter": "python",
   "pygments_lexer": "ipython2",
   "version": "2.7.14"
  }
 },
 "nbformat": 4,
 "nbformat_minor": 2
}
