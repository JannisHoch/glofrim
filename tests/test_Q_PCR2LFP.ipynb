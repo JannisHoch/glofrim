{
 "cells": [
  {
   "cell_type": "code",
   "execution_count": 1,
   "metadata": {},
   "outputs": [],
   "source": [
    "%matplotlib inline\n",
    "\n",
    "#- import required python libraries\n",
    "import netCDF4\n",
    "import sys, os\n",
    "import numpy as np\n",
    "import matplotlib as mpl\n",
    "import matplotlib.pyplot as plt\n",
    "from datetime import datetime\n",
    "import glofrim.glofrim_lib as glib\n",
    "from os.path import join, isfile, abspath, dirname, basename, normpath\n",
    "from configparser import ConfigParser\n",
    "from glofrim.glofrim_lib import configread"
   ]
  },
  {
   "cell_type": "code",
   "execution_count": 2,
   "metadata": {},
   "outputs": [],
   "source": [
    "from glofrim import Glofrim, PCR, LFP\n",
    "cbmi = Glofrim()"
   ]
  },
  {
   "cell_type": "code",
   "execution_count": 5,
   "metadata": {},
   "outputs": [
    {
     "ename": "FileNotFoundError",
     "evalue": "[Errno 2] No such file or directory: '../../environment.env'",
     "output_type": "error",
     "traceback": [
      "\u001b[0;31m---------------------------------------------------------------------------\u001b[0m",
      "\u001b[0;31mFileNotFoundError\u001b[0m                         Traceback (most recent call last)",
      "\u001b[0;32m<ipython-input-5-fac4b759cc2b>\u001b[0m in \u001b[0;36m<module>\u001b[0;34m\u001b[0m\n\u001b[1;32m      1\u001b[0m \u001b[0;31m#- provide file with local paths to model objects\u001b[0m\u001b[0;34m\u001b[0m\u001b[0;34m\u001b[0m\u001b[0;34m\u001b[0m\u001b[0m\n\u001b[1;32m      2\u001b[0m \u001b[0menv_fn\u001b[0m \u001b[0;34m=\u001b[0m \u001b[0;34mr'../../environment.env'\u001b[0m\u001b[0;34m\u001b[0m\u001b[0;34m\u001b[0m\u001b[0m\n\u001b[0;32m----> 3\u001b[0;31m \u001b[0mconfig\u001b[0m \u001b[0;34m=\u001b[0m \u001b[0mconfigread\u001b[0m\u001b[0;34m(\u001b[0m\u001b[0menv_fn\u001b[0m\u001b[0;34m)\u001b[0m\u001b[0;34m\u001b[0m\u001b[0;34m\u001b[0m\u001b[0m\n\u001b[0m\u001b[1;32m      4\u001b[0m \u001b[0mroot_dir\u001b[0m \u001b[0;34m=\u001b[0m \u001b[0mconfig\u001b[0m\u001b[0;34m.\u001b[0m\u001b[0mget\u001b[0m\u001b[0;34m(\u001b[0m\u001b[0;34m'models'\u001b[0m\u001b[0;34m,\u001b[0m \u001b[0;34m'root_dir'\u001b[0m\u001b[0;34m)\u001b[0m\u001b[0;34m\u001b[0m\u001b[0;34m\u001b[0m\u001b[0m\n",
      "\u001b[0;32m~/git/glofrim/glofrim/glofrim_lib.py\u001b[0m in \u001b[0;36mconfigread\u001b[0;34m(config_fn, encoding, cf)\u001b[0m\n\u001b[1;32m     15\u001b[0m     \u001b[0;34m\"\"\"read model configuration from file\"\"\"\u001b[0m\u001b[0;34m\u001b[0m\u001b[0;34m\u001b[0m\u001b[0m\n\u001b[1;32m     16\u001b[0m     \u001b[0mcf\u001b[0m\u001b[0;34m.\u001b[0m\u001b[0moptionxform\u001b[0m\u001b[0;34m=\u001b[0m\u001b[0mstr\u001b[0m \u001b[0;31m# preserve capital letter\u001b[0m\u001b[0;34m\u001b[0m\u001b[0;34m\u001b[0m\u001b[0m\n\u001b[0;32m---> 17\u001b[0;31m     \u001b[0;32mwith\u001b[0m \u001b[0mcodecs\u001b[0m\u001b[0;34m.\u001b[0m\u001b[0mopen\u001b[0m\u001b[0;34m(\u001b[0m\u001b[0mconfig_fn\u001b[0m\u001b[0;34m,\u001b[0m \u001b[0;34m'r'\u001b[0m\u001b[0;34m,\u001b[0m \u001b[0mencoding\u001b[0m\u001b[0;34m=\u001b[0m\u001b[0mencoding\u001b[0m\u001b[0;34m)\u001b[0m \u001b[0;32mas\u001b[0m \u001b[0mfp\u001b[0m\u001b[0;34m:\u001b[0m\u001b[0;34m\u001b[0m\u001b[0;34m\u001b[0m\u001b[0m\n\u001b[0m\u001b[1;32m     18\u001b[0m         \u001b[0mcf\u001b[0m\u001b[0;34m.\u001b[0m\u001b[0mread_file\u001b[0m\u001b[0;34m(\u001b[0m\u001b[0mfp\u001b[0m\u001b[0;34m)\u001b[0m\u001b[0;34m\u001b[0m\u001b[0;34m\u001b[0m\u001b[0m\n\u001b[1;32m     19\u001b[0m     \u001b[0;32mreturn\u001b[0m \u001b[0mcf\u001b[0m\u001b[0;34m\u001b[0m\u001b[0;34m\u001b[0m\u001b[0m\n",
      "\u001b[0;32m~/miniconda3/envs/barotse/lib/python3.6/codecs.py\u001b[0m in \u001b[0;36mopen\u001b[0;34m(filename, mode, encoding, errors, buffering)\u001b[0m\n\u001b[1;32m    895\u001b[0m         \u001b[0;31m# Force opening of the file in binary mode\u001b[0m\u001b[0;34m\u001b[0m\u001b[0;34m\u001b[0m\u001b[0;34m\u001b[0m\u001b[0m\n\u001b[1;32m    896\u001b[0m         \u001b[0mmode\u001b[0m \u001b[0;34m=\u001b[0m \u001b[0mmode\u001b[0m \u001b[0;34m+\u001b[0m \u001b[0;34m'b'\u001b[0m\u001b[0;34m\u001b[0m\u001b[0;34m\u001b[0m\u001b[0m\n\u001b[0;32m--> 897\u001b[0;31m     \u001b[0mfile\u001b[0m \u001b[0;34m=\u001b[0m \u001b[0mbuiltins\u001b[0m\u001b[0;34m.\u001b[0m\u001b[0mopen\u001b[0m\u001b[0;34m(\u001b[0m\u001b[0mfilename\u001b[0m\u001b[0;34m,\u001b[0m \u001b[0mmode\u001b[0m\u001b[0;34m,\u001b[0m \u001b[0mbuffering\u001b[0m\u001b[0;34m)\u001b[0m\u001b[0;34m\u001b[0m\u001b[0;34m\u001b[0m\u001b[0m\n\u001b[0m\u001b[1;32m    898\u001b[0m     \u001b[0;32mif\u001b[0m \u001b[0mencoding\u001b[0m \u001b[0;32mis\u001b[0m \u001b[0;32mNone\u001b[0m\u001b[0;34m:\u001b[0m\u001b[0;34m\u001b[0m\u001b[0;34m\u001b[0m\u001b[0m\n\u001b[1;32m    899\u001b[0m         \u001b[0;32mreturn\u001b[0m \u001b[0mfile\u001b[0m\u001b[0;34m\u001b[0m\u001b[0;34m\u001b[0m\u001b[0m\n",
      "\u001b[0;31mFileNotFoundError\u001b[0m: [Errno 2] No such file or directory: '../../environment.env'"
     ]
    }
   ],
   "source": [
    "#- provide file with local paths to model objects\n",
    "env_fn = r'../../environment.env'\n",
    "config = configread(env_fn)\n",
    "root_dir = config.get('models', 'root_dir')"
   ]
  },
  {
   "cell_type": "code",
   "execution_count": 3,
   "metadata": {},
   "outputs": [
    {
     "ename": "NameError",
     "evalue": "name 'env_fn' is not defined",
     "output_type": "error",
     "traceback": [
      "\u001b[0;31m---------------------------------------------------------------------------\u001b[0m",
      "\u001b[0;31mNameError\u001b[0m                                 Traceback (most recent call last)",
      "\u001b[0;32m<ipython-input-3-95bcf9cffb5d>\u001b[0m in \u001b[0;36m<module>\u001b[0;34m\u001b[0m\n\u001b[1;32m      1\u001b[0m \u001b[0;31m#- convert model configs to dictionary\u001b[0m\u001b[0;34m\u001b[0m\u001b[0;34m\u001b[0m\u001b[0;34m\u001b[0m\u001b[0m\n\u001b[1;32m      2\u001b[0m \u001b[0m_cf\u001b[0m \u001b[0;34m=\u001b[0m \u001b[0mConfigParser\u001b[0m\u001b[0;34m(\u001b[0m\u001b[0minline_comment_prefixes\u001b[0m\u001b[0;34m=\u001b[0m\u001b[0;34m(\u001b[0m\u001b[0;34m'#'\u001b[0m\u001b[0;34m)\u001b[0m\u001b[0;34m)\u001b[0m\u001b[0;34m\u001b[0m\u001b[0;34m\u001b[0m\u001b[0m\n\u001b[0;32m----> 3\u001b[0;31m \u001b[0menv\u001b[0m \u001b[0;34m=\u001b[0m \u001b[0mglib\u001b[0m\u001b[0;34m.\u001b[0m\u001b[0mconfigread\u001b[0m\u001b[0;34m(\u001b[0m\u001b[0mabspath\u001b[0m\u001b[0;34m(\u001b[0m\u001b[0menv_fn\u001b[0m\u001b[0;34m)\u001b[0m\u001b[0;34m,\u001b[0m \u001b[0mencoding\u001b[0m\u001b[0;34m=\u001b[0m\u001b[0;34m'utf-8'\u001b[0m\u001b[0;34m,\u001b[0m \u001b[0mcf\u001b[0m\u001b[0;34m=\u001b[0m\u001b[0m_cf\u001b[0m\u001b[0;34m)\u001b[0m\u001b[0;34m\u001b[0m\u001b[0;34m\u001b[0m\u001b[0m\n\u001b[0m\u001b[1;32m      4\u001b[0m \u001b[0mglib\u001b[0m\u001b[0;34m.\u001b[0m\u001b[0mconfig2dict\u001b[0m\u001b[0;34m(\u001b[0m\u001b[0menv\u001b[0m\u001b[0;34m)\u001b[0m\u001b[0;34m\u001b[0m\u001b[0;34m\u001b[0m\u001b[0m\n",
      "\u001b[0;31mNameError\u001b[0m: name 'env_fn' is not defined"
     ]
    }
   ],
   "source": [
    "#- convert model configs to dictionary\n",
    "_cf = ConfigParser(inline_comment_prefixes=('#'))\n",
    "env = glib.configread(abspath(env_fn), encoding='utf-8', cf=_cf)\n",
    "glib.config2dict(env)"
   ]
  },
  {
   "cell_type": "code",
   "execution_count": 4,
   "metadata": {},
   "outputs": [
    {
     "data": {
      "text/plain": [
       "'/home/hcwinsemius/git/glofrim/glofrim.ini'"
      ]
     },
     "execution_count": 4,
     "metadata": {},
     "output_type": "execute_result"
    }
   ],
   "source": [
    "#- provide file with coupling settings\n",
    "# config_fn = join(root_dir, 'glofrim_PCR2CMF.ini')\n",
    "# config_fn = join(root_dir, 'glofrim_PCR2DFM.ini')\n",
    "# config_fn = join(root_dir, 'glofrim_WFL2DFM.ini')\n",
    "root_dir = '/home/hcwinsemius/git/glofrim'\n",
    "config_fn = join(root_dir, 'glofrim.ini')\n",
    "config_fn"
   ]
  },
  {
   "cell_type": "code",
   "execution_count": 5,
   "metadata": {},
   "outputs": [],
   "source": [
    "#- provide locations where to extract simulated discharge\n",
    "x_obs_coord = 10.89 # set to coords of Neu-Darchau\n",
    "y_obs_coord = 53.23"
   ]
  },
  {
   "cell_type": "code",
   "execution_count": 6,
   "metadata": {},
   "outputs": [
    {
     "name": "stderr",
     "output_type": "stream",
     "text": [
      "2020-03-24 14:10:01,713 - GLOFRIM - INFO - Reading ini file..\n",
      "2020-03-24 14:10:01,720 - GLOFRIM.LFP - INFO - Config initialized\n",
      "2020-03-24 14:10:01,721 - GLOFRIM - INFO - Parsing exchanges..\n"
     ]
    }
   ],
   "source": [
    "#- create coupled GLOFRIM model and initialize configs\n",
    "try:\n",
    "    cbmi.initialize_config(config_fn) #, env_fn=env_fn)\n",
    "except Exception as e:\n",
    "    print(e)\n",
    "    sys.exit('configs could not be initialized')"
   ]
  },
  {
   "cell_type": "code",
   "execution_count": 7,
   "metadata": {},
   "outputs": [],
   "source": [
    "#- provide start and end date\n",
    "t_start = datetime(2000,1,1)\n",
    "t_end = datetime(2000,1,3)\n",
    "cbmi.set_start_time(t_start)\n",
    "cbmi.set_end_time(t_end)\n",
    "try:\n",
    "    t_start == cbmi.get_start_time()\n",
    "    t_end == cbmi.get_end_time()\n",
    "except:\n",
    "    sys.exit('start or end time differ with set_var and get_var')"
   ]
  },
  {
   "cell_type": "code",
   "execution_count": 9,
   "metadata": {},
   "outputs": [
    {
     "data": {
      "text/plain": [
       "datetime.datetime(2000, 1, 3, 0, 0)"
      ]
     },
     "execution_count": 9,
     "metadata": {},
     "output_type": "execute_result"
    }
   ],
   "source": [
    "t_end"
   ]
  },
  {
   "cell_type": "code",
   "execution_count": 10,
   "metadata": {},
   "outputs": [
    {
     "name": "stderr",
     "output_type": "stream",
     "text": [
      "2020-03-24 14:10:38,685 - GLOFRIM - INFO - set coupled grids for: SpatialCoupling object from LFP to LFP based on grid_2_grid method\n",
      "2020-03-24 14:10:38,688 - GLOFRIM.LFP - INFO - Getting rgrid info based on dem.asc\n",
      "ERROR:root:Internal Python error in the inspect module.\n",
      "Below is the traceback from this internal error.\n",
      "\n"
     ]
    },
    {
     "name": "stdout",
     "output_type": "stream",
     "text": [
      "\n",
      "Traceback (most recent call last):\n",
      "  File \"<ipython-input-10-1073c4172f3c>\", line 3, in <module>\n",
      "    cbmi.initialize_model()\n",
      "  File \"/home/hcwinsemius/git/glofrim/glofrim/glofrim_bmi.py\", line 353, in initialize_model\n",
      "    self._set_spatial_coupling()\n",
      "  File \"/home/hcwinsemius/git/glofrim/glofrim/glofrim_bmi.py\", line 333, in _set_spatial_coupling\n",
      "    item[1]['coupling'].couple()\n",
      "  File \"/home/hcwinsemius/git/glofrim/glofrim/spatial_coupling.py\", line 74, in couple\n",
      "    self.from_bmi.get_grid() # make sure grid property is set\n",
      "  File \"/home/hcwinsemius/git/glofrim/glofrim/lfp_bmi.py\", line 201, in get_grid\n",
      "    self.grid.set_1d(nodes=np.array(zip(x, y)), links=None, inds=inds)\n",
      "  File \"/home/hcwinsemius/git/glofrim/glofrim/grids.py\", line 55, in set_1d\n",
      "    self._1d = Network1D(nodes, links=links, inds=inds, fill_value=fill_value, ds_idx=ds_idx, us_idx=us_idx)\n",
      "  File \"/home/hcwinsemius/git/glofrim/glofrim/grids.py\", line 322, in __init__\n",
      "    assert self.nnodes == self.inds.size\n",
      "AssertionError\n",
      "\n",
      "During handling of the above exception, another exception occurred:\n",
      "\n",
      "Traceback (most recent call last):\n",
      "  File \"/home/hcwinsemius/miniconda3/envs/barotse/lib/python3.6/site-packages/IPython/core/interactiveshell.py\", line 3331, in run_code\n",
      "    exec(code_obj, self.user_global_ns, self.user_ns)\n",
      "  File \"<ipython-input-10-1073c4172f3c>\", line 6, in <module>\n",
      "    sys.exit('models could not be initialized')\n",
      "SystemExit: models could not be initialized\n",
      "\n",
      "During handling of the above exception, another exception occurred:\n",
      "\n",
      "Traceback (most recent call last):\n",
      "  File \"/home/hcwinsemius/miniconda3/envs/barotse/lib/python3.6/site-packages/IPython/core/ultratb.py\", line 1148, in get_records\n",
      "    return _fixed_getinnerframes(etb, number_of_lines_of_context, tb_offset)\n",
      "  File \"/home/hcwinsemius/miniconda3/envs/barotse/lib/python3.6/site-packages/IPython/core/ultratb.py\", line 316, in wrapped\n",
      "    return f(*args, **kwargs)\n",
      "  File \"/home/hcwinsemius/miniconda3/envs/barotse/lib/python3.6/site-packages/IPython/core/ultratb.py\", line 350, in _fixed_getinnerframes\n",
      "    records = fix_frame_records_filenames(inspect.getinnerframes(etb, context))\n",
      "  File \"/home/hcwinsemius/miniconda3/envs/barotse/lib/python3.6/inspect.py\", line 1490, in getinnerframes\n",
      "    frameinfo = (tb.tb_frame,) + getframeinfo(tb, context)\n",
      "AttributeError: 'tuple' object has no attribute 'tb_frame'\n"
     ]
    },
    {
     "ename": "SystemExit",
     "evalue": "models could not be initialized",
     "output_type": "error",
     "traceback": [
      "An exception has occurred, use %tb to see the full traceback.\n",
      "\u001b[0;31m---------------------------------------------------------------------------\u001b[0m",
      "\nDuring handling of the above exception, another exception occurred:\n",
      "\u001b[0;31mSystemExit\u001b[0m\u001b[0;31m:\u001b[0m models could not be initialized\n"
     ]
    },
    {
     "name": "stderr",
     "output_type": "stream",
     "text": [
      "/home/hcwinsemius/miniconda3/envs/barotse/lib/python3.6/site-packages/IPython/core/interactiveshell.py:3339: UserWarning: To exit: use 'exit', 'quit', or Ctrl-D.\n",
      "  warn(\"To exit: use 'exit', 'quit', or Ctrl-D.\", stacklevel=1)\n"
     ]
    }
   ],
   "source": [
    "#- create coupled GLOFRIM model and initialize models\n",
    "try:\n",
    "    cbmi.initialize_model()\n",
    "except Exception as e:\n",
    "    print(e)\n",
    "    sys.exit('models could not be initialized')"
   ]
  },
  {
   "cell_type": "code",
   "execution_count": null,
   "metadata": {},
   "outputs": [],
   "source": [
    "#- get corresponding indices for models\n",
    "obs_ind_PCR = cbmi.index(x_obs_coord, y_obs_coord, 'PCR', in1d=False)\n",
    "print obs_ind_PCR\n",
    "obs_ind_LFP = cbmi.index(x_obs_coord, y_obs_coord, 'LFP', in1d=True)\n",
    "print obs_ind_LFP"
   ]
  },
  {
   "cell_type": "code",
   "execution_count": null,
   "metadata": {},
   "outputs": [],
   "source": [
    "#- update models until end time is reached\n",
    "#- also, read out discharge data at specified observation point\n",
    "try:\n",
    "    i = 0\n",
    "    while i < 10:\n",
    "#     while t_start < t_end:\n",
    "        cbmi.update()\n",
    "        q_sim_PCR = cbmi.get_value_at_indices('PCR.discharge', obs_ind_PCR)\n",
    "        q_sim_LFP = cbmi.get_value_at_indices('LFP.Qx', obs_ind_DFM) \n",
    "        print q_sim_PCR, q_sim_LFP\n",
    "        i += 1\n",
    "except Exception as e:\n",
    "    print e\n",
    "    sys.exit('something is going wrong in updating - please check!')"
   ]
  },
  {
   "cell_type": "code",
   "execution_count": null,
   "metadata": {},
   "outputs": [],
   "source": [
    "#- finalize all models\n",
    "try:\n",
    "    cbmi.finalize()\n",
    "except Exception as e:\n",
    "    print e\n",
    "    sys.exit('models could not be finalized')"
   ]
  },
  {
   "cell_type": "code",
   "execution_count": null,
   "metadata": {},
   "outputs": [],
   "source": []
  }
 ],
 "metadata": {
  "kernelspec": {
   "display_name": "Python 3",
   "language": "python",
   "name": "python3"
  },
  "language_info": {
   "codemirror_mode": {
    "name": "ipython",
    "version": 3
   },
   "file_extension": ".py",
   "mimetype": "text/x-python",
   "name": "python",
   "nbconvert_exporter": "python",
   "pygments_lexer": "ipython3",
   "version": "3.6.10"
  }
 },
 "nbformat": 4,
 "nbformat_minor": 2
}
