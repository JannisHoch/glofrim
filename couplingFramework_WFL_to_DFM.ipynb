{
 "cells": [
  {
   "cell_type": "code",
   "execution_count": null,
   "metadata": {},
   "outputs": [],
   "source": [
    "%matplotlib inline\n",
    "import netCDF4\n",
    "from netCDF4 import Dataset\n",
    "import rasterio\n",
    "import os\n",
    "from datetime import datetime\n",
    "import numpy as np\n",
    "import spotpy\n",
    "import matplotlib.pyplot as plt\n",
    "import matplotlib as mpl \n",
    "import matplotlib.dates as mdates"
   ]
  },
  {
   "cell_type": "code",
   "execution_count": null,
   "metadata": {},
   "outputs": [],
   "source": [
    "# local libraries\n",
    "from glofrim import DFM_model, WFL_model\n",
    "from glofrim.utils import config_to_dict, determineSteps\n",
    "%config Application.log_level=\"INFO\""
   ]
  },
  {
   "cell_type": "code",
   "execution_count": null,
   "metadata": {},
   "outputs": [],
   "source": [
    "# IMPORT MODEL SETTINGS FROM INI-FILE\n",
    "argv1 = r'couplingSettings_WFL.set'\n",
    "argv2 = r'modelPaths.env'\n",
    "\n",
    "# parse set/ini-file with central/general settings for coupling framework\n",
    "config = config_to_dict(argv1)\n",
    "# parse env-file for user-specific paths and environmental variables\n",
    "envs = config_to_dict(argv2)\n",
    "# combine\n",
    "config.update(envs)\n",
    "options = config\n",
    "# parse dates\n",
    "start_date = datetime.strptime(options['numerical_settings']['startTime'], '%Y-%m-%d')\n",
    "end_date = datetime.strptime(options['numerical_settings']['endTime'], '%Y-%m-%d')\n",
    "print start_date\n",
    "print end_date\n",
    "timeSteps = determineSteps(start_date, end_date)\n",
    "print timeSteps"
   ]
  },
  {
   "cell_type": "code",
   "execution_count": null,
   "metadata": {},
   "outputs": [],
   "source": [
    "# setup output dir\n",
    "in_dir = options['GENERAL']['inputDir']\n",
    "out_dir = options['GENERAL']['outputDir'] + 'WFL2DFM/'\n",
    "if not os.path.isdir(out_dir):\n",
    "    os.mkdir(out_dir)\n",
    "print(out_dir)\n",
    "print(in_dir)"
   ]
  },
  {
   "cell_type": "markdown",
   "metadata": {},
   "source": [
    "## create WFL model BMI object"
   ]
  },
  {
   "cell_type": "code",
   "execution_count": null,
   "metadata": {},
   "outputs": [],
   "source": [
    "WFL_config_fn = str(os.path.join(in_dir, options['hydrologic_model']['config_file']))\n",
    "WFL_in_dir = os.path.dirname(WFL_config_fn)\n",
    "WFL_out_dir = os.path.join(out_dir, 'WFL')\n",
    "print(WFL_in_dir)\n",
    "print(WFL_config_fn)\n",
    "print(WFL_out_dir)\n",
    "\n",
    "WFL_bmi = WFL_model(WFL_config_fn, WFL_in_dir, WFL_out_dir, start_date, end_date,)\n"
   ]
  },
  {
   "cell_type": "code",
   "execution_count": null,
   "metadata": {},
   "outputs": [],
   "source": [
    "WFL_bmi.initialize(loglevel='ERROR')\n",
    "WFL_bmi.bmi.inputoutputvars\n",
    "#TODO: outputvarlist not initialized somehow"
   ]
  },
  {
   "cell_type": "markdown",
   "metadata": {},
   "source": [
    "## create DFM model BMI object"
   ]
  },
  {
   "cell_type": "code",
   "execution_count": null,
   "metadata": {},
   "outputs": [],
   "source": [
    "DFM_engine = options['DFM_engine']['DFM_path']\n",
    "DFM_config_fn = os.path.join(in_dir, options['hydrodynamic_model']['model_file'])\n",
    "DFM_model_dir = os.path.dirname(DFM_config_fn)\n",
    "DFM_out_dir = os.path.join(out_dir, 'DFM')\n",
    "print(DFM_engine)\n",
    "print(DFM_model_dir)\n",
    "print(DFM_config_fn)\n",
    "print(DFM_out_dir)\n",
    "\n",
    "\n",
    "DFM_bmi = DFM_model(DFM_engine, DFM_config_fn, DFM_model_dir, DFM_out_dir,\n",
    "                              start_date, end_date)"
   ]
  },
  {
   "cell_type": "markdown",
   "metadata": {},
   "source": [
    "## intitialize DFM model first to expose 1d coords"
   ]
  },
  {
   "cell_type": "code",
   "execution_count": null,
   "metadata": {},
   "outputs": [],
   "source": [
    "# initialize DFM to expose model coordinates via BMI\n",
    "# DFM_bmi.initialize()\n",
    "WFL_bmi.initialize(loglevel='INFO')"
   ]
  },
  {
   "cell_type": "markdown",
   "metadata": {},
   "source": [
    "## set coupling between WFLOW and DFM"
   ]
  },
  {
   "cell_type": "markdown",
   "metadata": {},
   "source": [
    "Couple external 1d coordinates to internal model 2d grid. \n",
    "\n",
    "From the green cells with value 1 (green) runoff is couled for the cells with value 2 (yellow) discharge is coupled"
   ]
  },
  {
   "cell_type": "code",
   "execution_count": null,
   "metadata": {},
   "outputs": [],
   "source": [
    "# get coupled dictionaries\n",
    "WFL_bmi.couple_grid_to_1d(DFM_bmi)\n",
    "\n",
    "# get DFM 1d nodes in local grid coordinates\n",
    "x, y = zip(*DFM_bmi.model_1d_coords)\n",
    "c, r = ~WFL_bmi.model_grid_transform * (np.atleast_1d(x), np.atleast_1d(y))\n",
    "c, r = c-0.5, r-0.5\n",
    "\n",
    "# set colorscheme\n",
    "cmap=plt.cm.YlOrRd\n",
    "bounds = np.linspace(-0.5,2.5,4)\n",
    "norm = mpl.colors.BoundaryNorm(bounds, cmap.N)\n",
    "# plot figure\n",
    "fig = plt.figure(figsize=(10, 5))\n",
    "b=fig.add_subplot(1,1,1)\n",
    "plt.imshow(WFL_bmi.coupled_mask, interpolation='nearest', cmap=cmap, norm=norm)\n",
    "# WFL_bmi.dd.plot_dd(ax=b, color='grey', label='PCR ldd')\n",
    "b.scatter(c, r, s=4, color='b', label='DFM 1D nodes')\n",
    "# fix colorbar\n",
    "cbar = plt.colorbar()\n",
    "cbar.set_ticks([0, 1, 2])\n",
    "cbar.set_ticklabels(['none', 'Runoff', 'Discharge'])\n",
    "b.set_title('WFL coupled to DFM mask')\n",
    "b.set_xlim([0, 25])\n",
    "b.set_ylim([15, 0])\n",
    "plt.legend()"
   ]
  },
  {
   "cell_type": "markdown",
   "metadata": {},
   "source": [
    "## run coupled WFLOW - DFM model"
   ]
  },
  {
   "cell_type": "code",
   "execution_count": null,
   "metadata": {
    "scrolled": true
   },
   "outputs": [],
   "source": [
    "\n",
    "DFMidx = DFM_bmi.coupled_idx\n",
    "DFM_area_1d = DFM_bmi.get_var('ba')[DFMidx]\n",
    "WFLidx = WFL_bmi.coupled_idx\n",
    "WFLfrac = WFL_bmi.coupled_area_frac\n",
    "\n",
    "def set_DFM_forcing():\n",
    "    WFL_delta_vol = WFL_bmi.get_coupled_flux() # 2d array [m3/day]\n",
    "#     print np.sum(WFL_delta_vol)\n",
    "    DFM_depth_conservative = WFL_delta_vol[WFLidx] * WFLfrac / DFM_area_1d # 1d array for coupld DFM cells [m/day]\n",
    "    zerorain = np.zeros_like(np.copy(DFM_bmi.get_var('rain')))\n",
    "    DFM_bmi.set_var('rain', zerorain)\n",
    "    DFM_bmi.set_var_index('rain', DFMidx, DFM_depth_conservative)\n",
    "    return WFL_delta_vol"
   ]
  },
  {
   "cell_type": "code",
   "execution_count": null,
   "metadata": {},
   "outputs": [],
   "source": [
    "WFL_bmi.bmi.inputoutputvars"
   ]
  },
  {
   "cell_type": "code",
   "execution_count": null,
   "metadata": {},
   "outputs": [],
   "source": [
    "WFL_bmi.update()\n",
    "runoff = WFL_bmi.bmi.get_value('SurfaceRunoff')\n",
    "fig = plt.figure(figsize=(10, 5))\n",
    "b=fig.add_subplot(1,1,1)\n",
    "plt.imshow(runoff)\n"
   ]
  },
  {
   "cell_type": "code",
   "execution_count": null,
   "metadata": {},
   "outputs": [],
   "source": [
    "WFL_bmi.bmi.dynModel._userModel().wf_supplyVariableNamesAndRoles()"
   ]
  },
  {
   "cell_type": "code",
   "execution_count": null,
   "metadata": {
    "scrolled": true
   },
   "outputs": [],
   "source": [
    "tStart = datetime.now()\n",
    "for i in range(10):\n",
    "    WFL_bmi.update()\n",
    "    set_DFM_forcing()\n",
    "    DFM_bmi.update()  "
   ]
  },
  {
   "cell_type": "code",
   "execution_count": null,
   "metadata": {},
   "outputs": [],
   "source": [
    "# get DFM 1d nodes in local grid coordinates\n",
    "x, y = zip(*DFM_bmi.model_1d_coords) # only 1d coords\n",
    "c, r = ~WFL_bmi.model_grid_transform * (np.atleast_1d(x), np.atleast_1d(y))\n",
    "c, r = c-0.5, r-0.5\n",
    "# set values to right index\n",
    "plot_depth = np.zeros(len(r))\n",
    "plot_depth[DFMidx - DFM_bmi._1d2d_idx] = DFM_bmi.get_var('s1')[DFMidx]\n",
    "\n",
    "# plot figure\n",
    "\n",
    "fig = plt.figure(figsize=(10, 5))\n",
    "b=fig.add_subplot(1,1,1)\n",
    "im = plt.imshow(np.ma.masked_equal(WFL_bmi.get_coupled_flux(), 0), vmin=0, interpolation='nearest', cmap='Blues')\n",
    "WFL_bmi.dd.plot_dd(ax=b, color='grey', label='WFL ldd')\n",
    "im2 = b.scatter(c, r, s=4, c=plot_depth, cmap='YlOrRd') #, norm=mpl.colors.LogNorm())\n",
    "# fix colorbar\n",
    "cbar1 = plt.colorbar(im)\n",
    "cbar1.set_label('WFL flux (runoff+discharge) [m3/day]')\n",
    "cbar = plt.colorbar(im2)\n",
    "cbar.set_label('DMF depth [m]')\n",
    "b.set_title('WFL coupled to DFM flux')\n",
    "b.set_xlim([4, 11])\n",
    "b.set_ylim([5, 1])"
   ]
  },
  {
   "cell_type": "code",
   "execution_count": null,
   "metadata": {},
   "outputs": [],
   "source": [
    "tEnd = datetime.now()"
   ]
  },
  {
   "cell_type": "code",
   "execution_count": null,
   "metadata": {},
   "outputs": [],
   "source": [
    "print 'start time coupling: ', tStart\n",
    "print 'end time coupling: ', tEnd"
   ]
  },
  {
   "cell_type": "code",
   "execution_count": null,
   "metadata": {},
   "outputs": [],
   "source": [
    "DFM_bmi.finalize()\n",
    "WFL_bmi.finalize()"
   ]
  },
  {
   "cell_type": "code",
   "execution_count": null,
   "metadata": {},
   "outputs": [],
   "source": []
  },
  {
   "cell_type": "code",
   "execution_count": null,
   "metadata": {},
   "outputs": [],
   "source": []
  }
 ],
 "metadata": {
  "anaconda-cloud": {},
  "kernelspec": {
   "display_name": "Python [conda env:glofrim]",
   "language": "python",
   "name": "conda-env-glofrim-py"
  },
  "language_info": {
   "codemirror_mode": {
    "name": "ipython",
    "version": 2
   },
   "file_extension": ".py",
   "mimetype": "text/x-python",
   "name": "python",
   "nbconvert_exporter": "python",
   "pygments_lexer": "ipython2",
   "version": "2.7.14"
  }
 },
 "nbformat": 4,
 "nbformat_minor": 2
}
