{
 "cells": [
  {
   "cell_type": "code",
   "execution_count": 2,
   "metadata": {},
   "outputs": [],
   "source": [
    "import bmi.wrapper\n",
    "import matplotlib.pyplot as plt\n",
    "import logging\n",
    "import numpy as np\n",
    "\n",
    "%matplotlib inline\n",
    "logger = logging.getLogger('notebook')\n"
   ]
  },
  {
   "cell_type": "code",
   "execution_count": 3,
   "metadata": {},
   "outputs": [],
   "source": [
    "\n",
    "#model = bmi.wrapper.BMIWrapper('/Users/baart_f/src/CaMa-BMI/src/libcamo.so')\n",
    "model = bmi.wrapper.BMIWrapper('../src/libcama.so')\n",
    "model.set_logger(logger)\n",
    "#model.initialize(\"/Users/baart_f/src/CaMa-BMI/out/lux_test_15min/params.txt\")\n",
    "model.initialize(\"../../test_Elbe/CMF_Elbe/\")\n"
   ]
  },
  {
   "cell_type": "code",
   "execution_count": 4,
   "metadata": {},
   "outputs": [
    {
     "name": "stdout",
     "output_type": "stream",
     "text": [
      "(40, 28)\n"
     ]
    }
   ],
   "source": [
    "for i in range(150): # This number means total days\n",
    "    model.update(86400) # 86400 means Adaptive Time Step setting; see L 29 in CMF_ELBE/generate_namfile.sh \n",
    "rivsto_out_0 = model.get_var('rivsto_out').copy()\n",
    "print(rivsto_out_0.shape)"
   ]
  },
  {
   "cell_type": "code",
   "execution_count": 5,
   "metadata": {},
   "outputs": [
    {
     "data": {
      "text/plain": [
       "<matplotlib.colorbar.Colorbar at 0x114c7ab50>"
      ]
     },
     "execution_count": 5,
     "metadata": {},
     "output_type": "execute_result"
    },
    {
     "data": {
      "image/png": "[encoded data removed]",
      "text/plain": [
       "<matplotlib.figure.Figure at 0x1115cda10>"
      ]
     },
     "metadata": {},
     "output_type": "display_data"
    }
   ],
   "source": [
    "outflw = model.get_var('outflw').reshape(28,40) # Total discharge (river + floodplain)\n",
    "plt.imshow(np.ma.masked_greater(outflw, 1.e19))\n",
    "plt.colorbar()"
   ]
  },
  {
   "cell_type": "code",
   "execution_count": 17,
   "metadata": {},
   "outputs": [
    {
     "name": "stdout",
     "output_type": "stream",
     "text": [
      "(40, 28)\n"
     ]
    },
    {
     "data": {
      "image/png": "[encoded data removed]",
      "text/plain": [
       "<matplotlib.figure.Figure at 0x114fea510>"
      ]
     },
     "metadata": {},
     "output_type": "display_data"
    }
   ],
   "source": [
    "def show_vars(model):\n",
    "#    storage = model.get_var('rivsto_out').reshape(4, 4)\n",
    "    storage = model.get_var('rivsto_out')\n",
    "    print(storage.shape)\n",
    "\n",
    "    level = model.get_var('outflw').reshape( 28,40)\n",
    "    fig, axes = plt.subplots(1, 2)\n",
    "    im = axes[0].imshow(storage)\n",
    "    axes[0].set_title('rivsto_out')\n",
    "    plt.colorbar(im, ax=axes[0])\n",
    "    # it should show up in the total storage\n",
    "    im = axes[1].imshow(np.ma.masked_greater(level, 1e19))\n",
    "    axes[1].set_title('sfcelv')\n",
    "    plt.colorbar(im, ax=axes[1])\n",
    "show_vars(model)"
   ]
  },
  {
   "cell_type": "code",
   "execution_count": null,
   "metadata": {},
   "outputs": [],
   "source": [
    "# add some extra water in the rivers\n",
    "rivsto_out = model.get_var('rivsto_out').reshape(4, 4)\n",
    "rivsto_out[1:3, 1:3] = 1e8\n",
    "logging.warning('HERE HERE HERE')\n",
    "model.set_var('rivsto_out', rivsto_out.reshape(model.get_var_shape('rivsto_out')))\n"
   ]
  },
  {
   "cell_type": "code",
   "execution_count": null,
   "metadata": {},
   "outputs": [],
   "source": [
    "show_vars(model)"
   ]
  },
  {
   "cell_type": "code",
   "execution_count": null,
   "metadata": {},
   "outputs": [],
   "source": [
    "# run\n",
    "for i in range(1):\n",
    "    model.update(100)"
   ]
  },
  {
   "cell_type": "code",
   "execution_count": null,
   "metadata": {},
   "outputs": [],
   "source": [
    "# it should show up in the total storage\n",
    "show_vars(model)"
   ]
  },
  {
   "cell_type": "code",
   "execution_count": null,
   "metadata": {},
   "outputs": [],
   "source": [
    "rivsto_out_1 = model.get_var('rivsto_out').copy()"
   ]
  },
  {
   "cell_type": "code",
   "execution_count": null,
   "metadata": {},
   "outputs": [],
   "source": [
    "plt.imshow((rivsto_out_1 - rivsto_out_0).reshape(4, 4))\n",
    "plt.colorbar()"
   ]
  },
  {
   "cell_type": "code",
   "execution_count": null,
   "metadata": {},
   "outputs": [],
   "source": []
  }
 ],
 "metadata": {
  "hide_input": false,
  "kernelspec": {
   "display_name": "Python 2",
   "language": "python",
   "name": "python2"
  },
  "language_info": {
   "codemirror_mode": {
    "name": "ipython",
    "version": 2
   },
   "file_extension": ".py",
   "mimetype": "text/x-python",
   "name": "python",
   "nbconvert_exporter": "python",
   "pygments_lexer": "ipython2",
   "version": "2.7.13"
  }
 },
 "nbformat": 4,
 "nbformat_minor": 2
}
