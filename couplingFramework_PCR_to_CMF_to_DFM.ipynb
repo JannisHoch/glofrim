{
 "cells": [
  {
   "cell_type": "code",
   "execution_count": 1,
   "metadata": {},
   "outputs": [],
   "source": [
    "%matplotlib inline\n",
    "import netCDF4\n",
    "import rasterio\n",
    "import os\n",
    "from datetime import datetime\n",
    "import numpy as np\n",
    "import matplotlib.pyplot as plt"
   ]
  },
  {
   "cell_type": "code",
   "execution_count": 2,
   "metadata": {},
   "outputs": [],
   "source": [
    "# local libraries\n",
    "from coupling_PCR_FM.model_functions_v2 import PCR_model, CMF_model, DFM_model\n",
    "from coupling_PCR_FM.utils import config_to_dict\n",
    "%config Application.log_level=\"INFO\""
   ]
  },
  {
   "cell_type": "code",
   "execution_count": 3,
   "metadata": {},
   "outputs": [],
   "source": [
    "# IMPORT MODEL SETTINGS FROM INI-FILE\n",
    "argv1 = r'default_rename.set'\n",
    "argv2 = r'paths.env'\n",
    "\n",
    "# parse set/ini-file with central/general settings for coupling framework\n",
    "config = config_to_dict(argv1)\n",
    "# parse env-file for user-specific paths and environmental variables\n",
    "envs = config_to_dict(argv2)\n",
    "# combine\n",
    "config.update(envs)\n",
    "options = config\n",
    "# parse dates\n",
    "start_date = datetime.strptime(options['numerical_settings']['startTime'], '%Y-%m-%d')\n",
    "end_date = datetime.strptime(options['numerical_settings']['endTime'], '%Y-%m-%d')"
   ]
  },
  {
   "cell_type": "code",
   "execution_count": 4,
   "metadata": {},
   "outputs": [
    {
     "name": "stdout",
     "output_type": "stream",
     "text": [
      "/home/ikeuchi/Share/GLOFRIM/work/GLOFRIM-CAMA/output30min\n",
      "/home/ikeuchi/Share/GLOFRIM/glofrim\n"
     ]
    }
   ],
   "source": [
    "# setup output dir\n",
    "cwd = os.getcwd() # note: this get changed by pcr initialization later on\n",
    "out_dir = options['PCRpaths']['outputDirectoryPCR']\n",
    "if not os.path.isdir(out_dir):\n",
    "    os.mkdir(out_dir)\n",
    "print(out_dir)\n",
    "print(cwd)"
   ]
  },
  {
   "cell_type": "markdown",
   "metadata": {},
   "source": [
    "## create PCR model BMI object"
   ]
  },
  {
   "cell_type": "code",
   "execution_count": 5,
   "metadata": {},
   "outputs": [
    {
     "name": "stdout",
     "output_type": "stream",
     "text": [
      "/home/ikeuchi/Share/GLOFRIM/glofrim/test_Elbe/PCR_Elbe/input30min\n",
      "/home/ikeuchi/Share/GLOFRIM/glofrim/test_Elbe/PCR_Elbe/setup_PCR_30min_Elbe.ini\n",
      "/home/ikeuchi/Share/GLOFRIM/work/GLOFRIM-CAMA/output30min/PCR\n"
     ]
    }
   ],
   "source": [
    "PCR_config_fn = os.path.join(cwd, options['hydrologic_model']['config_dir'], options['hydrologic_model']['config_file'])\n",
    "PCR_in_dir = options['PCRpaths']['inputDirectoryPCR']\n",
    "PCR_out_dir = os.path.join(out_dir, 'PCR')\n",
    "print(PCR_in_dir)\n",
    "print(PCR_config_fn)\n",
    "print(PCR_out_dir)\n",
    "\n",
    "PCR_bmi = PCR_model(PCR_config_fn, PCR_in_dir, PCR_out_dir,\n",
    "                            start_date, end_date,)"
   ]
  },
  {
   "cell_type": "markdown",
   "metadata": {},
   "source": [
    "## create CMF model BMI object"
   ]
  },
  {
   "cell_type": "code",
   "execution_count": 6,
   "metadata": {},
   "outputs": [
    {
     "name": "stderr",
     "output_type": "stream",
     "text": [
      "2018-02-28 16:33:03,765 - INFO - Loading library from path /home/ikeuchi/Share/GLOFRIM/glofrim/cama-flood_bmi/src/libcama.so\n"
     ]
    },
    {
     "name": "stdout",
     "output_type": "stream",
     "text": [
      "/home/ikeuchi/Share/GLOFRIM/glofrim/cama-flood_bmi/src/libcama.so\n"
     ]
    }
   ],
   "source": [
    "CMF_engine = os.path.join(cwd, options['CMF_engine']['CMF_path'])\n",
    "print(CMF_engine)\n",
    "CMF_model_dir = os.path.join(cwd, options['routing_model']['model_dir'])\n",
    "CMF_config_fn = os.path.join(CMF_model_dir, options['routing_model']['model_file'])\n",
    "CMF_out_dir = os.path.join(out_dir, 'CMF')\n",
    "     \n",
    "CMF_bmi = CMF_model(CMF_engine, CMF_config_fn, CMF_model_dir, CMF_out_dir,\n",
    "                         start_date, end_date, dt=86400)\n"
   ]
  },
  {
   "cell_type": "markdown",
   "metadata": {},
   "source": [
    "## create DFM model BMI object"
   ]
  },
  {
   "cell_type": "code",
   "execution_count": 7,
   "metadata": {},
   "outputs": [
    {
     "name": "stderr",
     "output_type": "stream",
     "text": [
      "2018-02-28 16:33:03,818 - INFO - Loading library from path /home/ikeuchi/Share/DFLOW-FM/dflowfm-1.1.267/lib/libdflowfm.so\n"
     ]
    },
    {
     "name": "stdout",
     "output_type": "stream",
     "text": [
      "/home/ikeuchi/Share/DFLOW-FM/dflowfm-1.1.267/lib/libdflowfm.so\n",
      "/home/ikeuchi/Share/GLOFRIM/glofrim/test_Elbe/DFM_Elbe/\n",
      "/home/ikeuchi/Share/GLOFRIM/glofrim/test_Elbe/DFM_Elbe/Elbe_1way_1d2dFM_400m_3200m.mdu\n",
      "/home/ikeuchi/Share/GLOFRIM/work/GLOFRIM-CAMA/output30min/DFM\n"
     ]
    }
   ],
   "source": [
    "DFM_engine = os.path.join(cwd, options['DFM_engine']['DFM_path'])\n",
    "DFM_model_dir = os.path.join(cwd, options['hydrodynamic_model']['model_dir'])\n",
    "DFM_config_fn = os.path.join(DFM_model_dir, options['hydrodynamic_model']['model_file'])\n",
    "DFM_out_dir = os.path.join(out_dir, 'DFM')\n",
    "print(DFM_engine)\n",
    "print(DFM_model_dir)\n",
    "print(DFM_config_fn)\n",
    "print(DFM_out_dir)\n",
    "\n",
    "\n",
    "DFM_bmi = DFM_model(DFM_engine, DFM_config_fn, DFM_model_dir, DFM_out_dir,\n",
    "                              start_date, end_date, dt=86400.)"
   ]
  },
  {
   "cell_type": "markdown",
   "metadata": {},
   "source": [
    "## intitialize DFM model"
   ]
  },
  {
   "cell_type": "code",
   "execution_count": 8,
   "metadata": {},
   "outputs": [
    {
     "name": "stderr",
     "output_type": "stream",
     "text": [
      "2018-02-28 16:33:04,056 - INFO - Ini file for DFM written to /home/ikeuchi/Share/GLOFRIM/work/GLOFRIM-CAMA/output30min/DFM/Elbe_1way_1d2dFM_400m_3200m.mdu\n",
      "2018-02-28 16:33:04,060 - INFO - Loading model /home/ikeuchi/Share/GLOFRIM/work/GLOFRIM-CAMA/output30min/DFM/Elbe_1way_1d2dFM_400m_3200m.mdu in directory /home/ikeuchi/Share/GLOFRIM/work/GLOFRIM-CAMA/output30min/DFM\n",
      "2018-02-28 16:33:22,818 - INFO - DFM initialized\n"
     ]
    }
   ],
   "source": [
    "# initialize DFM first to expose model coordinates via BMI\n",
    "DFM_bmi.initialize()"
   ]
  },
  {
   "cell_type": "markdown",
   "metadata": {},
   "source": [
    "## couple grids based on CMF inpmat file"
   ]
  },
  {
   "cell_type": "code",
   "execution_count": 9,
   "metadata": {},
   "outputs": [
    {
     "name": "stderr",
     "output_type": "stream",
     "text": [
      "2018-02-28 16:33:22,835 - INFO - Getting PCR model grid parameters.\n",
      "2018-02-28 16:33:22,850 - INFO - Getting CMF model grid parameters.\n",
      "2018-02-28 16:33:22,862 - INFO - Coupling PCR grid to CMF grid.\n",
      "2018-02-28 16:33:22,868 - INFO - ./generate_inpmat 0.5 7.0 17.0 55.0 48.0 NtoS\n"
     ]
    }
   ],
   "source": [
    "# couple grids\n",
    "PCR_bmi.couple_grid_to_grid(CMF_bmi)"
   ]
  },
  {
   "cell_type": "markdown",
   "metadata": {},
   "source": [
    "## couple grids based on 1d DFM indices"
   ]
  },
  {
   "cell_type": "markdown",
   "metadata": {},
   "source": [
    "Couple external 1d coordinates to internal model 2d grid. \n",
    "\n",
    "The model **ldd grid is also deactivated** at coupled cells.\n",
    "\n",
    "**Note** that this should be excecuted before the CMF model is initalized as the lddl grid modification is done offline!"
   ]
  },
  {
   "cell_type": "code",
   "execution_count": 10,
   "metadata": {},
   "outputs": [
    {
     "name": "stderr",
     "output_type": "stream",
     "text": [
      "2018-02-28 16:33:23,055 - INFO - Getting DFM model coordinates.\n",
      "2018-02-28 16:33:23,121 - INFO - Coupling CMF grid to DFM 1D nodes.\n",
      "2018-02-28 16:33:23,124 - INFO - Getting CMF model indices for xy coordinates.\n",
      "2018-02-28 16:33:23,343 - INFO - Getting fraction of coupled 1d nodes based on area.\n"
     ]
    }
   ],
   "source": [
    "# get coupled dictionaries\n",
    "CMF_bmi.couple_grid_to_1d(DFM_bmi)"
   ]
  },
  {
   "cell_type": "markdown",
   "metadata": {},
   "source": [
    "## initialize CMF and PCR models"
   ]
  },
  {
   "cell_type": "code",
   "execution_count": 11,
   "metadata": {
    "scrolled": true
   },
   "outputs": [
    {
     "name": "stderr",
     "output_type": "stream",
     "text": [
      "2018-02-28 16:33:23,386 - INFO - removing tmp file diminfo_tmp.txt from model data dir\n",
      "2018-02-28 16:33:23,553 - INFO - removing tmp file inpmat-tmp.txt from model data dir\n",
      "2018-02-28 16:33:23,572 - INFO - removing tmp file inpmat-tmp.bin from model data dir\n",
      "2018-02-28 16:33:23,599 - INFO - Ini file for CMF written to /home/ikeuchi/Share/GLOFRIM/work/GLOFRIM-CAMA/output30min/CMF/input_flood.nam\n",
      "2018-02-28 16:33:23,604 - INFO - Loading model /home/ikeuchi/Share/GLOFRIM/work/GLOFRIM-CAMA/output30min/CMF/input_flood.nam in directory /home/ikeuchi/Share/GLOFRIM/work/GLOFRIM-CAMA/output30min/CMF\n",
      "2018-02-28 16:33:23,647 - INFO - CMF initialized\n",
      "2018-02-28 16:33:23,674 - INFO - Ini file for PCR written to /home/ikeuchi/Share/GLOFRIM/work/GLOFRIM-CAMA/output30min/PCR/setup_PCR_30min_Elbe.ini\n",
      "2018-02-28 16:33:23,969 - INFO - Model run started at 2018-02-28 16:33:23.677563\n",
      "2018-02-28 16:33:23,969 pcrglobwb_bmi_v203.configuration INFO Model run started at 2018-02-28 16:33:23.677563\n",
      "2018-02-28 16:33:23,976 - INFO - Logging output to /home/ikeuchi/Share/GLOFRIM/work/GLOFRIM-CAMA/output30min/PCR/log/setup_PCR_30min_Elbe.ini_2018-02-28T16:33:23.677563.log\n",
      "2018-02-28 16:33:23,976 pcrglobwb_bmi_v203.configuration INFO Logging output to /home/ikeuchi/Share/GLOFRIM/work/GLOFRIM-CAMA/output30min/PCR/log/setup_PCR_30min_Elbe.ini_2018-02-28T16:33:23.677563.log\n",
      "2018-02-28 16:33:23,995 - INFO - Note that avgSurfaceWaterInputLongIni is not used and not needed.\n",
      "2018-02-28 16:33:23,995 pcrglobwb_bmi_v203.configuration INFO Note that avgSurfaceWaterInputLongIni is not used and not needed.\n",
      "2018-02-28 16:33:24,002 - INFO - The initial condition \"subDischargeIni\" is not defined. Either \"avgDischargeShortIni\" or \"avgDischargeLongIni\" is used in this run. Note that the \"subDischargeIni\" is only relevant if kinematic wave approaches are used.\n",
      "2018-02-28 16:33:24,002 pcrglobwb_bmi_v203.configuration INFO The initial condition \"subDischargeIni\" is not defined. Either \"avgDischargeShortIni\" or \"avgDischargeLongIni\" is used in this run. Note that the \"subDischargeIni\" is only relevant if kinematic wave approaches are used.\n",
      "2018-02-28 16:33:24,011 - INFO - number of time steps :10\n",
      "2018-02-28 16:33:24,011 pcrglobwb_bmi_v203.currTimeStep INFO number of time steps :10\n",
      "2018-02-28 16:33:24,417 - INFO - No forcing downscaling is implemented.\n",
      "2018-02-28 16:33:24,417 pcrglobwb_bmi_v203.meteo INFO No forcing downscaling is implemented.\n",
      "2018-02-28 16:33:35,094 - INFO - Adjusting some model parameters based on given values in the ini/configuration file.\n",
      "2018-02-28 16:33:35,094 pcrglobwb_bmi_v203.deterministic_runner INFO Adjusting some model parameters based on given values in the ini/configuration file.\n",
      "2018-02-28 16:33:35,101 - INFO - \n",
      "\n",
      "Multiplier values used: \n",
      "For minSoilDepthFrac           : 1.0\n",
      "For kSat (log-scale)           : 0.0\n",
      "For recessionCoeff (log-scale) : 1.0\n",
      "For storCap                    : 1.25\n",
      "For degreeDayFactor            : 1.0\n",
      "For refPotET                   : 1.0\n",
      "\n",
      "2018-02-28 16:33:35,101 pcrglobwb_bmi_v203.deterministic_runner INFO \n",
      "\n",
      "Multiplier values used: \n",
      "For minSoilDepthFrac           : 1.0\n",
      "For kSat (log-scale)           : 0.0\n",
      "For recessionCoeff (log-scale) : 1.0\n",
      "For storCap                    : 1.25\n",
      "For degreeDayFactor            : 1.0\n",
      "For refPotET                   : 1.0\n",
      "\n",
      "2018-02-28 16:33:35,122 - INFO - Model initialized. Spin-up might be required.\n",
      "2018-02-28 16:33:35,122 pcrglobwb_bmi_v203.pcrglobwb_bmi INFO Model initialized. Spin-up might be required.\n",
      "2018-02-28 16:33:35,130 - INFO - PCR initialized\n",
      "2018-02-28 16:33:35,130 coupling_PCR_FM.model_functions_v2 INFO PCR initialized\n"
     ]
    }
   ],
   "source": [
    "# initialize CMF model after nextxy had been adapted\n",
    "CMF_bmi.initialize()\n",
    "# initialize model after ldd has been modified\n",
    "PCR_bmi.initialize()"
   ]
  },
  {
   "cell_type": "markdown",
   "metadata": {},
   "source": [
    "## define exchange of values in update states function"
   ]
  },
  {
   "cell_type": "code",
   "execution_count": 12,
   "metadata": {},
   "outputs": [],
   "source": [
    "# determine area fraction for volume distribution\n",
    "DFMidx = DFM_bmi.coupled_idx\n",
    "CMFidx = CMF_bmi.coupled_idx\n",
    "area_all = np.copy(DFM_bmi.get_var('ba'))\n",
    "area_1d = area_all[DFMidx]\n",
    "\n",
    "def calc_PCR_volume(runoff):\n",
    "    cellarea = PCR_bmi.get_var('cellArea')\n",
    "    cellarea = np.where(np.isnan(cellarea), 0, cellarea)\n",
    "    PCR_volume = runoff * cellarea\n",
    "    tot_PCR_volume = np.sum(PCR_volume)\n",
    "    print 'sum runoff PCR * cellarea PCR: %.3e' % tot_PCR_volume\n",
    "    return \n",
    "\n",
    "def set_CMF_runoff():\n",
    "    \"\"\"\"\n",
    "    coupling runoff between CMFan PCR model\n",
    "    \"\"\"\n",
    "    runoff = np.copy(PCR_bmi.get_var('landSurfaceRunoff'))\n",
    "    runoff = np.where(np.isnan(runoff), 0, runoff)\n",
    "    calc_PCR_volume(runoff)\n",
    "    CMF_bmi.set_var(\"runoff\", runoff)\n",
    "    \n",
    "def set_DFM_discharge_and_update(updateStep):\n",
    "    '''\n",
    "    as the routing is turned off for coupled cells, only local discharge (=runoff) is passed on for coupled cells without an \n",
    "    upstream cell\n",
    "    '''\n",
    "    \n",
    "    V_DFM_t0 = np.copy(DFM_bmi.get_var('vol1'))\n",
    "    print 'V in DFM before adding Q from CMF: %.3e' % np.sum(V_DFM_t0)\n",
    "    \n",
    "    discharge_all = np.copy(CMF_bmi.get_var('outflw'))\n",
    "    discharge = discharge_all[CMFidx] * CMF_bmi.options['dt'] #[m3/dt]\n",
    "    delta_water_depth_dfm = discharge * CMF_bmi.coupled_area_frac / area_1d # [m/dt]\n",
    "    DFM_bmi.set_var_index('rain', DFMidx, delta_water_depth_dfm)\n",
    "    \n",
    "    discharge = np.where(np.isnan(discharge), 0, discharge)\n",
    "    tot_Q_CMF2DFM = np.sum(discharge)\n",
    "    print 'added V from CFM: %.3e' % tot_Q_CMF2DFM\n",
    "    \n",
    "    DFM_bmi.update(updateStep)\n",
    "    \n",
    "    V_DFM_t1 = np.copy(DFM_bmi.get_var('vol1'))\n",
    "    print 'V in DFM after adding Q and update: %.3e' % np.sum(V_DFM_t1)\n",
    "    d_V_DFM = np.sum(V_DFM_t1) - np.sum(V_DFM_t0)\n",
    "    print 'increase of V DFM: %.3e' % d_V_DFM\n",
    "    "
   ]
  },
  {
   "cell_type": "markdown",
   "metadata": {},
   "source": [
    "## run coupled CMF - DFM model\n",
    "# why is discharge from CMF negative???"
   ]
  },
  {
   "cell_type": "code",
   "execution_count": 13,
   "metadata": {
    "scrolled": true
   },
   "outputs": [
    {
     "name": "stderr",
     "output_type": "stream",
     "text": [
      "2018-02-28 16:33:35,201 - INFO - reading forcings for time 2000-01-01\n",
      "2018-02-28 16:33:35,201 pcrglobwb_bmi_v203.pcrglobwb INFO reading forcings for time 2000-01-01\n",
      "2018-02-28 16:33:35,390 - INFO - updating model to time 2000-01-01\n",
      "2018-02-28 16:33:35,390 pcrglobwb_bmi_v203.pcrglobwb INFO updating model to time 2000-01-01\n",
      "2018-02-28 16:33:36,986 - INFO - PCR -> start_time: 2000-01-01, current_time 2000-01-01, timestep 1\n",
      "2018-02-28 16:33:36,986 coupling_PCR_FM.model_functions_v2 INFO PCR -> start_time: 2000-01-01, current_time 2000-01-01, timestep 1\n",
      "2018-02-28 16:33:37,004 - INFO - CMF -> start_time: 2000-01-01 00:00:00, current_time 2000-01-02 00:00:00, timestep 86400.0\n",
      "2018-02-28 16:33:37,004 coupling_PCR_FM.model_functions_v2 INFO CMF -> start_time: 2000-01-01 00:00:00, current_time 2000-01-02 00:00:00, timestep 86400.0\n",
      "2018-02-28 16:33:37,012 - INFO - reading forcings for time 2000-01-02\n",
      "2018-02-28 16:33:37,012 pcrglobwb_bmi_v203.pcrglobwb INFO reading forcings for time 2000-01-02\n"
     ]
    },
    {
     "name": "stdout",
     "output_type": "stream",
     "text": [
      "sum runoff PCR * cellarea PCR: 2.313e+07\n"
     ]
    },
    {
     "name": "stderr",
     "output_type": "stream",
     "text": [
      "2018-02-28 16:33:37,217 - INFO - updating model to time 2000-01-02\n",
      "2018-02-28 16:33:37,217 pcrglobwb_bmi_v203.pcrglobwb INFO updating model to time 2000-01-02\n",
      "2018-02-28 16:33:38,133 - INFO - PCR -> start_time: 2000-01-01, current_time 2000-01-02, timestep 2\n",
      "2018-02-28 16:33:38,133 coupling_PCR_FM.model_functions_v2 INFO PCR -> start_time: 2000-01-01, current_time 2000-01-02, timestep 2\n",
      "2018-02-28 16:33:38,163 - INFO - CMF -> start_time: 2000-01-01 00:00:00, current_time 2000-01-03 00:00:00, timestep 86400.0\n",
      "2018-02-28 16:33:38,163 coupling_PCR_FM.model_functions_v2 INFO CMF -> start_time: 2000-01-01 00:00:00, current_time 2000-01-03 00:00:00, timestep 86400.0\n",
      "2018-02-28 16:33:38,171 - INFO - reading forcings for time 2000-01-03\n",
      "2018-02-28 16:33:38,171 pcrglobwb_bmi_v203.pcrglobwb INFO reading forcings for time 2000-01-03\n"
     ]
    },
    {
     "name": "stdout",
     "output_type": "stream",
     "text": [
      "sum runoff PCR * cellarea PCR: 3.024e+07\n"
     ]
    },
    {
     "name": "stderr",
     "output_type": "stream",
     "text": [
      "2018-02-28 16:33:38,371 - INFO - updating model to time 2000-01-03\n",
      "2018-02-28 16:33:38,371 pcrglobwb_bmi_v203.pcrglobwb INFO updating model to time 2000-01-03\n",
      "2018-02-28 16:33:39,265 - INFO - PCR -> start_time: 2000-01-01, current_time 2000-01-03, timestep 3\n",
      "2018-02-28 16:33:39,265 coupling_PCR_FM.model_functions_v2 INFO PCR -> start_time: 2000-01-01, current_time 2000-01-03, timestep 3\n",
      "2018-02-28 16:33:39,299 - INFO - CMF -> start_time: 2000-01-01 00:00:00, current_time 2000-01-04 00:00:00, timestep 86400.0\n",
      "2018-02-28 16:33:39,299 coupling_PCR_FM.model_functions_v2 INFO CMF -> start_time: 2000-01-01 00:00:00, current_time 2000-01-04 00:00:00, timestep 86400.0\n",
      "2018-02-28 16:33:39,306 - INFO - reading forcings for time 2000-01-04\n",
      "2018-02-28 16:33:39,306 pcrglobwb_bmi_v203.pcrglobwb INFO reading forcings for time 2000-01-04\n"
     ]
    },
    {
     "name": "stdout",
     "output_type": "stream",
     "text": [
      "sum runoff PCR * cellarea PCR: 1.024e+07\n"
     ]
    },
    {
     "name": "stderr",
     "output_type": "stream",
     "text": [
      "2018-02-28 16:33:39,514 - INFO - updating model to time 2000-01-04\n",
      "2018-02-28 16:33:39,514 pcrglobwb_bmi_v203.pcrglobwb INFO updating model to time 2000-01-04\n",
      "2018-02-28 16:33:40,415 - INFO - PCR -> start_time: 2000-01-01, current_time 2000-01-04, timestep 4\n",
      "2018-02-28 16:33:40,415 coupling_PCR_FM.model_functions_v2 INFO PCR -> start_time: 2000-01-01, current_time 2000-01-04, timestep 4\n",
      "2018-02-28 16:33:40,451 - INFO - CMF -> start_time: 2000-01-01 00:00:00, current_time 2000-01-05 00:00:00, timestep 86400.0\n",
      "2018-02-28 16:33:40,451 coupling_PCR_FM.model_functions_v2 INFO CMF -> start_time: 2000-01-01 00:00:00, current_time 2000-01-05 00:00:00, timestep 86400.0\n",
      "2018-02-28 16:33:40,457 - INFO - reading forcings for time 2000-01-05\n",
      "2018-02-28 16:33:40,457 pcrglobwb_bmi_v203.pcrglobwb INFO reading forcings for time 2000-01-05\n"
     ]
    },
    {
     "name": "stdout",
     "output_type": "stream",
     "text": [
      "sum runoff PCR * cellarea PCR: 7.619e+07\n"
     ]
    },
    {
     "name": "stderr",
     "output_type": "stream",
     "text": [
      "2018-02-28 16:33:40,665 - INFO - updating model to time 2000-01-05\n",
      "2018-02-28 16:33:40,665 pcrglobwb_bmi_v203.pcrglobwb INFO updating model to time 2000-01-05\n",
      "2018-02-28 16:33:41,582 - INFO - PCR -> start_time: 2000-01-01, current_time 2000-01-05, timestep 5\n",
      "2018-02-28 16:33:41,582 coupling_PCR_FM.model_functions_v2 INFO PCR -> start_time: 2000-01-01, current_time 2000-01-05, timestep 5\n",
      "2018-02-28 16:33:41,620 - INFO - CMF -> start_time: 2000-01-01 00:00:00, current_time 2000-01-06 00:00:00, timestep 86400.0\n",
      "2018-02-28 16:33:41,620 coupling_PCR_FM.model_functions_v2 INFO CMF -> start_time: 2000-01-01 00:00:00, current_time 2000-01-06 00:00:00, timestep 86400.0\n",
      "2018-02-28 16:33:41,627 - INFO - reading forcings for time 2000-01-06\n",
      "2018-02-28 16:33:41,627 pcrglobwb_bmi_v203.pcrglobwb INFO reading forcings for time 2000-01-06\n"
     ]
    },
    {
     "name": "stdout",
     "output_type": "stream",
     "text": [
      "sum runoff PCR * cellarea PCR: 4.219e+07\n"
     ]
    },
    {
     "name": "stderr",
     "output_type": "stream",
     "text": [
      "2018-02-28 16:33:41,831 - INFO - updating model to time 2000-01-06\n",
      "2018-02-28 16:33:41,831 pcrglobwb_bmi_v203.pcrglobwb INFO updating model to time 2000-01-06\n",
      "2018-02-28 16:33:42,715 - INFO - PCR -> start_time: 2000-01-01, current_time 2000-01-06, timestep 6\n",
      "2018-02-28 16:33:42,715 coupling_PCR_FM.model_functions_v2 INFO PCR -> start_time: 2000-01-01, current_time 2000-01-06, timestep 6\n",
      "2018-02-28 16:33:42,752 - INFO - CMF -> start_time: 2000-01-01 00:00:00, current_time 2000-01-07 00:00:00, timestep 86400.0\n",
      "2018-02-28 16:33:42,752 coupling_PCR_FM.model_functions_v2 INFO CMF -> start_time: 2000-01-01 00:00:00, current_time 2000-01-07 00:00:00, timestep 86400.0\n",
      "2018-02-28 16:33:42,759 - INFO - reading forcings for time 2000-01-07\n",
      "2018-02-28 16:33:42,759 pcrglobwb_bmi_v203.pcrglobwb INFO reading forcings for time 2000-01-07\n"
     ]
    },
    {
     "name": "stdout",
     "output_type": "stream",
     "text": [
      "sum runoff PCR * cellarea PCR: 2.431e+06\n"
     ]
    },
    {
     "name": "stderr",
     "output_type": "stream",
     "text": [
      "2018-02-28 16:33:42,968 - INFO - updating model to time 2000-01-07\n",
      "2018-02-28 16:33:42,968 pcrglobwb_bmi_v203.pcrglobwb INFO updating model to time 2000-01-07\n",
      "2018-02-28 16:33:43,866 - INFO - PCR -> start_time: 2000-01-01, current_time 2000-01-07, timestep 7\n",
      "2018-02-28 16:33:43,866 coupling_PCR_FM.model_functions_v2 INFO PCR -> start_time: 2000-01-01, current_time 2000-01-07, timestep 7\n",
      "2018-02-28 16:33:43,899 - INFO - CMF -> start_time: 2000-01-01 00:00:00, current_time 2000-01-08 00:00:00, timestep 86400.0\n",
      "2018-02-28 16:33:43,899 coupling_PCR_FM.model_functions_v2 INFO CMF -> start_time: 2000-01-01 00:00:00, current_time 2000-01-08 00:00:00, timestep 86400.0\n",
      "2018-02-28 16:33:43,906 - INFO - reading forcings for time 2000-01-08\n",
      "2018-02-28 16:33:43,906 pcrglobwb_bmi_v203.pcrglobwb INFO reading forcings for time 2000-01-08\n"
     ]
    },
    {
     "name": "stdout",
     "output_type": "stream",
     "text": [
      "sum runoff PCR * cellarea PCR: 1.083e+07\n"
     ]
    },
    {
     "name": "stderr",
     "output_type": "stream",
     "text": [
      "2018-02-28 16:33:44,110 - INFO - updating model to time 2000-01-08\n",
      "2018-02-28 16:33:44,110 pcrglobwb_bmi_v203.pcrglobwb INFO updating model to time 2000-01-08\n",
      "2018-02-28 16:33:44,999 - INFO - PCR -> start_time: 2000-01-01, current_time 2000-01-08, timestep 8\n",
      "2018-02-28 16:33:44,999 coupling_PCR_FM.model_functions_v2 INFO PCR -> start_time: 2000-01-01, current_time 2000-01-08, timestep 8\n",
      "2018-02-28 16:33:45,033 - INFO - CMF -> start_time: 2000-01-01 00:00:00, current_time 2000-01-09 00:00:00, timestep 86400.0\n",
      "2018-02-28 16:33:45,033 coupling_PCR_FM.model_functions_v2 INFO CMF -> start_time: 2000-01-01 00:00:00, current_time 2000-01-09 00:00:00, timestep 86400.0\n",
      "2018-02-28 16:33:45,040 - INFO - reading forcings for time 2000-01-09\n",
      "2018-02-28 16:33:45,040 pcrglobwb_bmi_v203.pcrglobwb INFO reading forcings for time 2000-01-09\n"
     ]
    },
    {
     "name": "stdout",
     "output_type": "stream",
     "text": [
      "sum runoff PCR * cellarea PCR: 7.034e+06\n"
     ]
    },
    {
     "name": "stderr",
     "output_type": "stream",
     "text": [
      "2018-02-28 16:33:45,245 - INFO - updating model to time 2000-01-09\n",
      "2018-02-28 16:33:45,245 pcrglobwb_bmi_v203.pcrglobwb INFO updating model to time 2000-01-09\n",
      "2018-02-28 16:33:46,150 - INFO - PCR -> start_time: 2000-01-01, current_time 2000-01-09, timestep 9\n",
      "2018-02-28 16:33:46,150 coupling_PCR_FM.model_functions_v2 INFO PCR -> start_time: 2000-01-01, current_time 2000-01-09, timestep 9\n",
      "2018-02-28 16:33:46,187 - INFO - CMF -> start_time: 2000-01-01 00:00:00, current_time 2000-01-10 00:00:00, timestep 86400.0\n",
      "2018-02-28 16:33:46,187 coupling_PCR_FM.model_functions_v2 INFO CMF -> start_time: 2000-01-01 00:00:00, current_time 2000-01-10 00:00:00, timestep 86400.0\n",
      "2018-02-28 16:33:46,195 - INFO - reading forcings for time 2000-01-10\n",
      "2018-02-28 16:33:46,195 pcrglobwb_bmi_v203.pcrglobwb INFO reading forcings for time 2000-01-10\n"
     ]
    },
    {
     "name": "stdout",
     "output_type": "stream",
     "text": [
      "sum runoff PCR * cellarea PCR: 3.067e+07\n"
     ]
    },
    {
     "name": "stderr",
     "output_type": "stream",
     "text": [
      "2018-02-28 16:33:46,401 - INFO - updating model to time 2000-01-10\n",
      "2018-02-28 16:33:46,401 pcrglobwb_bmi_v203.pcrglobwb INFO updating model to time 2000-01-10\n",
      "2018-02-28 16:33:47,275 - INFO - PCR -> start_time: 2000-01-01, current_time 2000-01-10, timestep 10\n",
      "2018-02-28 16:33:47,275 coupling_PCR_FM.model_functions_v2 INFO PCR -> start_time: 2000-01-01, current_time 2000-01-10, timestep 10\n",
      "2018-02-28 16:33:47,317 - INFO - CMF -> start_time: 2000-01-01 00:00:00, current_time 2000-01-11 00:00:00, timestep 86400.0\n",
      "2018-02-28 16:33:47,317 coupling_PCR_FM.model_functions_v2 INFO CMF -> start_time: 2000-01-01 00:00:00, current_time 2000-01-11 00:00:00, timestep 86400.0\n",
      "2018-02-28 16:33:47,323 - INFO - reading forcings for time 2000-01-11\n",
      "2018-02-28 16:33:47,323 pcrglobwb_bmi_v203.pcrglobwb INFO reading forcings for time 2000-01-11\n"
     ]
    },
    {
     "name": "stdout",
     "output_type": "stream",
     "text": [
      "sum runoff PCR * cellarea PCR: 2.730e+06\n"
     ]
    },
    {
     "name": "stderr",
     "output_type": "stream",
     "text": [
      "2018-02-28 16:33:47,525 - INFO - updating model to time 2000-01-11\n",
      "2018-02-28 16:33:47,525 pcrglobwb_bmi_v203.pcrglobwb INFO updating model to time 2000-01-11\n",
      "2018-02-28 16:33:48,403 - INFO - PCR -> start_time: 2000-01-01, current_time 2000-01-11, timestep 11\n",
      "2018-02-28 16:33:48,403 coupling_PCR_FM.model_functions_v2 INFO PCR -> start_time: 2000-01-01, current_time 2000-01-11, timestep 11\n",
      "2018-02-28 16:33:48,438 - INFO - CMF -> start_time: 2000-01-01 00:00:00, current_time 2000-01-12 00:00:00, timestep 86400.0\n",
      "2018-02-28 16:33:48,438 coupling_PCR_FM.model_functions_v2 INFO CMF -> start_time: 2000-01-01 00:00:00, current_time 2000-01-12 00:00:00, timestep 86400.0\n",
      "2018-02-28 16:33:48,445 - INFO - reading forcings for time 2000-01-12\n",
      "2018-02-28 16:33:48,445 pcrglobwb_bmi_v203.pcrglobwb INFO reading forcings for time 2000-01-12\n"
     ]
    },
    {
     "name": "stdout",
     "output_type": "stream",
     "text": [
      "sum runoff PCR * cellarea PCR: 2.238e+06\n"
     ]
    },
    {
     "name": "stderr",
     "output_type": "stream",
     "text": [
      "2018-02-28 16:33:48,647 - INFO - updating model to time 2000-01-12\n",
      "2018-02-28 16:33:48,647 pcrglobwb_bmi_v203.pcrglobwb INFO updating model to time 2000-01-12\n",
      "2018-02-28 16:33:49,523 - INFO - PCR -> start_time: 2000-01-01, current_time 2000-01-12, timestep 12\n",
      "2018-02-28 16:33:49,523 coupling_PCR_FM.model_functions_v2 INFO PCR -> start_time: 2000-01-01, current_time 2000-01-12, timestep 12\n",
      "2018-02-28 16:33:49,560 - INFO - CMF -> start_time: 2000-01-01 00:00:00, current_time 2000-01-13 00:00:00, timestep 86400.0\n",
      "2018-02-28 16:33:49,560 coupling_PCR_FM.model_functions_v2 INFO CMF -> start_time: 2000-01-01 00:00:00, current_time 2000-01-13 00:00:00, timestep 86400.0\n",
      "2018-02-28 16:33:49,566 - INFO - reading forcings for time 2000-01-13\n",
      "2018-02-28 16:33:49,566 pcrglobwb_bmi_v203.pcrglobwb INFO reading forcings for time 2000-01-13\n"
     ]
    },
    {
     "name": "stdout",
     "output_type": "stream",
     "text": [
      "sum runoff PCR * cellarea PCR: 2.242e+06\n"
     ]
    },
    {
     "name": "stderr",
     "output_type": "stream",
     "text": [
      "2018-02-28 16:33:49,766 - INFO - updating model to time 2000-01-13\n",
      "2018-02-28 16:33:49,766 pcrglobwb_bmi_v203.pcrglobwb INFO updating model to time 2000-01-13\n",
      "2018-02-28 16:33:50,646 - INFO - PCR -> start_time: 2000-01-01, current_time 2000-01-13, timestep 13\n",
      "2018-02-28 16:33:50,646 coupling_PCR_FM.model_functions_v2 INFO PCR -> start_time: 2000-01-01, current_time 2000-01-13, timestep 13\n",
      "2018-02-28 16:33:50,682 - INFO - CMF -> start_time: 2000-01-01 00:00:00, current_time 2000-01-14 00:00:00, timestep 86400.0\n",
      "2018-02-28 16:33:50,682 coupling_PCR_FM.model_functions_v2 INFO CMF -> start_time: 2000-01-01 00:00:00, current_time 2000-01-14 00:00:00, timestep 86400.0\n",
      "2018-02-28 16:33:50,689 - INFO - reading forcings for time 2000-01-14\n",
      "2018-02-28 16:33:50,689 pcrglobwb_bmi_v203.pcrglobwb INFO reading forcings for time 2000-01-14\n"
     ]
    },
    {
     "name": "stdout",
     "output_type": "stream",
     "text": [
      "sum runoff PCR * cellarea PCR: 2.245e+06\n"
     ]
    },
    {
     "name": "stderr",
     "output_type": "stream",
     "text": [
      "2018-02-28 16:33:50,889 - INFO - updating model to time 2000-01-14\n",
      "2018-02-28 16:33:50,889 pcrglobwb_bmi_v203.pcrglobwb INFO updating model to time 2000-01-14\n",
      "2018-02-28 16:33:51,764 - INFO - PCR -> start_time: 2000-01-01, current_time 2000-01-14, timestep 14\n",
      "2018-02-28 16:33:51,764 coupling_PCR_FM.model_functions_v2 INFO PCR -> start_time: 2000-01-01, current_time 2000-01-14, timestep 14\n",
      "2018-02-28 16:33:51,801 - INFO - CMF -> start_time: 2000-01-01 00:00:00, current_time 2000-01-15 00:00:00, timestep 86400.0\n",
      "2018-02-28 16:33:51,801 coupling_PCR_FM.model_functions_v2 INFO CMF -> start_time: 2000-01-01 00:00:00, current_time 2000-01-15 00:00:00, timestep 86400.0\n",
      "2018-02-28 16:33:51,808 - INFO - reading forcings for time 2000-01-15\n",
      "2018-02-28 16:33:51,808 pcrglobwb_bmi_v203.pcrglobwb INFO reading forcings for time 2000-01-15\n"
     ]
    },
    {
     "name": "stdout",
     "output_type": "stream",
     "text": [
      "sum runoff PCR * cellarea PCR: 2.248e+06\n"
     ]
    },
    {
     "name": "stderr",
     "output_type": "stream",
     "text": [
      "2018-02-28 16:33:52,012 - INFO - updating model to time 2000-01-15\n",
      "2018-02-28 16:33:52,012 pcrglobwb_bmi_v203.pcrglobwb INFO updating model to time 2000-01-15\n",
      "2018-02-28 16:33:52,900 - INFO - PCR -> start_time: 2000-01-01, current_time 2000-01-15, timestep 15\n",
      "2018-02-28 16:33:52,900 coupling_PCR_FM.model_functions_v2 INFO PCR -> start_time: 2000-01-01, current_time 2000-01-15, timestep 15\n",
      "2018-02-28 16:33:52,936 - INFO - CMF -> start_time: 2000-01-01 00:00:00, current_time 2000-01-16 00:00:00, timestep 86400.0\n",
      "2018-02-28 16:33:52,936 coupling_PCR_FM.model_functions_v2 INFO CMF -> start_time: 2000-01-01 00:00:00, current_time 2000-01-16 00:00:00, timestep 86400.0\n",
      "2018-02-28 16:33:52,943 - INFO - reading forcings for time 2000-01-16\n",
      "2018-02-28 16:33:52,943 pcrglobwb_bmi_v203.pcrglobwb INFO reading forcings for time 2000-01-16\n"
     ]
    },
    {
     "name": "stdout",
     "output_type": "stream",
     "text": [
      "sum runoff PCR * cellarea PCR: 2.251e+06\n"
     ]
    },
    {
     "name": "stderr",
     "output_type": "stream",
     "text": [
      "2018-02-28 16:33:53,144 - INFO - updating model to time 2000-01-16\n",
      "2018-02-28 16:33:53,144 pcrglobwb_bmi_v203.pcrglobwb INFO updating model to time 2000-01-16\n",
      "2018-02-28 16:33:54,010 - INFO - PCR -> start_time: 2000-01-01, current_time 2000-01-16, timestep 16\n",
      "2018-02-28 16:33:54,010 coupling_PCR_FM.model_functions_v2 INFO PCR -> start_time: 2000-01-01, current_time 2000-01-16, timestep 16\n",
      "2018-02-28 16:33:54,046 - INFO - CMF -> start_time: 2000-01-01 00:00:00, current_time 2000-01-17 00:00:00, timestep 86400.0\n",
      "2018-02-28 16:33:54,046 coupling_PCR_FM.model_functions_v2 INFO CMF -> start_time: 2000-01-01 00:00:00, current_time 2000-01-17 00:00:00, timestep 86400.0\n",
      "2018-02-28 16:33:54,053 - INFO - reading forcings for time 2000-01-17\n",
      "2018-02-28 16:33:54,053 pcrglobwb_bmi_v203.pcrglobwb INFO reading forcings for time 2000-01-17\n"
     ]
    },
    {
     "name": "stdout",
     "output_type": "stream",
     "text": [
      "sum runoff PCR * cellarea PCR: 3.738e+06\n"
     ]
    },
    {
     "name": "stderr",
     "output_type": "stream",
     "text": [
      "2018-02-28 16:33:54,257 - INFO - updating model to time 2000-01-17\n",
      "2018-02-28 16:33:54,257 pcrglobwb_bmi_v203.pcrglobwb INFO updating model to time 2000-01-17\n",
      "2018-02-28 16:33:55,179 - INFO - PCR -> start_time: 2000-01-01, current_time 2000-01-17, timestep 17\n",
      "2018-02-28 16:33:55,179 coupling_PCR_FM.model_functions_v2 INFO PCR -> start_time: 2000-01-01, current_time 2000-01-17, timestep 17\n",
      "2018-02-28 16:33:55,216 - INFO - CMF -> start_time: 2000-01-01 00:00:00, current_time 2000-01-18 00:00:00, timestep 86400.0\n",
      "2018-02-28 16:33:55,216 coupling_PCR_FM.model_functions_v2 INFO CMF -> start_time: 2000-01-01 00:00:00, current_time 2000-01-18 00:00:00, timestep 86400.0\n",
      "2018-02-28 16:33:55,224 - INFO - reading forcings for time 2000-01-18\n",
      "2018-02-28 16:33:55,224 pcrglobwb_bmi_v203.pcrglobwb INFO reading forcings for time 2000-01-18\n"
     ]
    },
    {
     "name": "stdout",
     "output_type": "stream",
     "text": [
      "sum runoff PCR * cellarea PCR: 1.271e+08\n"
     ]
    },
    {
     "name": "stderr",
     "output_type": "stream",
     "text": [
      "2018-02-28 16:33:55,435 - INFO - updating model to time 2000-01-18\n",
      "2018-02-28 16:33:55,435 pcrglobwb_bmi_v203.pcrglobwb INFO updating model to time 2000-01-18\n",
      "2018-02-28 16:33:56,330 - INFO - PCR -> start_time: 2000-01-01, current_time 2000-01-18, timestep 18\n",
      "2018-02-28 16:33:56,330 coupling_PCR_FM.model_functions_v2 INFO PCR -> start_time: 2000-01-01, current_time 2000-01-18, timestep 18\n",
      "2018-02-28 16:33:56,384 - INFO - CMF -> start_time: 2000-01-01 00:00:00, current_time 2000-01-19 00:00:00, timestep 86400.0\n",
      "2018-02-28 16:33:56,384 coupling_PCR_FM.model_functions_v2 INFO CMF -> start_time: 2000-01-01 00:00:00, current_time 2000-01-19 00:00:00, timestep 86400.0\n",
      "2018-02-28 16:33:56,393 - INFO - reading forcings for time 2000-01-19\n",
      "2018-02-28 16:33:56,393 pcrglobwb_bmi_v203.pcrglobwb INFO reading forcings for time 2000-01-19\n"
     ]
    },
    {
     "name": "stdout",
     "output_type": "stream",
     "text": [
      "sum runoff PCR * cellarea PCR: 1.238e+08\n"
     ]
    },
    {
     "name": "stderr",
     "output_type": "stream",
     "text": [
      "2018-02-28 16:33:56,616 - INFO - updating model to time 2000-01-19\n",
      "2018-02-28 16:33:56,616 pcrglobwb_bmi_v203.pcrglobwb INFO updating model to time 2000-01-19\n",
      "2018-02-28 16:33:57,531 - INFO - PCR -> start_time: 2000-01-01, current_time 2000-01-19, timestep 19\n",
      "2018-02-28 16:33:57,531 coupling_PCR_FM.model_functions_v2 INFO PCR -> start_time: 2000-01-01, current_time 2000-01-19, timestep 19\n",
      "2018-02-28 16:33:57,577 - INFO - CMF -> start_time: 2000-01-01 00:00:00, current_time 2000-01-20 00:00:00, timestep 86400.0\n",
      "2018-02-28 16:33:57,577 coupling_PCR_FM.model_functions_v2 INFO CMF -> start_time: 2000-01-01 00:00:00, current_time 2000-01-20 00:00:00, timestep 86400.0\n",
      "2018-02-28 16:33:57,584 - INFO - reading forcings for time 2000-01-20\n",
      "2018-02-28 16:33:57,584 pcrglobwb_bmi_v203.pcrglobwb INFO reading forcings for time 2000-01-20\n"
     ]
    },
    {
     "name": "stdout",
     "output_type": "stream",
     "text": [
      "sum runoff PCR * cellarea PCR: 2.303e+06\n"
     ]
    },
    {
     "name": "stderr",
     "output_type": "stream",
     "text": [
      "2018-02-28 16:33:57,805 - INFO - updating model to time 2000-01-20\n",
      "2018-02-28 16:33:57,805 pcrglobwb_bmi_v203.pcrglobwb INFO updating model to time 2000-01-20\n",
      "2018-02-28 16:33:58,845 - INFO - PCR -> start_time: 2000-01-01, current_time 2000-01-20, timestep 20\n",
      "2018-02-28 16:33:58,845 coupling_PCR_FM.model_functions_v2 INFO PCR -> start_time: 2000-01-01, current_time 2000-01-20, timestep 20\n",
      "2018-02-28 16:33:58,885 - INFO - CMF -> start_time: 2000-01-01 00:00:00, current_time 2000-01-21 00:00:00, timestep 86400.0\n",
      "2018-02-28 16:33:58,885 coupling_PCR_FM.model_functions_v2 INFO CMF -> start_time: 2000-01-01 00:00:00, current_time 2000-01-21 00:00:00, timestep 86400.0\n"
     ]
    },
    {
     "name": "stdout",
     "output_type": "stream",
     "text": [
      "sum runoff PCR * cellarea PCR: 3.528e+07\n"
     ]
    }
   ],
   "source": [
    "updateStep = 86400.\n",
    "\n",
    "# run coupled model for 2 timesteps\n",
    "for i in range(20):\n",
    "    PCR_bmi.update(1)\n",
    "    set_CMF_runoff()\n",
    "    CMF_bmi.update()\n",
    "#    set_DFM_discharge_and_update(updateStep) # kernel dies"
   ]
  },
  {
   "cell_type": "code",
   "execution_count": 14,
   "metadata": {},
   "outputs": [
    {
     "data": {
      "text/plain": [
       "<matplotlib.colorbar.Colorbar at 0x7ff41d217bd0>"
      ]
     },
     "execution_count": 14,
     "metadata": {},
     "output_type": "execute_result"
    },
    {
     "data": {
      "image/png": "[encoded data removed]",
      "text/plain": [
       "<matplotlib.figure.Figure at 0x7ff42be07050>"
      ]
     },
     "metadata": {},
     "output_type": "display_data"
    }
   ],
   "source": [
    "import matplotlib.pyplot as plt\n",
    "outflw = np.copy(CMF_bmi.get_var('outflw'))\n",
    "#outflw = np.copy(PCR_bmi.get_var('landSurfaceRunoff'))\n",
    "\n",
    "plt.imshow(outflw)\n",
    "plt.colorbar()"
   ]
  },
  {
   "cell_type": "code",
   "execution_count": 15,
   "metadata": {},
   "outputs": [
    {
     "name": "stdout",
     "output_type": "stream",
     "text": [
      "98312 53638\n"
     ]
    }
   ],
   "source": [
    "# no clue what q1 is and why it has much more entries than total cells in DFM model... ask Arthur?\n",
    "q1 = np.copy(DFM_bmi.get_var('q1'))\n",
    "print len(q1), len(area_all)"
   ]
  },
  {
   "cell_type": "code",
   "execution_count": 16,
   "metadata": {},
   "outputs": [
    {
     "name": "stderr",
     "output_type": "stream",
     "text": [
      "2018-02-28 16:33:59,218 - INFO - NULL pointer returned\n",
      "2018-02-28 16:33:59,218 bmi.wrapper INFO NULL pointer returned\n"
     ]
    },
    {
     "data": {
      "text/plain": [
       "array(None, dtype=object)"
      ]
     },
     "execution_count": 16,
     "metadata": {},
     "output_type": "execute_result"
    }
   ],
   "source": [
    "# there is a variable qtotal_1d2d but it returns a NULL pointer for me... different for you?\n",
    "DFM_bmi.get_var('qtotal_1d2d')"
   ]
  },
  {
   "cell_type": "markdown",
   "metadata": {},
   "source": [
    "## Finalize models"
   ]
  },
  {
   "cell_type": "code",
   "execution_count": 17,
   "metadata": {},
   "outputs": [
    {
     "name": "stderr",
     "output_type": "stream",
     "text": [
      "2018-02-28 16:33:59,244 - INFO - cd /home/ikeuchi/Share/GLOFRIM/glofrim\n",
      "2018-02-28 16:33:59,244 bmi.wrapper INFO cd /home/ikeuchi/Share/GLOFRIM/glofrim\n",
      "2018-02-28 16:33:59,256 - INFO - cd /home/ikeuchi/Share/GLOFRIM/glofrim\n",
      "2018-02-28 16:33:59,256 bmi.wrapper INFO cd /home/ikeuchi/Share/GLOFRIM/glofrim\n"
     ]
    }
   ],
   "source": [
    "PCR_bmi.finalize()\n",
    "CMF_bmi.finalize()\n",
    "DFM_bmi.finalize()\n"
   ]
  }
 ],
 "metadata": {
  "anaconda-cloud": {},
  "kernelspec": {
   "display_name": "Python 2",
   "language": "python",
   "name": "python2"
  },
  "language_info": {
   "codemirror_mode": {
    "name": "ipython",
    "version": 2
   },
   "file_extension": ".py",
   "mimetype": "text/x-python",
   "name": "python",
   "nbconvert_exporter": "python",
   "pygments_lexer": "ipython2",
   "version": "2.7.14"
  }
 },
 "nbformat": 4,
 "nbformat_minor": 2
}
