{
 "cells": [
  {
   "cell_type": "code",
   "execution_count": 1,
   "metadata": {},
   "outputs": [],
   "source": [
    "%matplotlib inline\n",
    "import netCDF4\n",
    "import rasterio\n",
    "import os\n",
    "from datetime import datetime\n",
    "import numpy as np\n",
    "import matplotlib.pyplot as plt"
   ]
  },
  {
   "cell_type": "code",
   "execution_count": 2,
   "metadata": {},
   "outputs": [],
   "source": [
    "# local libraries\n",
    "from coupling_PCR_FM.model_functions_v2 import PCR_model, CMF_model, DFM_model\n",
    "from coupling_PCR_FM.utils import config_to_dict\n",
    "%config Application.log_level=\"INFO\""
   ]
  },
  {
   "cell_type": "code",
   "execution_count": 3,
   "metadata": {},
   "outputs": [],
   "source": [
    "# IMPORT MODEL SETTINGS FROM INI-FILE\n",
    "argv1 = r'default_rename.set'\n",
    "argv2 = r'paths.env'\n",
    "\n",
    "# parse set/ini-file with central/general settings for coupling framework\n",
    "config = config_to_dict(argv1)\n",
    "# parse env-file for user-specific paths and environmental variables\n",
    "envs = config_to_dict(argv2)\n",
    "# combine\n",
    "config.update(envs)\n",
    "options = config\n",
    "# parse dates\n",
    "start_date = datetime.strptime(options['numerical_settings']['startTime'], '%Y-%m-%d')\n",
    "end_date = datetime.strptime(options['numerical_settings']['endTime'], '%Y-%m-%d')"
   ]
  },
  {
   "cell_type": "code",
   "execution_count": 4,
   "metadata": {},
   "outputs": [
    {
     "name": "stdout",
     "output_type": "stream",
     "text": [
      "/home/jannis/PhD/code/GLOFRIMplusCAMA/output30min/\n",
      "/home/jannis/PhD/code/GLOFRIMplusCAMA/glofrim\n"
     ]
    }
   ],
   "source": [
    "# setup output dir\n",
    "cwd = os.getcwd() # note: this get changed by pcr initialization later on\n",
    "out_dir = options['PCRpaths']['outputDirectoryPCR']\n",
    "if not os.path.isdir(out_dir):\n",
    "    os.mkdir(out_dir)\n",
    "print(out_dir)\n",
    "print(cwd)"
   ]
  },
  {
   "cell_type": "markdown",
   "metadata": {},
   "source": [
    "## create PCR model BMI object"
   ]
  },
  {
   "cell_type": "code",
   "execution_count": 5,
   "metadata": {},
   "outputs": [
    {
     "name": "stdout",
     "output_type": "stream",
     "text": [
      "/home/jannis/PhD/code/GLOFRIMplusCAMA/glofrim/test_Elbe/PCR_Elbe/input30min/\n",
      "/home/jannis/PhD/code/GLOFRIMplusCAMA/glofrim/test_Elbe/PCR_Elbe/setup_PCR_30min_Elbe.ini\n",
      "/home/jannis/PhD/code/GLOFRIMplusCAMA/output30min/PCR\n"
     ]
    }
   ],
   "source": [
    "PCR_config_fn = os.path.join(cwd, options['hydrologic_model']['config_dir'], options['hydrologic_model']['config_file'])\n",
    "PCR_in_dir = options['PCRpaths']['inputDirectoryPCR']\n",
    "PCR_out_dir = os.path.join(out_dir, 'PCR')\n",
    "print(PCR_in_dir)\n",
    "print(PCR_config_fn)\n",
    "print(PCR_out_dir)\n",
    "\n",
    "PCR_bmi = PCR_model(PCR_config_fn, PCR_in_dir, PCR_out_dir,\n",
    "                            start_date, end_date,)"
   ]
  },
  {
   "cell_type": "markdown",
   "metadata": {},
   "source": [
    "## create CMF model BMI object"
   ]
  },
  {
   "cell_type": "code",
   "execution_count": 6,
   "metadata": {},
   "outputs": [
    {
     "name": "stderr",
     "output_type": "stream",
     "text": [
      "2018-02-28 12:14:04,491 - INFO - Loading library from path /home/jannis/PhD/code/GLOFRIMplusCAMA/glofrim/cama-flood_bmi/src/libcama.so\n"
     ]
    },
    {
     "name": "stdout",
     "output_type": "stream",
     "text": [
      "/home/jannis/PhD/code/GLOFRIMplusCAMA/glofrim/cama-flood_bmi/src/libcama.so\n"
     ]
    }
   ],
   "source": [
    "CMF_engine = os.path.join(cwd, options['CMF_engine']['CMF_path'])\n",
    "print(CMF_engine)\n",
    "CMF_model_dir = os.path.join(cwd, options['routing_model']['model_dir'])\n",
    "CMF_config_fn = os.path.join(CMF_model_dir, options['routing_model']['model_file'])\n",
    "CMF_out_dir = os.path.join(out_dir, 'CMF')\n",
    "     \n",
    "CMF_bmi = CMF_model(CMF_engine, CMF_config_fn, CMF_model_dir, CMF_out_dir,\n",
    "                         start_date, end_date, dt=86400)\n"
   ]
  },
  {
   "cell_type": "markdown",
   "metadata": {},
   "source": [
    "## create DFM model BMI object"
   ]
  },
  {
   "cell_type": "code",
   "execution_count": 7,
   "metadata": {},
   "outputs": [
    {
     "name": "stderr",
     "output_type": "stream",
     "text": [
      "2018-02-28 12:14:04,592 - INFO - Loading library from path /home/jannis/Programmes/DFLOWFM/lib/libdflowfm.so\n"
     ]
    },
    {
     "name": "stdout",
     "output_type": "stream",
     "text": [
      "/home/jannis/Programmes/DFLOWFM/lib/libdflowfm.so\n",
      "/home/jannis/PhD/code/GLOFRIMplusCAMA/glofrim/test_Elbe/DFM_Elbe/\n",
      "/home/jannis/PhD/code/GLOFRIMplusCAMA/glofrim/test_Elbe/DFM_Elbe/Elbe_1way_1d2dFM_400m_3200m.mdu\n",
      "/home/jannis/PhD/code/GLOFRIMplusCAMA/output30min/DFM\n"
     ]
    }
   ],
   "source": [
    "DFM_engine = os.path.join(cwd, options['DFM_engine']['DFM_path'])\n",
    "DFM_model_dir = os.path.join(cwd, options['hydrodynamic_model']['model_dir'])\n",
    "DFM_config_fn = os.path.join(DFM_model_dir, options['hydrodynamic_model']['model_file'])\n",
    "DFM_out_dir = os.path.join(out_dir, 'DFM')\n",
    "print(DFM_engine)\n",
    "print(DFM_model_dir)\n",
    "print(DFM_config_fn)\n",
    "print(DFM_out_dir)\n",
    "\n",
    "\n",
    "DFM_bmi = DFM_model(DFM_engine, DFM_config_fn, DFM_model_dir, DFM_out_dir,\n",
    "                              start_date, end_date, dt=86400.)"
   ]
  },
  {
   "cell_type": "markdown",
   "metadata": {},
   "source": [
    "## intitialize DFM model"
   ]
  },
  {
   "cell_type": "code",
   "execution_count": 8,
   "metadata": {},
   "outputs": [
    {
     "name": "stderr",
     "output_type": "stream",
     "text": [
      "2018-02-28 12:14:04,722 - INFO - Ini file for DFM written to /home/jannis/PhD/code/GLOFRIMplusCAMA/output30min/DFM/Elbe_1way_1d2dFM_400m_3200m.mdu\n",
      "2018-02-28 12:14:04,723 - INFO - Loading model /home/jannis/PhD/code/GLOFRIMplusCAMA/output30min/DFM/Elbe_1way_1d2dFM_400m_3200m.mdu in directory /home/jannis/PhD/code/GLOFRIMplusCAMA/output30min/DFM\n",
      "2018-02-28 12:14:27,019 - INFO - DFM initialized\n"
     ]
    }
   ],
   "source": [
    "# initialize DFM first to expose model coordinates via BMI\n",
    "DFM_bmi.initialize()"
   ]
  },
  {
   "cell_type": "markdown",
   "metadata": {},
   "source": [
    "## couple grids based on CMF inpmat file"
   ]
  },
  {
   "cell_type": "code",
   "execution_count": 9,
   "metadata": {},
   "outputs": [
    {
     "name": "stderr",
     "output_type": "stream",
     "text": [
      "2018-02-28 12:14:27,024 - INFO - Getting PCR model grid parameters.\n",
      "2018-02-28 12:14:27,028 - INFO - Getting CMF model grid parameters.\n",
      "2018-02-28 12:14:27,030 - INFO - Coupling PCR grid to CMF grid.\n",
      "2018-02-28 12:14:27,030 - INFO - ./generate_inpmat 0.5 7.0 17.0 55.0 48.0 NtoS\n",
      "2018-02-28 12:14:27,131 - INFO - Editing PCR ldd grid to deactivate routing in coupled cells.\n"
     ]
    }
   ],
   "source": [
    "# couple grids\n",
    "PCR_bmi.couple_grid_to_grid(CMF_bmi)"
   ]
  },
  {
   "cell_type": "markdown",
   "metadata": {},
   "source": [
    "## couple grids based on 1d DFM indices"
   ]
  },
  {
   "cell_type": "markdown",
   "metadata": {},
   "source": [
    "Couple external 1d coordinates to internal model 2d grid. \n",
    "\n",
    "The model **ldd grid is also deactivated** at coupled cells.\n",
    "\n",
    "**Note** that this should be excecuted before the CMF model is initalized as the lddl grid modification is done offline!"
   ]
  },
  {
   "cell_type": "code",
   "execution_count": 10,
   "metadata": {},
   "outputs": [
    {
     "name": "stderr",
     "output_type": "stream",
     "text": [
      "2018-02-28 12:14:27,138 - INFO - Getting DFM model coordinates.\n",
      "2018-02-28 12:14:27,171 - INFO - Coupling CMF grid to DFM 1D nodes.\n",
      "2018-02-28 12:14:27,174 - INFO - Getting CMF model indices for xy coordinates.\n",
      "2018-02-28 12:14:27,245 - INFO - Getting fraction of coupled 1d nodes based on area.\n",
      "2018-02-28 12:14:27,257 - INFO - Editing CMF nextxy grid to deactivate routing in coupled cells.\n"
     ]
    }
   ],
   "source": [
    "# get coupled dictionaries\n",
    "CMF_bmi.couple_grid_to_1d(DFM_bmi)"
   ]
  },
  {
   "cell_type": "markdown",
   "metadata": {},
   "source": [
    "## initialize CMF and PCR models"
   ]
  },
  {
   "cell_type": "code",
   "execution_count": 11,
   "metadata": {
    "scrolled": true
   },
   "outputs": [
    {
     "name": "stderr",
     "output_type": "stream",
     "text": [
      "2018-02-28 12:14:27,282 - INFO - removing tmp file diminfo_tmp.txt from model data dir\n",
      "2018-02-28 12:14:27,283 - INFO - removing tmp file nextxy_tmp.bin from model data dir\n",
      "2018-02-28 12:14:27,290 - INFO - removing tmp file inpmat-tmp.txt from model data dir\n",
      "2018-02-28 12:14:27,291 - INFO - removing tmp file inpmat-tmp.bin from model data dir\n",
      "2018-02-28 12:14:27,294 - INFO - Ini file for CMF written to /home/jannis/PhD/code/GLOFRIMplusCAMA/output30min/CMF/input_flood.nam\n",
      "2018-02-28 12:14:27,294 - INFO - Loading model /home/jannis/PhD/code/GLOFRIMplusCAMA/output30min/CMF/input_flood.nam in directory /home/jannis/PhD/code/GLOFRIMplusCAMA/output30min/CMF\n",
      "2018-02-28 12:14:27,297 - INFO - CMF initialized\n",
      "2018-02-28 12:14:27,302 - INFO - Ini file for PCR written to /home/jannis/PhD/code/GLOFRIMplusCAMA/output30min/PCR/setup_PCR_30min_Elbe.ini\n",
      "2018-02-28 12:14:27,309 - INFO - Model run started at 2018-02-28 12:14:27.302970\n",
      "2018-02-28 12:14:27,309 pcrglobwb_bmi_v203.configuration INFO Model run started at 2018-02-28 12:14:27.302970\n",
      "2018-02-28 12:14:27,312 - INFO - Logging output to /home/jannis/PhD/code/GLOFRIMplusCAMA/output30min/PCR/log/setup_PCR_30min_Elbe.ini_2018-02-28T12:14:27.302970.log\n",
      "2018-02-28 12:14:27,312 pcrglobwb_bmi_v203.configuration INFO Logging output to /home/jannis/PhD/code/GLOFRIMplusCAMA/output30min/PCR/log/setup_PCR_30min_Elbe.ini_2018-02-28T12:14:27.302970.log\n",
      "2018-02-28 12:14:27,314 - INFO - Note that avgSurfaceWaterInputLongIni is not used and not needed.\n",
      "2018-02-28 12:14:27,314 pcrglobwb_bmi_v203.configuration INFO Note that avgSurfaceWaterInputLongIni is not used and not needed.\n",
      "2018-02-28 12:14:27,315 - INFO - The initial condition \"subDischargeIni\" is not defined. Either \"avgDischargeShortIni\" or \"avgDischargeLongIni\" is used in this run. Note that the \"subDischargeIni\" is only relevant if kinematic wave approaches are used.\n",
      "2018-02-28 12:14:27,315 pcrglobwb_bmi_v203.configuration INFO The initial condition \"subDischargeIni\" is not defined. Either \"avgDischargeShortIni\" or \"avgDischargeLongIni\" is used in this run. Note that the \"subDischargeIni\" is only relevant if kinematic wave approaches are used.\n",
      "2018-02-28 12:14:27,317 - INFO - number of time steps :10\n",
      "2018-02-28 12:14:27,317 pcrglobwb_bmi_v203.currTimeStep INFO number of time steps :10\n",
      "2018-02-28 12:14:27,778 - INFO - No forcing downscaling is implemented.\n",
      "2018-02-28 12:14:27,778 pcrglobwb_bmi_v203.meteo INFO No forcing downscaling is implemented.\n",
      "2018-02-28 12:14:42,347 - INFO - Adjusting some model parameters based on given values in the ini/configuration file.\n",
      "2018-02-28 12:14:42,347 pcrglobwb_bmi_v203.deterministic_runner INFO Adjusting some model parameters based on given values in the ini/configuration file.\n",
      "2018-02-28 12:14:42,350 - INFO - \n",
      "\n",
      "Multiplier values used: \n",
      "For minSoilDepthFrac           : 1.0\n",
      "For kSat (log-scale)           : 0.0\n",
      "For recessionCoeff (log-scale) : 1.0\n",
      "For storCap                    : 1.25\n",
      "For degreeDayFactor            : 1.0\n",
      "For refPotET                   : 1.0\n",
      "\n",
      "2018-02-28 12:14:42,350 pcrglobwb_bmi_v203.deterministic_runner INFO \n",
      "\n",
      "Multiplier values used: \n",
      "For minSoilDepthFrac           : 1.0\n",
      "For kSat (log-scale)           : 0.0\n",
      "For recessionCoeff (log-scale) : 1.0\n",
      "For storCap                    : 1.25\n",
      "For degreeDayFactor            : 1.0\n",
      "For refPotET                   : 1.0\n",
      "\n",
      "2018-02-28 12:14:42,356 - INFO - Model initialized. Spin-up might be required.\n",
      "2018-02-28 12:14:42,356 pcrglobwb_bmi_v203.pcrglobwb_bmi INFO Model initialized. Spin-up might be required.\n",
      "2018-02-28 12:14:42,360 - INFO - PCR initialized\n",
      "2018-02-28 12:14:42,360 coupling_PCR_FM.model_functions_v2 INFO PCR initialized\n"
     ]
    }
   ],
   "source": [
    "# initialize CMF model after nextxy had been adapted\n",
    "CMF_bmi.initialize()\n",
    "# initialize model after ldd has been modified\n",
    "PCR_bmi.initialize()"
   ]
  },
  {
   "cell_type": "markdown",
   "metadata": {},
   "source": [
    "## define exchange of values in update states function"
   ]
  },
  {
   "cell_type": "code",
   "execution_count": 12,
   "metadata": {},
   "outputs": [],
   "source": [
    "# determine area fraction for volume distribution\n",
    "DFMidx = DFM_bmi.coupled_idx\n",
    "CMFidx = CMF_bmi.coupled_idx\n",
    "area_all = np.copy(DFM_bmi.get_var('ba'))\n",
    "area_1d = area_all[DFMidx]\n",
    "\n",
    "def calc_PCR_volume(runoff):\n",
    "    cellarea = PCR_bmi.get_var('cellArea')\n",
    "    cellarea = np.where(np.isnan(cellarea), 0, cellarea)\n",
    "    PCR_volume = runoff * cellarea\n",
    "    tot_PCR_volume = np.sum(PCR_volume)\n",
    "    print 'sum runoff PCR * cellarea PCR: %.3e' % tot_PCR_volume\n",
    "    return \n",
    "\n",
    "def set_CMF_runoff():\n",
    "    \"\"\"\"\n",
    "    coupling runoff between CMFan PCR model\n",
    "    \"\"\"\n",
    "    runoff = np.copy(PCR_bmi.get_var('landSurfaceRunoff'))\n",
    "    runoff = np.where(np.isnan(runoff), 0, runoff)\n",
    "    calc_PCR_volume(runoff)\n",
    "    CMF_bmi.set_var(\"runoff\", runoff)\n",
    "    \n",
    "def set_DFM_discharge_and_update(updateStep):\n",
    "    '''\n",
    "    as the routing is turned off for coupled cells, only local discharge (=runoff) is passed on for coupled cells without an \n",
    "    upstream cell\n",
    "    '''\n",
    "    \n",
    "    V_DFM_t0 = np.copy(DFM_bmi.get_var('vol1'))\n",
    "    print 'V in DFM before adding Q from CMF: %.3e' % np.sum(V_DFM_t0)\n",
    "    \n",
    "    discharge_all = np.copy(CMF_bmi.get_var('outflw'))\n",
    "    discharge = discharge_all[CMFidx] * CMF_bmi.options['dt'] #[m3/dt]\n",
    "    delta_water_depth_dfm = discharge * CMF_bmi.coupled_area_frac / area_1d # [m/dt]\n",
    "    DFM_bmi.set_var_index('rain', DFMidx, delta_water_depth_dfm)\n",
    "    \n",
    "    tot_Q_CMF2DFM = np.sum(discharge)\n",
    "    print 'added V from CFM: %.3e' % tot_Q_CMF2DFM\n",
    "    \n",
    "    DFM_bmi.update(updateStep)\n",
    "    \n",
    "    V_DFM_t1 = np.copy(DFM_bmi.get_var('vol1'))\n",
    "    print 'V in DFM after adding Q and update: %.3e' % np.sum(V_DFM_t1)\n",
    "    d_V_DFM = np.sum(V_DFM_t1) - np.sum(V_DFM_t0)\n",
    "    print 'increase of V DFM: %.3e' % d_V_DFM\n",
    "    "
   ]
  },
  {
   "cell_type": "markdown",
   "metadata": {},
   "source": [
    "## run coupled CMF - DFM model\n",
    "# why is discharge from CMF negative???"
   ]
  },
  {
   "cell_type": "code",
   "execution_count": 13,
   "metadata": {
    "scrolled": true
   },
   "outputs": [
    {
     "name": "stderr",
     "output_type": "stream",
     "text": [
      "2018-02-28 12:14:42,546 - INFO - reading forcings for time 2000-01-01\n",
      "2018-02-28 12:14:42,546 pcrglobwb_bmi_v203.pcrglobwb INFO reading forcings for time 2000-01-01\n",
      "2018-02-28 12:14:42,842 - INFO - updating model to time 2000-01-01\n",
      "2018-02-28 12:14:42,842 pcrglobwb_bmi_v203.pcrglobwb INFO updating model to time 2000-01-01\n",
      "2018-02-28 12:14:45,135 - INFO - PCR -> start_time: 2000-01-01, current_time 2000-01-01, timestep 1\n",
      "2018-02-28 12:14:45,135 coupling_PCR_FM.model_functions_v2 INFO PCR -> start_time: 2000-01-01, current_time 2000-01-01, timestep 1\n",
      "2018-02-28 12:14:45,167 - INFO - CMF -> start_time: 2000-01-01 00:00:00, current_time 2000-01-02 00:00:00, timestep 86400.0\n",
      "2018-02-28 12:14:45,167 coupling_PCR_FM.model_functions_v2 INFO CMF -> start_time: 2000-01-01 00:00:00, current_time 2000-01-02 00:00:00, timestep 86400.0\n"
     ]
    },
    {
     "name": "stdout",
     "output_type": "stream",
     "text": [
      "sum runoff PCR * cellarea PCR: 2.313e+07\n",
      "V in DFM before adding Q from CMF: 4.680e+09\n",
      "added V from CFM: -6.001e+09\n"
     ]
    },
    {
     "name": "stderr",
     "output_type": "stream",
     "text": [
      "2018-02-28 12:14:53,683 - INFO - DFM -> start_time: 0.0, current_time 86400.0, timestep 86400.0\n",
      "2018-02-28 12:14:53,683 coupling_PCR_FM.model_functions_v2 INFO DFM -> start_time: 0.0, current_time 86400.0, timestep 86400.0\n",
      "2018-02-28 12:14:53,718 - INFO - reading forcings for time 2000-01-02\n",
      "2018-02-28 12:14:53,718 pcrglobwb_bmi_v203.pcrglobwb INFO reading forcings for time 2000-01-02\n"
     ]
    },
    {
     "name": "stdout",
     "output_type": "stream",
     "text": [
      "V in DFM after adding Q and update: 4.680e+09\n",
      "increase of V DFM: 5.527e+05\n"
     ]
    },
    {
     "name": "stderr",
     "output_type": "stream",
     "text": [
      "2018-02-28 12:14:54,173 - INFO - updating model to time 2000-01-02\n",
      "2018-02-28 12:14:54,173 pcrglobwb_bmi_v203.pcrglobwb INFO updating model to time 2000-01-02\n",
      "2018-02-28 12:14:55,374 - INFO - PCR -> start_time: 2000-01-01, current_time 2000-01-02, timestep 2\n",
      "2018-02-28 12:14:55,374 coupling_PCR_FM.model_functions_v2 INFO PCR -> start_time: 2000-01-01, current_time 2000-01-02, timestep 2\n",
      "2018-02-28 12:14:55,483 - INFO - CMF -> start_time: 2000-01-01 00:00:00, current_time 2000-01-03 00:00:00, timestep 86400.0\n",
      "2018-02-28 12:14:55,483 coupling_PCR_FM.model_functions_v2 INFO CMF -> start_time: 2000-01-01 00:00:00, current_time 2000-01-03 00:00:00, timestep 86400.0\n"
     ]
    },
    {
     "name": "stdout",
     "output_type": "stream",
     "text": [
      "sum runoff PCR * cellarea PCR: 3.024e+07\n",
      "V in DFM before adding Q from CMF: 4.680e+09\n",
      "added V from CFM: -3.299e+09\n"
     ]
    },
    {
     "name": "stderr",
     "output_type": "stream",
     "text": [
      "2018-02-28 12:14:58,868 - INFO - DFM -> start_time: 0.0, current_time 172800.0, timestep 86400.0\n",
      "2018-02-28 12:14:58,868 coupling_PCR_FM.model_functions_v2 INFO DFM -> start_time: 0.0, current_time 172800.0, timestep 86400.0\n"
     ]
    },
    {
     "name": "stdout",
     "output_type": "stream",
     "text": [
      "V in DFM after adding Q and update: 4.684e+09\n",
      "increase of V DFM: 3.313e+06\n"
     ]
    }
   ],
   "source": [
    "updateStep = 86400.\n",
    "\n",
    "# run coupled model for 2 timesteps\n",
    "for i in range(2):\n",
    "    PCR_bmi.update(1)\n",
    "    set_CMF_runoff()\n",
    "    CMF_bmi.update()\n",
    "    set_DFM_discharge_and_update(updateStep)"
   ]
  },
  {
   "cell_type": "code",
   "execution_count": 14,
   "metadata": {},
   "outputs": [
    {
     "name": "stdout",
     "output_type": "stream",
     "text": [
      "98312 53638\n"
     ]
    }
   ],
   "source": [
    "# no clue what q1 is and why it has much more entries than total cells in DFM model... ask Arthur?\n",
    "q1 = np.copy(DFM_bmi.get_var('q1'))\n",
    "print len(q1), len(area_all)"
   ]
  },
  {
   "cell_type": "code",
   "execution_count": 15,
   "metadata": {},
   "outputs": [
    {
     "name": "stderr",
     "output_type": "stream",
     "text": [
      "2018-02-28 12:14:59,042 - INFO - NULL pointer returned\n",
      "2018-02-28 12:14:59,042 bmi.wrapper INFO NULL pointer returned\n"
     ]
    },
    {
     "data": {
      "text/plain": [
       "array(None, dtype=object)"
      ]
     },
     "execution_count": 15,
     "metadata": {},
     "output_type": "execute_result"
    }
   ],
   "source": [
    "# there is a variable qtotal_1d2d but it returns a NULL pointer for me... different for you?\n",
    "DFM_bmi.get_var('qtotal_1d2d')"
   ]
  },
  {
   "cell_type": "markdown",
   "metadata": {},
   "source": [
    "## Finalize models"
   ]
  },
  {
   "cell_type": "code",
   "execution_count": 16,
   "metadata": {},
   "outputs": [
    {
     "name": "stderr",
     "output_type": "stream",
     "text": [
      "2018-02-28 12:14:59,156 - INFO - cd /home/jannis/PhD/code/GLOFRIMplusCAMA/glofrim\n",
      "2018-02-28 12:14:59,156 bmi.wrapper INFO cd /home/jannis/PhD/code/GLOFRIMplusCAMA/glofrim\n",
      "2018-02-28 12:14:59,160 - INFO - cd /home/jannis/PhD/code/GLOFRIMplusCAMA/glofrim\n",
      "2018-02-28 12:14:59,160 bmi.wrapper INFO cd /home/jannis/PhD/code/GLOFRIMplusCAMA/glofrim\n"
     ]
    }
   ],
   "source": [
    "PCR_bmi.finalize()\n",
    "CMF_bmi.finalize()\n",
    "DFM_bmi.finalize()\n"
   ]
  }
 ],
 "metadata": {
  "anaconda-cloud": {},
  "kernelspec": {
   "display_name": "Python [default]",
   "language": "python",
   "name": "python2"
  },
  "language_info": {
   "codemirror_mode": {
    "name": "ipython",
    "version": 2
   },
   "file_extension": ".py",
   "mimetype": "text/x-python",
   "name": "python",
   "nbconvert_exporter": "python",
   "pygments_lexer": "ipython2",
   "version": "2.7.12"
  }
 },
 "nbformat": 4,
 "nbformat_minor": 2
}
