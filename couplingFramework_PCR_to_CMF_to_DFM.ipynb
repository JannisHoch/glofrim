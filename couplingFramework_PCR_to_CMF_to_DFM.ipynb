{
 "cells": [
  {
   "cell_type": "code",
   "execution_count": null,
   "metadata": {},
   "outputs": [],
   "source": [
    "import rasterio\n",
    "import os\n",
    "from datetime import datetime\n",
    "import numpy as np"
   ]
  },
  {
   "cell_type": "code",
   "execution_count": null,
   "metadata": {},
   "outputs": [],
   "source": [
    "# local libraries\n",
    "from coupling_PCR_FM.model_functions_v2 import PCR_model, CMF_model, DFM_model\n",
    "from coupling_PCR_FM.utils import config_to_dict\n",
    "%config Application.log_level=\"INFO\""
   ]
  },
  {
   "cell_type": "code",
   "execution_count": null,
   "metadata": {},
   "outputs": [],
   "source": [
    "# IMPORT MODEL SETTINGS FROM INI-FILE\n",
    "argv1 = r'default_rename.set'\n",
    "argv2 = r'paths.env'\n",
    "\n",
    "# parse set/ini-file with central/general settings for coupling framework\n",
    "config = config_to_dict(argv1)\n",
    "# parse env-file for user-specific paths and environmental variables\n",
    "envs = config_to_dict(argv2)\n",
    "# combine\n",
    "config.update(envs)\n",
    "options = config\n",
    "# parse dates\n",
    "start_date = datetime.strptime(options['numerical_settings']['startTime'], '%Y-%m-%d')\n",
    "end_date = datetime.strptime(options['numerical_settings']['endTime'], '%Y-%m-%d')"
   ]
  },
  {
   "cell_type": "code",
   "execution_count": null,
   "metadata": {},
   "outputs": [],
   "source": [
    "# setup output dir\n",
    "cwd = os.getcwd() # note: this get changed by pcr initialization later on\n",
    "out_dir = options['PCRpaths']['outputDirectoryPCR']\n",
    "if not os.path.isdir(out_dir):\n",
    "    os.mkdir(out_dir)\n",
    "print(out_dir)\n",
    "print(cwd)"
   ]
  },
  {
   "cell_type": "markdown",
   "metadata": {},
   "source": [
    "## create PCR model BMI object"
   ]
  },
  {
   "cell_type": "code",
   "execution_count": null,
   "metadata": {},
   "outputs": [],
   "source": [
    "PCR_config_fn = os.path.join(cwd, options['hydrologic_model']['config_dir'], options['hydrologic_model']['config_file'])\n",
    "PCR_in_dir = options['PCRpaths']['inputDirectoryPCR']\n",
    "PCR_out_dir = os.path.join(out_dir, 'PCR')\n",
    "print(PCR_in_dir)\n",
    "print(PCR_config_fn)\n",
    "print(PCR_out_dir)\n",
    "\n",
    "PCR_bmi = PCR_model(PCR_config_fn, PCR_in_dir, PCR_out_dir,\n",
    "                            start_date, end_date,)"
   ]
  },
  {
   "cell_type": "markdown",
   "metadata": {},
   "source": [
    "## create CMF model BMI object"
   ]
  },
  {
   "cell_type": "code",
   "execution_count": null,
   "metadata": {},
   "outputs": [],
   "source": [
    "CMF_engine = os.path.join(cwd, options['CMF_engine']['CMF_path'])\n",
    "print(CMF_engine)\n",
    "CMF_model_dir = os.path.join(cwd, options['routing_model']['model_dir'])\n",
    "CMF_config_fn = os.path.join(CMF_model_dir, options['routing_model']['model_file'])\n",
    "CMF_out_dir = os.path.join(out_dir, 'CMF')\n",
    "     \n",
    "CMF_bmi = CMF_model(CMF_engine, CMF_config_fn, CMF_model_dir, CMF_out_dir,\n",
    "                         start_date, end_date, dt=86400)\n"
   ]
  },
  {
   "cell_type": "markdown",
   "metadata": {},
   "source": [
    "## create DFM model BMI object"
   ]
  },
  {
   "cell_type": "code",
   "execution_count": null,
   "metadata": {},
   "outputs": [],
   "source": [
    "DFM_engine = os.path.join(cwd, options['DFM_engine']['DFM_path'])\n",
    "DFM_model_dir = os.path.join(cwd, options['hydrodynamic_model']['model_dir'])\n",
    "DFM_config_fn = os.path.join(DFM_model_dir, options['hydrodynamic_model']['model_file'])\n",
    "DFM_out_dir = os.path.join(out_dir, 'DFM')\n",
    "print(DFM_engine)\n",
    "print(DFM_model_dir)\n",
    "print(DFM_config_fn)\n",
    "print(DFM_out_dir)\n",
    "\n",
    "\n",
    "DFM_bmi = DFM_model(DFM_engine, DFM_config_fn, DFM_model_dir, DFM_out_dir,\n",
    "                              start_date, end_date, dt=86400.)"
   ]
  },
  {
   "cell_type": "markdown",
   "metadata": {},
   "source": [
    "## intitialize DFM model"
   ]
  },
  {
   "cell_type": "code",
   "execution_count": null,
   "metadata": {},
   "outputs": [],
   "source": [
    "# initialize DFM first to expose model coordinates via BMI\n",
    "DFM_bmi.initialize()"
   ]
  },
  {
   "cell_type": "markdown",
   "metadata": {},
   "source": [
    "## couple grids based on CMF inpmat file"
   ]
  },
  {
   "cell_type": "code",
   "execution_count": null,
   "metadata": {
    "scrolled": true
   },
   "outputs": [],
   "source": [
    "# couple grids\n",
    "PCR_bmi.couple_grid_to_grid(CMF_bmi)"
   ]
  },
  {
   "cell_type": "markdown",
   "metadata": {},
   "source": [
    "## couple CMF to DFM based on 1d DFM indices"
   ]
  },
  {
   "cell_type": "markdown",
   "metadata": {},
   "source": [
    "Couple external 1d coordinates to internal model 2d grid. \n",
    "\n",
    "From the green cells with value 1 (green) runoff is couled for the cells with value 2 (yellow) discharge is coupled"
   ]
  },
  {
   "cell_type": "code",
   "execution_count": null,
   "metadata": {},
   "outputs": [],
   "source": [
    "%matplotlib inline\n",
    "import matplotlib.pyplot as plt\n",
    "\n",
    "# get coupled dictionaries\n",
    "CMF_bmi.couple_grid_to_1d(DFM_bmi)\n",
    "\n",
    "fig = plt.figure(figsize=(10, 5))\n",
    "b=fig.add_subplot(1,1,1)\n",
    "plt.imshow(CMF_bmi.coupled_mask, vmin=0, vmax=2)\n",
    "b.set_title('CMF coupled to DFM mask')"
   ]
  },
  {
   "cell_type": "markdown",
   "metadata": {},
   "source": [
    "note there is a difference in DFM nodes and DFM coupled nodes as some are in unit catchments that are ignored by CMF. The runoff from PCR is however mass-conservative in the CMF runoff input."
   ]
  },
  {
   "cell_type": "code",
   "execution_count": null,
   "metadata": {},
   "outputs": [],
   "source": [
    "len(DFM_bmi.model_1d_coords), len(DFM_bmi.coupled_idx)"
   ]
  },
  {
   "cell_type": "markdown",
   "metadata": {},
   "source": [
    "## initialize CMF and PCR models"
   ]
  },
  {
   "cell_type": "code",
   "execution_count": null,
   "metadata": {
    "scrolled": true
   },
   "outputs": [],
   "source": [
    "# initialize CMF model after nextxy had been adapted\n",
    "CMF_bmi.initialize()\n",
    "# initialize model after ldd has been modified\n",
    "PCR_bmi.initialize()"
   ]
  },
  {
   "cell_type": "markdown",
   "metadata": {},
   "source": [
    "## define exchange of values in update states function"
   ]
  },
  {
   "cell_type": "code",
   "execution_count": null,
   "metadata": {},
   "outputs": [],
   "source": [
    "def get_CMF_delta_vol():\n",
    "    # coupled 2d mask\n",
    "    mask = (CMF_bmi.coupled_mask > 0).astype(float)\n",
    "    # total Q inflow 2D for coupled cells\n",
    "    q_in = (CMF_bmi.get_var('rivinf') + CMF_bmi.get_var('fldinf')) * mask # [m3/s]\n",
    "    # total CMF converted runoff inflow 2D for coupled cells\n",
    "    runoff = CMF_bmi.get_var('runoff') * mask # [m3/s]\n",
    "    # take Qin + runoff in most upstream coupled cells, only runoff for other cells\n",
    "    tot_flux = np.where(CMF_bmi.coupled_mask == 2, q_in + runoff, runoff)\n",
    "    # convert flux to volume per day\n",
    "    delta_vol = tot_flux * CMF_bmi.options['dt'] # [m3/day]\n",
    "    return delta_vol \n",
    "\n",
    "def set_CMF_forcing():\n",
    "    \"coupling runoff between CMFan PCR model\"\n",
    "    runoff = PCR_bmi.get_var('landSurfaceRunoff') # [m/day]\n",
    "    runoff = np.where(np.isnan(runoff), 0, runoff)\n",
    "    # note that runoff in (roffin) should be used to set PCR runoff. \n",
    "    CMF_bmi.set_var(\"roffin\", runoff) # [m/dtin] = [m/d]\n",
    "\n",
    "DFMidx = DFM_bmi.coupled_idx\n",
    "DFM_area_1d = DFM_bmi.get_var('ba')[DFMidx]\n",
    "CMFidx = CMF_bmi.coupled_idx\n",
    "CMFfrac = CMF_bmi.coupled_area_frac\n",
    "def set_DFM_forcing():\n",
    "    CMF_delta_vol = get_CMF_delta_vol() # 2d array [m3/day]\n",
    "    DFM_depth_conservative = CMF_delta_vol[CMFidx] * CMFfrac / DFM_area_1d # 1d array for coupld DFM cells [m/day]\n",
    "    DFM_bmi.set_var_index('rain', DFMidx, DFM_depth_conservative)\n",
    "        "
   ]
  },
  {
   "cell_type": "markdown",
   "metadata": {},
   "source": [
    "## run coupled CMF - DFM model"
   ]
  },
  {
   "cell_type": "code",
   "execution_count": null,
   "metadata": {
    "scrolled": true
   },
   "outputs": [],
   "source": [
    "# run coupled model for 2 timesteps\n",
    "for i in range(2):\n",
    "    PCR_bmi.update()\n",
    "    set_CMF_forcing()\n",
    "    CMF_bmi.update()\n",
    "    set_DFM_forcing()\n",
    "    DFM_bmi.update()\n"
   ]
  },
  {
   "cell_type": "markdown",
   "metadata": {},
   "source": [
    "## Finalize models"
   ]
  },
  {
   "cell_type": "code",
   "execution_count": null,
   "metadata": {},
   "outputs": [],
   "source": [
    "PCR_bmi.finalize()\n",
    "CMF_bmi.finalize()\n",
    "DFM_bmi.finalize()\n"
   ]
  }
 ],
 "metadata": {
  "anaconda-cloud": {},
  "kernelspec": {
   "display_name": "Python [conda env:glofrim]",
   "language": "python",
   "name": "conda-env-glofrim-py"
  },
  "language_info": {
   "codemirror_mode": {
    "name": "ipython",
    "version": 2
   },
   "file_extension": ".py",
   "mimetype": "text/x-python",
   "name": "python",
   "nbconvert_exporter": "python",
   "pygments_lexer": "ipython2",
   "version": "2.7.14"
  }
 },
 "nbformat": 4,
 "nbformat_minor": 2
}
