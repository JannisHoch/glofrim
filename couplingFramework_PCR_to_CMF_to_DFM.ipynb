{
 "cells": [
  {
   "cell_type": "code",
   "execution_count": 1,
   "metadata": {},
   "outputs": [],
   "source": [
    "%matplotlib inline\n",
    "import netCDF4\n",
    "from netCDF4 import Dataset\n",
    "import rasterio\n",
    "import os\n",
    "from datetime import datetime\n",
    "import numpy as np\n",
    "import spotpy\n",
    "import matplotlib.pyplot as plt\n",
    "import matplotlib as mpl \n",
    "import matplotlib.dates as mdates"
   ]
  },
  {
   "cell_type": "code",
   "execution_count": 2,
   "metadata": {},
   "outputs": [],
   "source": [
    "# local libraries\n",
    "from glofrim import PCR_model, CMF_model, DFM_model\n",
    "from glofrim.utils import config_to_dict, determineSteps\n",
    "%config Application.log_level=\"INFO\""
   ]
  },
  {
   "cell_type": "code",
   "execution_count": 3,
   "metadata": {},
   "outputs": [
    {
     "name": "stdout",
     "output_type": "stream",
     "text": [
      "2000-01-01 00:00:00\n",
      "2001-12-31 00:00:00\n",
      "730\n"
     ]
    }
   ],
   "source": [
    "# IMPORT MODEL SETTINGS FROM INI-FILE\n",
    "argv1 = r'couplingSettings.set'\n",
    "argv2 = r'modelPaths.env'\n",
    "\n",
    "# parse set/ini-file with central/general settings for coupling framework\n",
    "config = config_to_dict(argv1)\n",
    "# parse env-file for user-specific paths and environmental variables\n",
    "envs = config_to_dict(argv2)\n",
    "# combine\n",
    "config.update(envs)\n",
    "options = config\n",
    "# parse dates\n",
    "start_date = datetime.strptime(options['numerical_settings']['startTime'], '%Y-%m-%d')\n",
    "end_date = datetime.strptime(options['numerical_settings']['endTime'], '%Y-%m-%d')\n",
    "print start_date\n",
    "print end_date\n",
    "timeSteps = determineSteps(start_date, end_date)\n",
    "print timeSteps"
   ]
  },
  {
   "cell_type": "code",
   "execution_count": 4,
   "metadata": {},
   "outputs": [
    {
     "name": "stdout",
     "output_type": "stream",
     "text": [
      "/home/jannis/PhD/code/GLOFRIMplusCAMA/output30min/PCR2CMF2DFM/\n",
      "/home/jannis/PhD/code/GLOFRIMplusCAMA/model_test_data/test_Elbe/\n"
     ]
    }
   ],
   "source": [
    "# setup output dir\n",
    "in_dir = options['GENERAL']['inputDir']\n",
    "out_dir = options['GENERAL']['outputDir'] + 'PCR2CMF2DFM/'\n",
    "if not os.path.isdir(out_dir):\n",
    "    os.mkdir(out_dir)\n",
    "print(out_dir)\n",
    "print(in_dir)"
   ]
  },
  {
   "cell_type": "markdown",
   "metadata": {},
   "source": [
    "## create PCR model BMI object"
   ]
  },
  {
   "cell_type": "code",
   "execution_count": 5,
   "metadata": {},
   "outputs": [
    {
     "name": "stdout",
     "output_type": "stream",
     "text": [
      "/home/jannis/PhD/code/GLOFRIMplusCAMA/model_test_data/test_Elbe/PCR_Elbe/input30min\n",
      "/home/jannis/PhD/code/GLOFRIMplusCAMA/model_test_data/test_Elbe/PCR_Elbe/setup_PCR_30min_Elbe.ini\n",
      "/home/jannis/PhD/code/GLOFRIMplusCAMA/output30min/PCR2CMF2DFM/PCR\n"
     ]
    }
   ],
   "source": [
    "PCR_config_fn = os.path.join(in_dir, options['hydrologic_model']['config_file'])\n",
    "PCR_in_dir = os.path.join(os.path.dirname(PCR_config_fn), 'input30min')\n",
    "PCR_out_dir = os.path.join(out_dir, 'PCR')\n",
    "print(PCR_in_dir)\n",
    "print(PCR_config_fn)\n",
    "print(PCR_out_dir)\n",
    "\n",
    "PCR_bmi = PCR_model(PCR_config_fn, PCR_in_dir, PCR_out_dir,\n",
    "                            start_date, end_date,)\n"
   ]
  },
  {
   "cell_type": "markdown",
   "metadata": {},
   "source": [
    "## create CMF model BMI object"
   ]
  },
  {
   "cell_type": "code",
   "execution_count": 6,
   "metadata": {},
   "outputs": [
    {
     "name": "stdout",
     "output_type": "stream",
     "text": [
      "/home/jannis/Programmes/cama-flood_bmi_v3.6.2/src/libcama.so\n",
      "/home/jannis/PhD/code/GLOFRIMplusCAMA/output30min/PCR2CMF2DFM/CMF\n"
     ]
    }
   ],
   "source": [
    "CMF_engine = options['CMF_engine']['CMF_path']\n",
    "print(CMF_engine)\n",
    "CMF_config_fn = os.path.join(in_dir, options['routing_model']['model_file'])\n",
    "CMF_model_dir = os.path.dirname(CMF_config_fn)\n",
    "CMF_out_dir = os.path.join(out_dir, 'CMF')\n",
    "print(CMF_out_dir)\n",
    "CMF_bmi = CMF_model(CMF_engine, CMF_config_fn, CMF_model_dir, CMF_out_dir,\n",
    "                         start_date, end_date, dt=86400)\n"
   ]
  },
  {
   "cell_type": "markdown",
   "metadata": {},
   "source": [
    "## create DFM model BMI object"
   ]
  },
  {
   "cell_type": "code",
   "execution_count": 7,
   "metadata": {},
   "outputs": [
    {
     "name": "stdout",
     "output_type": "stream",
     "text": [
      "/home/jannis/Programmes/DFLOWFM/lib/libdflowfm.so\n",
      "/home/jannis/PhD/code/GLOFRIMplusCAMA/model_test_data/test_Elbe/DFM_Elbe/delta\n",
      "/home/jannis/PhD/code/GLOFRIMplusCAMA/model_test_data/test_Elbe/DFM_Elbe/delta/DFM_Elbe_VU.mdu\n",
      "/home/jannis/PhD/code/GLOFRIMplusCAMA/output30min/PCR2CMF2DFM/DFM\n"
     ]
    }
   ],
   "source": [
    "DFM_engine = options['DFM_engine']['DFM_path']\n",
    "DFM_config_fn = os.path.join(in_dir, options['hydrodynamic_model']['model_file'])\n",
    "DFM_model_dir = os.path.dirname(DFM_config_fn)\n",
    "DFM_out_dir = os.path.join(out_dir, 'DFM')\n",
    "print(DFM_engine)\n",
    "print(DFM_model_dir)\n",
    "print(DFM_config_fn)\n",
    "print(DFM_out_dir)\n",
    "\n",
    "\n",
    "DFM_bmi = DFM_model(DFM_engine, DFM_config_fn, DFM_model_dir, DFM_out_dir,\n",
    "                              start_date, end_date)"
   ]
  },
  {
   "cell_type": "markdown",
   "metadata": {},
   "source": [
    "## intitialize DFM model"
   ]
  },
  {
   "cell_type": "code",
   "execution_count": 8,
   "metadata": {},
   "outputs": [],
   "source": [
    "# initialize DFM first to expose model coordinates via BMI\n",
    "DFM_bmi.initialize()"
   ]
  },
  {
   "cell_type": "markdown",
   "metadata": {},
   "source": [
    "## couple grids based on CMF inpmat file"
   ]
  },
  {
   "cell_type": "code",
   "execution_count": 9,
   "metadata": {
    "scrolled": true
   },
   "outputs": [],
   "source": [
    "# couple grids\n",
    "PCR_bmi.couple_grid_to_grid(CMF_bmi)"
   ]
  },
  {
   "cell_type": "markdown",
   "metadata": {},
   "source": [
    "## couple CMF to DFM based on 1d DFM indices"
   ]
  },
  {
   "cell_type": "markdown",
   "metadata": {},
   "source": [
    "Couple external 1d coordinates to internal model 2d grid. \n",
    "\n",
    "From the green cells with value 1 (green) runoff is couled for the cells with value 2 (yellow) discharge is coupled"
   ]
  },
  {
   "cell_type": "code",
   "execution_count": 10,
   "metadata": {},
   "outputs": [
    {
     "name": "stderr",
     "output_type": "stream",
     "text": [
      "WARNING: main.couple_grid_to_1d(): 1D nodes found outside of valid 2D domain\n"
     ]
    }
   ],
   "source": [
    "# get coupled dictionaries\n",
    "CMF_bmi.couple_grid_to_1d(DFM_bmi)"
   ]
  },
  {
   "cell_type": "code",
   "execution_count": 14,
   "metadata": {},
   "outputs": [
    {
     "data": {
      "image/png": "[encoded data removed]",
      "text/plain": [
       "<matplotlib.figure.Figure at 0x7f8194a31710>"
      ]
     },
     "metadata": {},
     "output_type": "display_data"
    }
   ],
   "source": [
    "# get DFM 1d nodes in local grid coordinates\n",
    "x, y = zip(*DFM_bmi.model_1d_coords)\n",
    "c, r = ~CMF_bmi.model_grid_transform * (np.atleast_1d(x), np.atleast_1d(y))\n",
    "c, r = c-0.0, r-1.0 # why this offset ??\n",
    "\n",
    "# set colorscheme\n",
    "cmap=plt.cm.YlOrRd\n",
    "bounds = np.linspace(-0.5,2.5,4)\n",
    "norm = mpl.colors.BoundaryNorm(bounds, cmap.N)\n",
    "# plot figure\n",
    "fig = plt.figure(figsize=(20, 10))\n",
    "b=fig.add_subplot(1,1,1)\n",
    "plt.imshow(CMF_bmi.coupled_mask, interpolation='nearest', cmap=cmap, norm=norm)\n",
    "CMF_bmi.dd.plot_dd(ax=b, color='grey', label='CMF ldd')\n",
    "b.scatter(c, r, s=4, color='b', label='DFM 1D nodes')\n",
    "# fix colorbar\n",
    "cbar = plt.colorbar()\n",
    "cbar.set_ticks([0, 1, 2])\n",
    "cbar.set_ticklabels(['none', 'Runoff', 'Discharge'])\n",
    "b.set_title('CMF coupled to DFM mask')\n",
    "b.set_xlim([8, 25])\n",
    "b.set_ylim([12, 3])\n",
    "# plt.legend()\n",
    "plt.savefig(os.path.join(out_dir,'couplingScheme.png'), dpi=600)"
   ]
  },
  {
   "cell_type": "markdown",
   "metadata": {},
   "source": [
    "note there is a difference in DFM nodes and DFM coupled nodes as some are in unit catchments that are ignored by CMF. The runoff from PCR is however mass-conservative in the CMF runoff input."
   ]
  },
  {
   "cell_type": "code",
   "execution_count": 12,
   "metadata": {},
   "outputs": [
    {
     "data": {
      "text/plain": [
       "(1428, 1425)"
      ]
     },
     "execution_count": 12,
     "metadata": {},
     "output_type": "execute_result"
    }
   ],
   "source": [
    "len(DFM_bmi.model_1d_coords), len(DFM_bmi.coupled_idx)"
   ]
  },
  {
   "cell_type": "markdown",
   "metadata": {},
   "source": [
    "## initialize CMF and PCR models"
   ]
  },
  {
   "cell_type": "code",
   "execution_count": null,
   "metadata": {
    "scrolled": true
   },
   "outputs": [],
   "source": [
    "# initialize CMF model after nextxy had been adapted\n",
    "CMF_bmi.initialize()\n",
    "# initialize model after ldd has been modified\n",
    "PCR_bmi.initialize()"
   ]
  },
  {
   "cell_type": "markdown",
   "metadata": {},
   "source": [
    "## define exchange of values in update states function"
   ]
  },
  {
   "cell_type": "code",
   "execution_count": null,
   "metadata": {},
   "outputs": [],
   "source": [
    "def set_CMF_forcing():\n",
    "    \"coupling runoff between CMF and PCR model\"\n",
    "    runoff = np.nan_to_num(PCR_bmi.get_var('runoff')) # [m/day]\n",
    "    # note that runoff in (roffin) should be used to set PCR runoff. \n",
    "    CMF_bmi.set_var(\"roffin\", runoff) # [m/dtin] = [m/d]\n",
    "\n",
    "DFMidx = DFM_bmi.coupled_idx\n",
    "DFM_area_1d = DFM_bmi.get_var('ba')[DFMidx]\n",
    "CMFidx = CMF_bmi.coupled_idx\n",
    "CMFfrac = CMF_bmi.coupled_area_frac\n",
    "\n",
    "def set_DFM_forcing():\n",
    "    CMF_delta_vol = CMF_bmi.get_coupled_flux() # 2d array [m3/day]\n",
    "    DFM_depth_conservative = CMF_delta_vol[CMFidx] * CMFfrac / DFM_area_1d # 1d array for coupld DFM cells [m/day]\n",
    "    zerorain = np.zeros_like(np.copy(DFM_bmi.get_var('rain')))\n",
    "    DFM_bmi.set_var('rain', zerorain)\n",
    "    DFM_bmi.set_var_index('rain', DFMidx, DFM_depth_conservative)\n",
    "    return CMF_delta_vol\n",
    "        "
   ]
  },
  {
   "cell_type": "markdown",
   "metadata": {},
   "source": [
    "## find location to record qsim from CMF on the fly"
   ]
  },
  {
   "cell_type": "code",
   "execution_count": null,
   "metadata": {},
   "outputs": [],
   "source": [
    "#- get upsteram area at comparison point in CMF\n",
    "from os.path import join\n",
    "upArea = np.fromfile(join(in_dir, r'CMF_Elbe/uparea.bin'), 'f').reshape(28,40)\n",
    "plt.imshow(upArea)\n",
    "plt.colorbar(orientation='horizontal')"
   ]
  },
  {
   "cell_type": "code",
   "execution_count": null,
   "metadata": {},
   "outputs": [],
   "source": [
    "#- check whether upstream area at chosen location is at the upper end\n",
    "#- upstream area according to GRDC: 131950 km2 = 1.31950e11 m2\n",
    "xCMFout = 6\n",
    "yCMFout = 13\n",
    "print (upArea[xCMFout, yCMFout])"
   ]
  },
  {
   "cell_type": "markdown",
   "metadata": {},
   "source": [
    "## run coupled CMF - DFM model"
   ]
  },
  {
   "cell_type": "code",
   "execution_count": null,
   "metadata": {},
   "outputs": [],
   "source": [
    "# create file for writing CMF output\n",
    "cmf_outFile = os.path.join(CMF_out_dir, 'qsim_CFM_at_location_' + str(xCMFout) + '_' + str(yCMFout) + '.txt')\n",
    "cmf_of = open(cmf_outFile, 'w')\n",
    "print (cmf_of)"
   ]
  },
  {
   "cell_type": "code",
   "execution_count": null,
   "metadata": {
    "scrolled": true
   },
   "outputs": [],
   "source": [
    "# run for numer of timesteps specified in set-file\n",
    "tStart = datetime.now()\n",
    "CMF_delta_vol_temp = 0.0\n",
    "DFM_Vstart = np.sum(np.copy(DFM_bmi.get_var('vol1')))\n",
    "for i in range(timeSteps):\n",
    "# for i in range(10):\n",
    "    PCR_bmi.update()\n",
    "    set_CMF_forcing()\n",
    "    CMF_bmi.update()\n",
    "    outflw_temp = np.copy(CMF_bmi.get_var('outflw'))[xCMFout, yCMFout]\n",
    "    cmf_of.write(str(outflw_temp) + os.linesep)\n",
    "    CMF_delta_vol = set_DFM_forcing()\n",
    "    CMF_delta_vol_temp += np.sum(CMF_delta_vol)\n",
    "    DFM_bmi.update()\n",
    "tEnd = datetime.now()\n",
    "# cmf_of.close()"
   ]
  },
  {
   "cell_type": "code",
   "execution_count": null,
   "metadata": {},
   "outputs": [],
   "source": [
    "tEnd = datetime.now()\n",
    "cmf_of.close()"
   ]
  },
  {
   "cell_type": "code",
   "execution_count": null,
   "metadata": {},
   "outputs": [],
   "source": [
    "# get DFM 1d nodes in local grid coordinates\n",
    "x, y = zip(*DFM_bmi.model_1d_coords) # only 1d coords\n",
    "c, r = ~CMF_bmi.model_grid_transform * (np.atleast_1d(x), np.atleast_1d(y))\n",
    "c, r = c-0.0, r-1.0 # why this offset ??\n",
    "\n",
    "# set values to right index\n",
    "plot_depth = np.zeros(len(r))\n",
    "plot_depth[DFMidx - DFM_bmi._1d2d_idx] = DFM_bmi.get_var('s1')[DFMidx]\n",
    "\n",
    "# plot figure\n",
    "fig = plt.figure(figsize=(10, 5))\n",
    "b=fig.add_subplot(1,1,1)\n",
    "im = plt.imshow(np.ma.masked_equal(CMF_bmi.get_coupled_flux(), 0), vmin=0, interpolation='nearest', cmap='Blues')\n",
    "CMF_bmi.dd.plot_dd(ax=b, color='grey', label='PCR ldd')\n",
    "im2 = b.scatter(c, r, s=4, c=plot_depth, cmap='YlOrRd',vmin=0) # norm=mpl.colors.LogNorm())\n",
    "# fix colorbar\n",
    "cbar1 = plt.colorbar(im)\n",
    "cbar1.set_label('CMF flux (runoff+discharge) [m3/day]')\n",
    "cbar = plt.colorbar(im2)\n",
    "cbar.set_label('DFM water level [m]')\n",
    "b.set_title('CMF coupled to DFM flux')\n",
    "b.set_xlim([8, 25])\n",
    "b.set_ylim([12, 3])"
   ]
  },
  {
   "cell_type": "code",
   "execution_count": null,
   "metadata": {},
   "outputs": [],
   "source": [
    "runoff = np.copy(PCR_bmi.get_var('runoff'))\n",
    "outflw = np.copy(CMF_bmi.get_var('outflw'))\n",
    "outflw = np.ma.masked_greater(outflw, 1.e19)\n",
    "rivsto = np.copy(CMF_bmi.get_var('rivsto_out'))\n",
    "rivsto = np.ma.masked_greater(rivsto, 1.e19)\n",
    "\n",
    "fig = plt.figure(figsize=(15, 5))\n",
    "a=fig.add_subplot(1,3,1)\n",
    "imgplot = plt.imshow(runoff)\n",
    "a.set_title('PCR runoff')\n",
    "plt.colorbar(orientation ='horizontal')\n",
    "a=fig.add_subplot(1,3,2)\n",
    "imgplot = plt.imshow(outflw)\n",
    "a.set_title('CMF outflw')\n",
    "plt.colorbar(orientation='horizontal')\n",
    "a=fig.add_subplot(1,3,3)\n",
    "imgplot = plt.imshow(rivsto)\n",
    "a.set_title('CMF rivsto')\n",
    "plt.colorbar(orientation='horizontal')"
   ]
  },
  {
   "cell_type": "code",
   "execution_count": null,
   "metadata": {},
   "outputs": [],
   "source": [
    "#- reassess location of CMF output point by comparing with simulated discharge\n",
    "outflw = np.copy(CMF_bmi.get_var('outflw'))\n",
    "outflw = np.ma.masked_greater(outflw, 1.e19)\n",
    "test = np.copy(outflw)\n",
    "test[6,13] = 1000\n",
    "\n",
    "fig = plt.figure(figsize=(15, 5))\n",
    "a=fig.add_subplot(1,2,1)\n",
    "imgplot = plt.imshow(outflw)\n",
    "a.set_title('CMF outflw')\n",
    "plt.colorbar(orientation='horizontal')\n",
    "a=fig.add_subplot(1,2,2)\n",
    "imgplot = plt.imshow(test)\n",
    "a.set_title('CMF rivsto')\n",
    "plt.colorbar(orientation='horizontal')"
   ]
  },
  {
   "cell_type": "code",
   "execution_count": null,
   "metadata": {},
   "outputs": [],
   "source": [
    "print 'start time coupling: ', tStart\n",
    "print 'end time coupling: ', tEnd\n",
    "print 'average time per update PCR->CMF->DFM: ', abs((tEnd - tStart)) / timeSteps"
   ]
  },
  {
   "cell_type": "markdown",
   "metadata": {},
   "source": [
    "## Finalize models"
   ]
  },
  {
   "cell_type": "code",
   "execution_count": null,
   "metadata": {},
   "outputs": [],
   "source": [
    "PCR_bmi.finalize()\n",
    "CMF_bmi.finalize()\n",
    "DFM_bmi.finalize()"
   ]
  },
  {
   "cell_type": "markdown",
   "metadata": {},
   "source": [
    "## Check water balance PCR->CMF"
   ]
  },
  {
   "cell_type": "code",
   "execution_count": null,
   "metadata": {},
   "outputs": [],
   "source": [
    "CMF_logfile = os.path.join(CMF_out_dir, 'out/run_2000.log')\n",
    "cmf_lf = open(CMF_logfile, 'r')\n",
    "WB_error = float(cmf_lf.readlines()[-1].split()[-2]) * 10e9\n",
    "print('Water balance error in CMF: {} m3'.format(WB_error))\n"
   ]
  },
  {
   "cell_type": "markdown",
   "metadata": {},
   "source": [
    "## Check water balance CMF->DFM"
   ]
  },
  {
   "cell_type": "code",
   "execution_count": null,
   "metadata": {},
   "outputs": [],
   "source": [
    "#- load DFM output file (from this model run)\n",
    "fo = os.path.join(DFM_out_dir, 'DFM_OUTPUT_DFM_Elbe_VU/', 'DFM_Elbe_VU_his.nc')\n",
    "no = Dataset(fo, 'r')\n",
    "#- extract input precipitation from nc-file accumluated over time (for this run)\n",
    "precip = no.variables['water_balance_precipitation']\n",
    "#- select last entry\n",
    "precip_tot = precip[-1]\n",
    "\n",
    "print 'agreement of DFM input precipitation with output CMF volumes: ', precip_tot /  CMF_delta_vol_temp"
   ]
  },
  {
   "cell_type": "markdown",
   "metadata": {},
   "source": [
    "## Check water balance DFM"
   ]
  },
  {
   "cell_type": "code",
   "execution_count": null,
   "metadata": {},
   "outputs": [],
   "source": [
    "#- extract outflow accumluated over time from nc-file  (for this run)\n",
    "bo_out = no.variables['water_balance_boundaries_out']\n",
    "#- select last entry\n",
    "bo_out = bo_out[-1]"
   ]
  },
  {
   "cell_type": "code",
   "execution_count": null,
   "metadata": {},
   "outputs": [],
   "source": [
    "DFM_Vend = np.sum(np.copy(DFM_bmi.get_var('vol1')))\n",
    "DFM_Vdiff = DFM_Vend - DFM_Vstart\n",
    "print 'difference in volumes END - START: ', DFM_Vdiff, '\\n'\n",
    "\n",
    "DFM_Vdiff1 = DFM_Vdiff - CMF_delta_vol_temp\n",
    "print 'remaining difference after subtracting input volume: ', DFM_Vdiff1, '\\n'\n",
    "\n",
    "DFM_Vdiff2 = DFM_Vdiff1 + bo_out\n",
    "print 'remaining difference after adding DFM outflow: ', DFM_Vdiff2, '\\n'\n",
    "\n",
    "print 'fraction of remaining difference compared to overall DFM volumes: ',  np.absolute(DFM_Vdiff2) / DFM_Vend"
   ]
  },
  {
   "cell_type": "markdown",
   "metadata": {},
   "source": [
    "## Compare model results"
   ]
  },
  {
   "cell_type": "code",
   "execution_count": null,
   "metadata": {},
   "outputs": [],
   "source": [
    "#- extract simulated discharge from nc-file (for this run)\n",
    "qsim = no.variables['cross_section_discharge'][:]\n",
    "#- split up to different cross-sectiosn\n",
    "qsim_upBC = np.absolute(qsim[:,2])\n",
    "qsim_ND = np.absolute(qsim[:,0])\n",
    "qsim_downBC = np.absolute(qsim[:,1])\n",
    "#- laod DFM output file (from 1way coupled PCR->DFM run)\n",
    "fo_1way = os.path.join(in_dir, 'DFM_Elbe_VU_1way_his.nc')\n",
    "#- laod DFM output file (from DFM stand alone)\n",
    "fo_stA = os.path.join(in_dir, 'DFM_Elbe_VU_standAlone_his.nc')\n",
    "#- load BfG file\n",
    "vo = os.path.join(in_dir, 'Elbe-W+Q.csv')\n",
    "#- load PCR file\n",
    "po = os.path.join(in_dir, 'Qsim_Elbe_Darchau_30min_2000s_industrial_prefactored.dump')\n",
    "\n",
    "#- extract BfG data for NeuDarchau\n",
    "vd = np.loadtxt(vo, unpack=True, converters = {0: mdates.strpdate2num('%d-%m-%y')}, delimiter=';', skiprows=4)\n",
    "qobs_ND = vd[1]\n",
    "\n",
    "#- estract PCR data\n",
    "pd = np.loadtxt(po, unpack=True, skiprows=4)\n",
    "PCR_ND = pd[1]\n",
    "PCR_ND = PCR_ND[:]\n",
    "\n",
    "#- extrat CMF data\n",
    "cd = np.loadtxt(cmf_outFile, unpack=True)\n",
    "\n",
    "#- extract simulated discharge from nc-file for 1way PCR->DFM\n",
    "no_1way = Dataset(fo_1way, 'r')\n",
    "qsim_1way = no_1way.variables['cross_section_discharge'][:]\n",
    "#- split up to different cross-sectiosn\n",
    "qsim_upBC_1way = np.absolute(qsim_1way[:,2])\n",
    "qsim_ND_1way = np.absolute(qsim_1way[:,0])\n",
    "qsim_downBC_1way = np.absolute(qsim_1way[:,1])\n",
    "\n",
    "#- extract simulated discharge from nc-file for DFM standalone\n",
    "no_stA = Dataset(fo_stA, 'r')\n",
    "qsim_stA = no_stA.variables['cross_section_discharge'][:]\n",
    "#- split up to different cross-sectiosn\n",
    "qsim_upBC_stA = np.absolute(qsim_stA[:,2])\n",
    "qsim_ND_stA = np.absolute(qsim_stA[:,0])\n",
    "qsim_downBC_stA = np.absolute(qsim_stA[:,1])\n",
    "\n",
    "#- limit to list with least entries\n",
    "minLength = min(len(qobs_ND), len(qsim_ND), len(qsim_ND_1way), len(qsim_ND_stA), len(PCR_ND), len(cd))\n",
    "if len(qobs_ND) > len(qsim_ND):\n",
    "    qsim_ND = qsim_ND[:minLength]\n",
    "    qobs_ND = qobs_ND[:minLength]\n",
    "    PCR_ND = PCR_ND[:minLength]\n",
    "    qsim_ND_1way = qsim_ND_1way[:minLength]\n",
    "    qsim_ND_stA = qsim_ND_stA[:minLength]\n",
    "    cd = cd[:minLength]\n",
    "\n",
    "#- computed KGE at NeuDarchau\n",
    "KGE_ND = spotpy.objectivefunctions.kge(qobs_ND, qsim_ND)\n",
    "KGE_ND = np.round(KGE_ND,2)\n",
    "KGE_ND_1way = spotpy.objectivefunctions.kge(qobs_ND, qsim_ND_1way)\n",
    "KGE_ND_1way = np.round(KGE_ND_1way,2)\n",
    "KGE_ND_stA = spotpy.objectivefunctions.kge(qobs_ND, qsim_ND_stA)\n",
    "KGE_ND_stA = np.round(KGE_ND_stA,2)\n",
    "KGE_ND_PCR = spotpy.objectivefunctions.kge(qobs_ND, PCR_ND)\n",
    "KGE_ND_PCR = np.round(KGE_ND_PCR,2)\n",
    "KGE_ND_CMF = spotpy.objectivefunctions.kge(qobs_ND, cd)\n",
    "KGE_ND_CMF = np.round(KGE_ND_CMF,2)\n",
    "\n",
    "#- plot\n",
    "plt.figure(figsize=(16,8))\n",
    "# plt.plot(qsim_downBC, ':', c='r', label = 'Qsim downBC')\n",
    "plt.plot(qsim_ND, 'b', label = 'PCR->CMF->DFM')\n",
    "plt.plot(qsim_ND_stA, 'g', label = 'DFM')\n",
    "plt.plot(qsim_ND_1way, 'r', label = 'PCR->DFM')\n",
    "# plt.plot(qsim_downBC, ':',  c='k', label = 'Qsim downBC')\n",
    "plt.plot(PCR_ND, ':',label = 'PCR')\n",
    "plt.plot(cd, c='c', label = 'PCR->CMF')\n",
    "plt.plot(qobs_ND, 'm', label = 'OBS')\n",
    "plt.text(len(qsim_ND)+1,4900, 'KGEs') \n",
    "plt.text(len(qsim_ND)+1,4750, 'PCR : '+str(KGE_ND_PCR))\n",
    "plt.text(len(qsim_ND)+1,4600, 'DFM : '+str(KGE_ND_stA))\n",
    "plt.text(len(qsim_ND)+1,4450, 'PCR->DFM : '+str(KGE_ND_1way))\n",
    "plt.text(len(qsim_ND)+1,4300, 'PCR->CMF->DFM : '+str(KGE_ND))\n",
    "plt.text(len(qsim_ND)+1,4150, 'PCR->CMF : '+str(KGE_ND_CMF))\n",
    "plt.legend(ncol=2, loc=1)\n",
    "plt.xlim(0, minLength)\n",
    "plt.ylim(0, 5000)\n",
    "plt.ylabel('discharge [m3/s]')\n",
    "plt.xlabel('timesteps since '+str(start_date))\n",
    "plt.savefig(os.path.join(out_dir, 'compareAndvalidate_Qsim_PCR2CMF2DFM.png'), dpi=300)"
   ]
  },
  {
   "cell_type": "code",
   "execution_count": null,
   "metadata": {},
   "outputs": [],
   "source": [
    "plt.figure(figsize=(16,8))\n",
    "plt.plot(PCR_ND, 'r',label = 'PCR')\n",
    "plt.plot(qsim_ND_1way, 'b', label = 'PCR->DFM')\n",
    "plt.plot(qobs_ND, ':', c='m', label = 'OBS')\n",
    "plt.legend(loc=1)\n",
    "plt.xlim(0, minLength)\n",
    "plt.ylim(0, 5000)\n",
    "plt.ylabel('discharge [m3/s]')\n",
    "plt.xlabel('timesteps since '+str(start_date))"
   ]
  },
  {
   "cell_type": "code",
   "execution_count": null,
   "metadata": {},
   "outputs": [],
   "source": [
    "plt.figure(figsize=(16,8))\n",
    "plt.plot(PCR_ND, 'r',label = 'PCR')\n",
    "plt.plot(cd, 'b', label = 'PCR->CMF')\n",
    "plt.plot(qobs_ND, ':', c='m', label = 'OBS')\n",
    "plt.legend(loc=1)\n",
    "plt.xlim(0, minLength)\n",
    "plt.ylim(0, 5000)\n",
    "plt.ylabel('discharge [m3/s]')\n",
    "plt.xlabel('timesteps since '+str(start_date))"
   ]
  },
  {
   "cell_type": "code",
   "execution_count": null,
   "metadata": {},
   "outputs": [],
   "source": [
    "plt.figure(figsize=(16,8))\n",
    "plt.plot(PCR_ND, 'r',label = 'PCR')\n",
    "plt.plot(qsim_ND, 'b', label = 'PCR->CMF->DFM')\n",
    "plt.plot(qobs_ND, ':', c='m', label = 'OBS')\n",
    "plt.legend(loc=1)\n",
    "plt.xlim(0, minLength)\n",
    "plt.ylim(0, 5000)\n",
    "plt.ylabel('discharge [m3/s]')\n",
    "plt.xlabel('timesteps since '+str(start_date))"
   ]
  },
  {
   "cell_type": "code",
   "execution_count": null,
   "metadata": {},
   "outputs": [],
   "source": [
    "plt.figure(figsize=(16,8))\n",
    "plt.plot(qsim_ND_1way, 'b', label = 'PCR->DFM')\n",
    "plt.plot(cd, 'k', label = 'PCR->CMF')\n",
    "plt.plot(qsim_ND, 'r', label = 'PCR->CMF->DFM')\n",
    "plt.plot(qobs_ND, ':', c='m', label = 'OBS')\n",
    "plt.legend(loc=1)\n",
    "plt.xlim(0, minLength)\n",
    "plt.ylim(0, 5000)\n",
    "plt.ylabel('discharge [m3/s]')\n",
    "plt.xlabel('timesteps since '+str(start_date))"
   ]
  },
  {
   "cell_type": "code",
   "execution_count": null,
   "metadata": {},
   "outputs": [],
   "source": []
  },
  {
   "cell_type": "code",
   "execution_count": null,
   "metadata": {},
   "outputs": [],
   "source": []
  }
 ],
 "metadata": {
  "anaconda-cloud": {},
  "kernelspec": {
   "display_name": "Python [default]",
   "language": "python",
   "name": "python2"
  },
  "language_info": {
   "codemirror_mode": {
    "name": "ipython",
    "version": 2
   },
   "file_extension": ".py",
   "mimetype": "text/x-python",
   "name": "python",
   "nbconvert_exporter": "python",
   "pygments_lexer": "ipython2",
   "version": "2.7.15"
  }
 },
 "nbformat": 4,
 "nbformat_minor": 2
}
