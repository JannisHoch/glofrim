{
 "cells": [
  {
   "cell_type": "code",
   "execution_count": null,
   "metadata": {},
   "outputs": [],
   "source": [
    "import rasterio\n",
    "import os\n",
    "from datetime import datetime\n",
    "import numpy as np"
   ]
  },
  {
   "cell_type": "code",
   "execution_count": null,
   "metadata": {},
   "outputs": [],
   "source": [
    "# local libraries\n",
    "from coupling_PCR_FM.model_functions_v2 import PCR_model, CMF_model, DFM_model\n",
    "from coupling_PCR_FM.utils import config_to_dict\n",
    "%config Application.log_level=\"INFO\""
   ]
  },
  {
   "cell_type": "code",
   "execution_count": null,
   "metadata": {},
   "outputs": [],
   "source": [
    "# IMPORT MODEL SETTINGS FROM INI-FILE\n",
    "argv1 = r'default_rename.set'\n",
    "argv2 = r'paths.env'\n",
    "\n",
    "# parse set/ini-file with central/general settings for coupling framework\n",
    "config = config_to_dict(argv1)\n",
    "# parse env-file for user-specific paths and environmental variables\n",
    "envs = config_to_dict(argv2)\n",
    "# combine\n",
    "config.update(envs)\n",
    "options = config\n",
    "# parse dates\n",
    "start_date = datetime.strptime(options['numerical_settings']['startTime'], '%Y-%m-%d')\n",
    "end_date = datetime.strptime(options['numerical_settings']['endTime'], '%Y-%m-%d')"
   ]
  },
  {
   "cell_type": "code",
   "execution_count": null,
   "metadata": {},
<<<<<<< HEAD
   "outputs": [
    {
     "name": "stdout",
     "output_type": "stream",
     "text": [
      "/home/jannis/PhD/code/GLOFRIMplusCAMA/output30min/\n",
      "/home/jannis/PhD/code/GLOFRIMplusCAMA/glofrim\n"
     ]
    }
   ],
=======
   "outputs": [],
>>>>>>> c994941e1ead959222481e23652e7a0850f8b8fd
   "source": [
    "# setup output dir\n",
    "cwd = os.getcwd() # note: this get changed by pcr initialization later on\n",
    "out_dir = options['PCRpaths']['outputDirectoryPCR']\n",
    "if not os.path.isdir(out_dir):\n",
    "    os.mkdir(out_dir)\n",
    "print(out_dir)\n",
    "print(cwd)"
   ]
  },
  {
   "cell_type": "markdown",
   "metadata": {},
   "source": [
    "## create PCR model BMI object"
   ]
  },
  {
   "cell_type": "code",
   "execution_count": null,
   "metadata": {},
<<<<<<< HEAD
   "outputs": [
    {
     "name": "stdout",
     "output_type": "stream",
     "text": [
      "/home/jannis/PhD/code/GLOFRIMplusCAMA/glofrim/test_Elbe/PCR_Elbe/input30min/\n",
      "/home/jannis/PhD/code/GLOFRIMplusCAMA/glofrim/test_Elbe/PCR_Elbe/setup_PCR_30min_Elbe.ini\n",
      "/home/jannis/PhD/code/GLOFRIMplusCAMA/output30min/PCR\n"
     ]
    }
   ],
=======
   "outputs": [],
>>>>>>> c994941e1ead959222481e23652e7a0850f8b8fd
   "source": [
    "PCR_config_fn = os.path.join(cwd, options['hydrologic_model']['config_dir'], options['hydrologic_model']['config_file'])\n",
    "PCR_in_dir = options['PCRpaths']['inputDirectoryPCR']\n",
    "PCR_out_dir = os.path.join(out_dir, 'PCR')\n",
    "print(PCR_in_dir)\n",
    "print(PCR_config_fn)\n",
    "print(PCR_out_dir)\n",
    "\n",
    "PCR_bmi = PCR_model(PCR_config_fn, PCR_in_dir, PCR_out_dir,\n",
    "                            start_date, end_date,)"
   ]
  },
  {
   "cell_type": "markdown",
   "metadata": {},
   "source": [
    "## create CMF model BMI object"
   ]
  },
  {
   "cell_type": "code",
   "execution_count": null,
   "metadata": {},
<<<<<<< HEAD
   "outputs": [
    {
     "name": "stderr",
     "output_type": "stream",
     "text": [
      "2018-03-01 09:10:45,053 - INFO - Loading library from path /home/jannis/PhD/code/GLOFRIMplusCAMA/glofrim/cama-flood_bmi/src/libcama.so\n"
     ]
    },
    {
     "name": "stdout",
     "output_type": "stream",
     "text": [
      "/home/jannis/PhD/code/GLOFRIMplusCAMA/glofrim/cama-flood_bmi/src/libcama.so\n"
     ]
    }
   ],
=======
   "outputs": [],
>>>>>>> c994941e1ead959222481e23652e7a0850f8b8fd
   "source": [
    "CMF_engine = os.path.join(cwd, options['CMF_engine']['CMF_path'])\n",
    "print(CMF_engine)\n",
    "CMF_model_dir = os.path.join(cwd, options['routing_model']['model_dir'])\n",
    "CMF_config_fn = os.path.join(CMF_model_dir, options['routing_model']['model_file'])\n",
    "CMF_out_dir = os.path.join(out_dir, 'CMF')\n",
    "     \n",
    "CMF_bmi = CMF_model(CMF_engine, CMF_config_fn, CMF_model_dir, CMF_out_dir,\n",
    "                         start_date, end_date, dt=86400)\n"
   ]
  },
  {
   "cell_type": "markdown",
   "metadata": {},
   "source": [
    "## create DFM model BMI object"
   ]
  },
  {
   "cell_type": "code",
   "execution_count": null,
   "metadata": {},
<<<<<<< HEAD
   "outputs": [
    {
     "name": "stderr",
     "output_type": "stream",
     "text": [
      "2018-03-01 09:10:45,153 - INFO - Loading library from path /home/jannis/Programmes/DFLOWFM/lib/libdflowfm.so\n"
     ]
    },
    {
     "name": "stdout",
     "output_type": "stream",
     "text": [
      "/home/jannis/Programmes/DFLOWFM/lib/libdflowfm.so\n",
      "/home/jannis/PhD/code/GLOFRIMplusCAMA/glofrim/test_Elbe/DFM_Elbe/\n",
      "/home/jannis/PhD/code/GLOFRIMplusCAMA/glofrim/test_Elbe/DFM_Elbe/Elbe_1way_1d2dFM_400m_3200m.mdu\n",
      "/home/jannis/PhD/code/GLOFRIMplusCAMA/output30min/DFM\n"
     ]
    }
   ],
=======
   "outputs": [],
>>>>>>> c994941e1ead959222481e23652e7a0850f8b8fd
   "source": [
    "DFM_engine = os.path.join(cwd, options['DFM_engine']['DFM_path'])\n",
    "DFM_model_dir = os.path.join(cwd, options['hydrodynamic_model']['model_dir'])\n",
    "DFM_config_fn = os.path.join(DFM_model_dir, options['hydrodynamic_model']['model_file'])\n",
    "DFM_out_dir = os.path.join(out_dir, 'DFM')\n",
    "print(DFM_engine)\n",
    "print(DFM_model_dir)\n",
    "print(DFM_config_fn)\n",
    "print(DFM_out_dir)\n",
    "\n",
    "\n",
    "DFM_bmi = DFM_model(DFM_engine, DFM_config_fn, DFM_model_dir, DFM_out_dir,\n",
    "                              start_date, end_date, dt=86400.)"
   ]
  },
  {
   "cell_type": "markdown",
   "metadata": {},
   "source": [
    "## intitialize DFM model"
   ]
  },
  {
   "cell_type": "code",
   "execution_count": null,
   "metadata": {},
<<<<<<< HEAD
   "outputs": [
    {
     "name": "stderr",
     "output_type": "stream",
     "text": [
      "2018-03-01 09:10:45,284 - INFO - Ini file for DFM written to /home/jannis/PhD/code/GLOFRIMplusCAMA/output30min/DFM/Elbe_1way_1d2dFM_400m_3200m.mdu\n",
      "2018-03-01 09:10:45,285 - INFO - Loading model /home/jannis/PhD/code/GLOFRIMplusCAMA/output30min/DFM/Elbe_1way_1d2dFM_400m_3200m.mdu in directory /home/jannis/PhD/code/GLOFRIMplusCAMA/output30min/DFM\n",
      "2018-03-01 09:11:07,905 - INFO - DFM initialized\n"
     ]
    }
   ],
=======
   "outputs": [],
>>>>>>> c994941e1ead959222481e23652e7a0850f8b8fd
   "source": [
    "# initialize DFM first to expose model coordinates via BMI\n",
    "DFM_bmi.initialize()"
   ]
  },
  {
   "cell_type": "markdown",
   "metadata": {},
   "source": [
    "## couple grids based on CMF inpmat file"
   ]
  },
  {
   "cell_type": "code",
   "execution_count": null,
   "metadata": {},
<<<<<<< HEAD
   "outputs": [
    {
     "name": "stderr",
     "output_type": "stream",
     "text": [
      "2018-03-01 09:11:07,915 - INFO - Getting PCR model grid parameters.\n",
      "2018-03-01 09:11:07,919 - INFO - Getting CMF model grid parameters.\n",
      "2018-03-01 09:11:07,922 - INFO - Coupling PCR grid to CMF grid.\n",
      "2018-03-01 09:11:07,923 - INFO - ./generate_inpmat 0.5 7.0 17.0 55.0 48.0 NtoS\n"
     ]
    }
   ],
=======
   "outputs": [],
>>>>>>> c994941e1ead959222481e23652e7a0850f8b8fd
   "source": [
    "# couple grids\n",
    "PCR_bmi.couple_grid_to_grid(CMF_bmi)"
   ]
  },
  {
   "cell_type": "markdown",
   "metadata": {},
   "source": [
    "## couple grids based on 1d DFM indices"
   ]
  },
  {
   "cell_type": "markdown",
   "metadata": {},
   "source": [
    "Couple external 1d coordinates to internal model 2d grid. \n",
    "\n",
    "The model **ldd grid is also deactivated** at coupled cells.\n",
    "\n",
    "**Note** that this should be excecuted before the CMF model is initalized as the lddl grid modification is done offline!"
   ]
  },
  {
   "cell_type": "code",
   "execution_count": null,
   "metadata": {},
<<<<<<< HEAD
   "outputs": [
    {
     "name": "stderr",
     "output_type": "stream",
     "text": [
      "2018-03-01 09:11:08,051 - INFO - Getting DFM model coordinates.\n",
      "2018-03-01 09:11:08,087 - INFO - Coupling CMF grid to DFM 1D nodes.\n",
      "2018-03-01 09:11:08,091 - INFO - Getting CMF model indices for xy coordinates.\n",
      "2018-03-01 09:11:08,180 - INFO - Getting fraction of coupled 1d nodes based on area.\n"
     ]
    }
   ],
=======
   "outputs": [],
>>>>>>> c994941e1ead959222481e23652e7a0850f8b8fd
   "source": [
    "# get coupled dictionaries\n",
    "CMF_bmi.couple_grid_to_1d(DFM_bmi)"
   ]
  },
  {
   "cell_type": "markdown",
   "metadata": {},
   "source": [
    "## initialize CMF and PCR models"
   ]
  },
  {
   "cell_type": "code",
   "execution_count": null,
   "metadata": {
    "scrolled": true
   },
<<<<<<< HEAD
   "outputs": [
    {
     "name": "stderr",
     "output_type": "stream",
     "text": [
      "2018-03-01 09:11:08,207 - INFO - removing tmp file diminfo_tmp.txt from model data dir\n",
      "2018-03-01 09:11:08,252 - INFO - removing tmp file inpmat-tmp.txt from model data dir\n",
      "2018-03-01 09:11:08,256 - INFO - removing tmp file inpmat-tmp.bin from model data dir\n",
      "2018-03-01 09:11:08,261 - INFO - Ini file for CMF written to /home/jannis/PhD/code/GLOFRIMplusCAMA/output30min/CMF/input_flood.nam\n",
      "2018-03-01 09:11:08,262 - INFO - Loading model /home/jannis/PhD/code/GLOFRIMplusCAMA/output30min/CMF/input_flood.nam in directory /home/jannis/PhD/code/GLOFRIMplusCAMA/output30min/CMF\n",
      "2018-03-01 09:11:08,266 - INFO - CMF initialized\n",
      "2018-03-01 09:11:08,272 - INFO - Ini file for PCR written to /home/jannis/PhD/code/GLOFRIMplusCAMA/output30min/PCR/setup_PCR_30min_Elbe.ini\n",
      "2018-03-01 09:11:08,281 - INFO - Model run started at 2018-03-01 09:11:08.274037\n",
      "2018-03-01 09:11:08,281 pcrglobwb_bmi_v203.configuration INFO Model run started at 2018-03-01 09:11:08.274037\n",
      "2018-03-01 09:11:08,282 - INFO - Logging output to /home/jannis/PhD/code/GLOFRIMplusCAMA/output30min/PCR/log/setup_PCR_30min_Elbe.ini_2018-03-01T09:11:08.274037.log\n",
      "2018-03-01 09:11:08,282 pcrglobwb_bmi_v203.configuration INFO Logging output to /home/jannis/PhD/code/GLOFRIMplusCAMA/output30min/PCR/log/setup_PCR_30min_Elbe.ini_2018-03-01T09:11:08.274037.log\n",
      "2018-03-01 09:11:08,284 - INFO - Note that avgSurfaceWaterInputLongIni is not used and not needed.\n",
      "2018-03-01 09:11:08,284 pcrglobwb_bmi_v203.configuration INFO Note that avgSurfaceWaterInputLongIni is not used and not needed.\n",
      "2018-03-01 09:11:08,286 - INFO - The initial condition \"subDischargeIni\" is not defined. Either \"avgDischargeShortIni\" or \"avgDischargeLongIni\" is used in this run. Note that the \"subDischargeIni\" is only relevant if kinematic wave approaches are used.\n",
      "2018-03-01 09:11:08,286 pcrglobwb_bmi_v203.configuration INFO The initial condition \"subDischargeIni\" is not defined. Either \"avgDischargeShortIni\" or \"avgDischargeLongIni\" is used in this run. Note that the \"subDischargeIni\" is only relevant if kinematic wave approaches are used.\n",
      "2018-03-01 09:11:08,287 - INFO - number of time steps :10\n",
      "2018-03-01 09:11:08,287 pcrglobwb_bmi_v203.currTimeStep INFO number of time steps :10\n",
      "2018-03-01 09:11:08,815 - INFO - No forcing downscaling is implemented.\n",
      "2018-03-01 09:11:08,815 pcrglobwb_bmi_v203.meteo INFO No forcing downscaling is implemented.\n",
      "2018-03-01 09:11:22,995 - INFO - Adjusting some model parameters based on given values in the ini/configuration file.\n",
      "2018-03-01 09:11:22,995 pcrglobwb_bmi_v203.deterministic_runner INFO Adjusting some model parameters based on given values in the ini/configuration file.\n",
      "2018-03-01 09:11:22,998 - INFO - \n",
      "\n",
      "Multiplier values used: \n",
      "For minSoilDepthFrac           : 1.0\n",
      "For kSat (log-scale)           : 0.0\n",
      "For recessionCoeff (log-scale) : 1.0\n",
      "For storCap                    : 1.25\n",
      "For degreeDayFactor            : 1.0\n",
      "For refPotET                   : 1.0\n",
      "\n",
      "2018-03-01 09:11:22,998 pcrglobwb_bmi_v203.deterministic_runner INFO \n",
      "\n",
      "Multiplier values used: \n",
      "For minSoilDepthFrac           : 1.0\n",
      "For kSat (log-scale)           : 0.0\n",
      "For recessionCoeff (log-scale) : 1.0\n",
      "For storCap                    : 1.25\n",
      "For degreeDayFactor            : 1.0\n",
      "For refPotET                   : 1.0\n",
      "\n",
      "2018-03-01 09:11:23,001 - INFO - Model initialized. Spin-up might be required.\n",
      "2018-03-01 09:11:23,001 pcrglobwb_bmi_v203.pcrglobwb_bmi INFO Model initialized. Spin-up might be required.\n",
      "2018-03-01 09:11:23,003 - INFO - PCR initialized\n",
      "2018-03-01 09:11:23,003 coupling_PCR_FM.model_functions_v2 INFO PCR initialized\n"
     ]
    }
   ],
=======
   "outputs": [],
>>>>>>> c994941e1ead959222481e23652e7a0850f8b8fd
   "source": [
    "# initialize CMF model after nextxy had been adapted\n",
    "CMF_bmi.initialize()\n",
    "# initialize model after ldd has been modified\n",
    "PCR_bmi.initialize()"
   ]
  },
  {
   "cell_type": "markdown",
   "metadata": {},
   "source": [
    "## define exchange of values in update states function"
   ]
  },
  {
   "cell_type": "code",
   "execution_count": null,
   "metadata": {},
   "outputs": [],
   "source": [
    "# determine area fraction for volume distribution\n",
    "DFMidx = DFM_bmi.coupled_idx\n",
    "CMFidx = CMF_bmi.coupled_idx\n",
    "area_1d = DFM_bmi.get_var('ba')[DFMidx]\n",
    "\n",
    "def set_CMF_runoff():\n",
    "    \"coupling runoff between CMFan PCR model\"\n",
    "    runoff = PCR_bmi.get_var('landSurfaceRunoff')\n",
    "    runoff = np.where(np.isnan(runoff), 0, runoff)\n",
    "    CMF_bmi.set_var(\"runoff\", runoff)\n",
    "    \n",
    "def set_DFM_discharge():\n",
    "    # as the routing is turned off for coupled cells, only local discharge (=runoff) is passed on for coupled cells without an \n",
    "    # upstream cell\n",
    "    discharge = CMF_bmi.get_var('outflw')[CMFidx] * CMF_bmi.options['dt'] #[m3/dt]\n",
    "    delta_water_depth_dfm = discharge * CMF_bmi.coupled_area_frac / area_1d # [m/dt]\n",
    "    DFM_bmi.set_var_index('rain', DFMidx, delta_water_depth_dfm)\n",
    "        "
   ]
  },
  {
   "cell_type": "markdown",
   "metadata": {},
   "source": [
    "## run coupled CMF - DFM model"
   ]
  },
  {
   "cell_type": "code",
   "execution_count": null,
   "metadata": {
    "scrolled": true
   },
<<<<<<< HEAD
   "outputs": [
    {
     "name": "stderr",
     "output_type": "stream",
     "text": [
      "2018-03-01 09:11:23,167 - INFO - reading forcings for time 2000-01-01\n",
      "2018-03-01 09:11:23,167 pcrglobwb_bmi_v203.pcrglobwb INFO reading forcings for time 2000-01-01\n",
      "2018-03-01 09:11:23,419 - INFO - updating model to time 2000-01-01\n",
      "2018-03-01 09:11:23,419 pcrglobwb_bmi_v203.pcrglobwb INFO updating model to time 2000-01-01\n",
      "2018-03-01 09:11:25,624 - INFO - PCR -> start_time: 2000-01-01, current_time 2000-01-01, timestep 1\n",
      "2018-03-01 09:11:25,624 coupling_PCR_FM.model_functions_v2 INFO PCR -> start_time: 2000-01-01, current_time 2000-01-01, timestep 1\n",
      "2018-03-01 09:11:25,650 - INFO - CMF -> start_time: 2000-01-01 00:00:00, current_time 2000-01-02 00:00:00, timestep 86400.0\n",
      "2018-03-01 09:11:25,650 coupling_PCR_FM.model_functions_v2 INFO CMF -> start_time: 2000-01-01 00:00:00, current_time 2000-01-02 00:00:00, timestep 86400.0\n",
      "2018-03-01 09:11:25,653 - INFO - reading forcings for time 2000-01-02\n",
      "2018-03-01 09:11:25,653 pcrglobwb_bmi_v203.pcrglobwb INFO reading forcings for time 2000-01-02\n"
     ]
    },
    {
     "name": "stdout",
     "output_type": "stream",
     "text": [
      "sum runoff PCR * cellarea PCR: 2.313e+07\n"
     ]
    },
    {
     "name": "stderr",
     "output_type": "stream",
     "text": [
      "2018-03-01 09:11:26,017 - INFO - updating model to time 2000-01-02\n",
      "2018-03-01 09:11:26,017 pcrglobwb_bmi_v203.pcrglobwb INFO updating model to time 2000-01-02\n",
      "2018-03-01 09:11:27,174 - INFO - PCR -> start_time: 2000-01-01, current_time 2000-01-02, timestep 2\n",
      "2018-03-01 09:11:27,174 coupling_PCR_FM.model_functions_v2 INFO PCR -> start_time: 2000-01-01, current_time 2000-01-02, timestep 2\n",
      "2018-03-01 09:11:27,256 - INFO - CMF -> start_time: 2000-01-01 00:00:00, current_time 2000-01-03 00:00:00, timestep 86400.0\n",
      "2018-03-01 09:11:27,256 coupling_PCR_FM.model_functions_v2 INFO CMF -> start_time: 2000-01-01 00:00:00, current_time 2000-01-03 00:00:00, timestep 86400.0\n",
      "2018-03-01 09:11:27,273 - INFO - reading forcings for time 2000-01-03\n",
      "2018-03-01 09:11:27,273 pcrglobwb_bmi_v203.pcrglobwb INFO reading forcings for time 2000-01-03\n"
     ]
    },
    {
     "name": "stdout",
     "output_type": "stream",
     "text": [
      "sum runoff PCR * cellarea PCR: 3.024e+07\n"
     ]
    },
    {
     "name": "stderr",
     "output_type": "stream",
     "text": [
      "2018-03-01 09:11:27,671 - INFO - updating model to time 2000-01-03\n",
      "2018-03-01 09:11:27,671 pcrglobwb_bmi_v203.pcrglobwb INFO updating model to time 2000-01-03\n",
      "2018-03-01 09:11:28,819 - INFO - PCR -> start_time: 2000-01-01, current_time 2000-01-03, timestep 3\n",
      "2018-03-01 09:11:28,819 coupling_PCR_FM.model_functions_v2 INFO PCR -> start_time: 2000-01-01, current_time 2000-01-03, timestep 3\n"
     ]
    },
    {
     "name": "stdout",
     "output_type": "stream",
     "text": [
      "sum runoff PCR * cellarea PCR: 1.024e+07\n"
     ]
    },
    {
     "name": "stderr",
     "output_type": "stream",
     "text": [
      "2018-03-01 09:11:29,106 - INFO - CMF -> start_time: 2000-01-01 00:00:00, current_time 2000-01-04 00:00:00, timestep 86400.0\n",
      "2018-03-01 09:11:29,106 coupling_PCR_FM.model_functions_v2 INFO CMF -> start_time: 2000-01-01 00:00:00, current_time 2000-01-04 00:00:00, timestep 86400.0\n",
      "2018-03-01 09:11:29,117 - INFO - reading forcings for time 2000-01-04\n",
      "2018-03-01 09:11:29,117 pcrglobwb_bmi_v203.pcrglobwb INFO reading forcings for time 2000-01-04\n",
      "2018-03-01 09:11:29,593 - INFO - updating model to time 2000-01-04\n",
      "2018-03-01 09:11:29,593 pcrglobwb_bmi_v203.pcrglobwb INFO updating model to time 2000-01-04\n",
      "2018-03-01 09:11:30,759 - INFO - PCR -> start_time: 2000-01-01, current_time 2000-01-04, timestep 4\n",
      "2018-03-01 09:11:30,759 coupling_PCR_FM.model_functions_v2 INFO PCR -> start_time: 2000-01-01, current_time 2000-01-04, timestep 4\n",
      "2018-03-01 09:11:30,838 - INFO - CMF -> start_time: 2000-01-01 00:00:00, current_time 2000-01-05 00:00:00, timestep 86400.0\n",
      "2018-03-01 09:11:30,838 coupling_PCR_FM.model_functions_v2 INFO CMF -> start_time: 2000-01-01 00:00:00, current_time 2000-01-05 00:00:00, timestep 86400.0\n",
      "2018-03-01 09:11:30,844 - INFO - reading forcings for time 2000-01-05\n",
      "2018-03-01 09:11:30,844 pcrglobwb_bmi_v203.pcrglobwb INFO reading forcings for time 2000-01-05\n"
     ]
    },
    {
     "name": "stdout",
     "output_type": "stream",
     "text": [
      "sum runoff PCR * cellarea PCR: 7.619e+07\n"
     ]
    },
    {
     "name": "stderr",
     "output_type": "stream",
     "text": [
      "2018-03-01 09:11:31,200 - INFO - updating model to time 2000-01-05\n",
      "2018-03-01 09:11:31,200 pcrglobwb_bmi_v203.pcrglobwb INFO updating model to time 2000-01-05\n",
      "2018-03-01 09:11:32,367 - INFO - PCR -> start_time: 2000-01-01, current_time 2000-01-05, timestep 5\n",
      "2018-03-01 09:11:32,367 coupling_PCR_FM.model_functions_v2 INFO PCR -> start_time: 2000-01-01, current_time 2000-01-05, timestep 5\n",
      "2018-03-01 09:11:32,397 - INFO - CMF -> start_time: 2000-01-01 00:00:00, current_time 2000-01-06 00:00:00, timestep 86400.0\n",
      "2018-03-01 09:11:32,397 coupling_PCR_FM.model_functions_v2 INFO CMF -> start_time: 2000-01-01 00:00:00, current_time 2000-01-06 00:00:00, timestep 86400.0\n",
      "2018-03-01 09:11:32,399 - INFO - reading forcings for time 2000-01-06\n",
      "2018-03-01 09:11:32,399 pcrglobwb_bmi_v203.pcrglobwb INFO reading forcings for time 2000-01-06\n"
     ]
    },
    {
     "name": "stdout",
     "output_type": "stream",
     "text": [
      "sum runoff PCR * cellarea PCR: 4.219e+07\n"
     ]
    },
    {
     "name": "stderr",
     "output_type": "stream",
     "text": [
      "2018-03-01 09:11:32,766 - INFO - updating model to time 2000-01-06\n",
      "2018-03-01 09:11:32,766 pcrglobwb_bmi_v203.pcrglobwb INFO updating model to time 2000-01-06\n",
      "2018-03-01 09:11:33,923 - INFO - PCR -> start_time: 2000-01-01, current_time 2000-01-06, timestep 6\n",
      "2018-03-01 09:11:33,923 coupling_PCR_FM.model_functions_v2 INFO PCR -> start_time: 2000-01-01, current_time 2000-01-06, timestep 6\n",
      "2018-03-01 09:11:33,978 - INFO - CMF -> start_time: 2000-01-01 00:00:00, current_time 2000-01-07 00:00:00, timestep 86400.0\n",
      "2018-03-01 09:11:33,978 coupling_PCR_FM.model_functions_v2 INFO CMF -> start_time: 2000-01-01 00:00:00, current_time 2000-01-07 00:00:00, timestep 86400.0\n",
      "2018-03-01 09:11:33,980 - INFO - reading forcings for time 2000-01-07\n",
      "2018-03-01 09:11:33,980 pcrglobwb_bmi_v203.pcrglobwb INFO reading forcings for time 2000-01-07\n"
     ]
    },
    {
     "name": "stdout",
     "output_type": "stream",
     "text": [
      "sum runoff PCR * cellarea PCR: 2.431e+06\n"
     ]
    },
    {
     "name": "stderr",
     "output_type": "stream",
     "text": [
      "2018-03-01 09:11:34,430 - INFO - updating model to time 2000-01-07\n",
      "2018-03-01 09:11:34,430 pcrglobwb_bmi_v203.pcrglobwb INFO updating model to time 2000-01-07\n",
      "2018-03-01 09:11:35,571 - INFO - PCR -> start_time: 2000-01-01, current_time 2000-01-07, timestep 7\n",
      "2018-03-01 09:11:35,571 coupling_PCR_FM.model_functions_v2 INFO PCR -> start_time: 2000-01-01, current_time 2000-01-07, timestep 7\n",
      "2018-03-01 09:11:35,749 - INFO - CMF -> start_time: 2000-01-01 00:00:00, current_time 2000-01-08 00:00:00, timestep 86400.0\n",
      "2018-03-01 09:11:35,749 coupling_PCR_FM.model_functions_v2 INFO CMF -> start_time: 2000-01-01 00:00:00, current_time 2000-01-08 00:00:00, timestep 86400.0\n",
      "2018-03-01 09:11:35,754 - INFO - reading forcings for time 2000-01-08\n",
      "2018-03-01 09:11:35,754 pcrglobwb_bmi_v203.pcrglobwb INFO reading forcings for time 2000-01-08\n"
     ]
    },
    {
     "name": "stdout",
     "output_type": "stream",
     "text": [
      "sum runoff PCR * cellarea PCR: 1.083e+07\n"
     ]
    },
    {
     "name": "stderr",
     "output_type": "stream",
     "text": [
      "2018-03-01 09:11:36,215 - INFO - updating model to time 2000-01-08\n",
      "2018-03-01 09:11:36,215 pcrglobwb_bmi_v203.pcrglobwb INFO updating model to time 2000-01-08\n",
      "2018-03-01 09:11:37,351 - INFO - PCR -> start_time: 2000-01-01, current_time 2000-01-08, timestep 8\n",
      "2018-03-01 09:11:37,351 coupling_PCR_FM.model_functions_v2 INFO PCR -> start_time: 2000-01-01, current_time 2000-01-08, timestep 8\n",
      "2018-03-01 09:11:37,399 - INFO - CMF -> start_time: 2000-01-01 00:00:00, current_time 2000-01-09 00:00:00, timestep 86400.0\n",
      "2018-03-01 09:11:37,399 coupling_PCR_FM.model_functions_v2 INFO CMF -> start_time: 2000-01-01 00:00:00, current_time 2000-01-09 00:00:00, timestep 86400.0\n",
      "2018-03-01 09:11:37,405 - INFO - reading forcings for time 2000-01-09\n",
      "2018-03-01 09:11:37,405 pcrglobwb_bmi_v203.pcrglobwb INFO reading forcings for time 2000-01-09\n"
     ]
    },
    {
     "name": "stdout",
     "output_type": "stream",
     "text": [
      "sum runoff PCR * cellarea PCR: 7.034e+06\n"
     ]
    },
    {
     "name": "stderr",
     "output_type": "stream",
     "text": [
      "2018-03-01 09:11:37,800 - INFO - updating model to time 2000-01-09\n",
      "2018-03-01 09:11:37,800 pcrglobwb_bmi_v203.pcrglobwb INFO updating model to time 2000-01-09\n",
      "2018-03-01 09:11:38,982 - INFO - PCR -> start_time: 2000-01-01, current_time 2000-01-09, timestep 9\n",
      "2018-03-01 09:11:38,982 coupling_PCR_FM.model_functions_v2 INFO PCR -> start_time: 2000-01-01, current_time 2000-01-09, timestep 9\n",
      "2018-03-01 09:11:39,072 - INFO - CMF -> start_time: 2000-01-01 00:00:00, current_time 2000-01-10 00:00:00, timestep 86400.0\n",
      "2018-03-01 09:11:39,072 coupling_PCR_FM.model_functions_v2 INFO CMF -> start_time: 2000-01-01 00:00:00, current_time 2000-01-10 00:00:00, timestep 86400.0\n",
      "2018-03-01 09:11:39,074 - INFO - reading forcings for time 2000-01-10\n",
      "2018-03-01 09:11:39,074 pcrglobwb_bmi_v203.pcrglobwb INFO reading forcings for time 2000-01-10\n"
     ]
    },
    {
     "name": "stdout",
     "output_type": "stream",
     "text": [
      "sum runoff PCR * cellarea PCR: 3.067e+07\n"
     ]
    },
    {
     "name": "stderr",
     "output_type": "stream",
     "text": [
      "2018-03-01 09:11:39,543 - INFO - updating model to time 2000-01-10\n",
      "2018-03-01 09:11:39,543 pcrglobwb_bmi_v203.pcrglobwb INFO updating model to time 2000-01-10\n",
      "2018-03-01 09:11:40,703 - INFO - PCR -> start_time: 2000-01-01, current_time 2000-01-10, timestep 10\n",
      "2018-03-01 09:11:40,703 coupling_PCR_FM.model_functions_v2 INFO PCR -> start_time: 2000-01-01, current_time 2000-01-10, timestep 10\n",
      "2018-03-01 09:11:40,758 - INFO - CMF -> start_time: 2000-01-01 00:00:00, current_time 2000-01-11 00:00:00, timestep 86400.0\n",
      "2018-03-01 09:11:40,758 coupling_PCR_FM.model_functions_v2 INFO CMF -> start_time: 2000-01-01 00:00:00, current_time 2000-01-11 00:00:00, timestep 86400.0\n",
      "2018-03-01 09:11:40,763 - INFO - reading forcings for time 2000-01-11\n",
      "2018-03-01 09:11:40,763 pcrglobwb_bmi_v203.pcrglobwb INFO reading forcings for time 2000-01-11\n"
     ]
    },
    {
     "name": "stdout",
     "output_type": "stream",
     "text": [
      "sum runoff PCR * cellarea PCR: 2.730e+06\n"
     ]
    },
    {
     "name": "stderr",
     "output_type": "stream",
     "text": [
      "2018-03-01 09:11:41,237 - INFO - updating model to time 2000-01-11\n",
      "2018-03-01 09:11:41,237 pcrglobwb_bmi_v203.pcrglobwb INFO updating model to time 2000-01-11\n",
      "2018-03-01 09:11:42,445 - INFO - PCR -> start_time: 2000-01-01, current_time 2000-01-11, timestep 11\n",
      "2018-03-01 09:11:42,445 coupling_PCR_FM.model_functions_v2 INFO PCR -> start_time: 2000-01-01, current_time 2000-01-11, timestep 11\n",
      "2018-03-01 09:11:42,537 - INFO - CMF -> start_time: 2000-01-01 00:00:00, current_time 2000-01-12 00:00:00, timestep 86400.0\n",
      "2018-03-01 09:11:42,537 coupling_PCR_FM.model_functions_v2 INFO CMF -> start_time: 2000-01-01 00:00:00, current_time 2000-01-12 00:00:00, timestep 86400.0\n",
      "2018-03-01 09:11:42,545 - INFO - reading forcings for time 2000-01-12\n",
      "2018-03-01 09:11:42,545 pcrglobwb_bmi_v203.pcrglobwb INFO reading forcings for time 2000-01-12\n"
     ]
    },
    {
     "name": "stdout",
     "output_type": "stream",
     "text": [
      "sum runoff PCR * cellarea PCR: 2.238e+06\n"
     ]
    },
    {
     "name": "stderr",
     "output_type": "stream",
     "text": [
      "2018-03-01 09:11:42,959 - INFO - updating model to time 2000-01-12\n",
      "2018-03-01 09:11:42,959 pcrglobwb_bmi_v203.pcrglobwb INFO updating model to time 2000-01-12\n",
      "2018-03-01 09:11:44,096 - INFO - PCR -> start_time: 2000-01-01, current_time 2000-01-12, timestep 12\n",
      "2018-03-01 09:11:44,096 coupling_PCR_FM.model_functions_v2 INFO PCR -> start_time: 2000-01-01, current_time 2000-01-12, timestep 12\n",
      "2018-03-01 09:11:44,152 - INFO - CMF -> start_time: 2000-01-01 00:00:00, current_time 2000-01-13 00:00:00, timestep 86400.0\n",
      "2018-03-01 09:11:44,152 coupling_PCR_FM.model_functions_v2 INFO CMF -> start_time: 2000-01-01 00:00:00, current_time 2000-01-13 00:00:00, timestep 86400.0\n",
      "2018-03-01 09:11:44,154 - INFO - reading forcings for time 2000-01-13\n",
      "2018-03-01 09:11:44,154 pcrglobwb_bmi_v203.pcrglobwb INFO reading forcings for time 2000-01-13\n"
     ]
    },
    {
     "name": "stdout",
     "output_type": "stream",
     "text": [
      "sum runoff PCR * cellarea PCR: 2.242e+06\n"
     ]
    },
    {
     "name": "stderr",
     "output_type": "stream",
     "text": [
      "2018-03-01 09:11:44,502 - INFO - updating model to time 2000-01-13\n",
      "2018-03-01 09:11:44,502 pcrglobwb_bmi_v203.pcrglobwb INFO updating model to time 2000-01-13\n",
      "2018-03-01 09:11:45,725 - INFO - PCR -> start_time: 2000-01-01, current_time 2000-01-13, timestep 13\n",
      "2018-03-01 09:11:45,725 coupling_PCR_FM.model_functions_v2 INFO PCR -> start_time: 2000-01-01, current_time 2000-01-13, timestep 13\n",
      "2018-03-01 09:11:45,776 - INFO - CMF -> start_time: 2000-01-01 00:00:00, current_time 2000-01-14 00:00:00, timestep 86400.0\n",
      "2018-03-01 09:11:45,776 coupling_PCR_FM.model_functions_v2 INFO CMF -> start_time: 2000-01-01 00:00:00, current_time 2000-01-14 00:00:00, timestep 86400.0\n",
      "2018-03-01 09:11:45,780 - INFO - reading forcings for time 2000-01-14\n",
      "2018-03-01 09:11:45,780 pcrglobwb_bmi_v203.pcrglobwb INFO reading forcings for time 2000-01-14\n"
     ]
    },
    {
     "name": "stdout",
     "output_type": "stream",
     "text": [
      "sum runoff PCR * cellarea PCR: 2.245e+06\n"
     ]
    },
    {
     "name": "stderr",
     "output_type": "stream",
     "text": [
      "2018-03-01 09:11:46,197 - INFO - updating model to time 2000-01-14\n",
      "2018-03-01 09:11:46,197 pcrglobwb_bmi_v203.pcrglobwb INFO updating model to time 2000-01-14\n",
      "2018-03-01 09:11:47,347 - INFO - PCR -> start_time: 2000-01-01, current_time 2000-01-14, timestep 14\n",
      "2018-03-01 09:11:47,347 coupling_PCR_FM.model_functions_v2 INFO PCR -> start_time: 2000-01-01, current_time 2000-01-14, timestep 14\n",
      "2018-03-01 09:11:47,408 - INFO - CMF -> start_time: 2000-01-01 00:00:00, current_time 2000-01-15 00:00:00, timestep 86400.0\n",
      "2018-03-01 09:11:47,408 coupling_PCR_FM.model_functions_v2 INFO CMF -> start_time: 2000-01-01 00:00:00, current_time 2000-01-15 00:00:00, timestep 86400.0\n",
      "2018-03-01 09:11:47,410 - INFO - reading forcings for time 2000-01-15\n",
      "2018-03-01 09:11:47,410 pcrglobwb_bmi_v203.pcrglobwb INFO reading forcings for time 2000-01-15\n"
     ]
    },
    {
     "name": "stdout",
     "output_type": "stream",
     "text": [
      "sum runoff PCR * cellarea PCR: 2.248e+06\n"
     ]
    },
    {
     "name": "stderr",
     "output_type": "stream",
     "text": [
      "2018-03-01 09:11:47,738 - INFO - updating model to time 2000-01-15\n",
      "2018-03-01 09:11:47,738 pcrglobwb_bmi_v203.pcrglobwb INFO updating model to time 2000-01-15\n",
      "2018-03-01 09:11:48,963 - INFO - PCR -> start_time: 2000-01-01, current_time 2000-01-15, timestep 15\n",
      "2018-03-01 09:11:48,963 coupling_PCR_FM.model_functions_v2 INFO PCR -> start_time: 2000-01-01, current_time 2000-01-15, timestep 15\n",
      "2018-03-01 09:11:49,119 - INFO - CMF -> start_time: 2000-01-01 00:00:00, current_time 2000-01-16 00:00:00, timestep 86400.0\n",
      "2018-03-01 09:11:49,119 coupling_PCR_FM.model_functions_v2 INFO CMF -> start_time: 2000-01-01 00:00:00, current_time 2000-01-16 00:00:00, timestep 86400.0\n",
      "2018-03-01 09:11:49,123 - INFO - reading forcings for time 2000-01-16\n",
      "2018-03-01 09:11:49,123 pcrglobwb_bmi_v203.pcrglobwb INFO reading forcings for time 2000-01-16\n"
     ]
    },
    {
     "name": "stdout",
     "output_type": "stream",
     "text": [
      "sum runoff PCR * cellarea PCR: 2.251e+06\n"
     ]
    },
    {
     "name": "stderr",
     "output_type": "stream",
     "text": [
      "2018-03-01 09:11:49,534 - INFO - updating model to time 2000-01-16\n",
      "2018-03-01 09:11:49,534 pcrglobwb_bmi_v203.pcrglobwb INFO updating model to time 2000-01-16\n",
      "2018-03-01 09:11:50,699 - INFO - PCR -> start_time: 2000-01-01, current_time 2000-01-16, timestep 16\n",
      "2018-03-01 09:11:50,699 coupling_PCR_FM.model_functions_v2 INFO PCR -> start_time: 2000-01-01, current_time 2000-01-16, timestep 16\n",
      "2018-03-01 09:11:50,768 - INFO - CMF -> start_time: 2000-01-01 00:00:00, current_time 2000-01-17 00:00:00, timestep 86400.0\n",
      "2018-03-01 09:11:50,768 coupling_PCR_FM.model_functions_v2 INFO CMF -> start_time: 2000-01-01 00:00:00, current_time 2000-01-17 00:00:00, timestep 86400.0\n",
      "2018-03-01 09:11:50,771 - INFO - reading forcings for time 2000-01-17\n",
      "2018-03-01 09:11:50,771 pcrglobwb_bmi_v203.pcrglobwb INFO reading forcings for time 2000-01-17\n"
     ]
    },
    {
     "name": "stdout",
     "output_type": "stream",
     "text": [
      "sum runoff PCR * cellarea PCR: 3.738e+06\n"
     ]
    },
    {
     "name": "stderr",
     "output_type": "stream",
     "text": [
      "2018-03-01 09:11:51,231 - INFO - updating model to time 2000-01-17\n",
      "2018-03-01 09:11:51,231 pcrglobwb_bmi_v203.pcrglobwb INFO updating model to time 2000-01-17\n",
      "2018-03-01 09:11:52,414 - INFO - PCR -> start_time: 2000-01-01, current_time 2000-01-17, timestep 17\n",
      "2018-03-01 09:11:52,414 coupling_PCR_FM.model_functions_v2 INFO PCR -> start_time: 2000-01-01, current_time 2000-01-17, timestep 17\n",
      "2018-03-01 09:11:52,516 - INFO - CMF -> start_time: 2000-01-01 00:00:00, current_time 2000-01-18 00:00:00, timestep 86400.0\n",
      "2018-03-01 09:11:52,516 coupling_PCR_FM.model_functions_v2 INFO CMF -> start_time: 2000-01-01 00:00:00, current_time 2000-01-18 00:00:00, timestep 86400.0\n",
      "2018-03-01 09:11:52,523 - INFO - reading forcings for time 2000-01-18\n",
      "2018-03-01 09:11:52,523 pcrglobwb_bmi_v203.pcrglobwb INFO reading forcings for time 2000-01-18\n"
     ]
    },
    {
     "name": "stdout",
     "output_type": "stream",
     "text": [
      "sum runoff PCR * cellarea PCR: 1.271e+08\n"
     ]
    },
    {
     "name": "stderr",
     "output_type": "stream",
     "text": [
      "2018-03-01 09:11:52,882 - INFO - updating model to time 2000-01-18\n",
      "2018-03-01 09:11:52,882 pcrglobwb_bmi_v203.pcrglobwb INFO updating model to time 2000-01-18\n",
      "2018-03-01 09:11:54,068 - INFO - PCR -> start_time: 2000-01-01, current_time 2000-01-18, timestep 18\n",
      "2018-03-01 09:11:54,068 coupling_PCR_FM.model_functions_v2 INFO PCR -> start_time: 2000-01-01, current_time 2000-01-18, timestep 18\n",
      "2018-03-01 09:11:54,167 - INFO - CMF -> start_time: 2000-01-01 00:00:00, current_time 2000-01-19 00:00:00, timestep 86400.0\n",
      "2018-03-01 09:11:54,167 coupling_PCR_FM.model_functions_v2 INFO CMF -> start_time: 2000-01-01 00:00:00, current_time 2000-01-19 00:00:00, timestep 86400.0\n",
      "2018-03-01 09:11:54,172 - INFO - reading forcings for time 2000-01-19\n",
      "2018-03-01 09:11:54,172 pcrglobwb_bmi_v203.pcrglobwb INFO reading forcings for time 2000-01-19\n"
     ]
    },
    {
     "name": "stdout",
     "output_type": "stream",
     "text": [
      "sum runoff PCR * cellarea PCR: 1.238e+08\n"
     ]
    },
    {
     "name": "stderr",
     "output_type": "stream",
     "text": [
      "2018-03-01 09:11:54,450 - INFO - updating model to time 2000-01-19\n",
      "2018-03-01 09:11:54,450 pcrglobwb_bmi_v203.pcrglobwb INFO updating model to time 2000-01-19\n",
      "2018-03-01 09:11:55,602 - INFO - PCR -> start_time: 2000-01-01, current_time 2000-01-19, timestep 19\n",
      "2018-03-01 09:11:55,602 coupling_PCR_FM.model_functions_v2 INFO PCR -> start_time: 2000-01-01, current_time 2000-01-19, timestep 19\n",
      "2018-03-01 09:11:55,709 - INFO - CMF -> start_time: 2000-01-01 00:00:00, current_time 2000-01-20 00:00:00, timestep 86400.0\n",
      "2018-03-01 09:11:55,709 coupling_PCR_FM.model_functions_v2 INFO CMF -> start_time: 2000-01-01 00:00:00, current_time 2000-01-20 00:00:00, timestep 86400.0\n",
      "2018-03-01 09:11:55,714 - INFO - reading forcings for time 2000-01-20\n",
      "2018-03-01 09:11:55,714 pcrglobwb_bmi_v203.pcrglobwb INFO reading forcings for time 2000-01-20\n"
     ]
    },
    {
     "name": "stdout",
     "output_type": "stream",
     "text": [
      "sum runoff PCR * cellarea PCR: 2.303e+06\n"
     ]
    },
    {
     "name": "stderr",
     "output_type": "stream",
     "text": [
      "2018-03-01 09:11:56,108 - INFO - updating model to time 2000-01-20\n",
      "2018-03-01 09:11:56,108 pcrglobwb_bmi_v203.pcrglobwb INFO updating model to time 2000-01-20\n",
      "2018-03-01 09:11:57,269 - INFO - PCR -> start_time: 2000-01-01, current_time 2000-01-20, timestep 20\n",
      "2018-03-01 09:11:57,269 coupling_PCR_FM.model_functions_v2 INFO PCR -> start_time: 2000-01-01, current_time 2000-01-20, timestep 20\n",
      "2018-03-01 09:11:57,322 - INFO - CMF -> start_time: 2000-01-01 00:00:00, current_time 2000-01-21 00:00:00, timestep 86400.0\n",
      "2018-03-01 09:11:57,322 coupling_PCR_FM.model_functions_v2 INFO CMF -> start_time: 2000-01-01 00:00:00, current_time 2000-01-21 00:00:00, timestep 86400.0\n"
     ]
    },
    {
     "name": "stdout",
     "output_type": "stream",
     "text": [
      "sum runoff PCR * cellarea PCR: 3.528e+07\n"
     ]
    }
   ],
   "source": [
    "#TODO: add algorithm to write CMF->DFM\n",
    "\n",
    "updateStep = 86400.\n",
    "\n",
=======
   "outputs": [],
   "source": [
>>>>>>> c994941e1ead959222481e23652e7a0850f8b8fd
    "# run coupled model for 2 timesteps\n",
    "for i in range(2):\n",
    "    PCR_bmi.update()\n",
    "    set_CMF_runoff()\n",
    "    CMF_bmi.update()\n",
<<<<<<< HEAD
    "#    set_DFM_discharge_and_update(updateStep) # kernel dies"
   ]
  },
  {
   "cell_type": "code",
   "execution_count": 14,
   "metadata": {},
   "outputs": [
    {
     "data": {
      "text/plain": [
       "<matplotlib.colorbar.Colorbar at 0x7f98651ed2d0>"
      ]
     },
     "execution_count": 14,
     "metadata": {},
     "output_type": "execute_result"
    },
    {
     "data": {
      "image/png": "iVBORw0KGgoAAAANSUhEUgAAA6IAAAHWCAYAAABt1DR5AAAABHNCSVQICAgIfAhkiAAAAAlwSFlz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\n",
      "text/plain": [
       "<matplotlib.figure.Figure at 0x7f98654957d0>"
      ]
     },
     "metadata": {},
     "output_type": "display_data"
    }
   ],
   "source": [
    "outflw = np.copy(CMF_bmi.get_var('outflw'))\n",
    "runoff = np.copy(PCR_bmi.get_var('landSurfaceRunoff'))\n",
    "\n",
    "plt.figure(figsize=(16,8))\n",
    "plt.subplot(121)\n",
    "plt.imshow(outflw)\n",
    "plt.colorbar()\n",
    "plt.subplot(122)\n",
    "plt.imshow(runoff)\n",
    "plt.colorbar()"
   ]
  },
  {
   "cell_type": "code",
   "execution_count": 15,
   "metadata": {},
   "outputs": [
    {
     "name": "stdout",
     "output_type": "stream",
     "text": [
      "98312 53638\n"
     ]
    }
   ],
   "source": [
    "# no clue what q1 is and why it has much more entries than total cells in DFM model... ask Arthur?\n",
    "# q1 = np.copy(DFM_bmi.get_var('q1'))\n",
    "# print len(q1), len(area_all)"
   ]
  },
  {
   "cell_type": "code",
   "execution_count": 16,
   "metadata": {},
   "outputs": [
    {
     "name": "stderr",
     "output_type": "stream",
     "text": [
      "2018-03-01 09:11:58,161 - INFO - NULL pointer returned\n",
      "2018-03-01 09:11:58,161 bmi.wrapper INFO NULL pointer returned\n"
     ]
    },
    {
     "data": {
      "text/plain": [
       "array(None, dtype=object)"
      ]
     },
     "execution_count": 16,
     "metadata": {},
     "output_type": "execute_result"
    }
   ],
   "source": [
    "# there is a variable qtotal_1d2d but it returns a NULL pointer for me... different for you?\n",
    "# DFM_bmi.get_var('qtotal_1d2d')"
=======
    "    set_DFM_discharge()\n",
    "    DFM_bmi.update()\n"
>>>>>>> c994941e1ead959222481e23652e7a0850f8b8fd
   ]
  },
  {
   "cell_type": "markdown",
   "metadata": {},
   "source": [
    "## Finalize models"
   ]
  },
  {
   "cell_type": "code",
   "execution_count": null,
   "metadata": {},
<<<<<<< HEAD
   "outputs": [
    {
     "name": "stderr",
     "output_type": "stream",
     "text": [
      "2018-03-01 09:11:58,271 - INFO - cd /home/jannis/PhD/code/GLOFRIMplusCAMA/glofrim\n",
      "2018-03-01 09:11:58,271 bmi.wrapper INFO cd /home/jannis/PhD/code/GLOFRIMplusCAMA/glofrim\n",
      "2018-03-01 09:11:58,273 - INFO - cd /home/jannis/PhD/code/GLOFRIMplusCAMA/glofrim\n",
      "2018-03-01 09:11:58,273 bmi.wrapper INFO cd /home/jannis/PhD/code/GLOFRIMplusCAMA/glofrim\n"
     ]
    }
   ],
=======
   "outputs": [],
>>>>>>> c994941e1ead959222481e23652e7a0850f8b8fd
   "source": [
    "PCR_bmi.finalize()\n",
    "CMF_bmi.finalize()\n",
    "DFM_bmi.finalize()\n"
   ]
  }
 ],
 "metadata": {
  "anaconda-cloud": {},
  "kernelspec": {
<<<<<<< HEAD
   "display_name": "Python [default]",
=======
   "display_name": "Python [conda env:glofrim]",
>>>>>>> c994941e1ead959222481e23652e7a0850f8b8fd
   "language": "python",
   "name": "conda-env-glofrim-py"
  },
  "language_info": {
   "codemirror_mode": {
    "name": "ipython",
    "version": 2
   },
   "file_extension": ".py",
   "mimetype": "text/x-python",
   "name": "python",
   "nbconvert_exporter": "python",
   "pygments_lexer": "ipython2",
   "version": "2.7.12"
  }
 },
 "nbformat": 4,
 "nbformat_minor": 2
}
