{
 "cells": [
  {
   "cell_type": "markdown",
   "metadata": {},
   "source": [
    "# GLOFRIM 2.0 - Interactive notebook"
   ]
  },
  {
   "cell_type": "markdown",
   "metadata": {},
   "source": [
    "### Import libs"
   ]
  },
  {
   "cell_type": "markdown",
   "metadata": {},
   "source": [
    "First of all, import all required libraries. We start with the ones actually needed to execute GLOFRIM."
   ]
  },
  {
   "cell_type": "code",
   "execution_count": null,
   "metadata": {},
   "outputs": [],
   "source": [
    "import netCDF4\n",
    "from glofrim import Glofrim, PCR, CMF"
   ]
  },
  {
   "cell_type": "markdown",
   "metadata": {},
   "source": [
    "And then other libs only needed for this notebook, e.g. for plotting"
   ]
  },
  {
   "cell_type": "code",
   "execution_count": null,
   "metadata": {},
   "outputs": [],
   "source": [
    "%matplotlib inline\n",
    "import netCDF4\n",
    "from os.path import join\n",
    "import numpy as np\n",
    "import matplotlib.tri as tri\n",
    "import matplotlib.pyplot as plt\n",
    "import cartopy.crs as ccrs\n",
    "from cartopy.mpl.gridliner import LONGITUDE_FORMATTER, LATITUDE_FORMATTER\n",
    "import matplotlib\n",
    "from matplotlib import cm\n",
    "import pandas as pd"
   ]
  },
  {
   "cell_type": "markdown",
   "metadata": {},
   "source": [
    "We could also need some auxiliary functions for plotting etc"
   ]
  },
  {
   "cell_type": "code",
   "execution_count": null,
   "metadata": {},
   "outputs": [],
   "source": [
    "def make_map(projection=ccrs.PlateCarree(), bounds=None, figsize=(6, 6)):\n",
    "    fig, ax = plt.subplots(figsize=figsize, subplot_kw=dict(projection=projection))\n",
    "    gl = ax.gridlines(draw_labels=True)\n",
    "    gl.xlabels_top = gl.ylabels_right = False\n",
    "    gl.xformatter = LONGITUDE_FORMATTER\n",
    "    gl.yformatter = LATITUDE_FORMATTER\n",
    "    if bounds:\n",
    "        xmin, ymin, xmax, ymax = bounds\n",
    "        ax.set_xlim([xmin, xmax])\n",
    "        ax.set_ylim([ymin, ymax])\n",
    "    return fig, ax"
   ]
  },
  {
   "cell_type": "markdown",
   "metadata": {},
   "source": [
    "### Set paths to model files and executables"
   ]
  },
  {
   "cell_type": "markdown",
   "metadata": {},
   "source": [
    "We now need to specify all paths to the model settings files, e.g. ini-file for PCR-GLOBWB or mdu-file for Delft3D FM."
   ]
  },
  {
   "cell_type": "code",
   "execution_count": null,
   "metadata": {},
   "outputs": [],
   "source": [
    "ini_file = r'glofrim_PCR2CMF_demo.ini'\n",
    "# ini_file = r'../test_Bangla/glofrim_PCR2CMF.ini'"
   ]
  },
  {
   "cell_type": "markdown",
   "metadata": {},
   "source": [
    "In case you work with different computer environments on a shared directory, paths to the local model executables can be provided in a separate env-file.\n",
    "NOTE: Don't confuse this with the environment.yml file!"
   ]
  },
  {
   "cell_type": "markdown",
   "metadata": {},
   "source": [
    "### Initialize the run with 2-step initialization (step 1/2)"
   ]
  },
  {
   "cell_type": "markdown",
   "metadata": {},
   "source": [
    "The model configuration files do not necessarily match with the GLOFRIM settings. They hence must be aligned and initialized first."
   ]
  },
  {
   "cell_type": "code",
   "execution_count": null,
   "metadata": {},
   "outputs": [],
   "source": [
    "cbmi = Glofrim()\n",
    "cbmi.initialize_config(config_fn=ini_file)"
   ]
  },
  {
   "cell_type": "code",
   "execution_count": null,
   "metadata": {},
   "outputs": [],
   "source": [
    "#- double checking which models are coupled\n",
    "models = cbmi.bmimodels.keys()\n",
    "print(models)"
   ]
  },
  {
   "cell_type": "code",
   "execution_count": null,
   "metadata": {},
   "outputs": [],
   "source": [
    "#- we can also check which variables are exchanged between the models\n",
    "cbmi.exchanges"
   ]
  },
  {
   "cell_type": "markdown",
   "metadata": {},
   "source": [
    "### the grid module"
   ]
  },
  {
   "cell_type": "code",
   "execution_count": null,
   "metadata": {},
   "outputs": [],
   "source": [
    "cbmi.bmimodels['CMF'].get_grid()\n",
    "cbmi.bmimodels['PCR'].get_grid()"
   ]
  },
  {
   "cell_type": "markdown",
   "metadata": {},
   "source": [
    "define coordinates of observatoin stations (here: Obidos)"
   ]
  },
  {
   "cell_type": "code",
   "execution_count": null,
   "metadata": {},
   "outputs": [],
   "source": [
    "# update if you're not running the Amazon model\n",
    "x_obs_coord = -55.081092\n",
    "y_obs_coord = -2.172760"
   ]
  },
  {
   "cell_type": "code",
   "execution_count": null,
   "metadata": {},
   "outputs": [],
   "source": [
    "obs_ind = dict()\n",
    "obs_xy = dict()\n",
    "for mod in models:\n",
    "    obs_ind[mod] = cbmi.index(x_obs_coord, y_obs_coord, mod, in1d=False)\n",
    "    obs_xy[mod] = cbmi.bmimodels[mod].grid.xy(ind=obs_ind[mod]) # not for ugrid\n",
    "    \n",
    "obs_ind"
   ]
  },
  {
   "cell_type": "markdown",
   "metadata": {},
   "source": [
    "visualize the grid. use upastream area to color the 1d CMF network"
   ]
  },
  {
   "cell_type": "code",
   "execution_count": null,
   "metadata": {},
   "outputs": [],
   "source": [
    "# read uparea for color\n",
    "uparea_fn = join(cbmi.bmimodels['CMF']._mapdir, 'uparea.bin')\n",
    "uparea = np.fromfile(uparea_fn, dtype=np.float32).reshape(cbmi.bmimodels['CMF'].grid.height, cbmi.bmimodels['CMF'].grid.width)\n",
    "uparea = uparea.flat[cbmi.bmimodels['CMF'].grid._1d.us_idx]"
   ]
  },
  {
   "cell_type": "code",
   "execution_count": null,
   "metadata": {},
   "outputs": [],
   "source": [
    "%matplotlib notebook\n",
    "import matplotlib as mpl\n",
    "from os.path import join\n",
    "\n",
    "# plot\n",
    "fig, ax = make_map(bounds=cbmi.bmimodels['PCR'].grid.bounds, figsize=(10,10))\n",
    "grid_collection = cbmi.bmimodels['PCR'].grid.plot_2d(ax=ax)\n",
    "quiv_collection = cbmi.bmimodels['CMF'].grid.plot_1d(ax=ax, c=uparea, norm=mpl.colors.LogNorm(), cmap='Blues')\n",
    "ax.scatter(x_obs_coord, y_obs_coord, color='r', s=36)"
   ]
  },
  {
   "cell_type": "markdown",
   "metadata": {},
   "source": [
    "### Aligning simulation period of coupled model"
   ]
  },
  {
   "cell_type": "markdown",
   "metadata": {},
   "source": [
    "GLOFRIM automatically sets the model time depending on the dates provided by the coupled models. That means that only the period will be modelled by GLOFRIM which both models have in common.\n",
    "\n",
    "Let's first see whether GLOFRIM detects differences in start and end time of models and defines the right period for the coupled run:"
   ]
  },
  {
   "cell_type": "code",
   "execution_count": null,
   "metadata": {},
   "outputs": [],
   "source": [
    "for mod in models:\n",
    "    start_time = cbmi.bmimodels[mod].get_start_time()\n",
    "    end_time = cbmi.bmimodels[mod].get_end_time()\n",
    "    print '{:s}: start date {}; end date {}'.format(mod, start_time.date(), end_time.date())"
   ]
  },
  {
   "cell_type": "code",
   "execution_count": null,
   "metadata": {},
   "outputs": [],
   "source": [
    "start_time = cbmi.get_start_time()\n",
    "end_time = cbmi.get_end_time()\n",
    "print 'GLOFRIM: start date {}; end date {}'.format(start_time.date(), end_time.date())"
   ]
  },
  {
   "cell_type": "markdown",
   "metadata": {},
   "source": [
    "We see that GLOFRIM picks the earlier end time from CMF and uses this as end date for the coupled run.\n",
    "\n",
    "But maybe we just want to simulate a shorter period (e.g. for lunch lectures) and thus set it to a user-specified end date."
   ]
  },
  {
   "cell_type": "code",
   "execution_count": null,
   "metadata": {},
   "outputs": [],
   "source": [
    "cbmi.set_end_time('2005-05-01')\n",
    "new_end_time = cbmi.get_end_time()\n",
    "end_time = new_end_time\n",
    "print 'GLOFRIM: start date {}; end date {}'.format(start_time.date(), end_time.date())"
   ]
  },
  {
   "cell_type": "markdown",
   "metadata": {},
   "source": [
    "### Initialize the run with 2-step initialization (step 2/2)"
   ]
  },
  {
   "cell_type": "markdown",
   "metadata": {},
   "source": [
    "Great! We now have different models coupled in one coupled model instance and the configuration files are aligned. This instance, and therefore the individual models, can now be initialized!"
   ]
  },
  {
   "cell_type": "code",
   "execution_count": null,
   "metadata": {
    "scrolled": true
   },
   "outputs": [],
   "source": [
    "cbmi.initialize_model()"
   ]
  },
  {
   "cell_type": "markdown",
   "metadata": {},
   "source": [
    "### Something easy for the start - basic skills of the BMI"
   ]
  },
  {
   "cell_type": "markdown",
   "metadata": {},
   "source": [
    "Run one time step"
   ]
  },
  {
   "cell_type": "code",
   "execution_count": null,
   "metadata": {},
   "outputs": [],
   "source": [
    "cbmi.update()"
   ]
  },
  {
   "cell_type": "markdown",
   "metadata": {},
   "source": [
    "get some outputs"
   ]
  },
  {
   "cell_type": "code",
   "execution_count": null,
   "metadata": {},
   "outputs": [],
   "source": [
    "PCR_runoff = cbmi.get_value('PCR.runoff')\n",
    "PCR_runoff"
   ]
  },
  {
   "cell_type": "markdown",
   "metadata": {},
   "source": [
    "### Run coupled model"
   ]
  },
  {
   "cell_type": "code",
   "execution_count": null,
   "metadata": {},
   "outputs": [],
   "source": [
    "from bokeh.plotting import figure, show\n",
    "from bokeh.models.sources import ColumnDataSource\n",
    "from bokeh.io import output_notebook, push_notebook\n",
    "import time\n",
    "from datetime import datetime, timedelta\n",
    "%matplotlib inline\n",
    "output_notebook()\n",
    "\n",
    "\n",
    "discharge_vars = {'PCR': 'PCR.discharge', 'CMF': 'CMF.outflw'}\n",
    "discharge_data = ColumnDataSource(data = {k: [] for k in ['time'] + discharge_vars.keys()})\n",
    "\n",
    "p = figure(title=\"GLOFRIM discharge simulations\", plot_height=350, plot_width=800, x_axis_type='datetime')\n",
    "line_pcr = p.line(\"time\", \"PCR\", source=discharge_data, color=\"red\", legend='PCRGLOB-WB')\n",
    "line_cmf = p.line(\"time\", \"CMF\", source=discharge_data, color=\"green\", legend='CaMa-Flood')\n",
    "p.yaxis.bounds = (1e3, 5e5)\n",
    "p.yaxis.axis_label = 'Discharge [m3/s]'\n",
    "p.legend.location = 'top_left'\n",
    "target = show(p, notebook_handle=True)"
   ]
  },
  {
   "cell_type": "markdown",
   "metadata": {},
   "source": [
    "Then the coupled models are updated until the GLOFRIM end time is reached:"
   ]
  },
  {
   "cell_type": "code",
   "execution_count": null,
   "metadata": {
    "scrolled": false
   },
   "outputs": [],
   "source": [
    "while cbmi.get_current_time() < cbmi.get_end_time():\n",
    "    cbmi.update()\n",
    "    new_data = dict(time=[cbmi.get_current_time()])\n",
    "    for mod in discharge_vars:\n",
    "        new_data.update({mod: cbmi.get_value_at_indices(discharge_vars[mod], obs_ind[mod])})\n",
    "    discharge_data.stream(new_data)\n",
    "    push_notebook(handle=target)"
   ]
  },
  {
   "cell_type": "markdown",
   "metadata": {},
   "source": [
    "To correctly close all model processes and variables, the coupled models are finalized"
   ]
  },
  {
   "cell_type": "code",
   "execution_count": null,
   "metadata": {},
   "outputs": [],
   "source": [
    "cbmi.finalize()"
   ]
  },
  {
   "cell_type": "markdown",
   "metadata": {},
   "source": [
    "Sweet, that's it!"
   ]
  }
 ],
 "metadata": {
  "kernelspec": {
   "display_name": "Python [default]",
   "language": "python",
   "name": "python2"
  },
  "language_info": {
   "codemirror_mode": {
    "name": "ipython",
    "version": 2
   },
   "file_extension": ".py",
   "mimetype": "text/x-python",
   "name": "python",
   "nbconvert_exporter": "python",
   "pygments_lexer": "ipython2",
   "version": "2.7.15"
  }
 },
 "nbformat": 4,
 "nbformat_minor": 2
}
