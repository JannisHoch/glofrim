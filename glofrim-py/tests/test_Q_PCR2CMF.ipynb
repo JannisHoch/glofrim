{
 "cells": [
  {
   "cell_type": "code",
   "execution_count": 1,
   "metadata": {},
   "outputs": [],
   "source": [
    "%matplotlib inline\n",
    "\n",
    "#- import required python libraries\n",
    "import netCDF4\n",
    "import sys, os\n",
    "import numpy as np\n",
    "import matplotlib as mpl\n",
    "import matplotlib.pyplot as plt\n",
    "from datetime import datetime\n",
    "import glofrim.glofrim_lib as glib\n",
    "from os.path import join, isfile, abspath, dirname, basename, normpath\n",
    "from configparser import ConfigParser\n",
    "from glofrim.glofrim_lib import configread"
   ]
  },
  {
   "cell_type": "code",
   "execution_count": 2,
   "metadata": {},
   "outputs": [],
   "source": [
    "from glofrim import Glofrim, PCR, CMF\n",
    "cbmi = Glofrim()"
   ]
  },
  {
   "cell_type": "code",
   "execution_count": 3,
   "metadata": {},
   "outputs": [],
   "source": [
    "#- provide file with local paths to model objects\n",
    "env_fn = r'../../environment.env'\n",
    "config = configread(env_fn)\n",
    "root_dir = config.get('models', 'root_dir')"
   ]
  },
  {
   "cell_type": "code",
   "execution_count": 4,
   "metadata": {},
   "outputs": [
    {
     "data": {
      "text/plain": [
       "OrderedDict([(u'engines',\n",
       "              OrderedDict([('CMF',\n",
       "                            u'/home/jannis/Programmes/cama-flood_bmi_v3.6.2/src/libcama.so'),\n",
       "                           ('DFM',\n",
       "                            u'/home/jannis/Programmes/DFLOWFM/lib/libdflowfm.so'),\n",
       "                           ('LFP',\n",
       "                            u'/home/jannis/Programmes/lisflood-bmi-v5.9/liblisflood.so')])),\n",
       "             (u'models',\n",
       "              OrderedDict([('root_dir',\n",
       "                            u'/home/jannis/PhD/code/GLOFRIMplusCAMA/model_test_data/test_Elbe')]))])"
      ]
     },
     "execution_count": 4,
     "metadata": {},
     "output_type": "execute_result"
    }
   ],
   "source": [
    "#- convert model configs to dictionary\n",
    "_cf = ConfigParser(inline_comment_prefixes=('#'))\n",
    "env = glib.configread(abspath(env_fn), encoding='utf-8', cf=_cf)\n",
    "glib.config2dict(env)"
   ]
  },
  {
   "cell_type": "code",
   "execution_count": 5,
   "metadata": {},
   "outputs": [
    {
     "data": {
      "text/plain": [
       "u'/home/jannis/PhD/code/GLOFRIMplusCAMA/model_test_data/test_Elbe/glofrim_PCR2CMF.ini'"
      ]
     },
     "execution_count": 5,
     "metadata": {},
     "output_type": "execute_result"
    }
   ],
   "source": [
    "#- provide file with coupling settings\n",
    "config_fn = join(root_dir, 'glofrim_PCR2CMF.ini')\n",
    "# config_fn = join(root_dir, 'glofrim_PCR2DFM.ini')\n",
    "# config_fn = join(root_dir, 'glofrim_WFL2DFM.ini')\n",
    "# config_fn = join(root_dir, 'glofrim_PCR2LFP.ini')\n",
    "config_fn"
   ]
  },
  {
   "cell_type": "code",
   "execution_count": 6,
   "metadata": {},
   "outputs": [],
   "source": [
    "#- provide locations where to extract simulated discharge\n",
    "x_obs_coord = 10.89 # set to coords of Neu-Darchau\n",
    "y_obs_coord = 53.23"
   ]
  },
  {
   "cell_type": "code",
   "execution_count": 7,
   "metadata": {},
   "outputs": [
    {
     "name": "stderr",
     "output_type": "stream",
     "text": [
      "2018-07-24 12:08:38,732 - PCR - INFO - Config initialized\n",
      "2018-07-24 12:08:38,748 - CMF - INFO - Config initialized\n"
     ]
    }
   ],
   "source": [
    "#- create coupled GLOFRIM model and initialize configs\n",
    "try:\n",
    "    cbmi.initialize_config(config_fn, env_fn=env_fn)\n",
    "except Exception as e:\n",
    "    print e\n",
    "    sys.exit('configs could not be initialized')"
   ]
  },
  {
   "cell_type": "code",
   "execution_count": 8,
   "metadata": {},
   "outputs": [],
   "source": [
    "#- provide start and end date\n",
    "t_start = datetime(2000,1,1)\n",
    "t_end = datetime(2000,1,3)\n",
    "cbmi.set_start_time(t_start)\n",
    "cbmi.set_end_time(t_end)\n",
    "try:\n",
    "    t_start == cbmi.get_start_time()\n",
    "    t_end == cbmi.get_end_time()\n",
    "except:\n",
    "    sys.exit('start or end time differ with set_var and get_var')"
   ]
  },
  {
   "cell_type": "code",
   "execution_count": 9,
   "metadata": {},
   "outputs": [
    {
     "name": "stderr",
     "output_type": "stream",
     "text": [
      "2018-07-24 12:08:38,847 - PCR - INFO - Getting rgrid info based on landmask_elbe_30min.map\n",
      "2018-07-24 12:08:38,850 - PCR - INFO - Getting drainage direction from ldd_elbe_30min.map\n",
      "2018-07-24 12:08:38,853 - CMF - INFO - Getting Unit-Catchment Grid info based on nextxy.tif\n",
      "2018-07-24 12:08:38,855 - CMF - INFO - Getting drainage direction from nextxy.tif\n",
      "2018-07-24 12:08:38,903 - PCR - WARNING - /home/jannis/PhD/code/GLOFRIMplusCAMA/model_test_data/test_Elbe/PCR_Elbe/setup_PCR_30min_Elbe_glofrim.ini file overwritten\n",
      "2018-07-24 12:08:38,906 - PCR - INFO - Ini file written to /home/jannis/PhD/code/GLOFRIMplusCAMA/model_test_data/test_Elbe/PCR_Elbe/setup_PCR_30min_Elbe_glofrim.ini\n",
      "2018-07-24 12:08:38,912 pcrglobwb_bmi_v203.configuration INFO Model run started at 2018-07-24 12:08:38.908038\n",
      "2018-07-24 12:08:38,913 pcrglobwb_bmi_v203.configuration INFO Logging output to /home/jannis/PhD/code/GLOFRIMplusCAMA/experiment_GLOFRIM2/PCR/log/setup_PCR_30min_Elbe.ini_2018-07-24T12:08:38.908038.log\n",
      "2018-07-24 12:08:38,915 pcrglobwb_bmi_v203.configuration INFO Note that avgSurfaceWaterInputLongIni is not used and not needed.\n",
      "2018-07-24 12:08:38,916 pcrglobwb_bmi_v203.configuration INFO The initial condition \"subDischargeIni\" is not defined. Either \"avgDischargeShortIni\" or \"avgDischargeLongIni\" is used in this run. Note that the \"subDischargeIni\" is only relevant if kinematic wave approaches are used.\n",
      "2018-07-24 12:08:38,917 pcrglobwb_bmi_v203.currTimeStep INFO number of time steps :731\n",
      "2018-07-24 12:08:39,210 pcrglobwb_bmi_v203.meteo INFO No forcing downscaling is implemented.\n",
      "2018-07-24 12:08:47,198 pcrglobwb_bmi_v203.deterministic_runner INFO Adjusting some model parameters based on given values in the ini/configuration file.\n",
      "2018-07-24 12:08:47,200 pcrglobwb_bmi_v203.deterministic_runner INFO \n",
      "\n",
      "Multiplier values used: \n",
      "For minSoilDepthFrac           : 1.0\n",
      "For kSat (log-scale)           : 0.0\n",
      "For recessionCoeff (log-scale) : 1.0\n",
      "For storCap                    : 1.25\n",
      "For degreeDayFactor            : 1.0\n",
      "For refPotET                   : 1.0\n",
      "\n",
      "2018-07-24 12:08:47,202 pcrglobwb_bmi_v203.pcrglobwb_bmi INFO Model initialized. Spin-up might be required.\n",
      "2018-07-24 12:08:47,203 - PCR - INFO - Model initialized\n",
      "2018-07-24 12:08:47,203 PCR INFO Model initialized\n",
      "2018-07-24 12:08:47,206 - CMF - WARNING - /home/jannis/PhD/code/GLOFRIMplusCAMA/model_test_data/test_Elbe/CMF_Elbe/input_flood.nam file overwritten\n",
      "2018-07-24 12:08:47,206 CMF WARNING /home/jannis/PhD/code/GLOFRIMplusCAMA/model_test_data/test_Elbe/CMF_Elbe/input_flood.nam file overwritten\n",
      "2018-07-24 12:08:47,209 - CMF - INFO - Ini file written to /home/jannis/PhD/code/GLOFRIMplusCAMA/model_test_data/test_Elbe/CMF_Elbe/input_flood.nam\n",
      "2018-07-24 12:08:47,209 CMF INFO Ini file written to /home/jannis/PhD/code/GLOFRIMplusCAMA/model_test_data/test_Elbe/CMF_Elbe/input_flood.nam\n",
      "2018-07-24 12:08:47,211 bmi.wrapper INFO Loading model /home/jannis/PhD/code/GLOFRIMplusCAMA/model_test_data/test_Elbe/CMF_Elbe/input_flood.nam in directory /home/jannis/PhD/code/GLOFRIMplusCAMA/model_test_data/test_Elbe/CMF_Elbe\n",
      "2018-07-24 12:08:47,214 - CMF - INFO - Model initialized\n",
      "2018-07-24 12:08:47,214 CMF INFO Model initialized\n"
     ]
    }
   ],
   "source": [
    "#- create coupled GLOFRIM model and initialize models\n",
    "try:\n",
    "    cbmi.initialize_model()\n",
    "except Exception as e:\n",
    "    print e\n",
    "    sys.exit('models could not be initialized')"
   ]
  },
  {
   "cell_type": "code",
   "execution_count": 10,
   "metadata": {},
   "outputs": [
    {
     "name": "stderr",
     "output_type": "stream",
     "text": [
      "2018-07-24 12:08:47,225 rasterio.env DEBUG Entering env context: <rasterio.env.Env object at 0x7fe64537bd10>\n",
      "2018-07-24 12:08:47,226 rasterio.env DEBUG Starting outermost env\n",
      "2018-07-24 12:08:47,228 rasterio.env DEBUG No GDAL environment exists\n",
      "2018-07-24 12:08:47,229 rasterio.env DEBUG New GDAL environment <rasterio._env.GDALEnv object at 0x7fe64a840f10> created\n",
      "2018-07-24 12:08:47,230 rasterio._env DEBUG Logging error handler pushed.\n",
      "2018-07-24 12:08:47,232 rasterio._env DEBUG All drivers registered.\n",
      "2018-07-24 12:08:47,233 rasterio._env DEBUG Started GDALEnv <rasterio._env.GDALEnv object at 0x7fe64a840f10>.\n",
      "2018-07-24 12:08:47,234 rasterio.env DEBUG Entered env context: <rasterio.env.Env object at 0x7fe64537bd10>\n",
      "2018-07-24 12:08:47,236 rasterio._base DEBUG Got coordinate system\n",
      "2018-07-24 12:08:47,237 rasterio._base DEBUG Authority key: EPSG, value: 4326\n",
      "2018-07-24 12:08:47,238 rasterio._base DEBUG Nodata success: 1, Nodata value: -9999.000000\n",
      "2018-07-24 12:08:47,239 rasterio._base DEBUG Nodata success: 1, Nodata value: -9999.000000\n",
      "2018-07-24 12:08:47,241 rasterio._base DEBUG Dataset <open DatasetReader name='/home/jannis/PhD/code/GLOFRIMplusCAMA/model_test_data/test_Elbe/CMF_Elbe/hires/reg.catmxy.tif' mode='r'> is started.\n",
      "2018-07-24 12:08:47,242 rasterio.env DEBUG Exiting env context: <rasterio.env.Env object at 0x7fe64537bd10>\n",
      "2018-07-24 12:08:47,243 rasterio._env DEBUG Unset option CHECK_WITH_INVERT_PROJ in env <rasterio._env.GDALEnv object at 0x7fe64a840f10>\n",
      "2018-07-24 12:08:47,244 rasterio._env DEBUG Unset option RASTERIO_ENV in env <rasterio._env.GDALEnv object at 0x7fe64a840f10>\n",
      "2018-07-24 12:08:47,246 rasterio._env DEBUG Unset option GTIFF_IMPLICIT_JPEG_OVR in env <rasterio._env.GDALEnv object at 0x7fe64a840f10>\n",
      "2018-07-24 12:08:47,247 rasterio.env DEBUG Cleared existing <rasterio._env.GDALEnv object at 0x7fe64a840f10> options\n",
      "2018-07-24 12:08:47,248 rasterio._env DEBUG Stopping GDALEnv <rasterio._env.GDALEnv object at 0x7fe64a840f10>.\n",
      "2018-07-24 12:08:47,250 rasterio._env DEBUG Error handler popped.\n",
      "2018-07-24 12:08:47,251 rasterio._env DEBUG Stopped GDALEnv <rasterio._env.GDALEnv object at 0x7fe64a840f10>.\n",
      "2018-07-24 12:08:47,252 rasterio.env DEBUG Exiting outermost env\n",
      "2018-07-24 12:08:47,253 rasterio.env DEBUG Exited env context: <rasterio.env.Env object at 0x7fe64537bd10>\n",
      "2018-07-24 12:08:47,255 rasterio._base DEBUG Entering Dataset <open DatasetReader name='/home/jannis/PhD/code/GLOFRIMplusCAMA/model_test_data/test_Elbe/CMF_Elbe/hires/reg.catmxy.tif' mode='r'> context.\n",
      "2018-07-24 12:08:47,256 rasterio._io DEBUG Output nodata value read from file: -9999.0\n",
      "2018-07-24 12:08:47,257 rasterio._io DEBUG Output nodata values: [-9999.0]\n",
      "2018-07-24 12:08:47,259 rasterio._io DEBUG Jump straight to _read()\n",
      "2018-07-24 12:08:47,261 rasterio._io DEBUG Window: None\n",
      "2018-07-24 12:08:47,262 rasterio._io DEBUG IO window xoff=0.0 yoff=0.0 width=2000.0 height=1400.0\n",
      "2018-07-24 12:08:47,271 rasterio._io DEBUG Output nodata value read from file: -9999.0\n",
      "2018-07-24 12:08:47,273 rasterio._io DEBUG Output nodata values: [-9999.0]\n",
      "2018-07-24 12:08:47,275 rasterio._io DEBUG Jump straight to _read()\n",
      "2018-07-24 12:08:47,276 rasterio._io DEBUG Window: None\n",
      "2018-07-24 12:08:47,277 rasterio._io DEBUG IO window xoff=0.0 yoff=0.0 width=2000.0 height=1400.0\n",
      "2018-07-24 12:08:47,281 rasterio._base DEBUG Dataset <open DatasetReader name='/home/jannis/PhD/code/GLOFRIMplusCAMA/model_test_data/test_Elbe/CMF_Elbe/hires/reg.catmxy.tif' mode='r'> has been stopped.\n",
      "2018-07-24 12:08:47,282 rasterio._base DEBUG Dataset <closed DatasetReader name='/home/jannis/PhD/code/GLOFRIMplusCAMA/model_test_data/test_Elbe/CMF_Elbe/hires/reg.catmxy.tif' mode='r'> has been closed.\n",
      "2018-07-24 12:08:47,284 rasterio._base DEBUG Exited Dataset <closed DatasetReader name='/home/jannis/PhD/code/GLOFRIMplusCAMA/model_test_data/test_Elbe/CMF_Elbe/hires/reg.catmxy.tif' mode='r'> context.\n"
     ]
    },
    {
     "name": "stdout",
     "output_type": "stream",
     "text": [
      "[67]\n",
      "[255]\n"
     ]
    }
   ],
   "source": [
    "#- get corresponding indices for models\n",
    "obs_ind_PCR = cbmi.index(x_obs_coord, y_obs_coord, 'PCR', in1d=False)\n",
    "print obs_ind_PCR\n",
    "obs_ind_CMF = cbmi.index(x_obs_coord, y_obs_coord, 'CMF', in1d=False)\n",
    "print obs_ind_CMF"
   ]
  },
  {
   "cell_type": "code",
   "execution_count": 11,
   "metadata": {},
   "outputs": [
    {
     "name": "stderr",
     "output_type": "stream",
     "text": [
      "2018-07-24 12:08:47,358 pcrglobwb_bmi_v203.pcrglobwb INFO reading forcings for time 2000-01-01\n"
     ]
    },
    {
     "name": "stdout",
     "output_type": "stream",
     "text": [
      "running simulation from  2000-01-01 00:00:00  to  2000-01-03 00:00:00\n",
      "2000-01-01 00:00:00\n"
     ]
    },
    {
     "name": "stderr",
     "output_type": "stream",
     "text": [
      "2018-07-24 12:08:47,524 pcrglobwb_bmi_v203.pcrglobwb INFO updating model to time 2000-01-01\n",
      "2018-07-24 12:08:48,821 - CMF - INFO - updated model to datetime 2000-01-02\n",
      "2018-07-24 12:08:48,821 CMF INFO updated model to datetime 2000-01-02\n",
      "2018-07-24 12:08:48,825 pcrglobwb_bmi_v203.pcrglobwb INFO reading forcings for time 2000-01-02\n",
      "2018-07-24 12:08:48,984 pcrglobwb_bmi_v203.pcrglobwb INFO updating model to time 2000-01-02\n"
     ]
    },
    {
     "name": "stdout",
     "output_type": "stream",
     "text": [
      "[ 1364.76916504] [ 0.]\n",
      "2000-01-02 00:00:00\n"
     ]
    },
    {
     "name": "stderr",
     "output_type": "stream",
     "text": [
      "2018-07-24 12:08:49,673 - CMF - INFO - updated model to datetime 2000-01-03\n",
      "2018-07-24 12:08:49,673 CMF INFO updated model to datetime 2000-01-03\n"
     ]
    },
    {
     "name": "stdout",
     "output_type": "stream",
     "text": [
      "[ 2121.3828125] [ 0.]\n"
     ]
    }
   ],
   "source": [
    "#- update models until end time is reached\n",
    "#- also, read out discharge data at specified observation point\n",
    "print 'running simulation from ', str(cbmi.get_start_time()),' to ', str(cbmi.get_end_time())\n",
    "while cbmi.get_current_time() < cbmi.get_end_time():\n",
    "    print cbmi.get_current_time()\n",
    "    cbmi.update()\n",
    "    q_sim_PCR = cbmi.get_value_at_indices('PCR.discharge', obs_ind_PCR)\n",
    "    q_sim_CMF = cbmi.get_value_at_indices('CMF.outflw', obs_ind_CMF) # does not recognize CMF.rivout\n",
    "    print q_sim_PCR, q_sim_CMF # seems to work for PCR, not so much for CMF.outflw (it's always 0)"
   ]
  },
  {
   "cell_type": "code",
   "execution_count": 12,
   "metadata": {},
   "outputs": [
    {
     "name": "stdout",
     "output_type": "stream",
     "text": [
      "(40, 28)\n",
      "(14, 20)\n"
     ]
    }
   ],
   "source": [
    "#- check dimensions of output maps\n",
    "CMF_outflw = cbmi.get_value(\"CMF.outflw\")\n",
    "print CMF_outflw.shape \n",
    "PCR_discharge = cbmi.get_value('PCR.discharge')\n",
    "print PCR_discharge.shape"
   ]
  },
  {
   "cell_type": "code",
   "execution_count": 13,
   "metadata": {},
   "outputs": [
    {
     "data": {
      "text/plain": [
       "<matplotlib.image.AxesImage at 0x7fe67574fc90>"
      ]
     },
     "execution_count": 13,
     "metadata": {},
     "output_type": "execute_result"
    },
    {
     "data": {
      "image/png": "[encoded data removed]",
      "text/plain": [
       "<matplotlib.figure.Figure at 0x7fe675811490>"
      ]
     },
     "metadata": {},
     "output_type": "display_data"
    }
   ],
   "source": [
    "#- check whether plots are correct\n",
    "plt.figure(figsize=(10,10))\n",
    "plt.subplot(121)\n",
    "plt.imshow(PCR_discharge)\n",
    "plt.subplot(122)\n",
    "plt.imshow(CMF_outflw) # this does not look as it's supposed to..."
   ]
  },
  {
   "cell_type": "code",
   "execution_count": 14,
   "metadata": {},
   "outputs": [
    {
     "name": "stderr",
     "output_type": "stream",
     "text": [
      "2018-07-24 12:08:50,010 bmi.wrapper INFO cd /home/jannis/PhD/code/GLOFRIMplusCAMA/glofrim/glofrim-py/tests\n"
     ]
    }
   ],
   "source": [
    "#- finalize all models\n",
    "try:\n",
    "    cbmi.finalize()\n",
    "except Exception as e:\n",
    "    print e\n",
    "    sys.exit('models could not be finalized')"
   ]
  },
  {
   "cell_type": "code",
   "execution_count": null,
   "metadata": {},
   "outputs": [],
   "source": []
  }
 ],
 "metadata": {
  "kernelspec": {
   "display_name": "Python [default]",
   "language": "python",
   "name": "python2"
  },
  "language_info": {
   "codemirror_mode": {
    "name": "ipython",
    "version": 2
   },
   "file_extension": ".py",
   "mimetype": "text/x-python",
   "name": "python",
   "nbconvert_exporter": "python",
   "pygments_lexer": "ipython2",
   "version": "2.7.15"
  }
 },
 "nbformat": 4,
 "nbformat_minor": 2
}
