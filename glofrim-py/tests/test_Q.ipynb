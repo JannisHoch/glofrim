{
 "cells": [
  {
   "cell_type": "code",
   "execution_count": 1,
   "metadata": {},
   "outputs": [],
   "source": [
    "%matplotlib inline\n",
    "\n",
    "#- import required python libraries\n",
    "import netCDF4\n",
    "import sys, os\n",
    "import numpy as np\n",
    "import matplotlib as mpl\n",
    "import matplotlib.pyplot as plt\n",
    "from datetime import datetime\n",
    "import glofrim.glofrim_lib as glib\n",
    "from os.path import join, isfile, abspath, dirname, basename, normpath\n",
    "from configparser import ConfigParser\n",
    "from glofrim.glofrim_lib import configread"
   ]
  },
  {
   "cell_type": "code",
   "execution_count": 2,
   "metadata": {},
   "outputs": [],
   "source": [
    "from glofrim import Glofrim, PCR, CMF\n",
    "cbmi = Glofrim()"
   ]
  },
  {
   "cell_type": "code",
   "execution_count": 3,
   "metadata": {},
   "outputs": [],
   "source": [
    "#- provide file with local paths to model objects\n",
    "env_fn = r'../../environment.env'\n",
    "config = configread(env_fn)\n",
    "testDataDir = config.get('general', 'test_dir')"
   ]
  },
  {
   "cell_type": "code",
   "execution_count": 4,
   "metadata": {},
   "outputs": [
    {
     "data": {
      "text/plain": [
       "OrderedDict([(u'engines',\n",
       "              OrderedDict([('CMF',\n",
       "                            u'/home/jannis/Programmes/cama-flood_bmi_v3.6.2/src/libcama.so'),\n",
       "                           ('DFM',\n",
       "                            u'/home/jannis/Programmes/DFLOWFM/lib/libdflowfm.so'),\n",
       "                           ('LFP',\n",
       "                            u'/home/jannis/Programmes/lisflood-bmi-v5.9/liblisflood.so')])),\n",
       "             (u'general',\n",
       "              OrderedDict([('test_dir',\n",
       "                            u'/home/jannis/PhD/code/GLOFRIMplusCAMA/model_test_data/test_Elbe')]))])"
      ]
     },
     "execution_count": 4,
     "metadata": {},
     "output_type": "execute_result"
    }
   ],
   "source": [
    "#- convert model configs to dictionary\n",
    "_cf = ConfigParser(inline_comment_prefixes=('#'))\n",
    "env = glib.configread(abspath(env_fn), encoding='utf-8', cf=_cf)\n",
    "glib.config2dict(env)"
   ]
  },
  {
   "cell_type": "code",
   "execution_count": 5,
   "metadata": {},
   "outputs": [
    {
     "data": {
      "text/plain": [
       "u'/home/jannis/PhD/code/GLOFRIMplusCAMA/model_test_data/test_Elbe/glofrim_PCR2CMF.ini'"
      ]
     },
     "execution_count": 5,
     "metadata": {},
     "output_type": "execute_result"
    }
   ],
   "source": [
    "#- provide file with coupling settings\n",
    "config_fn = join(testDataDir, 'glofrim_PCR2CMF.ini')\n",
    "# config_fn = join(testDataDir, 'glofrim_PCR2DFM.ini')\n",
    "# config_fn = join(testDataDir, 'glofrim_WFL2DFM.ini')\n",
    "# config_fn = join(testDataDir, 'glofrim_PCR2LFP.ini')\n",
    "config_fn"
   ]
  },
  {
   "cell_type": "code",
   "execution_count": 6,
   "metadata": {},
   "outputs": [],
   "source": [
    "#- provide locations where to extract simulated discharge\n",
    "x_obs_coord = 10.89 # set to coords of Neu-Darchau\n",
    "y_obs_coord = 53.23"
   ]
  },
  {
   "cell_type": "code",
   "execution_count": 7,
   "metadata": {},
   "outputs": [],
   "source": [
    "#- provide start and end date\n",
    "t_start = datetime(2000,1,1)\n",
    "t_end = datetime(2000,1,3)\n",
    "t_start_test = cbmi.set_start_time(t_start)\n",
    "try:\n",
    "    t_start == t_start_test\n",
    "except:\n",
    "    sys.exit('start time differ with set_var and get_var')"
   ]
  },
  {
   "cell_type": "code",
   "execution_count": 8,
   "metadata": {},
   "outputs": [
    {
     "name": "stderr",
     "output_type": "stream",
     "text": [
      "2018-07-23 17:50:29,835 - PCR - INFO - Config initialized\n",
      "2018-07-23 17:50:29,852 - CMF - INFO - Config initialized\n"
     ]
    }
   ],
   "source": [
    "#- create coupled GLOFRIM model and initialize configs\n",
    "try:\n",
    "    cbmi.initialize_config(config_fn, env_fn=env_fn)\n",
    "except Exception as e:\n",
    "    print e\n",
    "    sys.exit('configs could not be initialized')"
   ]
  },
  {
   "cell_type": "code",
   "execution_count": 9,
   "metadata": {},
   "outputs": [
    {
     "name": "stderr",
     "output_type": "stream",
     "text": [
      "2018-07-23 17:50:29,862 - PCR - INFO - Getting rgrid info based on landmask_elbe_30min.map\n",
      "2018-07-23 17:50:29,865 - PCR - INFO - Getting drainage direction from ldd_elbe_30min.map\n",
      "2018-07-23 17:50:29,867 - CMF - INFO - Getting Unit-Catchment Grid info based on nextxy.tif\n",
      "2018-07-23 17:50:29,869 - CMF - INFO - Getting drainage direction from nextxy.tif\n",
      "2018-07-23 17:50:29,919 - PCR - WARNING - /home/jannis/PhD/code/GLOFRIMplusCAMA/model_test_data/test_Elbe/PCR_Elbe/setup_PCR_30min_Elbe_glofrim.ini file overwritten\n",
      "2018-07-23 17:50:29,921 - PCR - INFO - Ini file written to /home/jannis/PhD/code/GLOFRIMplusCAMA/model_test_data/test_Elbe/PCR_Elbe/setup_PCR_30min_Elbe_glofrim.ini\n",
      "2018-07-23 17:50:29,926 pcrglobwb_bmi_v203.configuration INFO Model run started at 2018-07-23 17:50:29.922765\n",
      "2018-07-23 17:50:29,928 pcrglobwb_bmi_v203.configuration INFO Logging output to /home/jannis/PhD/code/GLOFRIMplusCAMA/experiment_GLOFRIM2/PCR/log/setup_PCR_30min_Elbe.ini_2018-07-23T17:50:29.922765.log\n",
      "2018-07-23 17:50:29,929 pcrglobwb_bmi_v203.configuration INFO Note that avgSurfaceWaterInputLongIni is not used and not needed.\n",
      "2018-07-23 17:50:29,931 pcrglobwb_bmi_v203.configuration INFO The initial condition \"subDischargeIni\" is not defined. Either \"avgDischargeShortIni\" or \"avgDischargeLongIni\" is used in this run. Note that the \"subDischargeIni\" is only relevant if kinematic wave approaches are used.\n",
      "2018-07-23 17:50:29,932 pcrglobwb_bmi_v203.currTimeStep INFO number of time steps :731\n",
      "2018-07-23 17:50:30,227 pcrglobwb_bmi_v203.meteo INFO No forcing downscaling is implemented.\n",
      "2018-07-23 17:50:38,298 pcrglobwb_bmi_v203.deterministic_runner INFO Adjusting some model parameters based on given values in the ini/configuration file.\n",
      "2018-07-23 17:50:38,299 pcrglobwb_bmi_v203.deterministic_runner INFO \n",
      "\n",
      "Multiplier values used: \n",
      "For minSoilDepthFrac           : 1.0\n",
      "For kSat (log-scale)           : 0.0\n",
      "For recessionCoeff (log-scale) : 1.0\n",
      "For storCap                    : 1.25\n",
      "For degreeDayFactor            : 1.0\n",
      "For refPotET                   : 1.0\n",
      "\n",
      "2018-07-23 17:50:38,302 pcrglobwb_bmi_v203.pcrglobwb_bmi INFO Model initialized. Spin-up might be required.\n",
      "2018-07-23 17:50:38,303 - PCR - INFO - Model initialized\n",
      "2018-07-23 17:50:38,303 PCR INFO Model initialized\n",
      "2018-07-23 17:50:38,306 - CMF - WARNING - /home/jannis/PhD/code/GLOFRIMplusCAMA/model_test_data/test_Elbe/CMF_Elbe/input_flood.nam file overwritten\n",
      "2018-07-23 17:50:38,306 CMF WARNING /home/jannis/PhD/code/GLOFRIMplusCAMA/model_test_data/test_Elbe/CMF_Elbe/input_flood.nam file overwritten\n",
      "2018-07-23 17:50:38,308 - CMF - INFO - Ini file written to /home/jannis/PhD/code/GLOFRIMplusCAMA/model_test_data/test_Elbe/CMF_Elbe/input_flood.nam\n",
      "2018-07-23 17:50:38,308 CMF INFO Ini file written to /home/jannis/PhD/code/GLOFRIMplusCAMA/model_test_data/test_Elbe/CMF_Elbe/input_flood.nam\n",
      "2018-07-23 17:50:38,311 bmi.wrapper INFO Loading model /home/jannis/PhD/code/GLOFRIMplusCAMA/model_test_data/test_Elbe/CMF_Elbe/input_flood.nam in directory /home/jannis/PhD/code/GLOFRIMplusCAMA/model_test_data/test_Elbe/CMF_Elbe\n",
      "2018-07-23 17:50:38,313 - CMF - INFO - Model initialized\n",
      "2018-07-23 17:50:38,313 CMF INFO Model initialized\n"
     ]
    }
   ],
   "source": [
    "#- create coupled GLOFRIM model and initialize models\n",
    "try:\n",
    "    cbmi.initialize_model()\n",
    "except Exception as e:\n",
    "    print e\n",
    "    sys.exit('models could not be initialized')"
   ]
  },
  {
   "cell_type": "code",
   "execution_count": 10,
   "metadata": {},
   "outputs": [
    {
     "name": "stdout",
     "output_type": "stream",
     "text": [
      "[67]\n"
     ]
    }
   ],
   "source": [
    "#- get corresponding indices for models\n",
    "obs_ind_PCR = cbmi.index(x_obs_coord, y_obs_coord, 'PCR', in1d=False)\n",
    "print obs_ind_PCR"
   ]
  },
  {
   "cell_type": "code",
   "execution_count": 11,
   "metadata": {},
   "outputs": [
    {
     "name": "stderr",
     "output_type": "stream",
     "text": [
      "2018-07-23 17:50:38,414 rasterio.env DEBUG Entering env context: <rasterio.env.Env object at 0x7fcf7c36a410>\n",
      "2018-07-23 17:50:38,415 rasterio.env DEBUG Starting outermost env\n",
      "2018-07-23 17:50:38,416 rasterio.env DEBUG No GDAL environment exists\n",
      "2018-07-23 17:50:38,418 rasterio.env DEBUG New GDAL environment <rasterio._env.GDALEnv object at 0x7fcf7c36a310> created\n",
      "2018-07-23 17:50:38,419 rasterio._env DEBUG Logging error handler pushed.\n",
      "2018-07-23 17:50:38,421 rasterio._env DEBUG All drivers registered.\n",
      "2018-07-23 17:50:38,422 rasterio._env DEBUG Started GDALEnv <rasterio._env.GDALEnv object at 0x7fcf7c36a310>.\n",
      "2018-07-23 17:50:38,423 rasterio.env DEBUG Entered env context: <rasterio.env.Env object at 0x7fcf7c36a410>\n",
      "2018-07-23 17:50:38,425 rasterio._base DEBUG Got coordinate system\n",
      "2018-07-23 17:50:38,426 rasterio._base DEBUG Authority key: EPSG, value: 4326\n",
      "2018-07-23 17:50:38,427 rasterio._base DEBUG Nodata success: 1, Nodata value: -9999.000000\n",
      "2018-07-23 17:50:38,428 rasterio._base DEBUG Nodata success: 1, Nodata value: -9999.000000\n",
      "2018-07-23 17:50:38,430 rasterio._base DEBUG Dataset <open DatasetReader name='/home/jannis/PhD/code/GLOFRIMplusCAMA/model_test_data/test_Elbe/CMF_Elbe/hires/reg.catmxy.tif' mode='r'> is started.\n",
      "2018-07-23 17:50:38,431 rasterio.env DEBUG Exiting env context: <rasterio.env.Env object at 0x7fcf7c36a410>\n",
      "2018-07-23 17:50:38,432 rasterio._env DEBUG Unset option CHECK_WITH_INVERT_PROJ in env <rasterio._env.GDALEnv object at 0x7fcf7c36a310>\n",
      "2018-07-23 17:50:38,433 rasterio._env DEBUG Unset option RASTERIO_ENV in env <rasterio._env.GDALEnv object at 0x7fcf7c36a310>\n",
      "2018-07-23 17:50:38,434 rasterio._env DEBUG Unset option GTIFF_IMPLICIT_JPEG_OVR in env <rasterio._env.GDALEnv object at 0x7fcf7c36a310>\n",
      "2018-07-23 17:50:38,436 rasterio.env DEBUG Cleared existing <rasterio._env.GDALEnv object at 0x7fcf7c36a310> options\n",
      "2018-07-23 17:50:38,437 rasterio._env DEBUG Stopping GDALEnv <rasterio._env.GDALEnv object at 0x7fcf7c36a310>.\n",
      "2018-07-23 17:50:38,438 rasterio._env DEBUG Error handler popped.\n",
      "2018-07-23 17:50:38,439 rasterio._env DEBUG Stopped GDALEnv <rasterio._env.GDALEnv object at 0x7fcf7c36a310>.\n",
      "2018-07-23 17:50:38,441 rasterio.env DEBUG Exiting outermost env\n",
      "2018-07-23 17:50:38,442 rasterio.env DEBUG Exited env context: <rasterio.env.Env object at 0x7fcf7c36a410>\n",
      "2018-07-23 17:50:38,443 rasterio._base DEBUG Entering Dataset <open DatasetReader name='/home/jannis/PhD/code/GLOFRIMplusCAMA/model_test_data/test_Elbe/CMF_Elbe/hires/reg.catmxy.tif' mode='r'> context.\n",
      "2018-07-23 17:50:38,445 rasterio._io DEBUG Output nodata value read from file: -9999.0\n",
      "2018-07-23 17:50:38,446 rasterio._io DEBUG Output nodata values: [-9999.0]\n",
      "2018-07-23 17:50:38,448 rasterio._io DEBUG Jump straight to _read()\n",
      "2018-07-23 17:50:38,449 rasterio._io DEBUG Window: None\n",
      "2018-07-23 17:50:38,451 rasterio._io DEBUG IO window xoff=0.0 yoff=0.0 width=2000.0 height=1400.0\n",
      "2018-07-23 17:50:38,460 rasterio._io DEBUG Output nodata value read from file: -9999.0\n",
      "2018-07-23 17:50:38,461 rasterio._io DEBUG Output nodata values: [-9999.0]\n",
      "2018-07-23 17:50:38,464 rasterio._io DEBUG Jump straight to _read()\n",
      "2018-07-23 17:50:38,465 rasterio._io DEBUG Window: None\n",
      "2018-07-23 17:50:38,466 rasterio._io DEBUG IO window xoff=0.0 yoff=0.0 width=2000.0 height=1400.0\n",
      "2018-07-23 17:50:38,469 rasterio._base DEBUG Dataset <open DatasetReader name='/home/jannis/PhD/code/GLOFRIMplusCAMA/model_test_data/test_Elbe/CMF_Elbe/hires/reg.catmxy.tif' mode='r'> has been stopped.\n",
      "2018-07-23 17:50:38,471 rasterio._base DEBUG Dataset <closed DatasetReader name='/home/jannis/PhD/code/GLOFRIMplusCAMA/model_test_data/test_Elbe/CMF_Elbe/hires/reg.catmxy.tif' mode='r'> has been closed.\n",
      "2018-07-23 17:50:38,472 rasterio._base DEBUG Exited Dataset <closed DatasetReader name='/home/jannis/PhD/code/GLOFRIMplusCAMA/model_test_data/test_Elbe/CMF_Elbe/hires/reg.catmxy.tif' mode='r'> context.\n"
     ]
    },
    {
     "name": "stdout",
     "output_type": "stream",
     "text": [
      "[255]\n"
     ]
    }
   ],
   "source": [
    "obs_ind_CMF = cbmi.index(x_obs_coord, y_obs_coord, 'CMF', in1d=False)\n",
    "print obs_ind_CMF"
   ]
  },
  {
   "cell_type": "code",
   "execution_count": 22,
   "metadata": {},
   "outputs": [
    {
     "name": "stderr",
     "output_type": "stream",
     "text": [
      "2018-07-23 18:17:01,510 pcrglobwb_bmi_v203.pcrglobwb INFO reading forcings for time 2000-01-11\n",
      "2018-07-23 18:17:01,673 pcrglobwb_bmi_v203.pcrglobwb INFO updating model to time 2000-01-11\n",
      "2018-07-23 18:17:02,341 - CMF - INFO - updated model to datetime 2000-01-12\n",
      "2018-07-23 18:17:02,341 CMF INFO updated model to datetime 2000-01-12\n"
     ]
    },
    {
     "ename": "AttributeError",
     "evalue": "type object 'PCR' has no attribute 'discharge'",
     "output_type": "error",
     "traceback": [
      "\u001b[0;31m---------------------------------------------------------------------------\u001b[0m",
      "\u001b[0;31mAttributeError\u001b[0m                            Traceback (most recent call last)",
      "\u001b[0;32m<ipython-input-22-ec80e0bf71a0>\u001b[0m in \u001b[0;36m<module>\u001b[0;34m()\u001b[0m\n\u001b[1;32m      1\u001b[0m \u001b[0;32mwhile\u001b[0m \u001b[0mt_start\u001b[0m \u001b[0;34m<\u001b[0m \u001b[0mt_end\u001b[0m\u001b[0;34m:\u001b[0m\u001b[0;34m\u001b[0m\u001b[0m\n\u001b[1;32m      2\u001b[0m     \u001b[0mcbmi\u001b[0m\u001b[0;34m.\u001b[0m\u001b[0mupdate\u001b[0m\u001b[0;34m(\u001b[0m\u001b[0;34m)\u001b[0m\u001b[0;34m\u001b[0m\u001b[0m\n\u001b[0;32m----> 3\u001b[0;31m     \u001b[0mq_sim_PCR\u001b[0m \u001b[0;34m=\u001b[0m \u001b[0mcbmi\u001b[0m\u001b[0;34m.\u001b[0m\u001b[0mget_value_at_indices\u001b[0m\u001b[0;34m(\u001b[0m\u001b[0mPCR\u001b[0m\u001b[0;34m.\u001b[0m\u001b[0mdischarge\u001b[0m\u001b[0;34m,\u001b[0m \u001b[0mobs_ind_PCR\u001b[0m\u001b[0;34m)\u001b[0m\u001b[0;34m\u001b[0m\u001b[0m\n\u001b[0m\u001b[1;32m      4\u001b[0m     \u001b[0;32mprint\u001b[0m \u001b[0mq_sim_PCR\u001b[0m\u001b[0;34m\u001b[0m\u001b[0m\n",
      "\u001b[0;31mAttributeError\u001b[0m: type object 'PCR' has no attribute 'discharge'"
     ]
    }
   ],
   "source": [
    "while t_start < t_end:\n",
    "    cbmi.update()\n",
    "    q_sim_PCR = cbmi.get_value_at_indices(PCR.discharge, obs_ind_PCR) # type object 'PCR' has no attribute 'discharge' ?\n",
    "    print q_sim_PCR"
   ]
  },
  {
   "cell_type": "code",
   "execution_count": null,
   "metadata": {},
   "outputs": [],
   "source": [
    "try:\n",
    "    cbmi.finalize() # not working\n",
    "except Exception as e:\n",
    "    print e\n",
    "    sys.exit('models could not be finalized')"
   ]
  },
  {
   "cell_type": "code",
   "execution_count": null,
   "metadata": {},
   "outputs": [],
   "source": []
  }
 ],
 "metadata": {
  "kernelspec": {
   "display_name": "Python [default]",
   "language": "python",
   "name": "python2"
  },
  "language_info": {
   "codemirror_mode": {
    "name": "ipython",
    "version": 2
   },
   "file_extension": ".py",
   "mimetype": "text/x-python",
   "name": "python",
   "nbconvert_exporter": "python",
   "pygments_lexer": "ipython2",
   "version": "2.7.15"
  }
 },
 "nbformat": 4,
 "nbformat_minor": 2
}
