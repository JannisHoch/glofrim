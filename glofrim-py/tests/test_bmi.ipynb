{
 "cells": [
  {
   "cell_type": "code",
   "execution_count": null,
   "metadata": {},
   "outputs": [],
   "source": [
    "% matplotlib notebook\n",
    "import matplotlib.tri as tri\n",
    "import matplotlib.pyplot as plt\n",
    "import cartopy.crs as ccrs\n",
    "from cartopy.mpl.gridliner import LONGITUDE_FORMATTER, LATITUDE_FORMATTER\n",
    "import matplotlib\n",
    "from matplotlib import cm\n",
    "\n",
    "def make_map(nrows=1, ncols=1, figsize=(16, 6), projection=ccrs.PlateCarree()):\n",
    "    subplot_kw = dict(projection=projection)\n",
    "    fig, axes = plt.subplots(nrows=nrows, ncols=ncols, figsize=figsize, subplot_kw=subplot_kw, sharex=True, sharey=True)\n",
    "    try: # always return list\n",
    "        iter(axes)\n",
    "    except TypeError:\n",
    "        axes = [axes]\n",
    "    for ax in axes:\n",
    "        gl = ax.gridlines(draw_labels=True)\n",
    "        gl.xlabels_top = gl.ylabels_right = False\n",
    "        gl.xformatter = LONGITUDE_FORMATTER\n",
    "        gl.yformatter = LATITUDE_FORMATTER\n",
    "    return fig, axes\n",
    "\n",
    "def plot_gtiff(ax, data, transform, cmap='viridis', vmin=None, vmax=None, cbar=False, cbar_kwargs={}, **kwargs):\n",
    "    extent = plot_extent(data, transform)\n",
    "    im = ax.imshow(data, extent=extent, vmin=vmin, vmax=vmax, cmap=cmap, origin='upper', **kwargs)\n",
    "    ax.set_extent(extent)\n",
    "    \n",
    "    dmin, dmax = np.nanmin(data), np.nanmax(data)\n",
    "    vmin = vmin if vmin is not None else dmin \n",
    "    vmax = vmax if vmax is not None else dmax\n",
    "    if (dmax > vmax) and (dmin < vmin):\n",
    "        cbar_kwargs.update(extend='both')\n",
    "    elif dmax > vmax:\n",
    "        cbar_kwargs.update(extend='max')\n",
    "    elif dmin < vmin:\n",
    "        cbar_kwargs.update(extend='min')\n",
    "\n",
    "    if cbar:\n",
    "        cbar = set_colorbar(ax, im, **cbar_kwargs)\n",
    "    else:\n",
    "        cbar = None\n",
    "    return im, cbar\n",
    "\n",
    "def plot_extent(data, transform):\n",
    "    rows, cols = data.shape[-2:]\n",
    "    left, top = transform * (0, 0)\n",
    "    right, bottom = transform * (cols, rows)\n",
    "    extent = (left, right, bottom, top)\n",
    "    return extent"
   ]
  },
  {
   "cell_type": "code",
   "execution_count": null,
   "metadata": {},
   "outputs": [],
   "source": [
    "%matplotlib inline\n",
    "import matplotlib.pyplot as plt\n",
    "import numpy as np\n",
    "from os.path import join"
   ]
  },
  {
   "cell_type": "code",
   "execution_count": null,
   "metadata": {},
   "outputs": [],
   "source": [
    "from glofrim.glofrim_lib import configread\n",
    "config = configread(r'../../environment.env')\n",
    "root_dir = config.get('models', 'root_dir')"
   ]
  },
  {
   "cell_type": "code",
   "execution_count": null,
   "metadata": {},
   "outputs": [],
   "source": [
    "from glofrim import PCR, WFL, CMF, DFM, LFP\n",
    "# config_fn = join(root_dir, 'PCR_Elbe', 'setup_PCR_30min_Elbe.ini')\n",
    "# bmi = PCR()\n",
    "\n",
    "config_fn = join(root_dir, 'WFL_Elbe', 'SBM', 'wflow_sbm.ini')\n",
    "bmi = WFL()\n",
    "\n",
    "# config_fn = join(root_dir, 'CMF_Elbe', 'input_flood.temp')\n",
    "# engine = config.get('engines', 'CMF')\n",
    "# bmi = CMF(engine = engine)\n",
    "\n",
    "# config_fn = join(root_dir, 'DFM_Elbe', 'Elbe_1way_1d2dFM_400m_3200m.mdu')\n",
    "# engine = config.get('engines', 'DFM')\n",
    "# bmi = DFM(engine = engine)\n",
    "\n",
    "# config_fn = join(root_dir, 'LFP_data', 'LFPmodel_Elbe_TEST.par')\n",
    "# engine = config.get('engines', 'LFP')\n",
    "# bmi = LFP(engine = engine)"
   ]
  },
  {
   "cell_type": "markdown",
   "metadata": {},
   "source": [
    "test model control function"
   ]
  },
  {
   "cell_type": "code",
   "execution_count": null,
   "metadata": {},
   "outputs": [],
   "source": [
    "bmi.initialize_config(config_fn)\n",
    "bmi.get_start_time(), bmi.get_end_time()"
   ]
  },
  {
   "cell_type": "code",
   "execution_count": null,
   "metadata": {},
   "outputs": [],
   "source": [
    "bmi.get_attribute_names()"
   ]
  },
  {
   "cell_type": "code",
   "execution_count": null,
   "metadata": {},
   "outputs": [],
   "source": [
    "from datetime import datetime, timedelta\n",
    "start_time = datetime(2000, 2, 1)\n",
    "end_time = datetime(2000, 4, 1)\n",
    "bmi.set_start_time(start_time)\n",
    "bmi.set_end_time(end_time)\n",
    "end_time == bmi.get_end_time(), start_time == bmi.get_start_time()\n"
   ]
  },
  {
   "cell_type": "code",
   "execution_count": null,
   "metadata": {
    "scrolled": true
   },
   "outputs": [],
   "source": [
    "bmi.initialize_model()"
   ]
  },
  {
   "cell_type": "code",
   "execution_count": null,
   "metadata": {},
   "outputs": [],
   "source": [
    "# check start and end_time after initialization\n",
    "print(bmi.get_end_time(), bmi.get_start_time())\n",
    "assert end_time == bmi.get_end_time() and start_time == bmi.get_start_time()"
   ]
  },
  {
   "cell_type": "code",
   "execution_count": null,
   "metadata": {},
   "outputs": [],
   "source": [
    "x, y = 10.1,53.4\n",
    "bmi.get_grid()\n",
    "if bmi.grid.type != 2:\n",
    "    res = bmi.grid.res\n",
    "    idx = bmi.grid.index(x, y)\n",
    "    lfp_x, lfp_y = bmi.grid.xy(idx)\n",
    "    print(idx)    "
   ]
  },
  {
   "cell_type": "code",
   "execution_count": null,
   "metadata": {},
   "outputs": [],
   "source": [
    "# fig, axes = make_map(figsize=(5, 3.2))\n",
    "# plot_gtiff(axes[0], bmi.grid.mask, bmi.grid.transform, vmin=0, vmax=1)\n",
    "# plot_gtiff(axes[0], bmi.get_value('River'), bmi.grid.transform, vmin=0, vmax=1)"
   ]
  },
  {
   "cell_type": "code",
   "execution_count": null,
   "metadata": {},
   "outputs": [],
   "source": [
    "if (bmi.grid._1d is not None) and (bmi.grid.type != 2):\n",
    "    r, c = bmi.grid.index(bmi.grid._1d.nodes[:,0],bmi.grid._1d.nodes[:,1], flat_index=False)\n",
    "    print(np.all(bmi.grid._inside(r, c)))"
   ]
  },
  {
   "cell_type": "code",
   "execution_count": null,
   "metadata": {},
   "outputs": [],
   "source": [
    "try:\n",
    "    bmi.update(1)\n",
    "except ValueError, e:\n",
    "    print(e)"
   ]
  },
  {
   "cell_type": "code",
   "execution_count": null,
   "metadata": {},
   "outputs": [],
   "source": [
    "bmi.update(172800)"
   ]
  },
  {
   "cell_type": "code",
   "execution_count": null,
   "metadata": {},
   "outputs": [],
   "source": [
    "bmi.get_current_time(), bmi._t, bmi._dt"
   ]
  },
  {
   "cell_type": "code",
   "execution_count": null,
   "metadata": {},
   "outputs": [],
   "source": [
    "assert bmi._t == bmi.get_current_time()\n"
   ]
  },
  {
   "cell_type": "code",
   "execution_count": null,
   "metadata": {},
   "outputs": [],
   "source": [
    "next_t = bmi.get_current_time() + timedelta(days=2)\n",
    "bmi.update_until(next_t)\n",
    "assert bmi._t == bmi.get_current_time()\n",
    "print(bmi.get_current_time())"
   ]
  },
  {
   "cell_type": "markdown",
   "metadata": {},
   "source": [
    "test model and attribute information functions"
   ]
  },
  {
   "cell_type": "code",
   "execution_count": null,
   "metadata": {},
   "outputs": [],
   "source": [
    "assert isinstance(bmi.get_component_name(), str)\n",
    "assert isinstance(bmi.get_input_var_names(), list)\n",
    "assert isinstance(bmi.get_output_var_names(), list)"
   ]
  },
  {
   "cell_type": "code",
   "execution_count": null,
   "metadata": {
    "scrolled": true
   },
   "outputs": [],
   "source": [
    "bmi.get_var_type(bmi.get_input_var_names()[0])"
   ]
  },
  {
   "cell_type": "code",
   "execution_count": null,
   "metadata": {},
   "outputs": [],
   "source": [
    "if hasattr(bmi, 'set_inpmat'):\n",
    "    bmi.set_inpmat(pcr.get_grid_bounds(), pcr.get_grid_res())"
   ]
  },
  {
   "cell_type": "code",
   "execution_count": null,
   "metadata": {},
   "outputs": [],
   "source": [
    "bmi.grid.type"
   ]
  },
  {
   "cell_type": "code",
   "execution_count": null,
   "metadata": {},
   "outputs": [],
   "source": [
    "var_name = bmi.get_output_var_names()[0]\n",
    "var_shape = bmi.get_var_shape(var_name)\n",
    "bmi.set_value(var_name, np.ones(var_shape)) \n",
    "var_name, bmi.get_value(var_name).sum() == np.ones(var_shape).sum()"
   ]
  },
  {
   "cell_type": "code",
   "execution_count": null,
   "metadata": {},
   "outputs": [],
   "source": [
    "if bmi.grid._1d is not None:\n",
    "    inds = bmi.grid._1d.inds\n",
    "    bmi.set_value_at_indices(var_name, inds, np.ones_like(inds)*78) \n",
    "    print(bmi.get_value_at_indices(var_name, inds).sum() ==np.ones_like(inds).sum()*78)"
   ]
  },
  {
   "cell_type": "code",
   "execution_count": null,
   "metadata": {},
   "outputs": [],
   "source": [
    "bmi.finalize()"
   ]
  }
 ],
 "metadata": {
  "kernelspec": {
   "display_name": "Python [conda env:glofrim]",
   "language": "python",
   "name": "conda-env-glofrim-py"
  },
  "language_info": {
   "codemirror_mode": {
    "name": "ipython",
    "version": 2
   },
   "file_extension": ".py",
   "mimetype": "text/x-python",
   "name": "python",
   "nbconvert_exporter": "python",
   "pygments_lexer": "ipython2",
   "version": "2.7.14"
  }
 },
 "nbformat": 4,
 "nbformat_minor": 2
}
