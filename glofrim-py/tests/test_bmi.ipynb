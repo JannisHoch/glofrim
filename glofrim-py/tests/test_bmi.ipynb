{
 "cells": [
  {
   "cell_type": "code",
   "execution_count": null,
   "metadata": {},
   "outputs": [],
   "source": [
    "%matplotlib inline\n",
    "import matplotlib.pyplot as plt\n",
    "import numpy as np\n",
    "from os.path import join"
   ]
  },
  {
   "cell_type": "code",
   "execution_count": null,
   "metadata": {},
   "outputs": [],
   "source": [
    "from glofrim.glofrim_lib import configread\n",
    "config = configread(r'../../environment.env')\n",
    "test_dir = config.get('general', 'test_dir')"
   ]
  },
  {
   "cell_type": "code",
   "execution_count": null,
   "metadata": {},
   "outputs": [],
   "source": [
    "# from glofrim import PCR\n",
    "config_fn = join(test_dir, 'PCR_Elbe', 'setup_PCR_30min_Elbe.ini')\n",
    "bmi = PCR()"
   ]
  },
  {
   "cell_type": "code",
   "execution_count": null,
   "metadata": {},
   "outputs": [],
   "source": [
    "# from glofrim import WFL\n",
    "config_fn = join(test_dir, 'WFL_Elbe', 'setup_PCR_30min_Elbe.ini')\n",
    "bmi = WFL()"
   ]
  },
  {
   "cell_type": "code",
   "execution_count": null,
   "metadata": {},
   "outputs": [],
   "source": [
    "from glofrim import CMF\n",
    "config_fn = join(test_dir, 'CMF_Elbe', 'input_flood.temp')\n",
    "engine = config.get('engines', 'CMF')\n",
    "bmi = CMF(engine = engine)"
   ]
  },
  {
   "cell_type": "code",
   "execution_count": null,
   "metadata": {},
   "outputs": [],
   "source": [
    "from glofrim import DFM\n",
    "config_fn = join(test_dir, 'DFM_Elbe', 'Elbe_1way_1d2dFM_400m_3200m.mdu')\n",
    "engine = config.get('engines', 'DFM')\n",
    "bmi = DFM(engine = engine)"
   ]
  },
  {
   "cell_type": "code",
   "execution_count": null,
   "metadata": {},
   "outputs": [],
   "source": [
    "from glofrim import LFP\n",
    "config_fn = join(test_dir, 'LFP_data', 'LFPmodel_Elbe.par')\n",
    "engine = config.get('engines', 'LFP')\n",
    "bmi = LFP(engine = engine)"
   ]
  },
  {
   "cell_type": "markdown",
   "metadata": {},
   "source": [
    "test model control function"
   ]
  },
  {
   "cell_type": "code",
   "execution_count": null,
   "metadata": {},
   "outputs": [],
   "source": [
    "bmi.initialize_config(config_fn)\n",
    "bmi.get_start_time(), bmi.get_end_time()"
   ]
  },
  {
   "cell_type": "code",
   "execution_count": null,
   "metadata": {},
   "outputs": [],
   "source": [
    "from datetime import datetime\n",
    "end_time = datetime(2005, 1, 1)\n",
    "bmi.set_end_time(end_time)\n",
    "end_time == bmi.get_end_time()"
   ]
  },
  {
   "cell_type": "code",
   "execution_count": null,
   "metadata": {
    "scrolled": true
   },
   "outputs": [],
   "source": [
    "bmi.initialize_model()"
   ]
  },
  {
   "cell_type": "code",
   "execution_count": null,
   "metadata": {},
   "outputs": [],
   "source": [
    "bmi.get_grid()\n",
    "if bmi.grid.type != 2:\n",
    "    print(bmi.get_grid().index(10.1,53.4))"
   ]
  },
  {
   "cell_type": "code",
   "execution_count": null,
   "metadata": {},
   "outputs": [],
   "source": [
    "bmi.get_start_time(), bmi.get_current_time(), bmi.get_end_time()"
   ]
  },
  {
   "cell_type": "code",
   "execution_count": null,
   "metadata": {},
   "outputs": [],
   "source": [
    "next_t = bmi.get_start_time() + bmi.get_time_step()\n",
    "bmi.update_until(next_t)"
   ]
  },
  {
   "cell_type": "markdown",
   "metadata": {},
   "source": [
    "test model and attribute information functions"
   ]
  },
  {
   "cell_type": "code",
   "execution_count": null,
   "metadata": {},
   "outputs": [],
   "source": [
    "assert isinstance(bmi.get_component_name(), str)\n",
    "assert isinstance(bmi.get_input_var_names(), list)\n",
    "assert isinstance(bmi.get_output_var_names(), list)"
   ]
  },
  {
   "cell_type": "code",
   "execution_count": null,
   "metadata": {
    "scrolled": true
   },
   "outputs": [],
   "source": [
    "bmi.get_var_type(bmi.get_input_var_names()[0])"
   ]
  },
  {
   "cell_type": "code",
   "execution_count": null,
   "metadata": {},
   "outputs": [],
   "source": [
    "if hasattr(bmi, 'set_impmat'):\n",
    "    bmi.set_inpmat(pcr.get_grid_bounds(), pcr.get_grid_res())"
   ]
  },
  {
   "cell_type": "code",
   "execution_count": null,
   "metadata": {},
   "outputs": [],
   "source": [
    "bmi.get_value(bmi.get_output_var_names()[0])"
   ]
  },
  {
   "cell_type": "code",
   "execution_count": null,
   "metadata": {},
   "outputs": [],
   "source": [
    "bmi.finalize()"
   ]
  }
 ],
 "metadata": {
  "kernelspec": {
   "display_name": "Python [conda env:glofrim]",
   "language": "python",
   "name": "conda-env-glofrim-py"
  },
  "language_info": {
   "codemirror_mode": {
    "name": "ipython",
    "version": 2
   },
   "file_extension": ".py",
   "mimetype": "text/x-python",
   "name": "python",
   "nbconvert_exporter": "python",
   "pygments_lexer": "ipython2",
   "version": "2.7.14"
  }
 },
 "nbformat": 4,
 "nbformat_minor": 2
}
