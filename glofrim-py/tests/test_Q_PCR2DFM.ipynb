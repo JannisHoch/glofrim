{
 "cells": [
  {
   "cell_type": "code",
   "execution_count": null,
   "metadata": {},
   "outputs": [],
   "source": [
    "%matplotlib inline\n",
    "\n",
    "#- import required python libraries\n",
    "import netCDF4\n",
    "import sys, os\n",
    "import numpy as np\n",
    "import matplotlib as mpl\n",
    "import matplotlib.pyplot as plt\n",
    "from datetime import datetime\n",
    "import glofrim.glofrim_lib as glib\n",
    "from os.path import join, isfile, abspath, dirname, basename, normpath\n",
    "from configparser import ConfigParser\n",
    "from glofrim.glofrim_lib import configread"
   ]
  },
  {
   "cell_type": "code",
   "execution_count": null,
   "metadata": {},
   "outputs": [],
   "source": [
    "from glofrim import Glofrim, PCR, CMF\n",
    "cbmi = Glofrim()"
   ]
  },
  {
   "cell_type": "code",
   "execution_count": null,
   "metadata": {},
   "outputs": [],
   "source": [
    "#- provide file with local paths to model objects\n",
    "env_fn = r'../../environment.env'\n",
    "config = configread(env_fn)\n",
    "root_dir = config.get('models', 'root_dir')"
   ]
  },
  {
   "cell_type": "code",
   "execution_count": null,
   "metadata": {},
   "outputs": [],
   "source": [
    "#- convert model configs to dictionary\n",
    "_cf = ConfigParser(inline_comment_prefixes=('#'))\n",
    "env = glib.configread(abspath(env_fn), encoding='utf-8', cf=_cf)\n",
    "glib.config2dict(env)"
   ]
  },
  {
   "cell_type": "code",
   "execution_count": null,
   "metadata": {},
   "outputs": [],
   "source": [
    "#- provide file with coupling settings\n",
    "# config_fn = join(root_dir, 'glofrim_PCR2CMF.ini')\n",
    "config_fn = join(root_dir, 'glofrim_PCR2DFM.ini')\n",
    "# config_fn = join(root_dir, 'glofrim_WFL2DFM.ini')\n",
    "# config_fn = join(root_dir, 'glofrim_PCR2LFP.ini')\n",
    "config_fn"
   ]
  },
  {
   "cell_type": "code",
   "execution_count": null,
   "metadata": {},
   "outputs": [],
   "source": [
    "#- provide locations where to extract simulated discharge\n",
    "x_obs_coord = 10.89 # set to coords of Neu-Darchau\n",
    "y_obs_coord = 53.23"
   ]
  },
  {
   "cell_type": "code",
   "execution_count": null,
   "metadata": {},
   "outputs": [],
   "source": [
    "#- provide start and end date\n",
    "t_start = datetime(2000,1,1)\n",
    "t_end = datetime(2000,1,3)\n",
    "t_start_test = cbmi.set_start_time(t_start)\n",
    "try:\n",
    "    t_start == t_start_test\n",
    "except:\n",
    "    sys.exit('start time differ with set_var and get_var')"
   ]
  },
  {
   "cell_type": "code",
   "execution_count": null,
   "metadata": {},
   "outputs": [],
   "source": [
    "#- create coupled GLOFRIM model and initialize configs\n",
    "try:\n",
    "    cbmi.initialize_config(config_fn, env_fn=env_fn)\n",
    "except Exception as e:\n",
    "    print e\n",
    "    sys.exit('configs could not be initialized')"
   ]
  },
  {
   "cell_type": "code",
   "execution_count": null,
   "metadata": {},
   "outputs": [],
   "source": [
    "#- create coupled GLOFRIM model and initialize models\n",
    "try:\n",
    "    cbmi.initialize_model()\n",
    "except Exception as e:\n",
    "    print e\n",
    "    sys.exit('models could not be initialized')"
   ]
  },
  {
   "cell_type": "code",
   "execution_count": null,
   "metadata": {},
   "outputs": [],
   "source": [
    "#- get corresponding indices for models\n",
    "obs_ind_PCR = cbmi.index(x_obs_coord, y_obs_coord, 'PCR', in1d=False)\n",
    "print obs_ind_PCR\n",
    "obs_ind_DFM = cbmi.index(x_obs_coord, y_obs_coord, 'DFM', in1d=True)\n",
    "print obs_ind_DFM"
   ]
  },
  {
   "cell_type": "code",
   "execution_count": null,
   "metadata": {},
   "outputs": [],
   "source": [
    "#- update models until end time is reached\n",
    "#- also, read out discharge data at specified observation point\n",
    "while t_start < t_end:\n",
    "    cbmi.update()\n",
    "    q_sim_PCR = cbmi.get_value_at_indices('PCR.discharge', obs_ind_PCR)\n",
    "    q_sim_DFM = cbmi.get_value_at_indices('DFM.q1', obs_ind_DFM) \n",
    "    print q_sim_PCR, q_sim_DFM # seems to work for PCR, not so much for DFM if DFM.q1 is used"
   ]
  },
  {
   "cell_type": "code",
   "execution_count": null,
   "metadata": {},
   "outputs": [],
   "source": [
    "#- finalize all models\n",
    "try:\n",
    "    cbmi.finalize()\n",
    "except Exception as e:\n",
    "    print e\n",
    "    sys.exit('models could not be finalized')"
   ]
  },
  {
   "cell_type": "code",
   "execution_count": null,
   "metadata": {},
   "outputs": [],
   "source": []
  }
 ],
 "metadata": {
  "kernelspec": {
   "display_name": "Python [default]",
   "language": "python",
   "name": "python2"
  },
  "language_info": {
   "codemirror_mode": {
    "name": "ipython",
    "version": 2
   },
   "file_extension": ".py",
   "mimetype": "text/x-python",
   "name": "python",
   "nbconvert_exporter": "python",
   "pygments_lexer": "ipython2",
   "version": "2.7.15"
  }
 },
 "nbformat": 4,
 "nbformat_minor": 2
}
