{
 "cells": [
  {
   "cell_type": "code",
   "execution_count": null,
   "metadata": {},
   "outputs": [],
   "source": [
    "%matplotlib inline\n",
    "\n",
    "import numpy as np\n",
    "import matplotlib.tri as tri\n",
    "import matplotlib.pyplot as plt\n",
    "import cartopy.crs as ccrs\n",
    "from cartopy.mpl.gridliner import LONGITUDE_FORMATTER, LATITUDE_FORMATTER\n",
    "import matplotlib\n",
    "from matplotlib import cm\n",
    "\n",
    "def make_map(projection=ccrs.PlateCarree()):\n",
    "    \n",
    "    fig, ax = plt.subplots(figsize=(16, 6),\n",
    "                           subplot_kw=dict(projection=projection))\n",
    "    gl = ax.gridlines(draw_labels=True)\n",
    "    gl.xlabels_top = gl.ylabels_right = False\n",
    "    gl.xformatter = LONGITUDE_FORMATTER\n",
    "    gl.yformatter = LATITUDE_FORMATTER\n",
    "    return fig, ax"
   ]
  },
  {
   "cell_type": "code",
   "execution_count": null,
   "metadata": {},
   "outputs": [],
   "source": [
    "cmap_wl = cm.Blues\n",
    "N = matplotlib.colors.Normalize(0,2)"
   ]
  },
  {
   "cell_type": "code",
   "execution_count": null,
   "metadata": {},
   "outputs": [],
   "source": [
    "# test Glofrim BMI\n",
    "from glofrim import DFM\n",
    "config_fn = r'/home/dirk/repos/model_test_data/test_Elbe/DFM_Elbe/Elbe_1way_1d2dFM_400m_3200m.mdu'\n",
    "engine = r'/home/dirk/Models/dflowfm-1.1.201/lib/libdflowfm.so'\n",
    "bmi = DFM(engine = engine)\n",
    "bmi.initialize(config_fn=config_fn)\n",
    "fcoords = bmi.get_grid().get_poly_coords()"
   ]
  },
  {
   "cell_type": "code",
   "execution_count": null,
   "metadata": {},
   "outputs": [],
   "source": []
  },
  {
   "cell_type": "code",
   "execution_count": null,
   "metadata": {},
   "outputs": [],
   "source": [
    "# import netCDF4\n",
    "# import pyugrid\n",
    "\n",
    "# print('pyugrid version: {}'.format(pyugrid.__version__))\n",
    "# print('netCDF4 version: {}'.format(netCDF4.__version__))\n",
    "\n",
    "# fn = r'/home/dirk/repos/model_test_data/test_Elbe/DFM_Elbe/1d2dFM_Elbe_fine3_emb_net.nc'\n",
    "# fn = r'/home/dirk/repos/model_test_data/test_Elbe/DFM_Elbe/test_net.nc'\n",
    "# ug = pyugrid.UGrid.from_ncfile(fn)\n",
    "# ug.nodes\n",
    "# ug.faces"
   ]
  },
  {
   "cell_type": "code",
   "execution_count": null,
   "metadata": {},
   "outputs": [],
   "source": [
    "from bmi.wrapper import BMIWrapper\n",
    "engine = r'/home/dirk/Models/dflowfm-1.1.201/lib/libdflowfm.so'\n",
    "config_fn = r'/home/dirk/repos/model_test_data/test_Elbe/DFM_Elbe/Elbe_1way_1d2dFM_400m_3200m.mdu'\n",
    "bmi = BMIWrapper(engine = engine)\n",
    "bmi.initialize(config_fn)"
   ]
  },
  {
   "cell_type": "code",
   "execution_count": null,
   "metadata": {},
   "outputs": [],
   "source": [
    "[bmi.get_var_name(i) for i in range(bmi.get_var_count()) if '' in bmi.get_var_name(i)]"
   ]
  },
  {
   "cell_type": "markdown",
   "metadata": {},
   "source": [
    "#### questions\n",
    "- what is the difference between xz,yz and xk,yk?\n",
    "- "
   ]
  },
  {
   "cell_type": "code",
   "execution_count": null,
   "metadata": {},
   "outputs": [],
   "source": [
    "# all cells 2d + 1d\n",
    "bmi = bmi._bmi\n",
    "cell_x = bmi.get_var('xz') # x-coords of each cell centre point\n",
    "cell_y = bmi.get_var('yz') # y-coords of each cell centre point\n",
    "cell_xy = np.array(zip(cell_x, cell_y))\n",
    "n2d = int(bmi.get_var('ndx2d'))\n",
    "n1d = cell_xy.shape[0] - n2d\n",
    "cidx_2d = np.arange(n2d)\n",
    "cidx_1d = np.arange(n2d, cell_xy.shape[0])"
   ]
  },
  {
   "cell_type": "code",
   "execution_count": null,
   "metadata": {},
   "outputs": [],
   "source": [
    "# all nodes first 2D, then 1D, then boundaries\n",
    "node_lon = bmi.get_var('xk')\n",
    "node_lat = bmi.get_var('yk') \n",
    "nodes = np.array(zip(node_lon, node_lat))"
   ]
  },
  {
   "cell_type": "code",
   "execution_count": null,
   "metadata": {},
   "outputs": [],
   "source": [
    "# 2d mesh \n",
    "faces = bmi.get_var('flowelemnode') # face_node_connectivity\n",
    "nidx_2d = np.arange(faces.max()) # index of 2d nodes\n",
    "faces = np.ma.masked_equal(faces, -1) - 1\n",
    "nodes_2d = nodes[nidx_2d, :]     # coordinates of nodes\n",
    "face_coordinates = cell_xy[cidx_2d, :] # coordinates of cell centres"
   ]
  },
  {
   "cell_type": "code",
   "execution_count": null,
   "metadata": {},
   "outputs": [],
   "source": [
    "# 1d network\n",
    "kn = bmi.get_var('kn') \n",
    "nlink_type = kn[:, 2] # type\n",
    "nlinks = kn[:, :2] - 1 # link\n",
    "nlinks_1d = nlinks[nlink_type == 1] # link_between_1D_nodes\n",
    "nidx_1d = np.arange(nlinks_1d.min(), nlinks_1d.max()+1)\n",
    "nodes_1d = nodes[nidx_1d, :]\n",
    "nlinks_1d = nlinks_1d #- nlinks_1d.min()\n",
    "# cidx_id  #\n",
    "nidx_1d, nodes_1d"
   ]
  },
  {
   "cell_type": "code",
   "execution_count": null,
   "metadata": {},
   "outputs": [],
   "source": [
    "np.all(nodes_1d[nlinks_1d-nlinks_1d.min()] == nodes[nlinks_1d])"
   ]
  },
  {
   "cell_type": "code",
   "execution_count": null,
   "metadata": {},
   "outputs": [],
   "source": [
    "# link 1d network nodes to cell indices based on location\n",
    "ncidx_1d = np.ones_like(nidx_1d) * -1\n",
    "import rtree\n",
    "# create index\n",
    "rt = rtree.index.Index()\n",
    "for ci, xy in zip(cidx_1d, cell_xy[cidx_1d]):\n",
    "    rt.insert(ci, xy.tolist())\n",
    "# find nearest cell for each node\n",
    "for ni, xy in enumerate(nodes[nidx_1d]):\n",
    "    ci = list(rt.nearest(xy.tolist(), 1))\n",
    "    assert np.all(xy == cell_xy[ci])\n",
    "    ncidx_1d[ni] = ci[0] \n",
    "    # make sure each cell is found only ones\n",
    "    # this is expensive, but only way to do it\n",
    "    rt.delete(ci[0], xy.tolist()) \n"
   ]
  },
  {
   "cell_type": "code",
   "execution_count": null,
   "metadata": {},
   "outputs": [],
   "source": [
    "ncidx_1d = np.ma.masked_equal(ncidx_1d, -1)\n",
    "ncidx_1d[~ncidx_1d.mask].size, np.unique(ncidx_1d[~ncidx_1d.mask]).size"
   ]
  },
  {
   "cell_type": "code",
   "execution_count": null,
   "metadata": {},
   "outputs": [],
   "source": [
    "nidx_1d.size, cidx_1d.size # where does the difference come from -> downstream boundary nodes\n",
    "# nidx_1d, cidx_1d"
   ]
  },
  {
   "cell_type": "code",
   "execution_count": null,
   "metadata": {},
   "outputs": [],
   "source": [
    "idx = np.where(np.not_equal(cell_xy[cidx_1d[:nidx_1d.size]], nodes[nidx_1d]))[0]\n",
    "idx"
   ]
  },
  {
   "cell_type": "code",
   "execution_count": null,
   "metadata": {},
   "outputs": [],
   "source": [
    "# reduce faces array to ragged array to be used as index\n",
    "n_nodes_per_face = (~faces.mask).sum(axis=1)\n",
    "ragged = [\n",
    "    face[:n_nodes].filled()\n",
    "    for n_nodes, face \n",
    "    in zip(n_nodes_per_face, faces)\n",
    "]\n",
    "fcoords = [nodes[np.append(face, face[0])] for face in ragged]\n",
    "# faces"
   ]
  },
  {
   "cell_type": "code",
   "execution_count": null,
   "metadata": {},
   "outputs": [],
   "source": [
    "# create patches for faces of UGrid\n",
    "fpatches = (matplotlib.patches.Polygon(face) for face in fcoords)\n",
    "fpc = matplotlib.collections.PatchCollection(fpatches, edgecolor='grey')\n",
    "fpc.set_facecolor('none')\n",
    "\n"
   ]
  },
  {
   "cell_type": "code",
   "execution_count": null,
   "metadata": {},
   "outputs": [],
   "source": [
    "# net links\n",
    "# 0) closed_link_between_2D_nodes \n",
    "# 1) link_between_1D_nodes\n",
    "# 2) link_between_2D_nodes\n",
    "# 3) embedded_1D2D_link\n",
    "# 4) 1D2D_link\n",
    "\n",
    "\n",
    "l1d2d = nlinks[nlink_type == 3] # link between 1D and 2D\n",
    "\n",
    "l1d2dcoords = nodes[l1d2d] #[nodes[link] for link in l1d]"
   ]
  },
  {
   "cell_type": "code",
   "execution_count": null,
   "metadata": {},
   "outputs": [],
   "source": [
    "idx_1d"
   ]
  },
  {
   "cell_type": "code",
   "execution_count": null,
   "metadata": {},
   "outputs": [],
   "source": [
    "# find start and end points of 1d network based on link counts\n",
    "nidx_1d, nidx_1d_counts = np.unique(nlinks_1d, return_counts=True)\n",
    "pidx_single = nidx_1d[nidx_1d_counts==1]\n",
    "sp = np.array([p for p in pidx_single if p in nlinks_1d[0, :]])\n",
    "ep = np.array([p for p in pidx_single if p not in sp])\n"
   ]
  },
  {
   "cell_type": "code",
   "execution_count": null,
   "metadata": {},
   "outputs": [],
   "source": [
    "# line patches with links\n",
    "lcoords = nodes[nlinks_1d] #[nodes[link] for link in l1d]\n",
    "lpc = matplotlib.collections.LineCollection(lcoords, color='green')\n",
    "# l1d2d = matplotlib.collections.LineCollection(l1d2dcoords, color='m')"
   ]
  },
  {
   "cell_type": "code",
   "execution_count": null,
   "metadata": {
    "scrolled": false
   },
   "outputs": [],
   "source": [
    "# create basemap\n",
    "%matplotlib notebook\n",
    "plt.close()\n",
    "\n",
    "# %%capture captured\n",
    "fig, ax = make_map()\n",
    "ax.add_collection(fpc)\n",
    "# ax.add_collection(l1d2d)\n",
    "# ax.add_collection(lpc)\n",
    "\n",
    "ax.autoscale()"
   ]
  },
  {
   "cell_type": "code",
   "execution_count": null,
   "metadata": {},
   "outputs": [],
   "source": [
    "art_1dc, = ax.plot(cell_x[cidx_1d], cell_y[cidx_1d], '.m') # 1d nodes\n",
    "art_1d, = ax.plot(node_lon[nidx_1d], node_lat[nidx_1d], '.b') # 1d nodes\n",
    "\n",
    "# art_2d, = ax.plot(node_lon[nidx_2d], node_lat[nidx_2d], '.r') # 1d nodes\n",
    "# art_2dc, = ax.plot(cell_x[cidx_2d], cell_y[cidx_2d], '.m') # 1d nodes"
   ]
  },
  {
   "cell_type": "code",
   "execution_count": null,
   "metadata": {},
   "outputs": [],
   "source": [
    "art_1d.remove()\n",
    "art_1dc.remove()"
   ]
  },
  {
   "cell_type": "code",
   "execution_count": null,
   "metadata": {},
   "outputs": [],
   "source": [
    "art_2d.remove()\n",
    "art_2dc.remove()"
   ]
  },
  {
   "cell_type": "code",
   "execution_count": null,
   "metadata": {},
   "outputs": [],
   "source": [
    "fpc.set_edgecolor('none')\n",
    "art_1d, = ax.plot(node_lon[idx_1d], node_lat[idx_1d], '.g') # nodes for 1d network?\n",
    "art_ep, = ax.plot(node_lon[ep], node_lat[ep], '.r') # single end points\n",
    "art_sp, = ax.plot(node_lon[sp], node_lat[sp], '.b') # single start points -> outlet\n",
    "art_1dc, = ax.plot(cell_x[n2d:], cell_y[n2d:], '.m') # 1d nodes"
   ]
  },
  {
   "cell_type": "code",
   "execution_count": null,
   "metadata": {},
   "outputs": [],
   "source": [
    "fpc.set_edgecolor('grey')\n",
    "art_1d.remove()\n",
    "art_ep.remove()\n",
    "art_sp.remove()\n",
    "art_1dc.remove()"
   ]
  },
  {
   "cell_type": "code",
   "execution_count": null,
   "metadata": {},
   "outputs": [],
   "source": [
    "# plot initial water level\n",
    "try:\n",
    "    wl.remove()\n",
    "except ValueError:\n",
    "    pass\n",
    "fpc.set_facecolor('none')\n",
    "wl = ax.scatter(cell_x[n2d:], cell_y[n2d:], c=cmap_wl(N(bmi.get_var('hs')[n2d:])), cmap=cmap_wl, s=3)\n",
    "fig"
   ]
  },
  {
   "cell_type": "code",
   "execution_count": null,
   "metadata": {},
   "outputs": [],
   "source": [
    "# corner admin links\n",
    "# l1d = bmi.get_var('lncn')-1\n",
    "# lcoords = nodes[l1d] #[nodes[link] for link in l1d]"
   ]
  },
  {
   "cell_type": "code",
   "execution_count": null,
   "metadata": {},
   "outputs": [],
   "source": [
    "rain = bmi.get_var('rain')# np.zeros_like()\n",
    "print(rain[ep].max())"
   ]
  },
  {
   "cell_type": "code",
   "execution_count": null,
   "metadata": {},
   "outputs": [],
   "source": [
    "rain = np.zeros_like(bmi.get_var('rain'))\n",
    "rain[ep] = 1000\n",
    "bmi.set_var('rain', rain)"
   ]
  },
  {
   "cell_type": "code",
   "execution_count": null,
   "metadata": {},
   "outputs": [],
   "source": [
    "for i in range(100):\n",
    "    bmi.update()\n",
    "bmi.get_current_time()/86400"
   ]
  },
  {
   "cell_type": "code",
   "execution_count": null,
   "metadata": {},
   "outputs": [],
   "source": [
    "# bmi.get_var('q1')[ep]"
   ]
  },
  {
   "cell_type": "code",
   "execution_count": null,
   "metadata": {},
   "outputs": [],
   "source": [
    "try:\n",
    "    wl.remove()\n",
    "except ValueError:\n",
    "    pass\n",
    "fpc.set_facecolor('none')\n",
    "wl = ax.scatter(cell_x[n2d:], cell_y[n2d:], c=cmap_wl(N(bmi.get_var('hs')[n2d:])), cmap=cmap_wl, s=3)\n",
    "fig"
   ]
  },
  {
   "cell_type": "code",
   "execution_count": null,
   "metadata": {},
   "outputs": [],
   "source": [
    "try:\n",
    "    wl.remove()\n",
    "except ValueError:\n",
    "    pass\n",
    "fpc.set_facecolor(cmap_wl(N(bmi.get_var('hs')[:n2d])))\n",
    "fig"
   ]
  },
  {
   "cell_type": "code",
   "execution_count": null,
   "metadata": {},
   "outputs": [],
   "source": [
    "[bmi.get_var_name(i) for i in range(bmi.get_var_count())]"
   ]
  },
  {
   "cell_type": "code",
   "execution_count": null,
   "metadata": {},
   "outputs": [],
   "source": [
    "n1d = nodes.shape[0] - n2d\n",
    "n1d"
   ]
  },
  {
   "cell_type": "code",
   "execution_count": null,
   "metadata": {},
   "outputs": [],
   "source": [
    "class UGrid(object):\n",
    "    def __init__(self, nodes, n2d=None, faces=None, edges=None):\n",
    "        self.nodes = np.atleast_2d(nodes)\n",
    "        self.faces = faces\n",
    "        self.n2d = faces.max() if faces is not None else nodes.shape[0]\n",
    "        self.n1d = nodes.shape[0] - n2d\n",
    "        self.idx_2d = np.arange(self.n2d, dtype=np.int32)\n",
    "        self.idx_1d = np.arange(self.n1d, dtype=np.int32) + self.n2d\n",
    "        # self.crs = crs\n",
    "    \n",
    "\n",
    "    def get_2d_nodes(self):\n",
    "        return self.nodes[self.idx_2d, :]\n",
    "\n",
    "    def get_1d_nodes(self):\n",
    "        return self.nodes[self.idx_1d, :]\n",
    "\n",
    "    def index1d(self, x, y):\n",
    "        if not hasattr(self, '_rtree'):\n",
    "            self._create_rtree()\n",
    "        x, y = np.atleast_1d(x), np.atleast_1d(y)\n",
    "        return [list(self._rtree.nearest(xy, 1))[0] for xy in zip(x, y)]\n",
    "\n",
    "    def _create_rtree(self):\n",
    "        import rtree\n",
    "        \"\"\"Creat a spatial index for the 1d coordinates. A model_1d_index\n",
    "        attribute funtion is created to find the nearest 1d coordinate tuple\"\"\"\n",
    "        # build spatial rtree index of points\n",
    "        self._rtree = rtree.index.Index()\n",
    "        for i, xy in zip(self.idx_1d, self.get_1d_nodes()):\n",
    "            self._rtree.insert(i, xy.tolist())"
   ]
  }
 ],
 "metadata": {
  "kernelspec": {
   "display_name": "Python [conda env:glofrim]",
   "language": "python",
   "name": "conda-env-glofrim-py"
  },
  "language_info": {
   "codemirror_mode": {
    "name": "ipython",
    "version": 2
   },
   "file_extension": ".py",
   "mimetype": "text/x-python",
   "name": "python",
   "nbconvert_exporter": "python",
   "pygments_lexer": "ipython2",
   "version": "2.7.14"
  }
 },
 "nbformat": 4,
 "nbformat_minor": 2
}
