{
 "cells": [
  {
   "cell_type": "code",
   "execution_count": 1,
   "metadata": {},
   "outputs": [],
   "source": [
    "%matplotlib notebook\n",
    "\n",
    "import numpy as np\n",
    "import matplotlib.tri as tri\n",
    "import matplotlib.pyplot as plt\n",
    "import cartopy.crs as ccrs\n",
    "from cartopy.mpl.gridliner import LONGITUDE_FORMATTER, LATITUDE_FORMATTER\n",
    "import matplotlib\n",
    "from matplotlib import cm\n",
    "\n",
    "def make_map(projection=ccrs.PlateCarree()):\n",
    "    \n",
    "    fig, ax = plt.subplots(figsize=(6, 6),\n",
    "                           subplot_kw=dict(projection=projection))\n",
    "#     gl = ax.gridlines(draw_labels=True)\n",
    "#     gl.xlabels_top = gl.ylabels_right = False\n",
    "#     gl.xformatter = LONGITUDE_FORMATTER\n",
    "#     gl.yformatter = LATITUDE_FORMATTER\n",
    "    return fig, ax\n",
    "\n",
    "def plot_gtiff(ax, data, transform, cmap='viridis', vmin=None, vmax=None, cbar=False, cbar_kwargs={}, **kwargs):\n",
    "    extent = plot_extent(data, transform)\n",
    "    im = ax.imshow(data, extent=extent, vmin=vmin, vmax=vmax, cmap=cmap, origin='upper', **kwargs)\n",
    "    ax.set_extent(extent)\n",
    "    \n",
    "    dmin, dmax = np.nanmin(data), np.nanmax(data)\n",
    "    vmin = vmin if vmin is not None else dmin \n",
    "    vmax = vmax if vmax is not None else dmax\n",
    "    if (dmax > vmax) and (dmin < vmin):\n",
    "        cbar_kwargs.update(extend='both')\n",
    "    elif dmax > vmax:\n",
    "        cbar_kwargs.update(extend='max')\n",
    "    elif dmin < vmin:\n",
    "        cbar_kwargs.update(extend='min')\n",
    "\n",
    "    if cbar:\n",
    "        cbar = set_colorbar(ax, im, **cbar_kwargs)\n",
    "    else:\n",
    "        cbar = None\n",
    "    return im, cbar\n",
    "\n",
    "def plot_extent(data, transform):\n",
    "    rows, cols = data.shape[-2:]\n",
    "    left, top = transform * (0, 0)\n",
    "    right, bottom = transform * (cols, rows)\n",
    "    extent = (left, right, bottom, top)\n",
    "    return extent"
   ]
  },
  {
   "cell_type": "code",
   "execution_count": 2,
   "metadata": {},
   "outputs": [],
   "source": [
    "import glofrim.gbmi_lib as glib \n",
    "from configparser import ConfigParser\n",
    "from os.path import join, isfile, abspath, dirname, basename, normpath"
   ]
  },
  {
   "cell_type": "code",
   "execution_count": 3,
   "metadata": {},
   "outputs": [],
   "source": [
    "# config_fn = r'/home/dirk/repos/model_test_data/test_Elbe/glofrim_PCR2CMF.ini'\n",
    "config_fn = r'/home/dirk/repos/model_test_data/test_Elbe/glofrim_PCR2DFM.ini'\n",
    "# config_fn = r'/home/dirk/repos/model_test_data/test_Elbe/glofrim_WFL2DFM.ini'\n",
    "env_fn = r'/home/dirk/repos/glofrim/environment.ini'"
   ]
  },
  {
   "cell_type": "code",
   "execution_count": 4,
   "metadata": {},
   "outputs": [],
   "source": [
    "# _cf = ConfigParser(inline_comment_prefixes=('#'))\n",
    "# env = glib.configread(abspath(env_fn), encoding='utf-8', cf=_cf)\n",
    "# glib.config2dict(env)"
   ]
  },
  {
   "cell_type": "code",
   "execution_count": 5,
   "metadata": {},
   "outputs": [
    {
     "name": "stderr",
     "output_type": "stream",
     "text": [
      "2018-07-20 14:09:13,969 - PCR - INFO - Config initialized\n",
      "2018-07-20 14:09:13,991 - DFM - INFO - Config initialized\n"
     ]
    },
    {
     "data": {
      "text/plain": [
       "[('update', 'PCR'),\n",
       " ('exchange',\n",
       "  {'coupling': SpatialCoupling object from PCR to DFM based on grid_2_1d method,\n",
       "   'from_mod': 'PCR',\n",
       "   'from_unit': ['m/day', 'm2'],\n",
       "   'from_vars': ['runoff', 'cellArea'],\n",
       "   'to_mod': u'DFM',\n",
       "   'to_unit': ['mm', 'm2', 'unknown'],\n",
       "   'to_vars': [u'rain', u'ba', 1000.0]}),\n",
       " ('exchange',\n",
       "  {'add': True,\n",
       "   'coupling': SpatialCoupling object from PCR to DFM based on grid_us_2_1d_us method,\n",
       "   'from_mod': 'PCR',\n",
       "   'from_unit': ['m3/s', 'unknown'],\n",
       "   'from_vars': ['discharge', 86400.0],\n",
       "   'to_mod': u'DFM',\n",
       "   'to_unit': ['mm', 'm2', 'unknown'],\n",
       "   'to_vars': [u'rain', u'ba', 1000.0]}),\n",
       " ('update', 'DFM')]"
      ]
     },
     "execution_count": 5,
     "metadata": {},
     "output_type": "execute_result"
    }
   ],
   "source": [
    "from glofrim import Glofrim\n",
    "cbmi = Glofrim()\n",
    "cbmi.initialize_config(config_fn, env_fn=env_fn)\n",
    "cbmi.exchanges"
   ]
  },
  {
   "cell_type": "code",
   "execution_count": 6,
   "metadata": {},
   "outputs": [],
   "source": [
    "# config_fn = r'/home/dirk/repos/model_test_data/test_Elbe/WFL_Elbe/SBM/wflow_sbm.ini'\n",
    "# cbmi.bmimodels['WFL']._bmi.initialize_config(config_fn)\n",
    "# cbmi.bmimodels['WFL']._bmi.dynModel.clonemappath"
   ]
  },
  {
   "cell_type": "code",
   "execution_count": 7,
   "metadata": {},
   "outputs": [],
   "source": [
    "# cbmi.set_out_dir()"
   ]
  },
  {
   "cell_type": "code",
   "execution_count": 8,
   "metadata": {},
   "outputs": [
    {
     "name": "stderr",
     "output_type": "stream",
     "text": [
      "2018-07-20 14:09:14,215 - DFM - WARNING - /home/dirk/repos/model_test_data/test_Elbe/DFM_Elbe/Elbe_1way_1d2dFM_400m_3200m_glofrim.mdu file overwritten\n",
      "2018-07-20 14:09:14,225 - DFM - INFO - Ini file written to /home/dirk/repos/model_test_data/test_Elbe/DFM_Elbe/Elbe_1way_1d2dFM_400m_3200m_glofrim.mdu\n",
      "2018-07-20 14:09:25,560 - DFM - INFO - Model initialized\n",
      "2018-07-20 14:09:25,561 - PCR - INFO - Getting rgrid info based on landmask_elbe_30min.map\n",
      "2018-07-20 14:09:25,565 - PCR - INFO - Getting drainage direction from ldd_elbe_30min.map\n",
      "2018-07-20 14:09:25,567 - DFM - INFO - Getting DFM UGrid.\n"
     ]
    },
    {
     "name": "stdout",
     "output_type": "stream",
     "text": [
      "1D nodes found outside of valid 2D domain\n",
      "1D nodes found outside of valid 2D domain\n"
     ]
    },
    {
     "name": "stderr",
     "output_type": "stream",
     "text": [
      "2018-07-20 14:09:26,270 - PCR - WARNING - /home/dirk/repos/model_test_data/test_Elbe/PCR_Elbe/setup_PCR_30min_Elbe_glofrim.ini file overwritten\n",
      "2018-07-20 14:09:26,273 - PCR - INFO - Ini file written to /home/dirk/repos/model_test_data/test_Elbe/PCR_Elbe/setup_PCR_30min_Elbe_glofrim.ini\n",
      "2018-07-20 14:09:26,280 pcrglobwb_bmi_v203.configuration INFO Model run started at 2018-07-20 14:09:26.274699\n",
      "2018-07-20 14:09:26,281 pcrglobwb_bmi_v203.configuration INFO Logging output to /home/dirk/Experiments/glofrim/test_Elbe/PCR/log/setup_PCR_30min_Elbe.ini_2018-07-20T14:09:26.274699.log\n",
      "2018-07-20 14:09:26,282 pcrglobwb_bmi_v203.configuration INFO Note that avgSurfaceWaterInputLongIni is not used and not needed.\n",
      "2018-07-20 14:09:26,284 pcrglobwb_bmi_v203.configuration INFO The initial condition \"subDischargeIni\" is not defined. Either \"avgDischargeShortIni\" or \"avgDischargeLongIni\" is used in this run. Note that the \"subDischargeIni\" is only relevant if kinematic wave approaches are used.\n",
      "2018-07-20 14:09:26,285 pcrglobwb_bmi_v203.currTimeStep INFO number of time steps :731\n",
      "2018-07-20 14:09:26,529 pcrglobwb_bmi_v203.meteo INFO No forcing downscaling is implemented.\n",
      "2018-07-20 14:09:33,374 pcrglobwb_bmi_v203.deterministic_runner INFO Adjusting some model parameters based on given values in the ini/configuration file.\n",
      "2018-07-20 14:09:33,375 pcrglobwb_bmi_v203.deterministic_runner INFO \n",
      "\n",
      "Multiplier values used: \n",
      "For minSoilDepthFrac           : 1.0\n",
      "For kSat (log-scale)           : 0.0\n",
      "For recessionCoeff (log-scale) : 1.0\n",
      "For storCap                    : 1.25\n",
      "For degreeDayFactor            : 1.0\n",
      "For refPotET                   : 1.0\n",
      "\n",
      "2018-07-20 14:09:33,379 pcrglobwb_bmi_v203.pcrglobwb_bmi INFO Model initialized. Spin-up might be required.\n",
      "2018-07-20 14:09:33,380 - PCR - INFO - Model initialized\n",
      "2018-07-20 14:09:33,380 PCR INFO Model initialized\n"
     ]
    }
   ],
   "source": [
    "cbmi.initialize_model()"
   ]
  },
  {
   "cell_type": "code",
   "execution_count": 9,
   "metadata": {},
   "outputs": [
    {
     "data": {
      "text/plain": [
       "((1136,), (9,), (1136,))"
      ]
     },
     "execution_count": 9,
     "metadata": {},
     "output_type": "execute_result"
    }
   ],
   "source": [
    "import numpy as np\n",
    "c1 = cbmi.exchanges[2][1]['coupling'] \n",
    "c1.set_frac()\n",
    "c1.to_ind.shape, c1.from_ind.shape, c1.frac.shape"
   ]
  },
  {
   "cell_type": "code",
   "execution_count": 10,
   "metadata": {},
   "outputs": [
    {
     "data": {
      "text/plain": [
       "(array([6863, 6864, 6865, ..., 7304, 7305, 6628], dtype=int32),\n",
       " array([154, 155, 127, 170, 148, 169, 171, 172, 153], dtype=int32))"
      ]
     },
     "execution_count": 10,
     "metadata": {},
     "output_type": "execute_result"
    }
   ],
   "source": [
    "# model coupled indices\n",
    "c1.to_ind, c1.from_ind"
   ]
  },
  {
   "cell_type": "code",
   "execution_count": 11,
   "metadata": {},
   "outputs": [
    {
     "data": {
      "text/plain": [
       "(array([0, 0, 0, ..., 5, 5, 6]), array([0, 1, 2, 3, 4, 4, 5, 5, 6]))"
      ]
     },
     "execution_count": 11,
     "metadata": {},
     "output_type": "execute_result"
    }
   ],
   "source": [
    "# labels for coupled indices\n",
    "c1.to_grp, c1.from_grp"
   ]
  },
  {
   "cell_type": "code",
   "execution_count": 12,
   "metadata": {},
   "outputs": [
    {
     "data": {
      "text/plain": [
       "(array([293, 297,  78, 239, 149,  79,   1]), array([1, 1, 1, 1, 2, 2, 1]))"
      ]
     },
     "execution_count": 12,
     "metadata": {},
     "output_type": "execute_result"
    }
   ],
   "source": [
    "# n:n coupling\n",
    "c1.to_grp_n, c1.from_grp_n"
   ]
  },
  {
   "cell_type": "code",
   "execution_count": 13,
   "metadata": {},
   "outputs": [
    {
     "data": {
      "text/plain": [
       "0.9999999999999997"
      ]
     },
     "execution_count": 13,
     "metadata": {},
     "output_type": "execute_result"
    }
   ],
   "source": [
    "# fraction\n",
    "c1.frac[c1.to_grp==0].sum()"
   ]
  },
  {
   "cell_type": "code",
   "execution_count": 14,
   "metadata": {},
   "outputs": [],
   "source": [
    "# fcoords = c1.to_bmi.grid.get_poly_coords()\n",
    "# fpatches = (matplotlib.patches.Polygon(face) for face in fcoords)\n",
    "# fpc = matplotlib.collections.PatchCollection(fpatches, edgecolor='blue')\n",
    "# fpc.set_facecolor('none')"
   ]
  },
  {
   "cell_type": "code",
   "execution_count": 15,
   "metadata": {},
   "outputs": [],
   "source": [
    "# fig, ax = make_map()\n",
    "# # grid cells\n",
    "# cells = c1.from_bmi.grid.get_poly_coords()\n",
    "# gpatches = (matplotlib.patches.Polygon(cell) for cell in cells)\n",
    "# gpc = matplotlib.collections.PatchCollection(gpatches, edgecolor='grey')\n",
    "# gpc.set_facecolor('none')\n",
    "# # color linked cells\n",
    "# g = np.ma.masked_equal(np.zeros(c1.from_bmi.grid.shape), 0)\n",
    "# g.flat[c1.from_ind] = c1.from_grp\n",
    "# # all nodes\n",
    "# n = c1.to_bmi.grid._1d.nodes\n",
    "# ax.add_collection(gpc)\n",
    "# # ax.add_collection(fpc)\n",
    "# plot_gtiff(ax, g, c1.from_bmi.grid.transform, cmap=cm.tab20)\n",
    "# ax.scatter(n[:,0], n[:,1], c='grey', s=0.1)\n",
    "# ax.scatter(n[c1.to_ind,0], n[c1.to_ind,1], c=c1.to_grp, s=2, cmap=cm.tab20)"
   ]
  },
  {
   "cell_type": "code",
   "execution_count": 16,
   "metadata": {},
   "outputs": [
    {
     "ename": "NameError",
     "evalue": "global name 'inds' is not defined",
     "output_type": "error",
     "traceback": [
      "\u001b[0;31m---------------------------------------------------------------------------\u001b[0m",
      "\u001b[0;31mNameError\u001b[0m                                 Traceback (most recent call last)",
      "\u001b[0;32m<ipython-input-16-d6387562c9cc>\u001b[0m in \u001b[0;36m<module>\u001b[0;34m()\u001b[0m\n\u001b[1;32m      3\u001b[0m \u001b[0mdfm_idx\u001b[0m \u001b[0;34m=\u001b[0m \u001b[0mcbmi\u001b[0m\u001b[0;34m.\u001b[0m\u001b[0mindex\u001b[0m\u001b[0;34m(\u001b[0m\u001b[0mx\u001b[0m\u001b[0;34m,\u001b[0m\u001b[0my\u001b[0m\u001b[0;34m,\u001b[0m \u001b[0;34m'DFM'\u001b[0m\u001b[0;34m,\u001b[0m \u001b[0min1d\u001b[0m\u001b[0;34m=\u001b[0m\u001b[0mTrue\u001b[0m\u001b[0;34m)\u001b[0m\u001b[0;34m\u001b[0m\u001b[0m\n\u001b[1;32m      4\u001b[0m \u001b[0;31m# check\u001b[0m\u001b[0;34m\u001b[0m\u001b[0;34m\u001b[0m\u001b[0m\n\u001b[0;32m----> 5\u001b[0;31m \u001b[0mcbmi\u001b[0m\u001b[0;34m.\u001b[0m\u001b[0mbmimodels\u001b[0m\u001b[0;34m[\u001b[0m\u001b[0;34m'DFM'\u001b[0m\u001b[0;34m]\u001b[0m\u001b[0;34m.\u001b[0m\u001b[0mgrid\u001b[0m\u001b[0;34m.\u001b[0m\u001b[0m_1d\u001b[0m\u001b[0;34m.\u001b[0m\u001b[0mxy\u001b[0m\u001b[0;34m(\u001b[0m\u001b[0mpcr_idx\u001b[0m\u001b[0;34m)\u001b[0m\u001b[0;34m,\u001b[0m \u001b[0mcbmi\u001b[0m\u001b[0;34m.\u001b[0m\u001b[0mbmimodels\u001b[0m\u001b[0;34m[\u001b[0m\u001b[0;34m'PCR'\u001b[0m\u001b[0;34m]\u001b[0m\u001b[0;34m.\u001b[0m\u001b[0mgrid\u001b[0m\u001b[0;34m.\u001b[0m\u001b[0mxy\u001b[0m\u001b[0;34m(\u001b[0m\u001b[0mdfm_idx\u001b[0m\u001b[0;34m)\u001b[0m\u001b[0;34m\u001b[0m\u001b[0m\n\u001b[0m",
      "\u001b[0;32m/home/dirk/repos/glofrim/glofrim-py/glofrim/grids.py\u001b[0m in \u001b[0;36mxy\u001b[0;34m(self, ind, row, col, **kwargs)\u001b[0m\n\u001b[1;32m     98\u001b[0m \u001b[0;34m\u001b[0m\u001b[0m\n\u001b[1;32m     99\u001b[0m     \u001b[0;32mdef\u001b[0m \u001b[0mxy\u001b[0m\u001b[0;34m(\u001b[0m\u001b[0mself\u001b[0m\u001b[0;34m,\u001b[0m \u001b[0mind\u001b[0m\u001b[0;34m=\u001b[0m\u001b[0mNone\u001b[0m\u001b[0;34m,\u001b[0m \u001b[0mrow\u001b[0m\u001b[0;34m=\u001b[0m\u001b[0mNone\u001b[0m\u001b[0;34m,\u001b[0m \u001b[0mcol\u001b[0m\u001b[0;34m=\u001b[0m\u001b[0mNone\u001b[0m\u001b[0;34m,\u001b[0m \u001b[0;34m**\u001b[0m\u001b[0mkwargs\u001b[0m\u001b[0;34m)\u001b[0m\u001b[0;34m:\u001b[0m\u001b[0;34m\u001b[0m\u001b[0m\n\u001b[0;32m--> 100\u001b[0;31m         \u001b[0;32mif\u001b[0m \u001b[0minds\u001b[0m \u001b[0;32mis\u001b[0m \u001b[0;32mnot\u001b[0m \u001b[0mNone\u001b[0m\u001b[0;34m:\u001b[0m\u001b[0;34m\u001b[0m\u001b[0m\n\u001b[0m\u001b[1;32m    101\u001b[0m             \u001b[0mind\u001b[0m \u001b[0;34m=\u001b[0m \u001b[0mnp\u001b[0m\u001b[0;34m.\u001b[0m\u001b[0matleast_1d\u001b[0m\u001b[0;34m(\u001b[0m\u001b[0mind\u001b[0m\u001b[0;34m)\u001b[0m\u001b[0;34m\u001b[0m\u001b[0m\n\u001b[1;32m    102\u001b[0m             \u001b[0mrow\u001b[0m\u001b[0;34m,\u001b[0m \u001b[0mcol\u001b[0m \u001b[0;34m=\u001b[0m \u001b[0mself\u001b[0m\u001b[0;34m.\u001b[0m\u001b[0munravel_index\u001b[0m\u001b[0;34m(\u001b[0m\u001b[0mind\u001b[0m\u001b[0;34m)\u001b[0m\u001b[0;34m\u001b[0m\u001b[0m\n",
      "\u001b[0;31mNameError\u001b[0m: global name 'inds' is not defined"
     ]
    }
   ],
   "source": [
    "y, x =  53.5267, 9.9535\n",
    "pcr_idx = cbmi.index(x,y, 'PCR'), \n",
    "dfm_idx = cbmi.index(x,y, 'DFM', in1d=True)\n",
    "# check\n",
    "cbmi.bmimodels['DFM'].grid._1d.xy(pcr_idx), cbmi.bmimodels['PCR'].grid.xy(dfm_idx)"
   ]
  },
  {
   "cell_type": "code",
   "execution_count": null,
   "metadata": {},
   "outputs": [],
   "source": []
  },
  {
   "cell_type": "code",
   "execution_count": null,
   "metadata": {},
   "outputs": [],
   "source": [
    "cbmi.get_start_time(), cbmi.get_current_time(), cbmi.get_end_time(), cbmi.get_time_step()"
   ]
  },
  {
   "cell_type": "code",
   "execution_count": null,
   "metadata": {},
   "outputs": [],
   "source": [
    "from datetime import datetime\n",
    "cbmi.update_until(datetime(2000, 1, 10))\n",
    "cbmi.get_current_time()"
   ]
  },
  {
   "cell_type": "code",
   "execution_count": null,
   "metadata": {},
   "outputs": [],
   "source": []
  },
  {
   "cell_type": "code",
   "execution_count": null,
   "metadata": {},
   "outputs": [],
   "source": [
    "# cbmi.finalize()"
   ]
  }
 ],
 "metadata": {
  "kernelspec": {
   "display_name": "Python [conda env:glofrim]",
   "language": "python",
   "name": "conda-env-glofrim-py"
  },
  "language_info": {
   "codemirror_mode": {
    "name": "ipython",
    "version": 2
   },
   "file_extension": ".py",
   "mimetype": "text/x-python",
   "name": "python",
   "nbconvert_exporter": "python",
   "pygments_lexer": "ipython2",
   "version": "2.7.14"
  }
 },
 "nbformat": 4,
 "nbformat_minor": 2
}
