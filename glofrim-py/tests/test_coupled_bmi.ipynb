{
 "cells": [
  {
   "cell_type": "code",
   "execution_count": 1,
   "metadata": {},
   "outputs": [],
   "source": [
    "%matplotlib notebook\n",
    "\n",
    "import netCDF4\n",
    "import numpy as np\n",
    "import matplotlib.tri as tri\n",
    "import matplotlib.pyplot as plt\n",
    "import cartopy.crs as ccrs\n",
    "from cartopy.mpl.gridliner import LONGITUDE_FORMATTER, LATITUDE_FORMATTER\n",
    "import matplotlib\n",
    "from matplotlib import cm\n",
    "\n",
    "def make_map(projection=ccrs.PlateCarree()):\n",
    "    \n",
    "    fig, ax = plt.subplots(figsize=(6, 6),\n",
    "                           subplot_kw=dict(projection=projection))\n",
    "#     gl = ax.gridlines(draw_labels=True)\n",
    "#     gl.xlabels_top = gl.ylabels_right = False\n",
    "#     gl.xformatter = LONGITUDE_FORMATTER\n",
    "#     gl.yformatter = LATITUDE_FORMATTER\n",
    "    return fig, ax\n",
    "\n",
    "def plot_gtiff(ax, data, transform, cmap='viridis', vmin=None, vmax=None, cbar=False, cbar_kwargs={}, **kwargs):\n",
    "    extent = plot_extent(data, transform)\n",
    "    im = ax.imshow(data, extent=extent, vmin=vmin, vmax=vmax, cmap=cmap, origin='upper', **kwargs)\n",
    "    ax.set_extent(extent)\n",
    "    \n",
    "    dmin, dmax = np.nanmin(data), np.nanmax(data)\n",
    "    vmin = vmin if vmin is not None else dmin \n",
    "    vmax = vmax if vmax is not None else dmax\n",
    "    if (dmax > vmax) and (dmin < vmin):\n",
    "        cbar_kwargs.update(extend='both')\n",
    "    elif dmax > vmax:\n",
    "        cbar_kwargs.update(extend='max')\n",
    "    elif dmin < vmin:\n",
    "        cbar_kwargs.update(extend='min')\n",
    "\n",
    "    if cbar:\n",
    "        cbar = set_colorbar(ax, im, **cbar_kwargs)\n",
    "    else:\n",
    "        cbar = None\n",
    "    return im, cbar\n",
    "\n",
    "def plot_extent(data, transform):\n",
    "    rows, cols = data.shape[-2:]\n",
    "    left, top = transform * (0, 0)\n",
    "    right, bottom = transform * (cols, rows)\n",
    "    extent = (left, right, bottom, top)\n",
    "    return extent"
   ]
  },
  {
   "cell_type": "code",
   "execution_count": 2,
   "metadata": {},
   "outputs": [],
   "source": [
    "import glofrim.glofrim_lib as glib \n",
    "from configparser import ConfigParser\n",
    "from os.path import join, isfile, abspath, dirname, basename, normpath"
   ]
  },
  {
   "cell_type": "code",
   "execution_count": 3,
   "metadata": {},
   "outputs": [],
   "source": [
    "# config_fn = r'/home/dirk/repos/model_test_data/test_Elbe/glofrim_PCR2CMF.ini'\n",
    "# config_fn = r'/home/dirk/repos/model_test_data/test_Elbe/glofrim_PCR2DFM.ini'\n",
    "# config_fn = r'/home/dirk/repos/model_test_data/test_Elbe/glofrim_WFL2DFM.ini'\n",
    "config_fn = r'/home/jannis/PhD/code/GLOFRIMplusCAMA/model_test_data/test_Elbe/glofrim_PCR2LFP.ini'\n",
    "env_fn = r'/home/jannis/PhD/code/GLOFRIMplusCAMA/glofrim/environment.ini'"
   ]
  },
  {
   "cell_type": "code",
   "execution_count": 4,
   "metadata": {},
   "outputs": [
    {
     "data": {
      "text/plain": [
       "OrderedDict([(u'engines',\n",
       "              OrderedDict([('CMF',\n",
       "                            u'/home/jannis/Programmes/cama-flood_bmi_v3.6.2/src/src/libcama.so'),\n",
       "                           ('DFM',\n",
       "                            u'/home/jannis/Programmes/DFLOWFM/lib/libdflowfm.so'),\n",
       "                           ('LFP',\n",
       "                            u'/home/jannis/Programmes/lisflood-bmi-v5.9/liblisflood.so')]))])"
      ]
     },
     "execution_count": 4,
     "metadata": {},
     "output_type": "execute_result"
    }
   ],
   "source": [
    "_cf = ConfigParser(inline_comment_prefixes=('#'))\n",
    "env = glib.configread(abspath(env_fn), encoding='utf-8', cf=_cf)\n",
    "glib.config2dict(env)"
   ]
  },
  {
   "cell_type": "code",
   "execution_count": 5,
   "metadata": {},
   "outputs": [
    {
     "name": "stderr",
     "output_type": "stream",
     "text": [
      "2018-07-20 15:00:11,861 - PCR - INFO - Config initialized\n",
      "2018-07-20 15:00:11,869 - LFP - INFO - Config initialized\n"
     ]
    },
    {
     "data": {
      "text/plain": [
       "[('update', 'PCR'),\n",
       " ('exchange',\n",
       "  {'coupling': SpatialCoupling object from PCR to LFP based on grid_2_1d method,\n",
       "   'from_mod': 'PCR',\n",
       "   'from_unit': ['m/day', 'm2'],\n",
       "   'from_vars': ['runoff', 'cellArea'],\n",
       "   'to_mod': u'LFP',\n",
       "   'to_unit': ['m3/s', 'unknown'],\n",
       "   'to_vars': [u'SGCQin', 86400.0]}),\n",
       " ('exchange',\n",
       "  {'add': True,\n",
       "   'coupling': SpatialCoupling object from PCR to LFP based on grid_us_2_1d_us method,\n",
       "   'from_mod': 'PCR',\n",
       "   'from_unit': ['m3/s', 'unknown'],\n",
       "   'from_vars': ['discharge', 86400.0],\n",
       "   'to_mod': u'LFP',\n",
       "   'to_unit': ['m3/s', 'unknown'],\n",
       "   'to_vars': [u'SGCQin', 86400.0]}),\n",
       " ('update', 'LFP')]"
      ]
     },
     "execution_count": 5,
     "metadata": {},
     "output_type": "execute_result"
    }
   ],
   "source": [
    "from glofrim import Glofrim\n",
    "cbmi = Glofrim()\n",
    "cbmi.initialize_config(config_fn, env_fn=env_fn)\n",
    "cbmi.exchanges"
   ]
  },
  {
   "cell_type": "code",
   "execution_count": 6,
   "metadata": {},
   "outputs": [],
   "source": [
    "# config_fn = r'/home/dirk/repos/model_test_data/test_Elbe/WFL_Elbe/SBM/wflow_sbm.ini'\n",
    "# cbmi.bmimodels['WFL']._bmi.initialize_config(config_fn)\n",
    "# cbmi.bmimodels['WFL']._bmi.dynModel.clonemappath"
   ]
  },
  {
   "cell_type": "code",
   "execution_count": 7,
   "metadata": {},
   "outputs": [
    {
     "name": "stderr",
     "output_type": "stream",
     "text": [
      "2018-07-20 15:00:11,950 - PCR - INFO - Getting rgrid info based on landmask_elbe_30min.map\n",
      "2018-07-20 15:00:11,953 - PCR - INFO - Getting drainage direction from ldd_elbe_30min.map\n",
      "2018-07-20 15:00:11,956 - LFP - INFO - Getting rgrid info based on LFP_Elbe_DEM_2km.asc\n"
     ]
    },
    {
     "name": "stdout",
     "output_type": "stream",
     "text": [
      "1D nodes found outside of valid 2D domain\n"
     ]
    },
    {
     "ename": "IndexError",
     "evalue": "All 2d nodes outside of valid 2D domain",
     "output_type": "error",
     "traceback": [
      "\u001b[0;31m---------------------------------------------------------------------------\u001b[0m",
      "\u001b[0;31mIndexError\u001b[0m                                Traceback (most recent call last)",
      "\u001b[0;32m<ipython-input-7-03530de67033>\u001b[0m in \u001b[0;36m<module>\u001b[0;34m()\u001b[0m\n\u001b[0;32m----> 1\u001b[0;31m \u001b[0mcbmi\u001b[0m\u001b[0;34m.\u001b[0m\u001b[0minitialize_model\u001b[0m\u001b[0;34m(\u001b[0m\u001b[0;34m)\u001b[0m\u001b[0;34m\u001b[0m\u001b[0m\n\u001b[0m",
      "\u001b[0;32m/home/jannis/PhD/code/GLOFRIMplusCAMA/glofrim/glofrim-py/glofrim/glofrim_bmi.pyc\u001b[0m in \u001b[0;36minitialize_model\u001b[0;34m(self, **kwargs)\u001b[0m\n\u001b[1;32m    212\u001b[0m                 \u001b[0mself\u001b[0m\u001b[0;34m.\u001b[0m\u001b[0mbmimodels\u001b[0m\u001b[0;34m[\u001b[0m\u001b[0mmod\u001b[0m\u001b[0;34m]\u001b[0m\u001b[0;34m.\u001b[0m\u001b[0minitialize_model\u001b[0m\u001b[0;34m(\u001b[0m\u001b[0;34m)\u001b[0m\u001b[0;34m\u001b[0m\u001b[0m\n\u001b[1;32m    213\u001b[0m         \u001b[0;31m# set spatial coupling\u001b[0m\u001b[0;34m\u001b[0m\u001b[0;34m\u001b[0m\u001b[0m\n\u001b[0;32m--> 214\u001b[0;31m         \u001b[0mself\u001b[0m\u001b[0;34m.\u001b[0m\u001b[0m_set_spatial_coupling\u001b[0m\u001b[0;34m(\u001b[0m\u001b[0;34m)\u001b[0m\u001b[0;34m\u001b[0m\u001b[0m\n\u001b[0m\u001b[1;32m    215\u001b[0m         \u001b[0;31m# initialize other models (CMF needs to be initialized after spatial coupling!)\u001b[0m\u001b[0;34m\u001b[0m\u001b[0;34m\u001b[0m\u001b[0m\n\u001b[1;32m    216\u001b[0m         \u001b[0;32mfor\u001b[0m \u001b[0mmod\u001b[0m \u001b[0;32min\u001b[0m \u001b[0mself\u001b[0m\u001b[0;34m.\u001b[0m\u001b[0mbmimodels\u001b[0m\u001b[0;34m:\u001b[0m\u001b[0;34m\u001b[0m\u001b[0m\n",
      "\u001b[0;32m/home/jannis/PhD/code/GLOFRIMplusCAMA/glofrim/glofrim-py/glofrim/glofrim_bmi.pyc\u001b[0m in \u001b[0;36m_set_spatial_coupling\u001b[0;34m(self)\u001b[0m\n\u001b[1;32m    202\u001b[0m         \u001b[0;32mfor\u001b[0m \u001b[0mitem\u001b[0m \u001b[0;32min\u001b[0m \u001b[0mself\u001b[0m\u001b[0;34m.\u001b[0m\u001b[0mexchanges\u001b[0m\u001b[0;34m:\u001b[0m\u001b[0;34m\u001b[0m\u001b[0m\n\u001b[1;32m    203\u001b[0m             \u001b[0;32mif\u001b[0m \u001b[0mitem\u001b[0m\u001b[0;34m[\u001b[0m\u001b[0;36m0\u001b[0m\u001b[0;34m]\u001b[0m \u001b[0;34m==\u001b[0m \u001b[0;34m'exchange'\u001b[0m\u001b[0;34m:\u001b[0m\u001b[0;34m\u001b[0m\u001b[0m\n\u001b[0;32m--> 204\u001b[0;31m                 \u001b[0mitem\u001b[0m\u001b[0;34m[\u001b[0m\u001b[0;36m1\u001b[0m\u001b[0;34m]\u001b[0m\u001b[0;34m[\u001b[0m\u001b[0;34m'coupling'\u001b[0m\u001b[0;34m]\u001b[0m\u001b[0;34m.\u001b[0m\u001b[0mcouple\u001b[0m\u001b[0;34m(\u001b[0m\u001b[0;34m)\u001b[0m\u001b[0;34m\u001b[0m\u001b[0m\n\u001b[0m\u001b[1;32m    205\u001b[0m \u001b[0;34m\u001b[0m\u001b[0m\n\u001b[1;32m    206\u001b[0m     \u001b[0;32mdef\u001b[0m \u001b[0minitialize_model\u001b[0m\u001b[0;34m(\u001b[0m\u001b[0mself\u001b[0m\u001b[0;34m,\u001b[0m \u001b[0;34m**\u001b[0m\u001b[0mkwargs\u001b[0m\u001b[0;34m)\u001b[0m\u001b[0;34m:\u001b[0m\u001b[0;34m\u001b[0m\u001b[0m\n",
      "\u001b[0;32m/home/jannis/PhD/code/GLOFRIMplusCAMA/glofrim/glofrim-py/glofrim/spatial_coupling.pyc\u001b[0m in \u001b[0;36mcouple\u001b[0;34m(self, method, filename, **kwargs)\u001b[0m\n\u001b[1;32m     74\u001b[0m         \u001b[0mself\u001b[0m\u001b[0;34m.\u001b[0m\u001b[0mfrom_bmi\u001b[0m\u001b[0;34m.\u001b[0m\u001b[0mget_grid\u001b[0m\u001b[0;34m(\u001b[0m\u001b[0;34m)\u001b[0m \u001b[0;31m# make sure grid property is set\u001b[0m\u001b[0;34m\u001b[0m\u001b[0m\n\u001b[1;32m     75\u001b[0m         \u001b[0mself\u001b[0m\u001b[0;34m.\u001b[0m\u001b[0mto_bmi\u001b[0m\u001b[0;34m.\u001b[0m\u001b[0mget_grid\u001b[0m\u001b[0;34m(\u001b[0m\u001b[0;34m)\u001b[0m \u001b[0;31m# make sure grid property is set\u001b[0m\u001b[0;34m\u001b[0m\u001b[0m\n\u001b[0;32m---> 76\u001b[0;31m         \u001b[0mgetattr\u001b[0m\u001b[0;34m(\u001b[0m\u001b[0mself\u001b[0m\u001b[0;34m,\u001b[0m \u001b[0mself\u001b[0m\u001b[0;34m.\u001b[0m\u001b[0mmethod\u001b[0m\u001b[0;34m)\u001b[0m\u001b[0;34m(\u001b[0m\u001b[0;34m)\u001b[0m\u001b[0;34m\u001b[0m\u001b[0m\n\u001b[0m\u001b[1;32m     77\u001b[0m \u001b[0;34m\u001b[0m\u001b[0m\n\u001b[1;32m     78\u001b[0m     \u001b[0;32mdef\u001b[0m \u001b[0mto_file\u001b[0m\u001b[0;34m(\u001b[0m\u001b[0mself\u001b[0m\u001b[0;34m,\u001b[0m \u001b[0mfilename\u001b[0m\u001b[0;34m)\u001b[0m\u001b[0;34m:\u001b[0m\u001b[0;34m\u001b[0m\u001b[0m\n",
      "\u001b[0;32m/home/jannis/PhD/code/GLOFRIMplusCAMA/glofrim/glofrim-py/glofrim/spatial_coupling.pyc\u001b[0m in \u001b[0;36mgrid_2_1d\u001b[0;34m(self)\u001b[0m\n\u001b[1;32m    132\u001b[0m             \u001b[0mself\u001b[0m\u001b[0;34m.\u001b[0m\u001b[0m_nodes_outside_domain\u001b[0m \u001b[0;34m=\u001b[0m \u001b[0mto_inds\u001b[0m\u001b[0;34m[\u001b[0m\u001b[0;34m~\u001b[0m\u001b[0mvalid\u001b[0m\u001b[0;34m]\u001b[0m\u001b[0;34m\u001b[0m\u001b[0m\n\u001b[1;32m    133\u001b[0m         \u001b[0;32mif\u001b[0m \u001b[0mnp\u001b[0m\u001b[0;34m.\u001b[0m\u001b[0mall\u001b[0m\u001b[0;34m(\u001b[0m\u001b[0;34m~\u001b[0m\u001b[0mvalid\u001b[0m\u001b[0;34m)\u001b[0m\u001b[0;34m:\u001b[0m\u001b[0;34m\u001b[0m\u001b[0m\n\u001b[0;32m--> 134\u001b[0;31m             \u001b[0;32mraise\u001b[0m \u001b[0mIndexError\u001b[0m\u001b[0;34m(\u001b[0m\u001b[0;34m'All 2d nodes outside of valid 2D domain'\u001b[0m\u001b[0;34m)\u001b[0m\u001b[0;34m\u001b[0m\u001b[0m\n\u001b[0m\u001b[1;32m    135\u001b[0m         \u001b[0;31m# to(1):from(1) dict\u001b[0m\u001b[0;34m\u001b[0m\u001b[0;34m\u001b[0m\u001b[0m\n\u001b[1;32m    136\u001b[0m         \u001b[0md\u001b[0m \u001b[0;34m=\u001b[0m \u001b[0mdict\u001b[0m\u001b[0;34m(\u001b[0m\u001b[0mzip\u001b[0m\u001b[0;34m(\u001b[0m\u001b[0mto_inds\u001b[0m\u001b[0;34m[\u001b[0m\u001b[0mvalid\u001b[0m\u001b[0;34m]\u001b[0m\u001b[0;34m.\u001b[0m\u001b[0mtolist\u001b[0m\u001b[0;34m(\u001b[0m\u001b[0;34m)\u001b[0m\u001b[0;34m,\u001b[0m \u001b[0mfrom_inds\u001b[0m\u001b[0;34m[\u001b[0m\u001b[0mvalid\u001b[0m\u001b[0;34m]\u001b[0m\u001b[0;34m.\u001b[0m\u001b[0mtolist\u001b[0m\u001b[0;34m(\u001b[0m\u001b[0;34m)\u001b[0m\u001b[0;34m)\u001b[0m\u001b[0;34m)\u001b[0m\u001b[0;34m\u001b[0m\u001b[0m\n",
      "\u001b[0;31mIndexError\u001b[0m: All 2d nodes outside of valid 2D domain"
     ]
    }
   ],
   "source": [
    "cbmi.initialize_model()"
   ]
  },
  {
   "cell_type": "code",
   "execution_count": null,
   "metadata": {},
   "outputs": [],
   "source": [
    "import numpy as np\n",
    "c1 = cbmi.exchanges[2][1]['coupling'] \n",
    "c1.set_frac()\n",
    "c1.to_ind.shape, c1.from_ind.shape, c1.frac.shape"
   ]
  },
  {
   "cell_type": "code",
   "execution_count": null,
   "metadata": {},
   "outputs": [],
   "source": [
    "# fcoords = c1.to_bmi.grid.get_poly_coords()\n",
    "# fpatches = (matplotlib.patches.Polygon(face) for face in fcoords)\n",
    "# fpc = matplotlib.collections.PatchCollection(fpatches, edgecolor='blue')\n",
    "# fpc.set_facecolor('none')"
   ]
  },
  {
   "cell_type": "code",
   "execution_count": null,
   "metadata": {},
   "outputs": [],
   "source": [
    "fig, ax = make_map()\n",
    "# grid cells\n",
    "cells = c1.from_bmi.grid.get_poly_coords()\n",
    "gpatches = (matplotlib.patches.Polygon(cell) for cell in cells)\n",
    "gpc = matplotlib.collections.PatchCollection(gpatches, edgecolor='grey')\n",
    "gpc.set_facecolor('none')\n",
    "# color linked cells\n",
    "g = np.ma.masked_equal(np.zeros(c1.from_bmi.grid.shape), 0)\n",
    "g.flat[c1.from_ind] = c1.from_grp\n",
    "# all nodes\n",
    "n = c1.to_bmi.grid._1d.nodes\n",
    "ax.add_collection(gpc)\n",
    "# ax.add_collection(fpc)\n",
    "plot_gtiff(ax, g, c1.from_bmi.grid.transform, cmap=cm.tab20)\n",
    "ax.scatter(n[:,0], n[:,1], c='grey', s=0.1)\n",
    "ax.scatter(n[c1.to_ind,0], n[c1.to_ind,1], c=c1.to_grp, s=2, cmap=cm.tab20)"
   ]
  },
  {
   "cell_type": "code",
   "execution_count": null,
   "metadata": {},
   "outputs": [],
   "source": [
    "cbmi.get_start_time(), cbmi.get_current_time(), cbmi.get_end_time(), cbmi.get_time_step()"
   ]
  },
  {
   "cell_type": "code",
   "execution_count": null,
   "metadata": {},
   "outputs": [],
   "source": [
    "from datetime import datetime\n",
    "cbmi.update_until(datetime(2000, 1, 10))\n",
    "cbmi.get_current_time()"
   ]
  },
  {
   "cell_type": "code",
   "execution_count": null,
   "metadata": {},
   "outputs": [],
   "source": []
  },
  {
   "cell_type": "code",
   "execution_count": null,
   "metadata": {},
   "outputs": [],
   "source": [
    "# cbmi.finalize()"
   ]
  }
 ],
 "metadata": {
  "kernelspec": {
   "display_name": "Python [default]",
   "language": "python",
   "name": "python2"
  },
  "language_info": {
   "codemirror_mode": {
    "name": "ipython",
    "version": 2
   },
   "file_extension": ".py",
   "mimetype": "text/x-python",
   "name": "python",
   "nbconvert_exporter": "python",
   "pygments_lexer": "ipython2",
   "version": "2.7.15"
  }
 },
 "nbformat": 4,
 "nbformat_minor": 2
}
