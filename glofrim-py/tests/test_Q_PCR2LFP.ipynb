{
 "cells": [
  {
   "cell_type": "code",
   "execution_count": 1,
   "metadata": {},
   "outputs": [],
   "source": [
    "%matplotlib inline\n",
    "\n",
    "#- import required python libraries\n",
    "import netCDF4\n",
    "import sys, os\n",
    "import numpy as np\n",
    "import matplotlib as mpl\n",
    "import matplotlib.pyplot as plt\n",
    "from datetime import datetime\n",
    "import glofrim.glofrim_lib as glib\n",
    "from os.path import join, isfile, abspath, dirname, basename, normpath\n",
    "from configparser import ConfigParser\n",
    "from glofrim.glofrim_lib import configread"
   ]
  },
  {
   "cell_type": "code",
   "execution_count": 2,
   "metadata": {},
   "outputs": [],
   "source": [
    "from glofrim import Glofrim, PCR, LFP\n",
    "cbmi = Glofrim()"
   ]
  },
  {
   "cell_type": "code",
   "execution_count": 3,
   "metadata": {},
   "outputs": [],
   "source": [
    "#- provide file with local paths to model objects\n",
    "env_fn = r'../../environment.env'\n",
    "config = configread(env_fn)\n",
    "root_dir = config.get('models', 'root_dir')"
   ]
  },
  {
   "cell_type": "code",
   "execution_count": 4,
   "metadata": {},
   "outputs": [
    {
     "data": {
      "text/plain": [
       "OrderedDict([(u'engines',\n",
       "              OrderedDict([('CMF',\n",
       "                            u'/home/jannis/Programmes/cama-flood_bmi_v3.6.2/src/libcama.so'),\n",
       "                           ('DFM',\n",
       "                            u'/home/jannis/Programmes/DFLOWFM/lib/libdflowfm.so'),\n",
       "                           ('LFP',\n",
       "                            u'/home/jannis/Programmes/lisflood-bmi-v5.9/liblisflood.so')])),\n",
       "             (u'models',\n",
       "              OrderedDict([('root_dir',\n",
       "                            u'/home/jannis/PhD/code/GLOFRIMplusCAMA/model_test_data/test_Elbe')]))])"
      ]
     },
     "execution_count": 4,
     "metadata": {},
     "output_type": "execute_result"
    }
   ],
   "source": [
    "#- convert model configs to dictionary\n",
    "_cf = ConfigParser(inline_comment_prefixes=('#'))\n",
    "env = glib.configread(abspath(env_fn), encoding='utf-8', cf=_cf)\n",
    "glib.config2dict(env)"
   ]
  },
  {
   "cell_type": "code",
   "execution_count": 5,
   "metadata": {},
   "outputs": [
    {
     "data": {
      "text/plain": [
       "u'/home/jannis/PhD/code/GLOFRIMplusCAMA/model_test_data/test_Elbe/glofrim_PCR2LFP.ini'"
      ]
     },
     "execution_count": 5,
     "metadata": {},
     "output_type": "execute_result"
    }
   ],
   "source": [
    "#- provide file with coupling settings\n",
    "# config_fn = join(root_dir, 'glofrim_PCR2CMF.ini')\n",
    "# config_fn = join(root_dir, 'glofrim_PCR2DFM.ini')\n",
    "# config_fn = join(root_dir, 'glofrim_WFL2DFM.ini')\n",
    "config_fn = join(root_dir, 'glofrim_PCR2LFP.ini')\n",
    "config_fn"
   ]
  },
  {
   "cell_type": "code",
   "execution_count": 6,
   "metadata": {},
   "outputs": [],
   "source": [
    "#- provide locations where to extract simulated discharge\n",
    "x_obs_coord = 10.89 # set to coords of Neu-Darchau\n",
    "y_obs_coord = 53.23"
   ]
  },
  {
   "cell_type": "code",
   "execution_count": 7,
   "metadata": {},
   "outputs": [],
   "source": [
    "#- provide start and end date\n",
    "t_start = datetime(2000,1,1)\n",
    "t_end = datetime(2000,1,3)\n",
    "t_start_test = cbmi.set_start_time(t_start)\n",
    "try:\n",
    "    t_start == t_start_test\n",
    "except:\n",
    "    sys.exit('start time differ with set_var and get_var')"
   ]
  },
  {
   "cell_type": "code",
   "execution_count": 8,
   "metadata": {},
   "outputs": [
    {
     "name": "stderr",
     "output_type": "stream",
     "text": [
      "2018-07-24 11:14:05,224 - PCR - INFO - Config initialized\n",
      "2018-07-24 11:14:05,232 - LFP - INFO - Config initialized\n"
     ]
    }
   ],
   "source": [
    "#- create coupled GLOFRIM model and initialize configs\n",
    "try:\n",
    "    cbmi.initialize_config(config_fn, env_fn=env_fn)\n",
    "except Exception as e:\n",
    "    print e\n",
    "    sys.exit('configs could not be initialized')"
   ]
  },
  {
   "cell_type": "code",
   "execution_count": 9,
   "metadata": {},
   "outputs": [
    {
     "name": "stderr",
     "output_type": "stream",
     "text": [
      "2018-07-24 11:14:05,243 - PCR - INFO - Getting rgrid info based on landmask_elbe_30min.map\n",
      "2018-07-24 11:14:05,246 - PCR - INFO - Getting drainage direction from ldd_elbe_30min.map\n",
      "2018-07-24 11:14:05,248 - LFP - INFO - Getting rgrid info based on LFP_Elbe_DEM_2km.asc\n",
      "2018-07-24 11:14:05,309 - PCR - WARNING - /home/jannis/PhD/code/GLOFRIMplusCAMA/model_test_data/test_Elbe/PCR_Elbe/setup_PCR_30min_Elbe_glofrim.ini file overwritten\n",
      "2018-07-24 11:14:05,311 - PCR - INFO - Ini file written to /home/jannis/PhD/code/GLOFRIMplusCAMA/model_test_data/test_Elbe/PCR_Elbe/setup_PCR_30min_Elbe_glofrim.ini\n",
      "2018-07-24 11:14:05,315 pcrglobwb_bmi_v203.configuration INFO Model run started at 2018-07-24 11:14:05.312237\n",
      "2018-07-24 11:14:05,317 pcrglobwb_bmi_v203.configuration INFO Logging output to /home/jannis/PhD/code/GLOFRIMplusCAMA/experiment_GLOFRIM2/PCR/log/setup_PCR_30min_Elbe.ini_2018-07-24T11:14:05.312237.log\n",
      "2018-07-24 11:14:05,318 pcrglobwb_bmi_v203.configuration INFO Note that avgSurfaceWaterInputLongIni is not used and not needed.\n",
      "2018-07-24 11:14:05,319 pcrglobwb_bmi_v203.configuration INFO The initial condition \"subDischargeIni\" is not defined. Either \"avgDischargeShortIni\" or \"avgDischargeLongIni\" is used in this run. Note that the \"subDischargeIni\" is only relevant if kinematic wave approaches are used.\n",
      "2018-07-24 11:14:05,320 pcrglobwb_bmi_v203.currTimeStep INFO number of time steps :731\n"
     ]
    },
    {
     "name": "stdout",
     "output_type": "stream",
     "text": [
      "1D nodes found outside of valid 2D domain\n"
     ]
    },
    {
     "name": "stderr",
     "output_type": "stream",
     "text": [
      "2018-07-24 11:14:05,611 pcrglobwb_bmi_v203.meteo INFO No forcing downscaling is implemented.\n",
      "2018-07-24 11:14:13,553 pcrglobwb_bmi_v203.deterministic_runner INFO Adjusting some model parameters based on given values in the ini/configuration file.\n",
      "2018-07-24 11:14:13,554 pcrglobwb_bmi_v203.deterministic_runner INFO \n",
      "\n",
      "Multiplier values used: \n",
      "For minSoilDepthFrac           : 1.0\n",
      "For kSat (log-scale)           : 0.0\n",
      "For recessionCoeff (log-scale) : 1.0\n",
      "For storCap                    : 1.25\n",
      "For degreeDayFactor            : 1.0\n",
      "For refPotET                   : 1.0\n",
      "\n",
      "2018-07-24 11:14:13,556 pcrglobwb_bmi_v203.pcrglobwb_bmi INFO Model initialized. Spin-up might be required.\n",
      "2018-07-24 11:14:13,558 - PCR - INFO - Model initialized\n",
      "2018-07-24 11:14:13,558 PCR INFO Model initialized\n",
      "2018-07-24 11:14:13,560 - LFP - WARNING - /home/jannis/PhD/code/GLOFRIMplusCAMA/model_test_data/test_Elbe/LFP_data/LFPmodel_Elbe_glofrim.par file overwritten\n",
      "2018-07-24 11:14:13,560 LFP WARNING /home/jannis/PhD/code/GLOFRIMplusCAMA/model_test_data/test_Elbe/LFP_data/LFPmodel_Elbe_glofrim.par file overwritten\n",
      "2018-07-24 11:14:13,563 - LFP - INFO - Ini file written to /home/jannis/PhD/code/GLOFRIMplusCAMA/model_test_data/test_Elbe/LFP_data/LFPmodel_Elbe_glofrim.par\n",
      "2018-07-24 11:14:13,563 LFP INFO Ini file written to /home/jannis/PhD/code/GLOFRIMplusCAMA/model_test_data/test_Elbe/LFP_data/LFPmodel_Elbe_glofrim.par\n",
      "2018-07-24 11:14:13,565 bmi.wrapper INFO Loading model /home/jannis/PhD/code/GLOFRIMplusCAMA/model_test_data/test_Elbe/LFP_data/LFPmodel_Elbe.par in directory /home/jannis/PhD/code/GLOFRIMplusCAMA/model_test_data/test_Elbe/LFP_data\n",
      "2018-07-24 11:14:13,604 - LFP - INFO - Model initialized\n",
      "2018-07-24 11:14:13,604 LFP INFO Model initialized\n"
     ]
    }
   ],
   "source": [
    "#- create coupled GLOFRIM model and initialize models\n",
    "try:\n",
    "    cbmi.initialize_model()\n",
    "except Exception as e:\n",
    "    print e\n",
    "    sys.exit('models could not be initialized')"
   ]
  },
  {
   "cell_type": "code",
   "execution_count": 10,
   "metadata": {},
   "outputs": [
    {
     "name": "stdout",
     "output_type": "stream",
     "text": [
      "[67]\n",
      "[405]\n"
     ]
    }
   ],
   "source": [
    "#- get corresponding indices for models\n",
    "obs_ind_PCR = cbmi.index(x_obs_coord, y_obs_coord, 'PCR', in1d=False)\n",
    "print obs_ind_PCR\n",
    "obs_ind_LFP = cbmi.index(x_obs_coord, y_obs_coord, 'LFP', in1d=True)\n",
    "print obs_ind_LFP"
   ]
  },
  {
   "cell_type": "code",
   "execution_count": 11,
   "metadata": {},
   "outputs": [
    {
     "name": "stderr",
     "output_type": "stream",
     "text": [
      "2018-07-24 11:14:13,791 pcrglobwb_bmi_v203.pcrglobwb INFO reading forcings for time 2000-01-01\n",
      "2018-07-24 11:14:13,959 pcrglobwb_bmi_v203.pcrglobwb INFO updating model to time 2000-01-01\n"
     ]
    },
    {
     "name": "stdout",
     "output_type": "stream",
     "text": [
      "/home/jannis/Programmes/lisflood-bmi-v5.9/liblisflood.so: undefined symbol: set_var\n"
     ]
    },
    {
     "ename": "SystemExit",
     "evalue": "something is going wrong in updating - please check!",
     "output_type": "error",
     "traceback": [
      "An exception has occurred, use %tb to see the full traceback.\n",
      "\u001b[0;31mSystemExit\u001b[0m\u001b[0;31m:\u001b[0m something is going wrong in updating - please check!\n"
     ]
    },
    {
     "name": "stderr",
     "output_type": "stream",
     "text": [
      "/home/jannis/anaconda2/lib/python2.7/site-packages/IPython/core/interactiveshell.py:2886: UserWarning: To exit: use 'exit', 'quit', or Ctrl-D.\n",
      "  warn(\"To exit: use 'exit', 'quit', or Ctrl-D.\", stacklevel=1)\n"
     ]
    }
   ],
   "source": [
    "#- update models until end time is reached\n",
    "#- also, read out discharge data at specified observation point\n",
    "try:\n",
    "    while t_start < t_end:\n",
    "        cbmi.update()\n",
    "        q_sim_PCR = cbmi.get_value_at_indices('PCR.discharge', obs_ind_PCR)\n",
    "        q_sim_LFP = cbmi.get_value_at_indices('LFP.Qx', obs_ind_DFM) \n",
    "        print q_sim_PCR, q_sim_LFP\n",
    "except Exception as e:\n",
    "    print e\n",
    "    sys.exit('something is going wrong in updating - please check!')"
   ]
  },
  {
   "cell_type": "code",
   "execution_count": null,
   "metadata": {},
   "outputs": [],
   "source": [
    "#- finalize all models\n",
    "try:\n",
    "    cbmi.finalize()\n",
    "except Exception as e:\n",
    "    print e\n",
    "    sys.exit('models could not be finalized')"
   ]
  },
  {
   "cell_type": "code",
   "execution_count": null,
   "metadata": {},
   "outputs": [],
   "source": []
  }
 ],
 "metadata": {
  "kernelspec": {
   "display_name": "Python [default]",
   "language": "python",
   "name": "python2"
  },
  "language_info": {
   "codemirror_mode": {
    "name": "ipython",
    "version": 2
   },
   "file_extension": ".py",
   "mimetype": "text/x-python",
   "name": "python",
   "nbconvert_exporter": "python",
   "pygments_lexer": "ipython2",
   "version": "2.7.15"
  }
 },
 "nbformat": 4,
 "nbformat_minor": 2
}
