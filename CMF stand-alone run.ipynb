{
 "cells": [
  {
   "cell_type": "code",
   "execution_count": 1,
   "metadata": {},
   "outputs": [],
   "source": [
    "from netCDF4 import Dataset\n",
    "import rasterio\n",
    "import os\n",
    "from datetime import datetime\n",
    "import numpy as np\n",
    "from os.path import join\n"
   ]
  },
  {
   "cell_type": "code",
   "execution_count": 2,
   "metadata": {},
   "outputs": [],
   "source": [
    "# local libraries\n",
    "from coupling_PCR_FM.model_functions_v2 import PCR_model, CMF_model, DFM_model\n",
    "from coupling_PCR_FM.utils import config_to_dict, determineSteps\n",
    "%config Application.log_level=\"INFO\""
   ]
  },
  {
   "cell_type": "code",
   "execution_count": 3,
   "metadata": {},
   "outputs": [
    {
     "name": "stdout",
     "output_type": "stream",
     "text": [
      "2000-01-01 00:00:00\n",
      "2002-12-31 00:00:00\n",
      "1095\n"
     ]
    }
   ],
   "source": [
    "# IMPORT MODEL SETTINGS FROM INI-FILE\n",
    "argv1 = r'default_rename.set'\n",
    "argv2 = r'paths.env'\n",
    "\n",
    "# parse set/ini-file with central/general settings for coupling framework\n",
    "config = config_to_dict(argv1)\n",
    "# parse env-file for user-specific paths and environmental variables\n",
    "envs = config_to_dict(argv2)\n",
    "# combine\n",
    "config.update(envs)\n",
    "options = config\n",
    "# parse dates\n",
    "start_date = datetime.strptime(options['numerical_settings']['startTime'], '%Y-%m-%d')\n",
    "end_date = datetime.strptime(options['numerical_settings']['endTime'], '%Y-%m-%d')\n",
    "print start_date\n",
    "print end_date\n",
    "timeSteps = determineSteps(start_date, end_date)\n",
    "print timeSteps"
   ]
  },
  {
   "cell_type": "code",
   "execution_count": 4,
   "metadata": {},
   "outputs": [
    {
     "name": "stdout",
     "output_type": "stream",
     "text": [
      "/home/ikeuchi/Share/GLOFRIM/work/GLOFRIM-CAMA/output30minCMF_alone/\n",
      "/home/ikeuchi/Share/GLOFRIM/glofrim\n"
     ]
    }
   ],
   "source": [
    "# setup output dir\n",
    "cwd = os.getcwd() # note: this get changed by pcr initialization later on\n",
    "out_dir = options['PCRpaths']['outputDirectoryPCR']\n",
    "out_dir = out_dir + 'CMF_alone/'\n",
    "if not os.path.isdir(out_dir):\n",
    "    os.mkdir(out_dir)\n",
    "print(out_dir)\n",
    "print(cwd)"
   ]
  },
  {
   "cell_type": "markdown",
   "metadata": {},
   "source": [
    "## create CMF model BMi object"
   ]
  },
  {
   "cell_type": "code",
   "execution_count": 5,
   "metadata": {},
   "outputs": [
    {
     "name": "stderr",
     "output_type": "stream",
     "text": [
      "2018-03-16 13:41:44,127 - INFO - Loading library from path /home/ikeuchi/Share/GLOFRIM/glofrim/cama-flood_bmi/src/libcama.so\n"
     ]
    }
   ],
   "source": [
    "CMF_engine = os.path.join(cwd, options['CMF_engine']['CMF_path'])\n",
    "CMF_model_dir = os.path.join(cwd, options['routing_model']['model_dir'])\n",
    "CMF_config_fn = os.path.join(CMF_model_dir, options['routing_model']['model_file'])\n",
    "CMF_out_dir = os.path.join(out_dir, 'CMF')\n",
    "     \n",
    "CMF_bmi = CMF_model(CMF_engine, CMF_config_fn, CMF_model_dir, CMF_out_dir,\n",
    "                         start_date, end_date)"
   ]
  },
  {
   "cell_type": "markdown",
   "metadata": {},
   "source": [
    "## initialize models"
   ]
  },
  {
   "cell_type": "code",
   "execution_count": 6,
   "metadata": {},
   "outputs": [
    {
     "name": "stderr",
     "output_type": "stream",
     "text": [
      "2018-03-16 13:41:44,351 - INFO - Ini file for CMF written to /home/ikeuchi/Share/GLOFRIM/work/GLOFRIM-CAMA/output30minCMF_alone/CMF/input_flood.nam\n",
      "2018-03-16 13:41:44,355 - INFO - Loading model /home/ikeuchi/Share/GLOFRIM/work/GLOFRIM-CAMA/output30minCMF_alone/CMF/input_flood.nam in directory /home/ikeuchi/Share/GLOFRIM/work/GLOFRIM-CAMA/output30minCMF_alone/CMF\n",
      "2018-03-16 13:41:44,377 - INFO - CMF initialized\n"
     ]
    }
   ],
   "source": [
    "# initialize model at CMF_out_dir after inpmat has been set in the grid_to_grid coupling function.\n",
    "CMF_bmi.initialize()"
   ]
  },
  {
   "cell_type": "markdown",
   "metadata": {},
   "source": [
    "## run coupled PCR - CMF model"
   ]
  },
  {
   "cell_type": "code",
   "execution_count": 7,
   "metadata": {
    "scrolled": true
   },
   "outputs": [
    {
     "name": "stderr",
     "output_type": "stream",
     "text": [
      "2018-03-16 13:41:44,643 - INFO - CMF -> start_time: 2000-01-01 00:00:00, current_time 2000-01-02 00:00:00, timestep 86400.0\n",
      "2018-03-16 13:41:44,665 - INFO - CMF -> start_time: 2000-01-01 00:00:00, current_time 2000-01-03 00:00:00, timestep 86400.0\n",
      "2018-03-16 13:41:44,687 - INFO - CMF -> start_time: 2000-01-01 00:00:00, current_time 2000-01-04 00:00:00, timestep 86400.0\n",
      "2018-03-16 13:41:44,712 - INFO - CMF -> start_time: 2000-01-01 00:00:00, current_time 2000-01-05 00:00:00, timestep 86400.0\n",
      "2018-03-16 13:41:44,734 - INFO - CMF -> start_time: 2000-01-01 00:00:00, current_time 2000-01-06 00:00:00, timestep 86400.0\n",
      "2018-03-16 13:41:44,759 - INFO - CMF -> start_time: 2000-01-01 00:00:00, current_time 2000-01-07 00:00:00, timestep 86400.0\n",
      "2018-03-16 13:41:44,781 - INFO - CMF -> start_time: 2000-01-01 00:00:00, current_time 2000-01-08 00:00:00, timestep 86400.0\n",
      "2018-03-16 13:41:44,807 - INFO - CMF -> start_time: 2000-01-01 00:00:00, current_time 2000-01-09 00:00:00, timestep 86400.0\n",
      "2018-03-16 13:41:44,838 - INFO - CMF -> start_time: 2000-01-01 00:00:00, current_time 2000-01-10 00:00:00, timestep 86400.0\n",
      "2018-03-16 13:41:44,867 - INFO - CMF -> start_time: 2000-01-01 00:00:00, current_time 2000-01-11 00:00:00, timestep 86400.0\n",
      "2018-03-16 13:41:44,894 - INFO - CMF -> start_time: 2000-01-01 00:00:00, current_time 2000-01-12 00:00:00, timestep 86400.0\n",
      "2018-03-16 13:41:44,921 - INFO - CMF -> start_time: 2000-01-01 00:00:00, current_time 2000-01-13 00:00:00, timestep 86400.0\n",
      "2018-03-16 13:41:44,948 - INFO - CMF -> start_time: 2000-01-01 00:00:00, current_time 2000-01-14 00:00:00, timestep 86400.0\n",
      "2018-03-16 13:41:44,977 - INFO - CMF -> start_time: 2000-01-01 00:00:00, current_time 2000-01-15 00:00:00, timestep 86400.0\n",
      "2018-03-16 13:41:45,004 - INFO - CMF -> start_time: 2000-01-01 00:00:00, current_time 2000-01-16 00:00:00, timestep 86400.0\n",
      "2018-03-16 13:41:45,032 - INFO - CMF -> start_time: 2000-01-01 00:00:00, current_time 2000-01-17 00:00:00, timestep 86400.0\n",
      "2018-03-16 13:41:45,061 - INFO - CMF -> start_time: 2000-01-01 00:00:00, current_time 2000-01-18 00:00:00, timestep 86400.0\n",
      "2018-03-16 13:41:45,090 - INFO - CMF -> start_time: 2000-01-01 00:00:00, current_time 2000-01-19 00:00:00, timestep 86400.0\n",
      "2018-03-16 13:41:45,117 - INFO - CMF -> start_time: 2000-01-01 00:00:00, current_time 2000-01-20 00:00:00, timestep 86400.0\n",
      "2018-03-16 13:41:45,145 - INFO - CMF -> start_time: 2000-01-01 00:00:00, current_time 2000-01-21 00:00:00, timestep 86400.0\n",
      "2018-03-16 13:41:45,174 - INFO - CMF -> start_time: 2000-01-01 00:00:00, current_time 2000-01-22 00:00:00, timestep 86400.0\n",
      "2018-03-16 13:41:45,202 - INFO - CMF -> start_time: 2000-01-01 00:00:00, current_time 2000-01-23 00:00:00, timestep 86400.0\n",
      "2018-03-16 13:41:45,231 - INFO - CMF -> start_time: 2000-01-01 00:00:00, current_time 2000-01-24 00:00:00, timestep 86400.0\n",
      "2018-03-16 13:41:45,260 - INFO - CMF -> start_time: 2000-01-01 00:00:00, current_time 2000-01-25 00:00:00, timestep 86400.0\n",
      "2018-03-16 13:41:45,290 - INFO - CMF -> start_time: 2000-01-01 00:00:00, current_time 2000-01-26 00:00:00, timestep 86400.0\n",
      "2018-03-16 13:41:45,318 - INFO - CMF -> start_time: 2000-01-01 00:00:00, current_time 2000-01-27 00:00:00, timestep 86400.0\n",
      "2018-03-16 13:41:45,347 - INFO - CMF -> start_time: 2000-01-01 00:00:00, current_time 2000-01-28 00:00:00, timestep 86400.0\n",
      "2018-03-16 13:41:45,375 - INFO - CMF -> start_time: 2000-01-01 00:00:00, current_time 2000-01-29 00:00:00, timestep 86400.0\n",
      "2018-03-16 13:41:45,409 - INFO - CMF -> start_time: 2000-01-01 00:00:00, current_time 2000-01-30 00:00:00, timestep 86400.0\n",
      "2018-03-16 13:41:45,440 - INFO - CMF -> start_time: 2000-01-01 00:00:00, current_time 2000-01-31 00:00:00, timestep 86400.0\n",
      "2018-03-16 13:41:45,474 - INFO - CMF -> start_time: 2000-01-01 00:00:00, current_time 2000-02-01 00:00:00, timestep 86400.0\n",
      "2018-03-16 13:41:45,507 - INFO - CMF -> start_time: 2000-01-01 00:00:00, current_time 2000-02-02 00:00:00, timestep 86400.0\n",
      "2018-03-16 13:41:45,541 - INFO - CMF -> start_time: 2000-01-01 00:00:00, current_time 2000-02-03 00:00:00, timestep 86400.0\n",
      "2018-03-16 13:41:45,573 - INFO - CMF -> start_time: 2000-01-01 00:00:00, current_time 2000-02-04 00:00:00, timestep 86400.0\n",
      "2018-03-16 13:41:45,605 - INFO - CMF -> start_time: 2000-01-01 00:00:00, current_time 2000-02-05 00:00:00, timestep 86400.0\n",
      "2018-03-16 13:41:45,634 - INFO - CMF -> start_time: 2000-01-01 00:00:00, current_time 2000-02-06 00:00:00, timestep 86400.0\n",
      "2018-03-16 13:41:45,664 - INFO - CMF -> start_time: 2000-01-01 00:00:00, current_time 2000-02-07 00:00:00, timestep 86400.0\n",
      "2018-03-16 13:41:45,695 - INFO - CMF -> start_time: 2000-01-01 00:00:00, current_time 2000-02-08 00:00:00, timestep 86400.0\n",
      "2018-03-16 13:41:45,726 - INFO - CMF -> start_time: 2000-01-01 00:00:00, current_time 2000-02-09 00:00:00, timestep 86400.0\n",
      "2018-03-16 13:41:45,756 - INFO - CMF -> start_time: 2000-01-01 00:00:00, current_time 2000-02-10 00:00:00, timestep 86400.0\n",
      "2018-03-16 13:41:45,786 - INFO - CMF -> start_time: 2000-01-01 00:00:00, current_time 2000-02-11 00:00:00, timestep 86400.0\n",
      "2018-03-16 13:41:45,817 - INFO - CMF -> start_time: 2000-01-01 00:00:00, current_time 2000-02-12 00:00:00, timestep 86400.0\n",
      "2018-03-16 13:41:45,847 - INFO - CMF -> start_time: 2000-01-01 00:00:00, current_time 2000-02-13 00:00:00, timestep 86400.0\n",
      "2018-03-16 13:41:45,878 - INFO - CMF -> start_time: 2000-01-01 00:00:00, current_time 2000-02-14 00:00:00, timestep 86400.0\n",
      "2018-03-16 13:41:45,908 - INFO - CMF -> start_time: 2000-01-01 00:00:00, current_time 2000-02-15 00:00:00, timestep 86400.0\n",
      "2018-03-16 13:41:45,939 - INFO - CMF -> start_time: 2000-01-01 00:00:00, current_time 2000-02-16 00:00:00, timestep 86400.0\n",
      "2018-03-16 13:41:45,968 - INFO - CMF -> start_time: 2000-01-01 00:00:00, current_time 2000-02-17 00:00:00, timestep 86400.0\n",
      "2018-03-16 13:41:45,999 - INFO - CMF -> start_time: 2000-01-01 00:00:00, current_time 2000-02-18 00:00:00, timestep 86400.0\n",
      "2018-03-16 13:41:46,029 - INFO - CMF -> start_time: 2000-01-01 00:00:00, current_time 2000-02-19 00:00:00, timestep 86400.0\n",
      "2018-03-16 13:41:46,060 - INFO - CMF -> start_time: 2000-01-01 00:00:00, current_time 2000-02-20 00:00:00, timestep 86400.0\n",
      "2018-03-16 13:41:46,091 - INFO - CMF -> start_time: 2000-01-01 00:00:00, current_time 2000-02-21 00:00:00, timestep 86400.0\n",
      "2018-03-16 13:41:46,121 - INFO - CMF -> start_time: 2000-01-01 00:00:00, current_time 2000-02-22 00:00:00, timestep 86400.0\n",
      "2018-03-16 13:41:46,151 - INFO - CMF -> start_time: 2000-01-01 00:00:00, current_time 2000-02-23 00:00:00, timestep 86400.0\n",
      "2018-03-16 13:41:46,182 - INFO - CMF -> start_time: 2000-01-01 00:00:00, current_time 2000-02-24 00:00:00, timestep 86400.0\n",
      "2018-03-16 13:41:46,212 - INFO - CMF -> start_time: 2000-01-01 00:00:00, current_time 2000-02-25 00:00:00, timestep 86400.0\n",
      "2018-03-16 13:41:46,244 - INFO - CMF -> start_time: 2000-01-01 00:00:00, current_time 2000-02-26 00:00:00, timestep 86400.0\n",
      "2018-03-16 13:41:46,277 - INFO - CMF -> start_time: 2000-01-01 00:00:00, current_time 2000-02-27 00:00:00, timestep 86400.0\n",
      "2018-03-16 13:41:46,311 - INFO - CMF -> start_time: 2000-01-01 00:00:00, current_time 2000-02-28 00:00:00, timestep 86400.0\n",
      "2018-03-16 13:41:46,344 - INFO - CMF -> start_time: 2000-01-01 00:00:00, current_time 2000-02-29 00:00:00, timestep 86400.0\n",
      "2018-03-16 13:41:46,377 - INFO - CMF -> start_time: 2000-01-01 00:00:00, current_time 2000-03-01 00:00:00, timestep 86400.0\n",
      "2018-03-16 13:41:46,410 - INFO - CMF -> start_time: 2000-01-01 00:00:00, current_time 2000-03-02 00:00:00, timestep 86400.0\n",
      "2018-03-16 13:41:46,444 - INFO - CMF -> start_time: 2000-01-01 00:00:00, current_time 2000-03-03 00:00:00, timestep 86400.0\n",
      "2018-03-16 13:41:46,478 - INFO - CMF -> start_time: 2000-01-01 00:00:00, current_time 2000-03-04 00:00:00, timestep 86400.0\n",
      "2018-03-16 13:41:46,512 - INFO - CMF -> start_time: 2000-01-01 00:00:00, current_time 2000-03-05 00:00:00, timestep 86400.0\n",
      "2018-03-16 13:41:46,546 - INFO - CMF -> start_time: 2000-01-01 00:00:00, current_time 2000-03-06 00:00:00, timestep 86400.0\n",
      "2018-03-16 13:41:46,580 - INFO - CMF -> start_time: 2000-01-01 00:00:00, current_time 2000-03-07 00:00:00, timestep 86400.0\n",
      "2018-03-16 13:41:46,615 - INFO - CMF -> start_time: 2000-01-01 00:00:00, current_time 2000-03-08 00:00:00, timestep 86400.0\n"
     ]
    },
    {
     "name": "stderr",
     "output_type": "stream",
     "text": [
      "2018-03-16 13:41:46,649 - INFO - CMF -> start_time: 2000-01-01 00:00:00, current_time 2000-03-09 00:00:00, timestep 86400.0\n",
      "2018-03-16 13:41:46,686 - INFO - CMF -> start_time: 2000-01-01 00:00:00, current_time 2000-03-10 00:00:00, timestep 86400.0\n",
      "2018-03-16 13:41:46,720 - INFO - CMF -> start_time: 2000-01-01 00:00:00, current_time 2000-03-11 00:00:00, timestep 86400.0\n",
      "2018-03-16 13:41:46,754 - INFO - CMF -> start_time: 2000-01-01 00:00:00, current_time 2000-03-12 00:00:00, timestep 86400.0\n",
      "2018-03-16 13:41:46,790 - INFO - CMF -> start_time: 2000-01-01 00:00:00, current_time 2000-03-13 00:00:00, timestep 86400.0\n",
      "2018-03-16 13:41:46,824 - INFO - CMF -> start_time: 2000-01-01 00:00:00, current_time 2000-03-14 00:00:00, timestep 86400.0\n",
      "2018-03-16 13:41:46,860 - INFO - CMF -> start_time: 2000-01-01 00:00:00, current_time 2000-03-15 00:00:00, timestep 86400.0\n",
      "2018-03-16 13:41:46,897 - INFO - CMF -> start_time: 2000-01-01 00:00:00, current_time 2000-03-16 00:00:00, timestep 86400.0\n",
      "2018-03-16 13:41:46,934 - INFO - CMF -> start_time: 2000-01-01 00:00:00, current_time 2000-03-17 00:00:00, timestep 86400.0\n",
      "2018-03-16 13:41:46,968 - INFO - CMF -> start_time: 2000-01-01 00:00:00, current_time 2000-03-18 00:00:00, timestep 86400.0\n",
      "2018-03-16 13:41:47,004 - INFO - CMF -> start_time: 2000-01-01 00:00:00, current_time 2000-03-19 00:00:00, timestep 86400.0\n",
      "2018-03-16 13:41:47,041 - INFO - CMF -> start_time: 2000-01-01 00:00:00, current_time 2000-03-20 00:00:00, timestep 86400.0\n",
      "2018-03-16 13:41:47,077 - INFO - CMF -> start_time: 2000-01-01 00:00:00, current_time 2000-03-21 00:00:00, timestep 86400.0\n",
      "2018-03-16 13:41:47,111 - INFO - CMF -> start_time: 2000-01-01 00:00:00, current_time 2000-03-22 00:00:00, timestep 86400.0\n",
      "2018-03-16 13:41:47,143 - INFO - CMF -> start_time: 2000-01-01 00:00:00, current_time 2000-03-23 00:00:00, timestep 86400.0\n",
      "2018-03-16 13:41:47,175 - INFO - CMF -> start_time: 2000-01-01 00:00:00, current_time 2000-03-24 00:00:00, timestep 86400.0\n",
      "2018-03-16 13:41:47,210 - INFO - CMF -> start_time: 2000-01-01 00:00:00, current_time 2000-03-25 00:00:00, timestep 86400.0\n",
      "2018-03-16 13:41:47,245 - INFO - CMF -> start_time: 2000-01-01 00:00:00, current_time 2000-03-26 00:00:00, timestep 86400.0\n",
      "2018-03-16 13:41:47,281 - INFO - CMF -> start_time: 2000-01-01 00:00:00, current_time 2000-03-27 00:00:00, timestep 86400.0\n",
      "2018-03-16 13:41:47,316 - INFO - CMF -> start_time: 2000-01-01 00:00:00, current_time 2000-03-28 00:00:00, timestep 86400.0\n",
      "2018-03-16 13:41:47,352 - INFO - CMF -> start_time: 2000-01-01 00:00:00, current_time 2000-03-29 00:00:00, timestep 86400.0\n",
      "2018-03-16 13:41:47,387 - INFO - CMF -> start_time: 2000-01-01 00:00:00, current_time 2000-03-30 00:00:00, timestep 86400.0\n",
      "2018-03-16 13:41:47,421 - INFO - CMF -> start_time: 2000-01-01 00:00:00, current_time 2000-03-31 00:00:00, timestep 86400.0\n",
      "2018-03-16 13:41:47,457 - INFO - CMF -> start_time: 2000-01-01 00:00:00, current_time 2000-04-01 00:00:00, timestep 86400.0\n",
      "2018-03-16 13:41:47,492 - INFO - CMF -> start_time: 2000-01-01 00:00:00, current_time 2000-04-02 00:00:00, timestep 86400.0\n",
      "2018-03-16 13:41:47,529 - INFO - CMF -> start_time: 2000-01-01 00:00:00, current_time 2000-04-03 00:00:00, timestep 86400.0\n",
      "2018-03-16 13:41:47,565 - INFO - CMF -> start_time: 2000-01-01 00:00:00, current_time 2000-04-04 00:00:00, timestep 86400.0\n",
      "2018-03-16 13:41:47,600 - INFO - CMF -> start_time: 2000-01-01 00:00:00, current_time 2000-04-05 00:00:00, timestep 86400.0\n",
      "2018-03-16 13:41:47,634 - INFO - CMF -> start_time: 2000-01-01 00:00:00, current_time 2000-04-06 00:00:00, timestep 86400.0\n",
      "2018-03-16 13:41:47,669 - INFO - CMF -> start_time: 2000-01-01 00:00:00, current_time 2000-04-07 00:00:00, timestep 86400.0\n",
      "2018-03-16 13:41:47,705 - INFO - CMF -> start_time: 2000-01-01 00:00:00, current_time 2000-04-08 00:00:00, timestep 86400.0\n",
      "2018-03-16 13:41:47,742 - INFO - CMF -> start_time: 2000-01-01 00:00:00, current_time 2000-04-09 00:00:00, timestep 86400.0\n",
      "2018-03-16 13:41:47,779 - INFO - CMF -> start_time: 2000-01-01 00:00:00, current_time 2000-04-10 00:00:00, timestep 86400.0\n"
     ]
    },
    {
     "data": {
      "text/plain": [
       "<matplotlib.colorbar.Colorbar at 0x7fc40713c110>"
      ]
     },
     "execution_count": 7,
     "metadata": {},
     "output_type": "execute_result"
    },
    {
     "data": {
      "image/png": "[encoded data removed]",
      "text/plain": [
       "<matplotlib.figure.Figure at 0x7fc40ee8ad50>"
      ]
     },
     "metadata": {},
     "output_type": "display_data"
    }
   ],
   "source": [
    "%matplotlib inline\n",
    "import matplotlib.pyplot as plt\n",
    "\n",
    "# run coupled model for 20 timesteps\n",
    "def update_states(idate):\n",
    "#    \"coupling runoff between CMFan PCR model\"\n",
    "#    runoff = PCR_bmi.get_var('landSurfaceRunoff')\n",
    "#    runoff = np.where(np.isnan(runoff), 0, runoff)\n",
    "\n",
    "    \"reading from external PCR runoff output\"\n",
    "    date_str = idate.strftime('%Y%m%d')\n",
    "    runoff = np.copy(np.fromfile(join(cwd, 'sample_runoff/PCR/Roff____{}.one'.format(date_str)), 'f').reshape(14, 20))\n",
    "    runoff = np.where(runoff > 1.e19, 0, runoff)\n",
    "    CMF_bmi.set_var(\"roffin\", runoff)\n",
    "    return runoff\n",
    "\n",
    "import datetime\n",
    "#for i in range(timeSteps):\n",
    "for i in range(100):\n",
    "    idate = start_date + datetime.timedelta(i)\n",
    "#    PCR_bmi.update()\n",
    "    runoff = update_states(idate)\n",
    "    CMF_bmi.update()   \n",
    "    \n",
    "fig = plt.figure(figsize=(15, 5))\n",
    "a=fig.add_subplot(1,2,1)\n",
    "imgplot = plt.imshow(runoff)\n",
    "a.set_title('PCR runoff')\n",
    "plt.colorbar(orientation ='horizontal')\n",
    "a=fig.add_subplot(1,2,2)\n",
    "roffin = CMF_bmi.get_var('runoff')\n",
    "imgplot = plt.imshow(roffin)\n",
    "a.set_title('CMF roffin')\n",
    "plt.colorbar(orientation='horizontal')\n"
   ]
  },
  {
   "cell_type": "code",
   "execution_count": 8,
   "metadata": {
    "scrolled": true
   },
   "outputs": [
    {
     "data": {
      "text/plain": [
       "<matplotlib.colorbar.Colorbar at 0x7fc406d21e10>"
      ]
     },
     "execution_count": 8,
     "metadata": {},
     "output_type": "execute_result"
    },
    {
     "data": {
      "image/png": "[encoded data removed]",
      "text/plain": [
       "<matplotlib.figure.Figure at 0x7fc4110c4b50>"
      ]
     },
     "metadata": {},
     "output_type": "display_data"
    }
   ],
   "source": [
    "%matplotlib inline\n",
    "import matplotlib.pyplot as plt\n",
    "\n",
    "# PCR_bmi.update()\n",
    "# routingModel.update_states()\n",
    "# routingModel.update() \n",
    "\n",
    "#runoff = PCR_bmi.get_var('landSurfaceRunoff')\n",
    "outflw = CMF_bmi.get_var('outflw')\n",
    "outflw = np.ma.masked_greater(outflw, 1.e19)\n",
    "rivsto = CMF_bmi.get_var('rivsto_out')\n",
    "rivsto = np.ma.masked_greater(rivsto, 1.e19)\n",
    "\n",
    "fig = plt.figure(figsize=(15, 5))\n",
    "a=fig.add_subplot(1,3,1)\n",
    "imgplot = plt.imshow(runoff)\n",
    "a.set_title('PCR runoff')\n",
    "plt.colorbar(orientation ='horizontal')\n",
    "a=fig.add_subplot(1,3,2)\n",
    "imgplot = plt.imshow(outflw)\n",
    "a.set_title('CMF outflw')\n",
    "plt.colorbar(orientation='horizontal')\n",
    "a=fig.add_subplot(1,3,3)\n",
    "imgplot = plt.imshow(rivsto)\n",
    "a.set_title('CMF rivsto')\n",
    "plt.colorbar(orientation='horizontal')"
   ]
  },
  {
   "cell_type": "code",
   "execution_count": 9,
   "metadata": {},
   "outputs": [
    {
     "name": "stderr",
     "output_type": "stream",
     "text": [
      "2018-03-16 13:41:48,926 - INFO - cd /home/ikeuchi/Share/GLOFRIM/glofrim\n"
     ]
    }
   ],
   "source": [
    "# finalize model\n",
    "#PCR_bmi.finalize()\n",
    "\n",
    "# finalize model\n",
    "CMF_bmi.finalize()"
   ]
  },
  {
   "cell_type": "code",
   "execution_count": null,
   "metadata": {},
   "outputs": [],
   "source": []
  }
 ],
 "metadata": {
  "anaconda-cloud": {},
  "kernelspec": {
   "display_name": "Python 2",
   "language": "python",
   "name": "python2"
  },
  "language_info": {
   "codemirror_mode": {
    "name": "ipython",
    "version": 2
   },
   "file_extension": ".py",
   "mimetype": "text/x-python",
   "name": "python",
   "nbconvert_exporter": "python",
   "pygments_lexer": "ipython2",
   "version": "2.7.14"
  }
 },
 "nbformat": 4,
 "nbformat_minor": 2
}
