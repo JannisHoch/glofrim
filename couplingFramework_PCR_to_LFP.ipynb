{
 "cells": [
  {
   "cell_type": "code",
   "execution_count": 1,
   "metadata": {},
   "outputs": [],
   "source": [
    "%matplotlib inline\n",
    "import netCDF4\n",
    "from netCDF4 import Dataset\n",
    "import rasterio\n",
    "import os\n",
    "from datetime import datetime\n",
    "import numpy as np\n",
    "import spotpy\n",
    "import matplotlib.pyplot as plt\n",
    "import matplotlib as mpl \n",
    "import matplotlib.dates as mdates"
   ]
  },
  {
   "cell_type": "code",
   "execution_count": 2,
   "metadata": {},
   "outputs": [],
   "source": [
    "# local libraries\n",
    "from glofrim import PCR_model, CMF_model, LFP_model\n",
    "from glofrim.utils import config_to_dict, determineSteps\n",
    "%config Application.log_level=\"INFO\""
   ]
  },
  {
   "cell_type": "code",
   "execution_count": 3,
   "metadata": {},
   "outputs": [
    {
     "name": "stdout",
     "output_type": "stream",
     "text": [
      "2000-01-01 00:00:00\n",
      "2001-12-31 00:00:00\n",
      "730\n"
     ]
    }
   ],
   "source": [
    "# IMPORT MODEL SETTINGS FROM INI-FILE\n",
    "argv1 = r'couplingSettings_LFP.set'\n",
    "argv2 = r'modelPaths.env'\n",
    "\n",
    "# parse set/ini-file with central/general settings for coupling framework\n",
    "config = config_to_dict(argv1)\n",
    "# parse env-file for user-specific paths and environmental variables\n",
    "envs = config_to_dict(argv2)\n",
    "# combine\n",
    "config.update(envs)\n",
    "options = config\n",
    "# parse dates\n",
    "start_date = datetime.strptime(options['numerical_settings']['startTime'], '%Y-%m-%d')\n",
    "end_date = datetime.strptime(options['numerical_settings']['endTime'], '%Y-%m-%d')\n",
    "print start_date\n",
    "print end_date\n",
    "timeSteps = determineSteps(start_date, end_date)\n",
    "print timeSteps"
   ]
  },
  {
   "cell_type": "code",
   "execution_count": 4,
   "metadata": {},
   "outputs": [
    {
     "name": "stdout",
     "output_type": "stream",
     "text": [
      "/home/jannis/PhD/code/GLOFRIMplusCAMA/output30min/PCR2LFP/\n",
      "/home/jannis/PhD/code/GLOFRIMplusCAMA/model_test_data/test_Elbe/\n"
     ]
    }
   ],
   "source": [
    "# setup output dir\n",
    "in_dir = options['GENERAL']['inputDir']\n",
    "out_dir = options['GENERAL']['outputDir'] + 'PCR2LFP/'\n",
    "if not os.path.isdir(out_dir):\n",
    "    os.mkdir(out_dir)\n",
    "print(out_dir)\n",
    "print(in_dir)"
   ]
  },
  {
   "cell_type": "markdown",
   "metadata": {},
   "source": [
    "## create PCR model BMI object"
   ]
  },
  {
   "cell_type": "code",
   "execution_count": 5,
   "metadata": {},
   "outputs": [
    {
     "name": "stdout",
     "output_type": "stream",
     "text": [
      "/home/jannis/PhD/code/GLOFRIMplusCAMA/model_test_data/test_Elbe/PCR_Elbe/input30min\n",
      "/home/jannis/PhD/code/GLOFRIMplusCAMA/model_test_data/test_Elbe/PCR_Elbe/setup_PCR_30min_Elbe.ini\n",
      "/home/jannis/PhD/code/GLOFRIMplusCAMA/output30min/PCR2LFP/PCR\n"
     ]
    }
   ],
   "source": [
    "PCR_config_fn = os.path.join(in_dir, options['hydrologic_model']['config_file'])\n",
    "PCR_in_dir = os.path.join(os.path.dirname(PCR_config_fn), 'input30min')\n",
    "PCR_out_dir = os.path.join(out_dir, 'PCR')\n",
    "print(PCR_in_dir)\n",
    "print(PCR_config_fn)\n",
    "print(PCR_out_dir)\n",
    "\n",
    "PCR_bmi = PCR_model(PCR_config_fn, PCR_in_dir, PCR_out_dir,\n",
    "                            start_date, end_date,)\n"
   ]
  },
  {
   "cell_type": "markdown",
   "metadata": {},
   "source": [
    "## create LFP model BMI object"
   ]
  },
  {
   "cell_type": "code",
   "execution_count": 6,
   "metadata": {},
   "outputs": [
    {
     "name": "stdout",
     "output_type": "stream",
     "text": [
      "/home/jannis/Programmes/lisflood-bmi-v5.9/liblisflood.so\n",
      "/home/jannis/PhD/code/GLOFRIMplusCAMA/model_test_data/test_Elbe/LFP_data\n",
      "/home/jannis/PhD/code/GLOFRIMplusCAMA/model_test_data/test_Elbe/LFP_data/LFPmodel_Elbe.par\n",
      "/home/jannis/PhD/code/GLOFRIMplusCAMA/output30min/PCR2LFP/LFP\n",
      "[dummysection]\n",
      "DEMfile                  LFP_Elbe_DEM_2km.asc\t# provide DEM file\n",
      "resroot                  res\t\t\t\t\t# prefix of output files\n",
      "dirroot                  results_Elbe_2km\t\t# output folder name\n",
      "sim_time                 220838.0\t\t\t\t# total simulation time\n",
      "initial_tstep            500\t\t\t\t\t# intial solver time step\n",
      "massint                  86400.0\t\t\t\t# interval of time series output\n",
      "saveint                  864000.0\t\t\t\t# interval of map output\n",
      "bcifile                  LFPmodel_Elbe_BCs.bci\t# file containing boundary condition information\n",
      "SGCwidth                 LFP_Elbe_WIDTH_2km.asc\t# privde widhts of channels\n",
      "SGCbank                  LFP_Elbe_DEM_2km.asc\t# provide elevation of river banks\n",
      "SGCbed                   LFP_Elbe_DEPTH_2km.asc\t# provide surface elevation of river bed\n",
      "gaugefile                NeuDarchau.gauge\t\t# provide location of discharge measurements\n",
      "fpfric                   0.05\t\t\t\t\t# floodplain friction\n",
      "SGCn                     0.035\t\t\t\t\t# sub-grid channel friction\n",
      "SGCr                     0.15\t\t\t\t\t# parameter to determine river geometry\n",
      "SGCp                     0.65\t\t\t\t\t# parameter to determine river geometry\n"
     ]
    },
    {
     "ename": "ParsingError",
     "evalue": "Source contains parsing errors: u'/home/jannis/PhD/code/GLOFRIMplusCAMA/model_test_data/test_Elbe/LFP_data/tmp.par'\n\t[line  2]: u'DEMfile                  LFP_Elbe_DEM_2km.asc\\t# provide DEM file\\n'\n\t[line  3]: u'resroot                  res\\t\\t\\t\\t\\t# prefix of output files\\n'\n\t[line  4]: u'dirroot                  results_Elbe_2km\\t\\t# output folder name\\n'\n\t[line  5]: u'sim_time                 220838.0\\t\\t\\t\\t# total simulation time\\n'\n\t[line  6]: u'initial_tstep            500\\t\\t\\t\\t\\t# intial solver time step\\n'\n\t[line  7]: u'massint                  86400.0\\t\\t\\t\\t# interval of time series output\\n'\n\t[line  8]: u'saveint                  864000.0\\t\\t\\t\\t# interval of map output\\n'\n\t[line  9]: u'bcifile                  LFPmodel_Elbe_BCs.bci\\t# file containing boundary condition information\\n'\n\t[line 10]: u'SGCwidth                 LFP_Elbe_WIDTH_2km.asc\\t# privde widhts of channels\\n'\n\t[line 11]: u'SGCbank                  LFP_Elbe_DEM_2km.asc\\t# provide elevation of river banks\\n'\n\t[line 12]: u'SGCbed                   LFP_Elbe_DEPTH_2km.asc\\t# provide surface elevation of river bed\\n'\n\t[line 13]: u'gaugefile                NeuDarchau.gauge\\t\\t# provide location of discharge measurements\\n'\n\t[line 14]: u'fpfric                   0.05\\t\\t\\t\\t\\t# floodplain friction\\n'\n\t[line 15]: u'SGCn                     0.035\\t\\t\\t\\t\\t# sub-grid channel friction\\n'\n\t[line 16]: u'SGCr                     0.15\\t\\t\\t\\t\\t# parameter to determine river geometry\\n'\n\t[line 17]: u'SGCp                     0.65\\t\\t\\t\\t\\t# parameter to determine river geometry'",
     "output_type": "error",
     "traceback": [
      "\u001b[0;31m---------------------------------------------------------------------------\u001b[0m",
      "\u001b[0;31mParsingError\u001b[0m                              Traceback (most recent call last)",
      "\u001b[0;32m<ipython-input-6-c2a86be40816>\u001b[0m in \u001b[0;36m<module>\u001b[0;34m()\u001b[0m\n\u001b[1;32m     10\u001b[0m \u001b[0;34m\u001b[0m\u001b[0m\n\u001b[1;32m     11\u001b[0m LFP_bmi = LFP_model(LFP_engine, LFP_config_fn, LFP_model_dir, LFP_out_dir,\n\u001b[0;32m---> 12\u001b[0;31m                               start_date, end_date)\n\u001b[0m",
      "\u001b[0;32m/home/jannis/PhD/code/GLOFRIMplusCAMA/glofrim/glofrim-py/glofrim/glofrim_lfp.pyc\u001b[0m in \u001b[0;36m__init__\u001b[0;34m(self, engine, config_fn, model_data_dir, out_dir, start_date, end_date, missing_value, **kwargs)\u001b[0m\n\u001b[1;32m     46\u001b[0m                                         \u001b[0moptions\u001b[0m\u001b[0;34m,\u001b[0m \u001b[0mconfigparser\u001b[0m\u001b[0;34m=\u001b[0m\u001b[0mconfigparser\u001b[0m\u001b[0;34m,\u001b[0m\u001b[0;34m\u001b[0m\u001b[0m\n\u001b[1;32m     47\u001b[0m                                         \u001b[0msi_unit_conversions\u001b[0m\u001b[0;34m=\u001b[0m\u001b[0msi_unit_conversions\u001b[0m\u001b[0;34m,\u001b[0m\u001b[0;34m\u001b[0m\u001b[0m\n\u001b[0;32m---> 48\u001b[0;31m                                         **kwargs)\n\u001b[0m\u001b[1;32m     49\u001b[0m \u001b[0;34m\u001b[0m\u001b[0m\n\u001b[1;32m     50\u001b[0m         \u001b[0;31m# set some basic model properties\u001b[0m\u001b[0;34m\u001b[0m\u001b[0;34m\u001b[0m\u001b[0m\n",
      "\u001b[0;32m/home/jannis/PhD/code/GLOFRIMplusCAMA/glofrim/glofrim-py/glofrim/main.py\u001b[0m in \u001b[0;36m__init__\u001b[0;34m(self, bmi, config_fn, name, t_unit, model_data_dir, forcing_data_dir, out_dir, options, configparser, si_unit_conversions, **kwargs)\u001b[0m\n\u001b[1;32m     40\u001b[0m             \u001b[0mmkdir\u001b[0m\u001b[0;34m(\u001b[0m\u001b[0mself\u001b[0m\u001b[0;34m.\u001b[0m\u001b[0mout_dir\u001b[0m\u001b[0;34m)\u001b[0m\u001b[0;34m\u001b[0m\u001b[0m\n\u001b[1;32m     41\u001b[0m         \u001b[0;31m# first step of two step initialization.\u001b[0m\u001b[0;34m\u001b[0m\u001b[0;34m\u001b[0m\u001b[0m\n\u001b[0;32m---> 42\u001b[0;31m         \u001b[0mself\u001b[0m\u001b[0;34m.\u001b[0m\u001b[0minitialize_config\u001b[0m\u001b[0;34m(\u001b[0m\u001b[0;34m)\u001b[0m\u001b[0;34m\u001b[0m\u001b[0m\n\u001b[0m\u001b[1;32m     43\u001b[0m         \u001b[0;31m# second step is not yet performed\u001b[0m\u001b[0;34m\u001b[0m\u001b[0;34m\u001b[0m\u001b[0m\n\u001b[1;32m     44\u001b[0m         \u001b[0mself\u001b[0m\u001b[0;34m.\u001b[0m\u001b[0minitialized\u001b[0m \u001b[0;34m=\u001b[0m \u001b[0mFalse\u001b[0m\u001b[0;34m\u001b[0m\u001b[0m\n",
      "\u001b[0;32m/home/jannis/PhD/code/GLOFRIMplusCAMA/glofrim/glofrim-py/glofrim/main.py\u001b[0m in \u001b[0;36minitialize_config\u001b[0;34m(self, config_fn, **kwargs)\u001b[0m\n\u001b[1;32m     93\u001b[0m \t\t\tself.model_config = config_to_dict(self.config_fn,\n\u001b[1;32m     94\u001b[0m                                            \u001b[0mcf\u001b[0m\u001b[0;34m=\u001b[0m\u001b[0mself\u001b[0m\u001b[0;34m.\u001b[0m\u001b[0m_configparser\u001b[0m\u001b[0;34m,\u001b[0m\u001b[0;34m\u001b[0m\u001b[0m\n\u001b[0;32m---> 95\u001b[0;31m                                            **kwargs) # create dictionary\n\u001b[0m\u001b[1;32m     96\u001b[0m \u001b[0;34m\u001b[0m\u001b[0m\n\u001b[1;32m     97\u001b[0m                         \u001b[0;31m#os.remove(tmpFile)\u001b[0m\u001b[0;34m\u001b[0m\u001b[0;34m\u001b[0m\u001b[0m\n",
      "\u001b[0;32m/home/jannis/PhD/code/GLOFRIMplusCAMA/glofrim/glofrim-py/glofrim/utils.pyc\u001b[0m in \u001b[0;36mconfig_to_dict\u001b[0;34m(config_fn, encoding, cf)\u001b[0m\n\u001b[1;32m     93\u001b[0m     \u001b[0mcf\u001b[0m\u001b[0;34m.\u001b[0m\u001b[0moptionxform\u001b[0m\u001b[0;34m=\u001b[0m\u001b[0mstr\u001b[0m \u001b[0;31m# preserve capital letter\u001b[0m\u001b[0;34m\u001b[0m\u001b[0m\n\u001b[1;32m     94\u001b[0m     \u001b[0;32mwith\u001b[0m \u001b[0mcodecs\u001b[0m\u001b[0;34m.\u001b[0m\u001b[0mopen\u001b[0m\u001b[0;34m(\u001b[0m\u001b[0mconfig_fn\u001b[0m\u001b[0;34m,\u001b[0m \u001b[0;34m'r'\u001b[0m\u001b[0;34m,\u001b[0m \u001b[0mencoding\u001b[0m\u001b[0;34m=\u001b[0m\u001b[0mencoding\u001b[0m\u001b[0;34m)\u001b[0m \u001b[0;32mas\u001b[0m \u001b[0mfp\u001b[0m\u001b[0;34m:\u001b[0m\u001b[0;34m\u001b[0m\u001b[0m\n\u001b[0;32m---> 95\u001b[0;31m         \u001b[0mcf\u001b[0m\u001b[0;34m.\u001b[0m\u001b[0mread_file\u001b[0m\u001b[0;34m(\u001b[0m\u001b[0mfp\u001b[0m\u001b[0;34m)\u001b[0m\u001b[0;34m\u001b[0m\u001b[0m\n\u001b[0m\u001b[1;32m     96\u001b[0m         out_dict = OrderedDict((sec, OrderedDict((opt, cf.get(sec, opt))\n\u001b[1;32m     97\u001b[0m                                       for opt in cf.options(sec)))\n",
      "\u001b[0;32m/home/jannis/anaconda2/lib/python2.7/site-packages/backports/configparser/__init__.pyc\u001b[0m in \u001b[0;36mread_file\u001b[0;34m(self, f, source)\u001b[0m\n\u001b[1;32m    722\u001b[0m             \u001b[0;32mexcept\u001b[0m \u001b[0mAttributeError\u001b[0m\u001b[0;34m:\u001b[0m\u001b[0;34m\u001b[0m\u001b[0m\n\u001b[1;32m    723\u001b[0m                 \u001b[0msource\u001b[0m \u001b[0;34m=\u001b[0m \u001b[0;34m'<???>'\u001b[0m\u001b[0;34m\u001b[0m\u001b[0m\n\u001b[0;32m--> 724\u001b[0;31m         \u001b[0mself\u001b[0m\u001b[0;34m.\u001b[0m\u001b[0m_read\u001b[0m\u001b[0;34m(\u001b[0m\u001b[0mf\u001b[0m\u001b[0;34m,\u001b[0m \u001b[0msource\u001b[0m\u001b[0;34m)\u001b[0m\u001b[0;34m\u001b[0m\u001b[0m\n\u001b[0m\u001b[1;32m    725\u001b[0m \u001b[0;34m\u001b[0m\u001b[0m\n\u001b[1;32m    726\u001b[0m     \u001b[0;32mdef\u001b[0m \u001b[0mread_string\u001b[0m\u001b[0;34m(\u001b[0m\u001b[0mself\u001b[0m\u001b[0;34m,\u001b[0m \u001b[0mstring\u001b[0m\u001b[0;34m,\u001b[0m \u001b[0msource\u001b[0m\u001b[0;34m=\u001b[0m\u001b[0;34m'<string>'\u001b[0m\u001b[0;34m)\u001b[0m\u001b[0;34m:\u001b[0m\u001b[0;34m\u001b[0m\u001b[0m\n",
      "\u001b[0;32m/home/jannis/anaconda2/lib/python2.7/site-packages/backports/configparser/__init__.pyc\u001b[0m in \u001b[0;36m_read\u001b[0;34m(self, fp, fpname)\u001b[0m\n\u001b[1;32m   1129\u001b[0m         \u001b[0;31m# if any parsing errors occurred, raise an exception\u001b[0m\u001b[0;34m\u001b[0m\u001b[0;34m\u001b[0m\u001b[0m\n\u001b[1;32m   1130\u001b[0m         \u001b[0;32mif\u001b[0m \u001b[0me\u001b[0m\u001b[0;34m:\u001b[0m\u001b[0;34m\u001b[0m\u001b[0m\n\u001b[0;32m-> 1131\u001b[0;31m             \u001b[0;32mraise\u001b[0m \u001b[0me\u001b[0m\u001b[0;34m\u001b[0m\u001b[0m\n\u001b[0m\u001b[1;32m   1132\u001b[0m         \u001b[0mself\u001b[0m\u001b[0;34m.\u001b[0m\u001b[0m_join_multiline_values\u001b[0m\u001b[0;34m(\u001b[0m\u001b[0;34m)\u001b[0m\u001b[0;34m\u001b[0m\u001b[0m\n\u001b[1;32m   1133\u001b[0m \u001b[0;34m\u001b[0m\u001b[0m\n",
      "\u001b[0;31mParsingError\u001b[0m: Source contains parsing errors: u'/home/jannis/PhD/code/GLOFRIMplusCAMA/model_test_data/test_Elbe/LFP_data/tmp.par'\n\t[line  2]: u'DEMfile                  LFP_Elbe_DEM_2km.asc\\t# provide DEM file\\n'\n\t[line  3]: u'resroot                  res\\t\\t\\t\\t\\t# prefix of output files\\n'\n\t[line  4]: u'dirroot                  results_Elbe_2km\\t\\t# output folder name\\n'\n\t[line  5]: u'sim_time                 220838.0\\t\\t\\t\\t# total simulation time\\n'\n\t[line  6]: u'initial_tstep            500\\t\\t\\t\\t\\t# intial solver time step\\n'\n\t[line  7]: u'massint                  86400.0\\t\\t\\t\\t# interval of time series output\\n'\n\t[line  8]: u'saveint                  864000.0\\t\\t\\t\\t# interval of map output\\n'\n\t[line  9]: u'bcifile                  LFPmodel_Elbe_BCs.bci\\t# file containing boundary condition information\\n'\n\t[line 10]: u'SGCwidth                 LFP_Elbe_WIDTH_2km.asc\\t# privde widhts of channels\\n'\n\t[line 11]: u'SGCbank                  LFP_Elbe_DEM_2km.asc\\t# provide elevation of river banks\\n'\n\t[line 12]: u'SGCbed                   LFP_Elbe_DEPTH_2km.asc\\t# provide surface elevation of river bed\\n'\n\t[line 13]: u'gaugefile                NeuDarchau.gauge\\t\\t# provide location of discharge measurements\\n'\n\t[line 14]: u'fpfric                   0.05\\t\\t\\t\\t\\t# floodplain friction\\n'\n\t[line 15]: u'SGCn                     0.035\\t\\t\\t\\t\\t# sub-grid channel friction\\n'\n\t[line 16]: u'SGCr                     0.15\\t\\t\\t\\t\\t# parameter to determine river geometry\\n'\n\t[line 17]: u'SGCp                     0.65\\t\\t\\t\\t\\t# parameter to determine river geometry'"
     ]
    }
   ],
   "source": [
    "LFP_engine = options['LFP_engine']['LFP_path']\n",
    "LFP_config_fn = os.path.join(in_dir, options['hydrodynamic_model']['model_file'])\n",
    "LFP_model_dir = os.path.dirname(LFP_config_fn)\n",
    "LFP_out_dir = os.path.join(out_dir, 'LFP')\n",
    "print(LFP_engine)\n",
    "print(LFP_model_dir)\n",
    "print(LFP_config_fn)\n",
    "print(LFP_out_dir)\n",
    "\n",
    "\n",
    "LFP_bmi = LFP_model(LFP_engine, LFP_config_fn, LFP_model_dir, LFP_out_dir,\n",
    "                              start_date, end_date)"
   ]
  },
  {
   "cell_type": "markdown",
   "metadata": {},
   "source": [
    "## intitialize LFP model first to expose 1d coords"
   ]
  },
  {
   "cell_type": "code",
   "execution_count": null,
   "metadata": {},
   "outputs": [],
   "source": [
    "# initialize LFP to expose model coordinates via BMI\n",
    "LFP_bmi.initialize()"
   ]
  },
  {
   "cell_type": "markdown",
   "metadata": {},
   "source": [
    "## set coupling between PCR and DFM"
   ]
  },
  {
   "cell_type": "markdown",
   "metadata": {},
   "source": [
    "Couple external 1d coordinates to internal model 2d grid. \n",
    "\n",
    "From the green cells with value 1 (green) runoff is couled for the cells with value 2 (yellow) discharge is coupled"
   ]
  },
  {
   "cell_type": "code",
   "execution_count": null,
   "metadata": {},
   "outputs": [],
   "source": [
    "# get coupled dictionaries\n",
    "PCR_bmi.couple_grid_to_1d(DFM_bmi)\n",
    "\n",
    "# get DFM 1d nodes in local grid coordinates\n",
    "x, y = zip(*DFM_bmi.model_1d_coords)\n",
    "c, r = ~PCR_bmi.model_grid_transform * (np.atleast_1d(x), np.atleast_1d(y))\n",
    "c, r = c-0.5, r-0.5\n",
    "\n",
    "# set colorscheme\n",
    "cmap=plt.cm.YlOrRd\n",
    "bounds = np.linspace(-0.5,2.5,4)\n",
    "norm = mpl.colors.BoundaryNorm(bounds, cmap.N)\n",
    "# plot figure\n",
    "fig = plt.figure(figsize=(10, 5))\n",
    "b=fig.add_subplot(1,1,1)\n",
    "plt.imshow(PCR_bmi.coupled_mask, interpolation='nearest', cmap=cmap, norm=norm)\n",
    "PCR_bmi.dd.plot_dd(ax=b, color='grey', label='PCR ldd')\n",
    "b.scatter(c, r, s=4, color='b', label='DFM 1D nodes')\n",
    "# fix colorbar\n",
    "cbar = plt.colorbar()\n",
    "cbar.set_ticks([0, 1, 2])\n",
    "cbar.set_ticklabels(['none', 'Runoff', 'Discharge'])\n",
    "b.set_title('PCR coupled to DFM mask')\n",
    "b.set_xlim([4, 13])\n",
    "b.set_ylim([7, 1])\n",
    "plt.legend()"
   ]
  },
  {
   "cell_type": "code",
   "execution_count": null,
   "metadata": {
    "scrolled": true
   },
   "outputs": [],
   "source": [
    "# initialize PCR to after editing ldd grid\n",
    "PCR_bmi.initialize()"
   ]
  },
  {
   "cell_type": "markdown",
   "metadata": {},
   "source": [
    "## run coupled PCR - DFM model"
   ]
  },
  {
   "cell_type": "code",
   "execution_count": null,
   "metadata": {
    "scrolled": true
   },
   "outputs": [],
   "source": [
    "\n",
    "DFMidx = DFM_bmi.coupled_idx\n",
    "DFM_area_1d = DFM_bmi.get_var('ba')[DFMidx]\n",
    "PCRidx = PCR_bmi.coupled_idx\n",
    "PCRfrac = PCR_bmi.coupled_area_frac\n",
    "\n",
    "def set_DFM_forcing():\n",
    "    PCR_delta_vol = PCR_bmi.get_coupled_flux() # 2d array [m3/day]\n",
    "    print np.sum(PCR_delta_vol)\n",
    "    DFM_depth_conservative = PCR_delta_vol[PCRidx] * PCRfrac / DFM_area_1d # 1d array for coupld DFM cells [m/day]\n",
    "    zerorain = np.zeros_like(np.copy(DFM_bmi.get_var('rain')))\n",
    "    DFM_bmi.set_var('rain', zerorain)\n",
    "    DFM_bmi.set_var_index('rain', DFMidx, DFM_depth_conservative)\n",
    "    return PCR_delta_vol"
   ]
  },
  {
   "cell_type": "code",
   "execution_count": null,
   "metadata": {
    "scrolled": true
   },
   "outputs": [],
   "source": [
    "tStart = datetime.now()\n",
    "for i in range(timeSteps):\n",
    "    PCR_bmi.update()\n",
    "    set_DFM_forcing()\n",
    "    DFM_bmi.update()  "
   ]
  },
  {
   "cell_type": "code",
   "execution_count": null,
   "metadata": {},
   "outputs": [],
   "source": [
    "# get DFM 1d nodes in local grid coordinates\n",
    "x, y = zip(*DFM_bmi.model_1d_coords) # only 1d coords\n",
    "c, r = ~PCR_bmi.model_grid_transform * (np.atleast_1d(x), np.atleast_1d(y))\n",
    "c, r = c-0.5, r-0.5\n",
    "# set values to right index\n",
    "plot_depth = np.zeros(len(r))\n",
    "plot_depth[DFMidx - DFM_bmi._1d2d_idx] = DFM_bmi.get_var('s1')[DFMidx]\n",
    "\n",
    "# plot figure\n",
    "\n",
    "fig = plt.figure(figsize=(10, 5))\n",
    "b=fig.add_subplot(1,1,1)\n",
    "im = plt.imshow(np.ma.masked_equal(PCR_bmi.get_coupled_flux(), 0), vmin=0, interpolation='nearest', cmap='Blues')\n",
    "PCR_bmi.dd.plot_dd(ax=b, color='grey', label='PCR ldd')\n",
    "im2 = b.scatter(c, r, s=4, c=plot_depth, cmap='YlOrRd') #, norm=mpl.colors.LogNorm())\n",
    "# fix colorbar\n",
    "cbar1 = plt.colorbar(im)\n",
    "cbar1.set_label('PCR flux (runoff+discharge) [m3/day]')\n",
    "cbar = plt.colorbar(im2)\n",
    "cbar.set_label('DMF depth [m]')\n",
    "b.set_title('PCR coupled to DFM flux')\n",
    "b.set_xlim([4, 11])\n",
    "b.set_ylim([5, 1])"
   ]
  },
  {
   "cell_type": "code",
   "execution_count": null,
   "metadata": {},
   "outputs": [],
   "source": [
    "tEnd = datetime.now()"
   ]
  },
  {
   "cell_type": "code",
   "execution_count": null,
   "metadata": {},
   "outputs": [],
   "source": [
    "print 'start time coupling: ', tStart\n",
    "print 'end time coupling: ', tEnd"
   ]
  },
  {
   "cell_type": "code",
   "execution_count": null,
   "metadata": {},
   "outputs": [],
   "source": [
    "DFM_bmi.finalize()\n",
    "PCR_bmi.finalize()"
   ]
  },
  {
   "cell_type": "code",
   "execution_count": null,
   "metadata": {},
   "outputs": [],
   "source": [
    "#- load DFM output file (from this model run)\n",
    "%matplotlib inline\n",
    "fo = os.path.join(DFM_out_dir, 'DFM_OUTPUT_DFM_Elbe_VU/', 'DFM_Elbe_VU_his.nc')\n",
    "no = Dataset(fo, 'r')\n",
    "#- extract simulated discharge from nc-file (for this run)\n",
    "qsim = no.variables['cross_section_discharge'][:]\n",
    "#- split up to different cross-sectiosn\n",
    "qsim_upBC = np.absolute(qsim[:,2])\n",
    "qsim_ND = np.absolute(qsim[:,0])\n",
    "qsim_downBC = np.absolute(qsim[:,1])\n",
    "\n",
    "#- laod DFM output file (from DFM stand alone)\n",
    "fo_stA = os.path.join(in_dir, 'test_Elbe/', 'DFM_Elbe_VU_standAlone_his.nc')\n",
    "no_stA = Dataset(fo_stA, 'r')\n",
    "#- extract simulated discharge from nc-file for DFM standalone\n",
    "qsim_stA = no_stA.variables['cross_section_discharge'][:]\n",
    "#- split up to different cross-sectiosn\n",
    "qsim_upBC_stA = np.absolute(qsim_stA[:,2])\n",
    "qsim_ND_stA = np.absolute(qsim_stA[:,0])\n",
    "qsim_downBC_stA = np.absolute(qsim_stA[:,1])\n",
    "\n",
    "#- load BfG file\n",
    "vo = os.path.join(in_dir, 'test_Elbe/', 'Elbe-W+Q.csv')\n",
    "#- extract BfG data for NeuDarchau\n",
    "vd = np.loadtxt(vo, unpack=True, converters = {0: mdates.strpdate2num('%d-%m-%y')}, delimiter=';', skiprows=4)\n",
    "qobs_ND = vd[1]\n",
    "\n",
    "#- limit to list with least entries\n",
    "minLength = min(len(qobs_ND), len(qsim_ND), len(qsim_ND_stA))\n",
    "if len(qobs_ND) > len(qsim_ND):\n",
    "    qsim_ND = qsim_ND[:minLength]\n",
    "    qobs_ND = qobs_ND[:minLength]\n",
    "    qsim_ND_stA = qsim_ND_stA[:minLength]\n",
    "    \n",
    "#- computed KGE at NeuDarchau\n",
    "KGE_ND = spotpy.objectivefunctions.kge(qobs_ND, qsim_ND)\n",
    "KGE_ND = np.round(KGE_ND,2)\n",
    "KGE_ND_stA = spotpy.objectivefunctions.kge(qobs_ND, qsim_ND_stA)\n",
    "KGE_ND_stA = np.round(KGE_ND_stA,2)\n",
    "\n",
    "#- plot\n",
    "plt.figure(figsize=(16,8))\n",
    "plt.plot(qsim_ND, 'b', label = 'PCR->DFM')\n",
    "plt.plot(qsim_ND_stA, 'g', label = 'DFM')\n",
    "plt.plot(qobs_ND, 'm', label = 'OBS')\n",
    "plt.text(len(qsim_ND)+1,4900, 'KGEs') \n",
    "plt.text(len(qsim_ND)+1,4600, 'DFM : '+str(KGE_ND_stA))\n",
    "plt.text(len(qsim_ND)+1,4300, 'PCR->DFM : '+str(KGE_ND))\n",
    "plt.legend(ncol=2, loc=1)\n",
    "plt.xlim(0, minLength)\n",
    "plt.ylim(0, 5000)\n",
    "plt.ylabel('discharge [m3/s]')\n",
    "plt.xlabel('timesteps since '+str(start_date))\n",
    "plt.savefig(os.path.join(out_dir, 'compareAndvalidate_Qsim_PCR2DFM.png'), dpi=300)"
   ]
  },
  {
   "cell_type": "code",
   "execution_count": null,
   "metadata": {},
   "outputs": [],
   "source": []
  }
 ],
 "metadata": {
  "anaconda-cloud": {},
  "kernelspec": {
   "display_name": "Python [default]",
   "language": "python",
   "name": "python2"
  },
  "language_info": {
   "codemirror_mode": {
    "name": "ipython",
    "version": 2
   },
   "file_extension": ".py",
   "mimetype": "text/x-python",
   "name": "python",
   "nbconvert_exporter": "python",
   "pygments_lexer": "ipython2",
   "version": "2.7.15"
  }
 },
 "nbformat": 4,
 "nbformat_minor": 2
}
