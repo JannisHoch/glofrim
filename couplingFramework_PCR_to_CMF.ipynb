{
 "cells": [
  {
   "cell_type": "code",
   "execution_count": 1,
   "metadata": {},
   "outputs": [],
   "source": [
    "import netCDF4\n",
    "from distutils.util import strtobool\n",
    "import matplotlib\n",
    "import matplotlib.pyplot as plt\n",
    "import sys\n",
    "import os\n",
    "import pdb\n",
    "import platform\n",
    "import numpy as np\n",
    "import pyproj as pyproj\n",
    "import datetime\n",
    "import time\n",
    "import bmi.wrapper\n",
    "import pcrglobwb_bmi_v203 as pcrglobwb_bmi_v203\n",
    "from pcrglobwb_bmi_v203 import pcrglobwb_bmi\n",
    "from pcrglobwb_bmi_v203 import disclaimer\n",
    "# from coupling_PCR_FM import coupling_functions\n",
    "# from coupling_PCR_FM import model_functions\n",
    "from coupling_PCR_FM import configuration\n",
    "from coupling_PCR_FM import utils as utils"
   ]
  },
  {
   "cell_type": "code",
   "execution_count": 2,
   "metadata": {},
   "outputs": [],
   "source": [
    "from coupling_PCR_FM.model_functions_v2 import PCR_model, CMF_model"
   ]
  },
  {
   "cell_type": "code",
   "execution_count": 3,
   "metadata": {},
   "outputs": [],
   "source": [
    "argv1 = r'default_rename.set'\n",
    "argv2 = r'paths.env'\n",
    "\n",
    "# -------------------------------------------------------------------------------------------------\n",
    "# IMPORT MODEL SETTINGS FROM INI-FILE\n",
    "# -------------------------------------------------------------------------------------------------\n",
    "\n",
    "# parse set/ini-file with central/general settings for coupling framework\n",
    "config = configuration.Configuration()\n",
    "config.parse_configuration_file(argv1)\n",
    "\n",
    "# parse env-file for user-specific paths and environmental variables\n",
    "envs = configuration.Configuration()\n",
    "envs.parse_configuration_file(argv2)"
   ]
  },
  {
   "cell_type": "code",
   "execution_count": 4,
   "metadata": {},
   "outputs": [],
   "source": [
    "# -------------------------------------------------------------------------------------------------\n",
    "# SPECIFY MODEL SETTINGS\n",
    "# -------------------------------------------------------------------------------------------------\n",
    "\n",
    "type_hydrodynamicModel = config.hydrodynamic_model['model_name']\n",
    "type_routingModel          = config.routing_model['model_name']\n",
    "type_hydrologicModel      = config.hydrologic_model['model_name']\n",
    "\n",
    "latlon = strtobool(config.general_settings['latlon'])\n",
    "if latlon == False:\n",
    "    inProj  = pyproj.Proj(init=config.hydrodynamic_model['model_projection'])\n",
    "\n",
    "use_Fluxes = strtobool(config.general_settings['use_Fluxes'])\n",
    "use_RFS = strtobool(config.general_settings['use_RFS'])\n",
    "verbose = strtobool(config.general_settings['verbose'])"
   ]
  },
  {
   "cell_type": "code",
   "execution_count": 5,
   "metadata": {},
   "outputs": [],
   "source": [
    "# -------------------------------------------------------------------------------------------------\n",
    "# SPECIFY NUMERICAL SETTINGS\n",
    "# -------------------------------------------------------------------------------------------------\n",
    "\n",
    "startTime_env\t\t\t\t\t\t= config.numerical_settings['startTime']\n",
    "endTime_env\t\t\t\t\t\t\t= config.numerical_settings['endTime']\n",
    "nr_timesteps \t\t\t\t\t\t  = utils.determineSteps(startTime_env, endTime_env)\n",
    "update_step                           = int(config.numerical_settings['update_step'])\n",
    "\n",
    "secPerDay                             = 86400.\n",
    "end_time \t\t\t\t\t\t\t  = nr_timesteps * secPerDay\n",
    "fraction_timestep \t\t\t\t\t  = secPerDay / update_step\n",
    "\n",
    "threshold_inundated_depth             = float(config.numerical_settings['threshold_inundated_depth'])\n",
    "\n",
    "# other\n",
    "missing_value_landmask                = 255\n",
    "missing_value_pcr                     = -999"
   ]
  },
  {
   "cell_type": "code",
   "execution_count": 6,
   "metadata": {},
   "outputs": [],
   "source": [
    "# -------------------------------------------------------------------------------------------------\n",
    "# GET ENVIRONMENT SETTINGS\n",
    "# -------------------------------------------------------------------------------------------------\n",
    "mainFolder = os.getcwd()\n",
    "inputDIR_env \t= envs.PCRpaths['inputDirectoryPCR']\n",
    "outputDIR_env \t= envs.PCRpaths['outputDirectoryPCR']\n",
    "DFM_path\t\t= envs.DFM_engine['DFM_path'] #absolute\n",
    "CMF_path\t\t= os.path.join(mainFolder, envs.CMF_engine['CMF_path']) #relative"
   ]
  },
  {
   "cell_type": "code",
   "execution_count": 7,
   "metadata": {},
   "outputs": [],
   "source": [
    "# -------------------------------------------------------------------------------------------------\n",
    "# SET PATHS TO MODELS\n",
    "# -------------------------------------------------------------------------------------------------\n",
    "\n",
    "# get main folder (i.e. GitHub folder)\n",
    "\n",
    "\n",
    "# hydrodynamic model\n",
    "hydrodynamicModel_dir       \t= config.hydrodynamic_model['model_dir']\n",
    "hydrodynamicModel_dir           = os.path.join(mainFolder, hydrodynamicModel_dir)\n",
    "hydrodynamicModel_file      \t= config.hydrodynamic_model['model_file']\n",
    "hydrodynamicModel_proj\t\t    = config.hydrodynamic_model['model_projection']\n",
    "\n",
    "### ROUTING MODEL ###\n",
    "routingModel_dir       \t\t\t= config.routing_model['model_dir']\n",
    "routingModel_dir           \t\t= os.path.join(mainFolder, routingModel_dir)\n",
    "routingModel_file      \t\t\t= config.routing_model['model_file']\n",
    "routingModel_file_tmp\t\t\t= str('tmp_'+routingModel_file )\n",
    "routingModel_config\t   \t\t\t= os.path.join(mainFolder, os.path.join(routingModel_dir, routingModel_file))\n",
    "routingModel_config_tmp \t\t= os.path.join(mainFolder, os.path.join(routingModel_dir, routingModel_file_tmp))\n",
    "\n",
    "# hydrologic model\n",
    "hydrologicModel_dir\t\t\t\t= config.hydrologic_model['config_dir']\n",
    "hydrologicModel_file       \t\t= config.hydrologic_model['config_file']\n",
    "hydrologicModel_file_tmp\t\t= str('tmp_'+hydrologicModel_file)\n",
    "hydrologicModel_config\t        = os.path.join(mainFolder, os.path.join(hydrologicModel_dir, hydrologicModel_file))\n",
    "hydrologicModel_config_tmp \t\t= os.path.join(mainFolder, os.path.join(hydrologicModel_dir, hydrologicModel_file_tmp))\n",
    "\n",
    "# overwriting inputDIR and outputDIR in PCR-GLOBWB ini-file with respect to personal environment\n",
    "kwargs = dict(inputDir = inputDIR_env, outputDir = outputDIR_env)\n",
    "utils.write_ini(hydrologicModel_config_tmp, hydrologicModel_config, **kwargs)\n",
    "\n",
    "# parsing the overwritten PCR-GLOBWB ini-file\n",
    "configPCR \t\t\t\t\t\t= configuration.Configuration()\n",
    "configPCR.parse_configuration_file(hydrologicModel_config_tmp)\n",
    "\n",
    "# retrieving informatino directly from PCR-GLOBWB ini-file\n",
    "inputDIR \t\t\t\t\t\t= configPCR.globalOptions['inputDir']\n",
    "clone_pcr \t\t\t\t\t\t= os.path.join(inputDIR, configPCR.globalOptions['cloneMap'])\n",
    "landmask_pcr \t\t\t\t\t= os.path.join(inputDIR, configPCR.globalOptions['landmask'])"
   ]
  },
  {
   "cell_type": "markdown",
   "metadata": {},
   "source": [
    "# initialize new"
   ]
  },
  {
   "cell_type": "code",
   "execution_count": 8,
   "metadata": {
    "scrolled": true
   },
   "outputs": [
    {
     "name": "stderr",
     "output_type": "stream",
     "text": [
      "2018-01-24 22:12:24,983 pcrglobwb_bmi_v203.configuration INFO Model run started at 2018-01-24 22:12:24.963134\n",
      "2018-01-24 22:12:24,986 pcrglobwb_bmi_v203.configuration INFO Logging output to /home/dirk/experiments/glofrim/output30min/log/tmp_setup_PCR_30min_Elbe.ini_2018-01-24T22:12:24.963134.log\n",
      "2018-01-24 22:12:24,988 pcrglobwb_bmi_v203.configuration INFO Note that avgSurfaceWaterInputLongIni is not used and not needed.\n",
      "2018-01-24 22:12:24,990 pcrglobwb_bmi_v203.configuration INFO The initial condition \"subDischargeIni\" is not defined. Either \"avgDischargeShortIni\" or \"avgDischargeLongIni\" is used in this run. Note that the \"subDischargeIni\" is only relevant if kinematic wave approaches are used.\n",
      "2018-01-24 22:12:24,991 pcrglobwb_bmi_v203.currTimeStep INFO number of time steps :10\n",
      "2018-01-24 22:12:25,173 pcrglobwb_bmi_v203.meteo INFO No forcing downscaling is implemented.\n",
      "2018-01-24 22:12:30,177 pcrglobwb_bmi_v203.deterministic_runner INFO Adjusting some model parameters based on given values in the ini/configuration file.\n",
      "2018-01-24 22:12:30,178 pcrglobwb_bmi_v203.deterministic_runner INFO \n",
      "\n",
      "Multiplier values used: \n",
      "For minSoilDepthFrac           : 1.0\n",
      "For kSat (log-scale)           : 0.0\n",
      "For recessionCoeff (log-scale) : 1.0\n",
      "For storCap                    : 1.25\n",
      "For degreeDayFactor            : 1.0\n",
      "For refPotET                   : 1.0\n",
      "\n",
      "2018-01-24 22:12:30,181 pcrglobwb_bmi_v203.pcrglobwb_bmi INFO Model initialized. Spin-up might be required.\n"
     ]
    }
   ],
   "source": [
    "# overwriting inputDIR and outputDIR in PCR-GLOBWB ini-file with respect to personal environment\n",
    "kwargs = dict(inputDir = inputDIR_env, outputDir = outputDIR_env, startTime = startTime_env, endTime = endTime_env)\n",
    "utils.write_ini(hydrologicModel_config_tmp, hydrologicModel_config, **kwargs)\n",
    "\n",
    "hydrologicModel = PCR_model(hydrologicModel_config_tmp, missing_value_pcr)\n",
    "# hydrologicModel.spinup()"
   ]
  },
  {
   "cell_type": "code",
   "execution_count": 9,
   "metadata": {},
   "outputs": [
    {
     "name": "stderr",
     "output_type": "stream",
     "text": [
      "2018-01-24 22:12:30,191 bmi.wrapper INFO Loading library from path /home/dirk/repos/glofrim_vu/cama-flood_bmi/src/libcama.so\n",
      "2018-01-24 22:12:30,203 bmi.wrapper INFO Loading model /home/dirk/repos/glofrim_vu/test_Elbe/CMF_Elbe/ in directory /home/dirk/repos/glofrim_vu/test_Elbe/CMF_Elbe\n"
     ]
    }
   ],
   "source": [
    "# overwriting nam-file\n",
    "# kwargs = dict(CINPMAT = 'bla')\n",
    "# utils.write_ini(routingModel_config_tmp, routingModel_config, **kwargs)\n",
    "\n",
    "routingModel = CMF_model(CMF_path, os.path.join(routingModel_dir, routingModel_file), routingModel_dir)"
   ]
  },
  {
   "cell_type": "code",
   "execution_count": null,
   "metadata": {
    "scrolled": true
   },
   "outputs": [
    {
     "name": "stderr",
     "output_type": "stream",
     "text": [
      "2018-01-24 22:12:30,288 pcrglobwb_bmi_v203.pcrglobwb INFO reading forcings for time 2000-01-01\n",
      "2018-01-24 22:12:30,403 pcrglobwb_bmi_v203.pcrglobwb INFO updating model to time 2000-01-01\n",
      "2018-01-24 22:12:31,373 coupling_PCR_FM.model_functions_v2 INFO start_time: 2000-01-01, current_time 2000-01-01, timestep 1\n"
     ]
    },
    {
     "data": {
      "text/plain": [
       "<matplotlib.image.AxesImage at 0x7f1dc4518890>"
      ]
     },
     "execution_count": 10,
     "metadata": {},
     "output_type": "execute_result"
    },
    {
     "data": {
      "image/png": "[encoded data removed]",
      "text/plain": [
       "<matplotlib.figure.Figure at 0x7f1de00ac610>"
      ]
     },
     "metadata": {},
     "output_type": "display_data"
    }
   ],
   "source": [
    "hydrologicModel.update(1)\n",
    "runoff = hydrologicModel.get_var('landSurfaceRunoff')\n",
    "\n",
    "%matplotlib inline\n",
    "import matplotlib.pyplot as plt\n",
    "plt.imshow(runoff)"
   ]
  },
  {
   "cell_type": "code",
   "execution_count": null,
   "metadata": {},
   "outputs": [],
   "source": [
    "routingModel.update(runoff, 1)\n",
    "outflw = routingModel.get_var('outflw')\n",
    "plt.imshow(outflw)"
   ]
  },
  {
   "cell_type": "code",
   "execution_count": null,
   "metadata": {},
   "outputs": [],
   "source": []
  }
 ],
 "metadata": {
  "kernelspec": {
   "display_name": "Python [conda env:glofrim]",
   "language": "python",
   "name": "conda-env-glofrim-py"
  },
  "language_info": {
   "codemirror_mode": {
    "name": "ipython",
    "version": 2
   },
   "file_extension": ".py",
   "mimetype": "text/x-python",
   "name": "python",
   "nbconvert_exporter": "python",
   "pygments_lexer": "ipython2",
   "version": "2.7.14"
  }
 },
 "nbformat": 4,
 "nbformat_minor": 2
}
