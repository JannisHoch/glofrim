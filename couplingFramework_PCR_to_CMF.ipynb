{
 "cells": [
  {
   "cell_type": "code",
   "execution_count": 1,
   "metadata": {},
   "outputs": [],
   "source": [
    "%matplotlib inline\n",
    "import netCDF4\n",
    "import rasterio\n",
    "import os\n",
    "from datetime import datetime\n",
    "import numpy as np\n",
    "import spotpy\n",
    "import matplotlib.pyplot as plt\n",
    "from os.path import join"
   ]
  },
  {
   "cell_type": "code",
   "execution_count": 2,
   "metadata": {},
   "outputs": [],
   "source": [
    "# local libraries\n",
    "from glofrim import PCR_model, CMF_model, DFM_model\n",
    "from glofrim.utils import config_to_dict, determineSteps\n",
    "%config Application.log_level=\"INFO\""
   ]
  },
  {
   "cell_type": "code",
   "execution_count": 3,
   "metadata": {},
   "outputs": [
    {
     "name": "stdout",
     "output_type": "stream",
     "text": [
      "2000-01-01 00:00:00\n",
      "2001-12-31 00:00:00\n",
      "730\n"
     ]
    }
   ],
   "source": [
    "# IMPORT MODEL SETTINGS FROM INI-FILE\n",
    "argv1 = r'couplingSettings.set'\n",
    "argv2 = r'modelPaths.env'\n",
    "\n",
    "# parse set/ini-file with central/general settings for coupling framework\n",
    "config = config_to_dict(argv1)\n",
    "# parse env-file for user-specific paths and environmental variables\n",
    "envs = config_to_dict(argv2)\n",
    "# combine\n",
    "config.update(envs)\n",
    "options = config\n",
    "# parse dates\n",
    "start_date = datetime.strptime(options['numerical_settings']['startTime'], '%Y-%m-%d')\n",
    "end_date = datetime.strptime(options['numerical_settings']['endTime'], '%Y-%m-%d')\n",
    "print start_date\n",
    "print end_date\n",
    "timeSteps = determineSteps(start_date, end_date)\n",
    "print timeSteps"
   ]
  },
  {
   "cell_type": "code",
   "execution_count": 4,
   "metadata": {},
   "outputs": [
    {
     "name": "stdout",
     "output_type": "stream",
     "text": [
      "/home/jannis/PhD/code/GLOFRIMplusCAMA/output30min/PCR2DFM/\n",
      "/home/jannis/PhD/code/GLOFRIMplusCAMA/model_test_data/test_Elbe/\n"
     ]
    }
   ],
   "source": [
    "# setup output dir\n",
    "in_dir = options['GENERAL']['inputDir']\n",
    "out_dir = options['GENERAL']['outputDir'] + 'PCR2DFM/'\n",
    "if not os.path.isdir(out_dir):\n",
    "    os.mkdir(out_dir)\n",
    "print(out_dir)\n",
    "print(in_dir)"
   ]
  },
  {
   "cell_type": "markdown",
   "metadata": {},
   "source": [
    "## create PCR model BMI object"
   ]
  },
  {
   "cell_type": "markdown",
   "metadata": {},
   "source": [
    "Note that we use a two step initializiation. in the first step the bmi object is initialized and the model config file is read into memory. This config file can then be changed offline before the model is initialized. This allows for change model input files and setting based on the model coupling."
   ]
  },
  {
   "cell_type": "code",
   "execution_count": 5,
   "metadata": {
    "scrolled": true
   },
   "outputs": [
    {
     "name": "stdout",
     "output_type": "stream",
     "text": [
      "/home/jannis/PhD/code/GLOFRIMplusCAMA/model_test_data/test_Elbe/PCR_Elbe/input30min\n",
      "/home/jannis/PhD/code/GLOFRIMplusCAMA/model_test_data/test_Elbe/PCR_Elbe/setup_PCR_30min_Elbe.ini\n",
      "/home/jannis/PhD/code/GLOFRIMplusCAMA/output30min/PCR2DFM/PCR\n"
     ]
    }
   ],
   "source": [
    "PCR_config_fn = os.path.join(in_dir, options['hydrologic_model']['config_file'])\n",
    "PCR_in_dir = os.path.join(os.path.dirname(PCR_config_fn), 'input30min')\n",
    "PCR_out_dir = os.path.join(out_dir, 'PCR')\n",
    "print(PCR_in_dir)\n",
    "print(PCR_config_fn)\n",
    "print(PCR_out_dir)\n",
    "\n",
    "PCR_bmi = PCR_model(PCR_config_fn, PCR_in_dir, PCR_out_dir,\n",
    "                            start_date, end_date,)\n"
   ]
  },
  {
   "cell_type": "markdown",
   "metadata": {},
   "source": [
    "The illustrate the two-step initialization, the model config file is shown"
   ]
  },
  {
   "cell_type": "code",
   "execution_count": 6,
   "metadata": {},
   "outputs": [
    {
     "data": {
      "text/plain": [
       "OrderedDict([(u'globalOptions',\n",
       "              OrderedDict([('inputDir',\n",
       "                            u'/home/jannis/PhD/code/GLOFRIMplusCAMA/model_test_data/test_Elbe/PCR_Elbe/input30min'),\n",
       "                           ('cloneMap', u'clone_elbe_30min.map'),\n",
       "                           ('landmask', u'landmask_elbe_30min.map'),\n",
       "                           ('outputDir',\n",
       "                            u'/home/jannis/PhD/code/GLOFRIMplusCAMA/output30min/PCR2DFM/PCR'),\n",
       "                           ('institution',\n",
       "                            u'Department of Physical Geography, Utrecht University'),\n",
       "                           ('title', u'PCR-GLOBWB output'),\n",
       "                           ('description',\n",
       "                            u'test version by Edwin H. Sutanudjaja; adapted by J. Hoch'),\n",
       "                           ('startTime', '2000-01-01'),\n",
       "                           ('endTime', '2001-12-31'),\n",
       "                           ('maxSpinUpsInYears', u'1'),\n",
       "                           ('minConvForTotlSto', u'0.5'),\n",
       "                           ('minConvForSoilSto', u'0.5'),\n",
       "                           ('minConvForGwatSto', u'0.5'),\n",
       "                           ('minConvForChanSto', u'0.5'),\n",
       "                           ('ActivateCoupling', u'False'),\n",
       "                           ('ActivateFactorInfiltrationFloodplain', u'False'),\n",
       "                           ('ActivateZeroInfiltrationFloodplain', u'False')])),\n",
       "             (u'prefactorOptions',\n",
       "              OrderedDict([('linear_multiplier_for_refPotET', u'1.0'),\n",
       "                           ('linear_multiplier_for_degreeDayFactor', u'1.0'),\n",
       "                           ('linear_multiplier_for_minSoilDepthFrac', u'1.0'),\n",
       "                           ('log_10_multiplier_for_kSat', u'0.0'),\n",
       "                           ('linear_multiplier_for_storCap', u'1.25'),\n",
       "                           ('log_10_multiplier_for_recessionCoeff', u'1.0')])),\n",
       "             (u'meteoOptions',\n",
       "              OrderedDict([('precipitationNC',\n",
       "                            u'forcing/CRU-TS3.21/merged_1958_to_2010/CRU-TS3.21_ERA-40_ERA-Interim_daily_precipitation_1958_to_2010.nc'),\n",
       "                           ('temperatureNC',\n",
       "                            u'forcing/CRU-TS3.21/merged_1958_to_2010/CRU-TS3.21_ERA-40_ERA-Interim_daily_temperature_1958_to_2010.nc'),\n",
       "                           ('referenceETPotMethod', u'Input'),\n",
       "                           ('refETPotFileNC',\n",
       "                            u'forcing/CRU-TS3.21/merged_1958_to_2010/CRU-TS3.21_ERA-40_ERA-Interim_daily_referencePotET_1958_to_2010.nc')])),\n",
       "             (u'landSurfaceOptions',\n",
       "              OrderedDict([('debugWaterBalance', u'True'),\n",
       "                           ('numberOfUpperSoilLayers', u'2'),\n",
       "                           ('topographyNC',\n",
       "                            u'PCRGLOBWB20/input30min/landSurface/topo/topoProperties.nc'),\n",
       "                           ('soilPropertiesNC',\n",
       "                            u'PCRGLOBWB20/input30min/landSurface/soil/soilProperties.nc'),\n",
       "                           ('includeIrrigation', u'True'),\n",
       "                           ('historicalIrrigationArea',\n",
       "                            u'PCRGLOBWB20/input30min/landSurface/waterDemand/irrigated_areas/irrigationArea30ArcMin.nc'),\n",
       "                           ('includeDomesticWaterDemand', u'True'),\n",
       "                           ('includeIndustryWaterDemand', u'True'),\n",
       "                           ('domesticWaterDemandFile',\n",
       "                            u'PCRGLOBWB20/input30min/landSurface/waterDemand/domesticWaterDemand30ArcMin.nc'),\n",
       "                           ('industryWaterDemandFile',\n",
       "                            u'PCRGLOBWB20/input30min/landSurface/waterDemand/industryWaterDemand30ArcMin.nc'),\n",
       "                           ('limitAbstraction', u'False'),\n",
       "                           ('allocationSegmentsForGroundSurfaceWater',\n",
       "                            u'None')])),\n",
       "             (u'forestOptions',\n",
       "              OrderedDict([('name', u'forest'),\n",
       "                           ('debugWaterBalance', u'True'),\n",
       "                           ('snowModuleType', u'Simple'),\n",
       "                           ('freezingT', u'-0.0'),\n",
       "                           ('degreeDayFactor', u'0.0025'),\n",
       "                           ('snowWaterHoldingCap', u'0.1'),\n",
       "                           ('refreezingCoeff', u'0.05'),\n",
       "                           ('minTopWaterLayer', u'0.0'),\n",
       "                           ('minCropKC', u'0.2'),\n",
       "                           ('minInterceptCap', u'0.0002'),\n",
       "                           ('landCoverMapsNC',\n",
       "                            u'PCRGLOBWB20/input30min/landCover/forest/forestProperties.nc'),\n",
       "                           ('arnoBeta', u'None'),\n",
       "                           ('cropCoefficientNC',\n",
       "                            u'PCRGLOBWB20/input30min/landCover/forest/Global_CropCoefficientKc-Forest_30min.nc'),\n",
       "                           ('interceptCapNC',\n",
       "                            u'PCRGLOBWB20/input30min/landCover/forest/interceptCapInputForest366days.nc'),\n",
       "                           ('coverFractionNC',\n",
       "                            u'PCRGLOBWB20/input30min/landCover/forest/coverFractionInputForest366days.nc'),\n",
       "                           ('interceptStorIni',\n",
       "                            u'Elbe_IC_1999_30min/IC_Elbe_industrial/states/interceptStor_forest_1999-12-31.map'),\n",
       "                           ('snowCoverSWEIni',\n",
       "                            u'Elbe_IC_1999_30min/IC_Elbe_industrial/states/snowCoverSWE_forest_1999-12-31.map'),\n",
       "                           ('snowFreeWaterIni',\n",
       "                            u'Elbe_IC_1999_30min/IC_Elbe_industrial/states/snowFreeWater_forest_1999-12-31.map'),\n",
       "                           ('topWaterLayerIni',\n",
       "                            u'Elbe_IC_1999_30min/IC_Elbe_industrial/states/topWaterLayer_forest_1999-12-31.map'),\n",
       "                           ('storUppIni',\n",
       "                            u'Elbe_IC_1999_30min/IC_Elbe_industrial/states/storUpp_forest_1999-12-31.map'),\n",
       "                           ('storLowIni',\n",
       "                            u'Elbe_IC_1999_30min/IC_Elbe_industrial/states/storLow_forest_1999-12-31.map'),\n",
       "                           ('interflowIni',\n",
       "                            u'Elbe_IC_1999_30min/IC_Elbe_industrial/states/interflow_forest_1999-12-31.map')])),\n",
       "             (u'grasslandOptions',\n",
       "              OrderedDict([('name', u'grassland'),\n",
       "                           ('debugWaterBalance', u'True'),\n",
       "                           ('snowModuleType', u'Simple'),\n",
       "                           ('freezingT', u'-0.0'),\n",
       "                           ('degreeDayFactor', u'0.0025'),\n",
       "                           ('snowWaterHoldingCap', u'0.1'),\n",
       "                           ('refreezingCoeff', u'0.05'),\n",
       "                           ('minTopWaterLayer', u'0.0'),\n",
       "                           ('minCropKC', u'0.2'),\n",
       "                           ('minInterceptCap', u'0.0002'),\n",
       "                           ('landCoverMapsNC',\n",
       "                            u'PCRGLOBWB20/input30min/landCover/grassland/grasslandProperties.nc'),\n",
       "                           ('arnoBeta', u'None'),\n",
       "                           ('cropCoefficientNC',\n",
       "                            u'PCRGLOBWB20/input30min/landCover/grassland/Global_CropCoefficientKc-Grassland_30min.nc'),\n",
       "                           ('interceptCapNC',\n",
       "                            u'PCRGLOBWB20/input30min/landCover/grassland/interceptCapInputGrassland366days.nc'),\n",
       "                           ('coverFractionNC',\n",
       "                            u'PCRGLOBWB20/input30min/landCover/grassland/coverFractionInputGrassland366days.nc'),\n",
       "                           ('interceptStorIni',\n",
       "                            u'Elbe_IC_1999_30min/IC_Elbe_industrial/states/interceptStor_grassland_1999-12-31.map'),\n",
       "                           ('snowCoverSWEIni',\n",
       "                            u'Elbe_IC_1999_30min/IC_Elbe_industrial/states/snowCoverSWE_grassland_1999-12-31.map'),\n",
       "                           ('snowFreeWaterIni',\n",
       "                            u'Elbe_IC_1999_30min/IC_Elbe_industrial/states/snowFreeWater_grassland_1999-12-31.map'),\n",
       "                           ('topWaterLayerIni',\n",
       "                            u'Elbe_IC_1999_30min/IC_Elbe_industrial/states/topWaterLayer_grassland_1999-12-31.map'),\n",
       "                           ('storUppIni',\n",
       "                            u'Elbe_IC_1999_30min/IC_Elbe_industrial/states/storUpp_grassland_1999-12-31.map'),\n",
       "                           ('storLowIni',\n",
       "                            u'Elbe_IC_1999_30min/IC_Elbe_industrial/states/storLow_grassland_1999-12-31.map'),\n",
       "                           ('interflowIni',\n",
       "                            u'Elbe_IC_1999_30min/IC_Elbe_industrial/states/interflow_grassland_1999-12-31.map')])),\n",
       "             (u'irrPaddyOptions',\n",
       "              OrderedDict([('name', u'irrPaddy'),\n",
       "                           ('debugWaterBalance', u'True'),\n",
       "                           ('snowModuleType', u'Simple'),\n",
       "                           ('freezingT', u'-0.0'),\n",
       "                           ('degreeDayFactor', u'0.0025'),\n",
       "                           ('snowWaterHoldingCap', u'0.1'),\n",
       "                           ('refreezingCoeff', u'0.05'),\n",
       "                           ('landCoverMapsNC',\n",
       "                            u'PCRGLOBWB20/input30min/landCover/irrPaddy/paddyProperties.nc'),\n",
       "                           ('arnoBeta', u'None'),\n",
       "                           ('minTopWaterLayer', u'0.05'),\n",
       "                           ('minCropKC', u'0.2'),\n",
       "                           ('minInterceptCap', u'0.0002'),\n",
       "                           ('cropDeplFactor', u'0.2'),\n",
       "                           ('cropCoefficientNC',\n",
       "                            u'PCRGLOBWB20/input30min/landCover/irrPaddy/Global_CropCoefficientKc-IrrPaddy_30min.nc'),\n",
       "                           ('interceptStorIni',\n",
       "                            u'Elbe_IC_1999_30min/IC_Elbe_industrial/states/interceptStor_irrPaddy_1999-12-31.map'),\n",
       "                           ('snowCoverSWEIni',\n",
       "                            u'Elbe_IC_1999_30min/IC_Elbe_industrial/states/snowCoverSWE_irrPaddy_1999-12-31.map'),\n",
       "                           ('snowFreeWaterIni',\n",
       "                            u'Elbe_IC_1999_30min/IC_Elbe_industrial/states/snowFreeWater_irrPaddy_1999-12-31.map'),\n",
       "                           ('topWaterLayerIni',\n",
       "                            u'Elbe_IC_1999_30min/IC_Elbe_industrial/states/topWaterLayer_irrPaddy_1999-12-31.map'),\n",
       "                           ('storUppIni',\n",
       "                            u'Elbe_IC_1999_30min/IC_Elbe_industrial/states/storUpp_irrPaddy_1999-12-31.map'),\n",
       "                           ('storLowIni',\n",
       "                            u'Elbe_IC_1999_30min/IC_Elbe_industrial/states/storLow_irrPaddy_1999-12-31.map'),\n",
       "                           ('interflowIni',\n",
       "                            u'Elbe_IC_1999_30min/IC_Elbe_industrial/states/interflow_irrPaddy_1999-12-31.map')])),\n",
       "             (u'irrNonPaddyOptions',\n",
       "              OrderedDict([('name', u'irrNonPaddy'),\n",
       "                           ('debugWaterBalance', u'True'),\n",
       "                           ('snowModuleType', u'Simple'),\n",
       "                           ('freezingT', u'-0.0'),\n",
       "                           ('degreeDayFactor', u'0.0025'),\n",
       "                           ('snowWaterHoldingCap', u'0.1'),\n",
       "                           ('refreezingCoeff', u'0.05'),\n",
       "                           ('landCoverMapsNC',\n",
       "                            u'PCRGLOBWB20/input30min/landCover/irrNonPaddy/nonPaddyProperties.nc'),\n",
       "                           ('arnoBeta', u'None'),\n",
       "                           ('minTopWaterLayer', u'0.0'),\n",
       "                           ('minCropKC', u'0.2'),\n",
       "                           ('minInterceptCap', u'0.0002'),\n",
       "                           ('cropDeplFactor', u'0.5'),\n",
       "                           ('cropCoefficientNC',\n",
       "                            u'PCRGLOBWB20/input30min/landCover/irrNonPaddy/Global_CropCoefficientKc-IrrNonPaddy_30min.nc'),\n",
       "                           ('interceptStorIni',\n",
       "                            u'Elbe_IC_1999_30min/IC_Elbe_industrial/states/interceptStor_irrNonPaddy_1999-12-31.map'),\n",
       "                           ('snowCoverSWEIni',\n",
       "                            u'Elbe_IC_1999_30min/IC_Elbe_industrial/states/snowCoverSWE_irrNonPaddy_1999-12-31.map'),\n",
       "                           ('snowFreeWaterIni',\n",
       "                            u'Elbe_IC_1999_30min/IC_Elbe_industrial/states/snowFreeWater_irrNonPaddy_1999-12-31.map'),\n",
       "                           ('topWaterLayerIni',\n",
       "                            u'Elbe_IC_1999_30min/IC_Elbe_industrial/states/topWaterLayer_irrNonPaddy_1999-12-31.map'),\n",
       "                           ('storUppIni',\n",
       "                            u'Elbe_IC_1999_30min/IC_Elbe_industrial/states/storUpp_irrNonPaddy_1999-12-31.map'),\n",
       "                           ('storLowIni',\n",
       "                            u'Elbe_IC_1999_30min/IC_Elbe_industrial/states/storLow_irrNonPaddy_1999-12-31.map'),\n",
       "                           ('interflowIni',\n",
       "                            u'Elbe_IC_1999_30min/IC_Elbe_industrial/states/interflow_irrNonPaddy_1999-12-31.map')])),\n",
       "             (u'groundwaterOptions',\n",
       "              OrderedDict([('debugWaterBalance', u'True'),\n",
       "                           ('groundwaterPropertiesNC',\n",
       "                            u'PCRGLOBWB20/input30min/groundwater/groundwaterProperties.nc'),\n",
       "                           ('minRecessionCoeff', u'2.5e-4'),\n",
       "                           ('storGroundwaterIni',\n",
       "                            u'Elbe_IC_1999_30min/IC_Elbe_industrial/states/storGroundwater_1999-12-31.map'),\n",
       "                           ('storGroundwaterFossilIni',\n",
       "                            u'Elbe_IC_1999_30min/IC_Elbe_industrial/states/storGroundwaterFossil_1999-12-31.map'),\n",
       "                           ('avgTotalGroundwaterAbstractionIni',\n",
       "                            u'Elbe_IC_1999_30min/IC_Elbe_industrial/states/avgTotalGroundwaterAbstractionIni_1999-12-31.map')])),\n",
       "             (u'routingOptions',\n",
       "              OrderedDict([('debugWaterBalance', u'True'),\n",
       "                           ('lddMap', u'ldd_elbe_30min.map'),\n",
       "                           ('cellAreaMap',\n",
       "                            u'PCRGLOBWB20/input30min/routing/cellarea30min.map'),\n",
       "                           ('gradient',\n",
       "                            u'PCRGLOBWB20/input30min/routing/Global_ChannelGradient-RVB_30min.map'),\n",
       "                           ('manningsN', u'0.04'),\n",
       "                           ('constantChannelWidth', u'None'),\n",
       "                           ('minimumChannelWidth', u'None'),\n",
       "                           ('routingMethod', u'kinematicWave'),\n",
       "                           ('waterBodyInputNC',\n",
       "                            u'PCRGLOBWB20/input30min/routing/reservoirs/fromRensJune2013/reservoirparameterization/waterBodies30min.nc'),\n",
       "                           ('onlyNaturalWaterBodies', u'False'),\n",
       "                           ('cropCoefficientWaterNC',\n",
       "                            u'PCRGLOBWB20/input30min/routing/cropCoefficientForOpenWater.nc'),\n",
       "                           ('minCropWaterKC', u'0.20'),\n",
       "                           ('timestepsToAvgDischargeIni', u'0.0'),\n",
       "                           ('waterBodyStorageIni',\n",
       "                            u'Elbe_IC_1999_30min/IC_Elbe_industrial/states/waterBodyStorage_1999-12-31.map'),\n",
       "                           ('channelStorageIni',\n",
       "                            u'Elbe_IC_1999_30min/IC_Elbe_industrial/states/channelStorage_1999-12-31.map'),\n",
       "                           ('readAvlChannelStorageIni',\n",
       "                            u'Elbe_IC_1999_30min/IC_Elbe_industrial/states/readAvlChannelStorage_1999-12-31.map'),\n",
       "                           ('avgDischargeLongIni',\n",
       "                            u'Elbe_IC_1999_30min/IC_Elbe_industrial/states/avgDischargeLong_1999-12-31.map'),\n",
       "                           ('m2tDischargeLongIni',\n",
       "                            u'Elbe_IC_1999_30min/IC_Elbe_industrial/states//m2tDischargeLong_1999-12-31.map'),\n",
       "                           ('avgBaseflowLongIni',\n",
       "                            u'Elbe_IC_1999_30min/IC_Elbe_industrial/states/avgBaseflowLong_1999-12-31.map'),\n",
       "                           ('riverbedExchangeIni',\n",
       "                            u'Elbe_IC_1999_30min/IC_Elbe_industrial/states/riverbedExchange_1999-12-31.map'),\n",
       "                           ('avgLakeReservoirInflowShortIni',\n",
       "                            u'Elbe_IC_1999_30min/IC_Elbe_industrial/states/avgLakeReservoirInflowShort_1999-12-31.map'),\n",
       "                           ('avgLakeReservoirOutflowLongIni',\n",
       "                            u'Elbe_IC_1999_30min/IC_Elbe_industrial/states/avgLakeReservoirOutflowLong_1999-12-31.map'),\n",
       "                           ('avgDischargeShortIni',\n",
       "                            u'Elbe_IC_1999_30min/IC_Elbe_industrial/states//subDischarge_1999-12-31.map')])),\n",
       "             (u'reportingOptions',\n",
       "              OrderedDict([('outDailyTotNC', u'discharge,runoff'),\n",
       "                           ('outMonthTotNC', u'None'),\n",
       "                           ('outMonthAvgNC', u'None'),\n",
       "                           ('outMonthEndNC', u'None'),\n",
       "                           ('outAnnuaTotNC', u'None'),\n",
       "                           ('outAnnuaAvgNC', u'None'),\n",
       "                           ('outAnnuaEndNC', u'None')]))])"
      ]
     },
     "execution_count": 6,
     "metadata": {},
     "output_type": "execute_result"
    }
   ],
   "source": [
    "PCR_bmi.model_config"
   ]
  },
  {
   "cell_type": "markdown",
   "metadata": {},
   "source": [
    "## create CMF model BMi object"
   ]
  },
  {
   "cell_type": "code",
   "execution_count": 7,
   "metadata": {},
   "outputs": [
    {
     "name": "stdout",
     "output_type": "stream",
     "text": [
      "/home/jannis/Programmes/cama-flood_bmi_v3.6.2/src/libcama.so\n",
      "/home/jannis/PhD/code/GLOFRIMplusCAMA/output30min/PCR2DFM/CMF\n"
     ]
    },
    {
     "ename": "OSError",
     "evalue": "/home/jannis/anaconda2/bin/../lib/./libcom_err.so.3: symbol k5_os_mutex_destroy, version krb5support_0_MIT not defined in file libkrb5support.so.0 with link time reference",
     "output_type": "error",
     "traceback": [
      "\u001b[0;31m---------------------------------------------------------------------------\u001b[0m",
      "\u001b[0;31mOSError\u001b[0m                                   Traceback (most recent call last)",
      "\u001b[0;32m<ipython-input-7-33fca90b5056>\u001b[0m in \u001b[0;36m<module>\u001b[0;34m()\u001b[0m\n\u001b[1;32m      6\u001b[0m \u001b[0;32mprint\u001b[0m\u001b[0;34m(\u001b[0m\u001b[0mCMF_out_dir\u001b[0m\u001b[0;34m)\u001b[0m\u001b[0;34m\u001b[0m\u001b[0m\n\u001b[1;32m      7\u001b[0m CMF_bmi = CMF_model(CMF_engine, CMF_config_fn, CMF_model_dir, CMF_out_dir,\n\u001b[0;32m----> 8\u001b[0;31m                          start_date, end_date, dt=86400)\n\u001b[0m",
      "\u001b[0;32m/home/jannis/PhD/code/GLOFRIMplusCAMA/glofrim/glofrim-py/glofrim/glofrim_cmf.pyc\u001b[0m in \u001b[0;36m__init__\u001b[0;34m(self, engine, config_fn, model_data_dir, out_dir, start_date, end_date, missing_value, **kwargs)\u001b[0m\n\u001b[1;32m     27\u001b[0m         \u001b[0;34m\"\"\"initialize the CaMa-Flood (CMF) model BMI class and model configuration file\"\"\"\u001b[0m\u001b[0;34m\u001b[0m\u001b[0m\n\u001b[1;32m     28\u001b[0m         \u001b[0;31m## initialize BMIWrapper and model\u001b[0m\u001b[0;34m\u001b[0m\u001b[0;34m\u001b[0m\u001b[0m\n\u001b[0;32m---> 29\u001b[0;31m         \u001b[0mcmf_bmi\u001b[0m \u001b[0;34m=\u001b[0m \u001b[0mBMIWrapper\u001b[0m\u001b[0;34m(\u001b[0m\u001b[0mengine\u001b[0m \u001b[0;34m=\u001b[0m \u001b[0mengine\u001b[0m\u001b[0;34m)\u001b[0m\u001b[0;34m\u001b[0m\u001b[0m\n\u001b[0m\u001b[1;32m     30\u001b[0m         \u001b[0;31m# set config parser\u001b[0m\u001b[0;34m\u001b[0m\u001b[0;34m\u001b[0m\u001b[0m\n\u001b[1;32m     31\u001b[0m         \u001b[0mconfigparser\u001b[0m \u001b[0;34m=\u001b[0m \u001b[0mNamConfigParser\u001b[0m\u001b[0;34m(\u001b[0m\u001b[0;34m)\u001b[0m\u001b[0;34m\u001b[0m\u001b[0m\n",
      "\u001b[0;32m/home/jannis/anaconda2/lib/python2.7/site-packages/bmi-0.1-py2.7.egg/bmi/wrapper.pyc\u001b[0m in \u001b[0;36m__init__\u001b[0;34m(self, engine, configfile)\u001b[0m\n\u001b[1;32m    239\u001b[0m             \u001b[0mself\u001b[0m\u001b[0;34m.\u001b[0m\u001b[0mconfigfile\u001b[0m \u001b[0;34m=\u001b[0m \u001b[0mconfigfile\u001b[0m\u001b[0;34m\u001b[0m\u001b[0m\n\u001b[1;32m    240\u001b[0m         \u001b[0mself\u001b[0m\u001b[0;34m.\u001b[0m\u001b[0mknown_paths\u001b[0m\u001b[0;34m.\u001b[0m\u001b[0mappend\u001b[0m\u001b[0;34m(\u001b[0m\u001b[0;34m'/opt/{}/lib'\u001b[0m\u001b[0;34m.\u001b[0m\u001b[0mformat\u001b[0m\u001b[0;34m(\u001b[0m\u001b[0mself\u001b[0m\u001b[0;34m.\u001b[0m\u001b[0mengine\u001b[0m\u001b[0;34m)\u001b[0m\u001b[0;34m)\u001b[0m\u001b[0;34m\u001b[0m\u001b[0m\n\u001b[0;32m--> 241\u001b[0;31m         \u001b[0mself\u001b[0m\u001b[0;34m.\u001b[0m\u001b[0mlibrary\u001b[0m \u001b[0;34m=\u001b[0m \u001b[0mself\u001b[0m\u001b[0;34m.\u001b[0m\u001b[0m_load_library\u001b[0m\u001b[0;34m(\u001b[0m\u001b[0;34m)\u001b[0m\u001b[0;34m\u001b[0m\u001b[0m\n\u001b[0m\u001b[1;32m    242\u001b[0m \u001b[0;34m\u001b[0m\u001b[0m\n\u001b[1;32m    243\u001b[0m     \u001b[0;32mdef\u001b[0m \u001b[0m_libname\u001b[0m\u001b[0;34m(\u001b[0m\u001b[0mself\u001b[0m\u001b[0;34m)\u001b[0m\u001b[0;34m:\u001b[0m\u001b[0;34m\u001b[0m\u001b[0m\n",
      "\u001b[0;32m/home/jannis/anaconda2/lib/python2.7/site-packages/bmi-0.1-py2.7.egg/bmi/wrapper.pyc\u001b[0m in \u001b[0;36m_load_library\u001b[0;34m(self)\u001b[0m\n\u001b[1;32m    309\u001b[0m             \u001b[0mwin32api\u001b[0m\u001b[0;34m.\u001b[0m\u001b[0mSetDllDirectory\u001b[0m\u001b[0;34m(\u001b[0m\u001b[0;34m'.'\u001b[0m\u001b[0;34m)\u001b[0m\u001b[0;34m\u001b[0m\u001b[0m\n\u001b[1;32m    310\u001b[0m \u001b[0;34m\u001b[0m\u001b[0m\n\u001b[0;32m--> 311\u001b[0;31m         \u001b[0mresult\u001b[0m \u001b[0;34m=\u001b[0m \u001b[0mcdll\u001b[0m\u001b[0;34m.\u001b[0m\u001b[0mLoadLibrary\u001b[0m\u001b[0;34m(\u001b[0m\u001b[0mpath\u001b[0m\u001b[0;34m)\u001b[0m\u001b[0;34m\u001b[0m\u001b[0m\n\u001b[0m\u001b[1;32m    312\u001b[0m \u001b[0;34m\u001b[0m\u001b[0m\n\u001b[1;32m    313\u001b[0m         \u001b[0;32mif\u001b[0m \u001b[0mplatform\u001b[0m\u001b[0;34m.\u001b[0m\u001b[0msystem\u001b[0m\u001b[0;34m(\u001b[0m\u001b[0;34m)\u001b[0m \u001b[0;34m==\u001b[0m \u001b[0;34m'Windows'\u001b[0m\u001b[0;34m:\u001b[0m\u001b[0;34m\u001b[0m\u001b[0m\n",
      "\u001b[0;32m/home/jannis/anaconda2/lib/python2.7/ctypes/__init__.pyc\u001b[0m in \u001b[0;36mLoadLibrary\u001b[0;34m(self, name)\u001b[0m\n\u001b[1;32m    442\u001b[0m \u001b[0;34m\u001b[0m\u001b[0m\n\u001b[1;32m    443\u001b[0m     \u001b[0;32mdef\u001b[0m \u001b[0mLoadLibrary\u001b[0m\u001b[0;34m(\u001b[0m\u001b[0mself\u001b[0m\u001b[0;34m,\u001b[0m \u001b[0mname\u001b[0m\u001b[0;34m)\u001b[0m\u001b[0;34m:\u001b[0m\u001b[0;34m\u001b[0m\u001b[0m\n\u001b[0;32m--> 444\u001b[0;31m         \u001b[0;32mreturn\u001b[0m \u001b[0mself\u001b[0m\u001b[0;34m.\u001b[0m\u001b[0m_dlltype\u001b[0m\u001b[0;34m(\u001b[0m\u001b[0mname\u001b[0m\u001b[0;34m)\u001b[0m\u001b[0;34m\u001b[0m\u001b[0m\n\u001b[0m\u001b[1;32m    445\u001b[0m \u001b[0;34m\u001b[0m\u001b[0m\n\u001b[1;32m    446\u001b[0m \u001b[0mcdll\u001b[0m \u001b[0;34m=\u001b[0m \u001b[0mLibraryLoader\u001b[0m\u001b[0;34m(\u001b[0m\u001b[0mCDLL\u001b[0m\u001b[0;34m)\u001b[0m\u001b[0;34m\u001b[0m\u001b[0m\n",
      "\u001b[0;32m/home/jannis/anaconda2/lib/python2.7/ctypes/__init__.pyc\u001b[0m in \u001b[0;36m__init__\u001b[0;34m(self, name, mode, handle, use_errno, use_last_error)\u001b[0m\n\u001b[1;32m    364\u001b[0m \u001b[0;34m\u001b[0m\u001b[0m\n\u001b[1;32m    365\u001b[0m         \u001b[0;32mif\u001b[0m \u001b[0mhandle\u001b[0m \u001b[0;32mis\u001b[0m \u001b[0mNone\u001b[0m\u001b[0;34m:\u001b[0m\u001b[0;34m\u001b[0m\u001b[0m\n\u001b[0;32m--> 366\u001b[0;31m             \u001b[0mself\u001b[0m\u001b[0;34m.\u001b[0m\u001b[0m_handle\u001b[0m \u001b[0;34m=\u001b[0m \u001b[0m_dlopen\u001b[0m\u001b[0;34m(\u001b[0m\u001b[0mself\u001b[0m\u001b[0;34m.\u001b[0m\u001b[0m_name\u001b[0m\u001b[0;34m,\u001b[0m \u001b[0mmode\u001b[0m\u001b[0;34m)\u001b[0m\u001b[0;34m\u001b[0m\u001b[0m\n\u001b[0m\u001b[1;32m    367\u001b[0m         \u001b[0;32melse\u001b[0m\u001b[0;34m:\u001b[0m\u001b[0;34m\u001b[0m\u001b[0m\n\u001b[1;32m    368\u001b[0m             \u001b[0mself\u001b[0m\u001b[0;34m.\u001b[0m\u001b[0m_handle\u001b[0m \u001b[0;34m=\u001b[0m \u001b[0mhandle\u001b[0m\u001b[0;34m\u001b[0m\u001b[0m\n",
      "\u001b[0;31mOSError\u001b[0m: /home/jannis/anaconda2/bin/../lib/./libcom_err.so.3: symbol k5_os_mutex_destroy, version krb5support_0_MIT not defined in file libkrb5support.so.0 with link time reference"
     ]
    }
   ],
   "source": [
    "CMF_engine = options['CMF_engine']['CMF_path']\n",
    "print(CMF_engine)\n",
    "CMF_config_fn = os.path.join(in_dir, options['routing_model']['model_file'])\n",
    "CMF_model_dir = os.path.dirname(CMF_config_fn)\n",
    "CMF_out_dir = os.path.join(out_dir, 'CMF')\n",
    "print(CMF_out_dir)\n",
    "CMF_bmi = CMF_model(CMF_engine, CMF_config_fn, CMF_model_dir, CMF_out_dir,\n",
    "                         start_date, end_date, dt=86400)\n"
   ]
  },
  {
   "cell_type": "markdown",
   "metadata": {},
   "source": [
    "## couple grids based on CMF inpmat file"
   ]
  },
  {
   "cell_type": "code",
   "execution_count": 8,
   "metadata": {},
   "outputs": [
    {
     "ename": "NameError",
     "evalue": "name 'CMF_bmi' is not defined",
     "output_type": "error",
     "traceback": [
      "\u001b[0;31m---------------------------------------------------------------------------\u001b[0m",
      "\u001b[0;31mNameError\u001b[0m                                 Traceback (most recent call last)",
      "\u001b[0;32m<ipython-input-8-cc2a4a742f8b>\u001b[0m in \u001b[0;36m<module>\u001b[0;34m()\u001b[0m\n\u001b[1;32m      1\u001b[0m \u001b[0;31m# couple\u001b[0m\u001b[0;34m\u001b[0m\u001b[0;34m\u001b[0m\u001b[0m\n\u001b[0;32m----> 2\u001b[0;31m \u001b[0mPCR_bmi\u001b[0m\u001b[0;34m.\u001b[0m\u001b[0mcouple_grid_to_grid\u001b[0m\u001b[0;34m(\u001b[0m\u001b[0mCMF_bmi\u001b[0m\u001b[0;34m)\u001b[0m\u001b[0;34m\u001b[0m\u001b[0m\n\u001b[0m",
      "\u001b[0;31mNameError\u001b[0m: name 'CMF_bmi' is not defined"
     ]
    }
   ],
   "source": [
    "# couple\n",
    "PCR_bmi.couple_grid_to_grid(CMF_bmi)"
   ]
  },
  {
   "cell_type": "markdown",
   "metadata": {},
   "source": [
    "## initialize models"
   ]
  },
  {
   "cell_type": "code",
   "execution_count": null,
   "metadata": {},
   "outputs": [],
   "source": [
    "# initialize model at CMF_out_dir after inpmat has been set in the grid_to_grid coupling function.\n",
    "CMF_bmi.initialize()\n",
    "# initialize model \n",
    "PCR_bmi.initialize()"
   ]
  },
  {
   "cell_type": "markdown",
   "metadata": {},
   "source": [
    "## run coupled PCR - CMF model"
   ]
  },
  {
   "cell_type": "code",
   "execution_count": null,
   "metadata": {},
   "outputs": [],
   "source": [
    "#- get upsteram area at comparison point in CMF\n",
    "#upArea = np.fromfile(r'/home/jannis/PhD/code/GLOFRIMplusCAMA/glofrim/test_Elbe/CMF_Elbe/uparea.bin', 'f').reshape(28,40)\n",
    "upArea = np.fromfile(join(in_dir, r'CMF_Elbe/uparea.bin'), 'f').reshape(28,40)\n",
    "plt.imshow(upArea)\n",
    "plt.colorbar(orientation='horizontal')"
   ]
  },
  {
   "cell_type": "code",
   "execution_count": null,
   "metadata": {},
   "outputs": [],
   "source": [
    "#- check whether upstream area at chosen location is at the upper end\n",
    "#- upstream area according to GRDC: 131950 km2 = 1.31950e11 m2\n",
    "xCMFout = 6\n",
    "yCMFout = 13\n",
    "print (upArea[xCMFout, yCMFout])"
   ]
  },
  {
   "cell_type": "code",
   "execution_count": null,
   "metadata": {},
   "outputs": [],
   "source": [
    "# create file for writing CMF output\n",
    "cmf_outFile = os.path.join(CMF_out_dir, 'qsim_CFM_at_location_' + str(xCMFout) + '_' + str(yCMFout) + '.txt')\n",
    "cmf_of = open(cmf_outFile, 'w')\n",
    "print (cmf_of)"
   ]
  },
  {
   "cell_type": "code",
   "execution_count": null,
   "metadata": {
    "scrolled": true
   },
   "outputs": [],
   "source": [
    "# run coupled model for 20 timesteps\n",
    "def update_states():\n",
    "    \"coupling runoff between CMFan PCR model\"\n",
    "#     runoff = PCR_bmi.get_var('landSurfaceRunoff')\n",
    "    runoff = PCR_bmi.get_var('runoff')\n",
    "    runoff = np.where(np.isnan(runoff), 0, runoff)\n",
    "    CMF_bmi.set_var(\"roffin\", runoff)\n",
    "        \n",
    "tStart = datetime.now()\n",
    "for i in range(timeSteps):\n",
    "# for i in range(10):\n",
    "    PCR_bmi.update()\n",
    "    update_states()\n",
    "    CMF_bmi.update()  \n",
    "    outflw_temp = np.copy(CMF_bmi.get_var('outflw'))[xCMFout, yCMFout]\n",
    "    cmf_of.write(str(outflw_temp) + os.linesep)\n",
    "tEnd = datetime.now()\n",
    "cmf_of.close()"
   ]
  },
  {
   "cell_type": "code",
   "execution_count": null,
   "metadata": {},
   "outputs": [],
   "source": [
    "CMF_logfile = os.path.join(CMF_out_dir, 'out/run_2000.log')\n",
    "cmf_lf = open(CMF_logfile, 'r')\n",
    "WB_error = float(cmf_lf.readlines()[-1].split()[-2]) * 10e9\n",
    "print('Water balance error in CMF: {} m3'.format(WB_error))\n"
   ]
  },
  {
   "cell_type": "code",
   "execution_count": null,
   "metadata": {},
   "outputs": [],
   "source": [
    "print 'start time coupling: ', tStart\n",
    "print 'end time coupling: ', tEnd\n",
    "print 'average time per update PCR->CMF->DFM: ', abs((tEnd - tStart)) / timeSteps"
   ]
  },
  {
   "cell_type": "code",
   "execution_count": null,
   "metadata": {
    "scrolled": true
   },
   "outputs": [],
   "source": [
    "%matplotlib inline\n",
    "import matplotlib.pyplot as plt\n",
    "\n",
    "# PCR_bmi.update()\n",
    "# routingModel.update_states()\n",
    "# routingModel.update() \n",
    "\n",
    "runoff = PCR_bmi.get_var('landSurfaceRunoff')\n",
    "outflw = CMF_bmi.get_var('outflw')\n",
    "outflw = np.ma.masked_greater(outflw, 1.e19)\n",
    "rivsto = CMF_bmi.get_var('rivsto_out')\n",
    "rivsto = np.ma.masked_greater(rivsto, 1.e19)\n",
    "\n",
    "fig = plt.figure(figsize=(15, 5))\n",
    "a=fig.add_subplot(1,3,1)\n",
    "imgplot = plt.imshow(runoff)\n",
    "a.set_title('PCR runoff')\n",
    "plt.colorbar(orientation ='horizontal')\n",
    "a=fig.add_subplot(1,3,2)\n",
    "imgplot = plt.imshow(outflw)\n",
    "a.set_title('CMF outflw')\n",
    "plt.colorbar(orientation='horizontal')\n",
    "a=fig.add_subplot(1,3,3)\n",
    "imgplot = plt.imshow(rivsto)\n",
    "a.set_title('CMF rivsto')\n",
    "plt.colorbar(orientation='horizontal')"
   ]
  },
  {
   "cell_type": "code",
   "execution_count": null,
   "metadata": {},
   "outputs": [],
   "source": [
    "# finalize model\n",
    "PCR_bmi.finalize()\n",
    "\n",
    "# finalize model\n",
    "CMF_bmi.finalize()"
   ]
  },
  {
   "cell_type": "code",
   "execution_count": null,
   "metadata": {},
   "outputs": [],
   "source": [
    "import matplotlib.dates as mdates\n",
    "from netCDF4 import Dataset\n",
    "\n",
    "#- laod DFM output file (from 1way coupled PCR->DFM run)\n",
    "fo_1way = os.path.join(in_dir, 'DFM_Elbe_VU_1way_his.nc')\n",
    "#- laod DFM output file (from DFM stand alone)\n",
    "fo_stA = os.path.join(in_dir, 'DFM_Elbe_VU_standAlone_his.nc')\n",
    "#- load BfG file\n",
    "vo = os.path.join(in_dir, 'Elbe-W+Q.csv')\n",
    "#- load PCR file\n",
    "po = os.path.join(in_dir, 'Qsim_Elbe_Darchau_30min_2000s_industrial_prefactored.dump')\n",
    "\n",
    "#- extract BfG data for NeuDarchau\n",
    "vd = np.loadtxt(vo, unpack=True, converters = {0: mdates.strpdate2num('%d-%m-%y')}, delimiter=';', skiprows=4)\n",
    "qobs_ND = vd[1]\n",
    "\n",
    "#- estract PCR data\n",
    "pd = np.loadtxt(po, unpack=True, skiprows=4)\n",
    "PCR_ND = pd[1]\n",
    "PCR_ND = PCR_ND[:]\n",
    "\n",
    "#- extrat CMF data\n",
    "cd = np.loadtxt(cmf_outFile, unpack=True)\n",
    "\n",
    "#- extract simulated discharge from nc-file for 1way PCR->DFM\n",
    "no_1way = Dataset(fo_1way, 'r')\n",
    "qsim_1way = no_1way.variables['cross_section_discharge'][:]\n",
    "#- split up to different cross-sectiosn\n",
    "qsim_upBC_1way = np.absolute(qsim_1way[:,2])\n",
    "qsim_ND_1way = np.absolute(qsim_1way[:,0])\n",
    "qsim_downBC_1way = np.absolute(qsim_1way[:,1])\n",
    "\n",
    "#- extract simulated discharge from nc-file for DFM standalone\n",
    "no_stA = Dataset(fo_stA, 'r')\n",
    "qsim_stA = no_stA.variables['cross_section_discharge'][:]\n",
    "#- split up to different cross-sectiosn\n",
    "qsim_upBC_stA = np.absolute(qsim_stA[:,2])\n",
    "qsim_ND_stA = np.absolute(qsim_stA[:,0])\n",
    "qsim_downBC_stA = np.absolute(qsim_stA[:,1])\n",
    "\n",
    "#- limit to list with least entries\n",
    "minLength = min(len(qsim_ND_1way), len(qsim_ND_stA), len(PCR_ND), len(cd))\n",
    "if len(qobs_ND) > len(cd):\n",
    "    qobs_ND = qobs_ND[:minLength]\n",
    "    PCR_ND = PCR_ND[:minLength]\n",
    "    qsim_ND_1way = qsim_ND_1way[:minLength]\n",
    "    qsim_ND_stA = qsim_ND_stA[:minLength]\n",
    "    cd = cd[:minLength]\n",
    "\n",
    "#- computed KGE at NeuDarchau\n",
    "KGE_ND_1way = spotpy.objectivefunctions.kge(qobs_ND, qsim_ND_1way)\n",
    "KGE_ND_1way = np.round(KGE_ND_1way,2)\n",
    "KGE_ND_stA = spotpy.objectivefunctions.kge(qobs_ND, qsim_ND_stA)\n",
    "KGE_ND_stA = np.round(KGE_ND_stA,2)\n",
    "KGE_ND_PCR = spotpy.objectivefunctions.kge(qobs_ND, PCR_ND)\n",
    "KGE_ND_PCR = np.round(KGE_ND_PCR,2)\n",
    "KGE_ND_CMF = spotpy.objectivefunctions.kge(qobs_ND, cd)\n",
    "KGE_ND_CMF = np.round(KGE_ND_CMF,2)\n",
    "\n",
    "#- plot\n",
    "plt.figure(figsize=(16,8))\n",
    "# plt.plot(qsim_downBC, ':', c='r', label = 'Qsim downBC')\n",
    "plt.plot(qsim_ND_stA, 'g', label = 'DFM')\n",
    "plt.plot(qsim_ND_1way, 'r', label = 'PCR->DFM')\n",
    "# plt.plot(qsim_downBC, ':',  c='k', label = 'Qsim downBC')\n",
    "plt.plot(PCR_ND, ':',label = 'PCR')\n",
    "plt.plot(cd, c='c', label = 'PCR->CMF')\n",
    "plt.plot(qobs_ND, 'm', label = 'OBS')\n",
    "plt.text(minLength+1,4900, 'KGEs') \n",
    "plt.text(minLength+1,4750, 'PCR : '+str(KGE_ND_PCR))\n",
    "plt.text(minLength+1,4600, 'DFM : '+str(KGE_ND_stA))\n",
    "plt.text(minLength+1,4450, 'PCR->DFM : '+str(KGE_ND_1way))\n",
    "plt.text(minLength+1,4300, 'PCR->CMF : '+str(KGE_ND_CMF))\n",
    "plt.legend(ncol=2, loc=1)\n",
    "plt.xlim(0, minLength)\n",
    "plt.ylim(0, 5000)\n",
    "plt.ylabel('discharge [m3/s]')\n",
    "plt.xlabel('timesteps since '+str(start_date))\n",
    "plt.savefig(os.path.join(out_dir, 'compareAndvalidate_Qsim_PCR2CMF.png'), dpi=300)"
   ]
  },
  {
   "cell_type": "code",
   "execution_count": null,
   "metadata": {},
   "outputs": [],
   "source": [
    "plt.figure(figsize=(16,8))\n",
    "plt.plot(PCR_ND, 'r',label = 'PCR')\n",
    "plt.plot(cd, 'b', label = 'PCR->CMF')\n",
    "plt.plot(qobs_ND, ':', c='m', label = 'OBS')\n",
    "plt.legend(loc=1)\n",
    "plt.xlim(0, minLength)\n",
    "plt.ylim(0, 5000)\n",
    "plt.ylabel('discharge [m3/s]')\n",
    "plt.xlabel('timesteps since '+str(start_date))"
   ]
  },
  {
   "cell_type": "code",
   "execution_count": null,
   "metadata": {},
   "outputs": [],
   "source": [
    "plt.figure(figsize=(16,8))\n",
    "plt.plot(qsim_ND_1way, 'r',label = 'PCR->DFM')\n",
    "plt.plot(cd, 'b', label = 'PCR->CMF')\n",
    "plt.plot(qobs_ND, ':', c='m', label = 'OBS')\n",
    "plt.legend(loc=1)\n",
    "plt.xlim(0, minLength)\n",
    "plt.ylim(0, 5000)\n",
    "plt.ylabel('discharge [m3/s]')\n",
    "plt.xlabel('timesteps since '+str(start_date))"
   ]
  },
  {
   "cell_type": "code",
   "execution_count": null,
   "metadata": {},
   "outputs": [],
   "source": []
  }
 ],
 "metadata": {
  "anaconda-cloud": {},
  "kernelspec": {
   "display_name": "Python [default]",
   "language": "python",
   "name": "python2"
  },
  "language_info": {
   "codemirror_mode": {
    "name": "ipython",
    "version": 2
   },
   "file_extension": ".py",
   "mimetype": "text/x-python",
   "name": "python",
   "nbconvert_exporter": "python",
   "pygments_lexer": "ipython2",
   "version": "2.7.15"
  }
 },
 "nbformat": 4,
 "nbformat_minor": 2
}
