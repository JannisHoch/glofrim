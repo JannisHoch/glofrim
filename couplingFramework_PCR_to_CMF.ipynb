{
 "cells": [
  {
   "cell_type": "code",
   "execution_count": null,
   "metadata": {},
   "outputs": [],
   "source": [
    "import rasterio\n",
    "import os\n",
    "from datetime import datetime\n",
    "import numpy as np"
   ]
  },
  {
   "cell_type": "code",
   "execution_count": null,
   "metadata": {},
   "outputs": [],
   "source": [
    "# local libraries\n",
    "from coupling_PCR_FM.model_functions_v2 import PCR_model, CMF_model, DFM_model\n",
    "from coupling_PCR_FM.utils import config_to_dict\n",
    "%config Application.log_level=\"INFO\""
   ]
  },
  {
   "cell_type": "code",
   "execution_count": null,
   "metadata": {},
   "outputs": [],
   "source": [
    "# IMPORT MODEL SETTINGS FROM INI-FILE\n",
    "argv1 = r'default_rename.set'\n",
    "argv2 = r'paths.env'\n",
    "\n",
    "# parse set/ini-file with central/general settings for coupling framework\n",
    "config = config_to_dict(argv1)\n",
    "# parse env-file for user-specific paths and environmental variables\n",
    "envs = config_to_dict(argv2)\n",
    "# combine\n",
    "config.update(envs)\n",
    "options = config\n",
    "# parse dates\n",
    "start_date = datetime.strptime(options['numerical_settings']['startTime'], '%Y-%m-%d')\n",
    "end_date = datetime.strptime(options['numerical_settings']['endTime'], '%Y-%m-%d')"
   ]
  },
  {
   "cell_type": "code",
   "execution_count": null,
   "metadata": {},
   "outputs": [],
   "source": [
    "# setup output dir\n",
    "cwd = os.getcwd() # note: this get changed by pcr initialization later on\n",
    "out_dir = options['PCRpaths']['outputDirectoryPCR']\n",
    "if not os.path.isdir(out_dir):\n",
    "    os.mkdir(out_dir)\n",
    "print(out_dir)\n",
    "print(cwd)"
   ]
  },
  {
   "cell_type": "markdown",
   "metadata": {},
   "source": [
    "## create PCR model BMI object"
   ]
  },
  {
   "cell_type": "markdown",
   "metadata": {},
   "source": [
    "Note that we use a two step initializiation. in the first step the bmi object is initialized and the model config file is read into memory. This config file can then be changed offline before the model is initialized. This allows for change model input files and setting based on the model coupling."
   ]
  },
  {
   "cell_type": "code",
   "execution_count": null,
   "metadata": {
    "scrolled": true
   },
   "outputs": [],
   "source": [
    "PCR_configfile = os.path.join(cwd, options['hydrologic_model']['config_dir'], options['hydrologic_model']['config_file'])\n",
    "PCR_in_dir = options['PCRpaths']['inputDirectoryPCR']\n",
    "PCR_out_dir = os.path.join(out_dir, 'PCR')\n",
    "\n",
    "PCR_bmi = PCR_model(PCR_configfile, PCR_in_dir, PCR_out_dir,\n",
    "                            start_date, end_date)\n"
   ]
  },
  {
   "cell_type": "markdown",
   "metadata": {},
   "source": [
    "The illustrate the two-step initialization, the model config file is shown"
   ]
  },
  {
   "cell_type": "code",
   "execution_count": null,
   "metadata": {},
   "outputs": [],
   "source": [
    "PCR_bmi.model_config"
   ]
  },
  {
   "cell_type": "markdown",
   "metadata": {},
   "source": [
    "## create CMF model BMi object"
   ]
  },
  {
   "cell_type": "code",
   "execution_count": null,
   "metadata": {},
   "outputs": [],
   "source": [
    "CMF_engine = os.path.join(cwd, options['CMF_engine']['CMF_path'])\n",
    "CMF_model_dir = os.path.join(cwd, options['routing_model']['model_dir'])\n",
    "CMF_config_fn = os.path.join(CMF_model_dir, options['routing_model']['model_file'])\n",
    "CMF_out_dir = os.path.join(out_dir, 'CMF')\n",
    "     \n",
    "CMF_bmi = CMF_model(CMF_engine, CMF_config_fn, CMF_model_dir, CMF_out_dir,\n",
    "                         start_date, end_date)"
   ]
  },
  {
   "cell_type": "markdown",
   "metadata": {},
   "source": [
    "## couple grids based on CMF inpmat file"
   ]
  },
  {
   "cell_type": "code",
   "execution_count": null,
   "metadata": {},
   "outputs": [],
   "source": [
    "# couple\n",
    "PCR_bmi.couple_grid_to_grid(CMF_bmi)"
   ]
  },
  {
   "cell_type": "markdown",
   "metadata": {},
   "source": [
    "## initialize models"
   ]
  },
  {
   "cell_type": "code",
   "execution_count": null,
   "metadata": {},
   "outputs": [],
   "source": [
    "# initialize model at CMF_out_dir after inpmat has been set in the grid_to_grid coupling function.\n",
    "CMF_bmi.initialize()\n",
    "# initialize model \n",
    "PCR_bmi.initialize()"
   ]
  },
  {
   "cell_type": "markdown",
   "metadata": {},
   "source": [
    "## run coupled PCR - CMF model"
   ]
  },
  {
   "cell_type": "code",
   "execution_count": null,
   "metadata": {
    "scrolled": true
   },
   "outputs": [],
   "source": [
    "# run coupled model for 20 timesteps\n",
    "def update_states():\n",
    "    \"coupling runoff between CMFan PCR model\"\n",
    "    runoff = PCR_bmi.get_var('landSurfaceRunoff')\n",
    "    runoff = np.where(np.isnan(runoff), 0, runoff)\n",
    "    CMF_bmi.set_var(\"roffin\", runoff)\n",
    "        \n",
    "for i in range(20):\n",
    "    PCR_bmi.update()\n",
    "    update_states()\n",
    "    CMF_bmi.update()   "
   ]
  },
  {
   "cell_type": "code",
   "execution_count": null,
   "metadata": {
    "scrolled": true
   },
   "outputs": [],
   "source": [
    "%matplotlib inline\n",
    "import matplotlib.pyplot as plt\n",
    "\n",
    "# PCR_bmi.update()\n",
    "# routingModel.update_states()\n",
    "# routingModel.update() \n",
    "\n",
    "runoff = PCR_bmi.get_var('landSurfaceRunoff')\n",
    "outflw = CMF_bmi.get_var('outflw')\n",
    "outflw = np.ma.masked_greater(outflw, 1.e19)\n",
    "rivsto = CMF_bmi.get_var('rivsto_out')\n",
    "rivsto = np.ma.masked_greater(rivsto, 1.e19)\n",
    "\n",
    "fig = plt.figure(figsize=(15, 5))\n",
    "a=fig.add_subplot(1,3,1)\n",
    "imgplot = plt.imshow(runoff)\n",
    "a.set_title('PCR runoff')\n",
    "plt.colorbar(orientation ='horizontal')\n",
    "a=fig.add_subplot(1,3,2)\n",
    "imgplot = plt.imshow(outflw)\n",
    "a.set_title('CMF outflw')\n",
    "plt.colorbar(orientation='horizontal')\n",
    "a=fig.add_subplot(1,3,3)\n",
    "imgplot = plt.imshow(rivsto)\n",
    "a.set_title('CMF rivsto')\n",
    "plt.colorbar(orientation='horizontal')"
   ]
  },
  {
   "cell_type": "code",
   "execution_count": null,
   "metadata": {},
   "outputs": [],
   "source": [
    "# finalize model\n",
    "PCR_bmi.finalize()\n",
    "\n",
    "# finalize model\n",
    "CMF_bmi.finalize()"
   ]
  }
 ],
 "metadata": {
  "anaconda-cloud": {},
  "kernelspec": {
   "display_name": "Python 2",
   "language": "python",
   "name": "python2"
  },
  "language_info": {
   "codemirror_mode": {
    "name": "ipython",
    "version": 2
   },
   "file_extension": ".py",
   "mimetype": "text/x-python",
   "name": "python",
   "nbconvert_exporter": "python",
   "pygments_lexer": "ipython2",
   "version": "2.7.14"
  }
 },
 "nbformat": 4,
 "nbformat_minor": 2
}
