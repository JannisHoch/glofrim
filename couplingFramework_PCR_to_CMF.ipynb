{
 "cells": [
  {
   "cell_type": "code",
   "execution_count": null,
   "metadata": {},
   "outputs": [],
   "source": [
    "# import netCDF4\n",
    "# from distutils.util import strtobool\n",
    "# import matplotlib\n",
    "# import matplotlib.pyplot as plt\n",
    "# import sys\n",
    "# import os\n",
    "# import pdb\n",
    "# import platform\n",
    "# import numpy as np\n",
    "# import pyproj as pyproj\n",
    "# import datetime\n",
    "# import time\n",
    "# import bmi.wrapper\n",
    "# import pcrglobwb_bmi_v203 as pcrglobwb_bmi_v203\n",
    "# from pcrglobwb_bmi_v203 import pcrglobwb_bmi\n",
    "# from pcrglobwb_bmi_v203 import disclaimer\n",
    "# # from coupling_PCR_FM import coupling_functions\n",
    "# # from coupling_PCR_FM import model_functions\n",
    "# from coupling_PCR_FM import configuration\n",
    "# from coupling_PCR_FM import utils as utils"
   ]
  },
  {
   "cell_type": "code",
   "execution_count": null,
   "metadata": {},
   "outputs": [],
   "source": [
    "import os\n",
    "from datetime import datetime\n",
    "import numpy as np"
   ]
  },
  {
   "cell_type": "code",
   "execution_count": null,
   "metadata": {},
   "outputs": [],
   "source": [
    "from coupling_PCR_FM.model_functions_v2 import PCR_model, CMF_model\n",
    "from coupling_PCR_FM import configuration"
   ]
  },
  {
   "cell_type": "code",
   "execution_count": null,
   "metadata": {},
   "outputs": [],
   "source": [
    "argv1 = r'default_rename.set'\n",
    "argv2 = r'paths.env'\n",
    "\n",
    "# -------------------------------------------------------------------------------------------------\n",
    "# IMPORT MODEL SETTINGS FROM INI-FILE\n",
    "# -------------------------------------------------------------------------------------------------\n",
    "\n",
    "# parse set/ini-file with central/general settings for coupling framework\n",
    "config = configuration.Configuration()\n",
    "config.parse_configuration_file(argv1)\n",
    "\n",
    "# parse env-file for user-specific paths and environmental variables\n",
    "envs = configuration.Configuration()\n",
    "envs.parse_configuration_file(argv2)\n",
    "\n",
    "options = {section: eval('config.{:s}'.format(section)) for section in config.allSections}\n",
    "options.update({section: eval('envs.{:s}'.format(section)) for section in envs.allSections})\n",
    "start_date = datetime.strptime(options['numerical_settings']['startTime'], '%Y-%m-%d')\n",
    "end_date = datetime.strptime(options['numerical_settings']['endTime'], '%Y-%m-%d')\n",
    "options"
   ]
  },
  {
   "cell_type": "code",
   "execution_count": null,
   "metadata": {},
   "outputs": [],
   "source": [
    "# setup output dir\n",
    "cwd = os.getcwd() # note: this get changed by pcr initialization later on\n",
    "out_dir = envs.PCRpaths['outputDirectoryPCR']\n",
    "if not os.path.isdir(out_dir):\n",
    "    os.mkdir(out_dir)\n",
    "print(out_dir)\n",
    "print(cwd)"
   ]
  },
  {
   "cell_type": "code",
   "execution_count": null,
   "metadata": {},
   "outputs": [],
   "source": [
    "# initialize CMF model\n",
    "CMF_engine = options['CMF_engine']['CMF_path']\n",
    "CMF_model_dir = os.path.join(cwd, options['routing_model']['model_dir'])\n",
    "CMF_config_fn = os.path.join(CMF_model_dir, options['routing_model']['model_file']) + '.template'\n",
    "CMF_out_dir = os.path.join(out_dir, 'CMF')\n",
    "\n",
    "routingModel = CMF_model(CMF_engine, CMF_config_fn, CMF_model_dir,\n",
    "                         start_date, end_date, out_dir = CMF_out_dir)"
   ]
  },
  {
   "cell_type": "code",
   "execution_count": null,
   "metadata": {
    "scrolled": true
   },
   "outputs": [],
   "source": [
    "# initialize PCR model\n",
    "PCR_configfile = os.path.join(cwd, options['hydrologic_model']['config_dir'], options['hydrologic_model']['config_file'])\n",
    "PCR_in_dir = options['PCRpaths']['inputDirectoryPCR']\n",
    "PCR_out_dir = os.path.join(out_dir, 'PCR')\n",
    "\n",
    "hydrologicModel = PCR_model(PCR_configfile,\n",
    "                            start_date, end_date,\n",
    "                            out_dir = PCR_out_dir, in_dir = PCR_in_dir,\n",
    "                           )"
   ]
  },
  {
   "cell_type": "code",
   "execution_count": null,
   "metadata": {},
   "outputs": [],
   "source": [
    "os.getcwd()"
   ]
  },
  {
   "cell_type": "code",
   "execution_count": null,
   "metadata": {},
   "outputs": [],
   "source": [
    "# coupling functions\n",
    "\n",
    "def PCR2CMF_runoff(PCR_BMI, CMF_bmi):\n",
    "    \"creates a 'get_runoff' function to get runoff from PCR model fit for CMF model\"\n",
    "    def update_states():\n",
    "        \"coupling runoff between CMFan PCR model\"\n",
    "        runoff = PCR_BMI.get_var('landSurfaceRunoff')\n",
    "        runoff = np.where(np.isnan(runoff), 0, runoff)\n",
    "        CMF_bmi.set_var(\"runoff\", runoff)\n",
    "    return update_states\n",
    "\n",
    "CFM_get_runoff = PCR2CMF_runoff(hydrologicModel, routingModel)\n",
    "routingModel.set_options(update_states=CFM_get_runoff)"
   ]
  },
  {
   "cell_type": "code",
   "execution_count": null,
   "metadata": {
    "scrolled": true
   },
   "outputs": [],
   "source": [
    "for i in range(20):\n",
    "    hydrologicModel.run()\n",
    "    routingModel.run()   "
   ]
  },
  {
   "cell_type": "code",
   "execution_count": null,
   "metadata": {
    "scrolled": true
   },
   "outputs": [],
   "source": [
    "%matplotlib inline\n",
    "import matplotlib.pyplot as plt\n",
    "\n",
    "runoff = hydrologicModel.get_var('landSurfaceRunoff')\n",
    "outflw = routingModel.get_var('outflw')\n",
    "outflw = np.ma.masked_greater(outflw, 1.e19)\n",
    "rivsto = routingModel.get_var('rivsto_out')\n",
    "rivsto = np.ma.masked_greater(rivsto, 1.e19)\n",
    "\n",
    "fig = plt.figure(figsize=(15, 5))\n",
    "a=fig.add_subplot(1,3,1)\n",
    "imgplot = plt.imshow(runoff)\n",
    "a.set_title('PCR runoff')\n",
    "plt.colorbar(orientation ='horizontal')\n",
    "a=fig.add_subplot(1,3,2)\n",
    "imgplot = plt.imshow(outflw)\n",
    "a.set_title('CMF outflw')\n",
    "plt.colorbar(orientation='horizontal')\n",
    "a=fig.add_subplot(1,3,3)\n",
    "imgplot = plt.imshow(rivsto)\n",
    "a.set_title('CMF rivsto')\n",
    "plt.colorbar(orientation='horizontal')"
   ]
  }
 ],
 "metadata": {
  "kernelspec": {
   "display_name": "Python [conda env:glofrim]",
   "language": "python",
   "name": "conda-env-glofrim-py"
  },
  "language_info": {
   "codemirror_mode": {
    "name": "ipython",
    "version": 2
   },
   "file_extension": ".py",
   "mimetype": "text/x-python",
   "name": "python",
   "nbconvert_exporter": "python",
   "pygments_lexer": "ipython2",
   "version": "2.7.14"
  }
 },
 "nbformat": 4,
 "nbformat_minor": 2
}
