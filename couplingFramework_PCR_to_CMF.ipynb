{
 "cells": [
  {
   "cell_type": "code",
   "execution_count": null,
   "metadata": {},
   "outputs": [],
   "source": [
    "import os\n",
    "from datetime import datetime\n",
    "import numpy as np"
   ]
  },
  {
   "cell_type": "code",
   "execution_count": null,
   "metadata": {},
   "outputs": [],
   "source": [
    "# local libraries\n",
    "from coupling_PCR_FM.model_functions_v2 import PCR_model, CMF_model, DFM_model\n",
    "from coupling_PCR_FM import configuration"
   ]
  },
  {
   "cell_type": "code",
   "execution_count": null,
   "metadata": {},
   "outputs": [],
   "source": [
    "argv1 = r'default_rename.set'\n",
    "argv2 = r'paths.env'\n",
    "\n",
    "# -------------------------------------------------------------------------------------------------\n",
    "# IMPORT MODEL SETTINGS FROM INI-FILE\n",
    "# -------------------------------------------------------------------------------------------------\n",
    "\n",
    "# parse set/ini-file with central/general settings for coupling framework\n",
    "config = configuration.Configuration()\n",
    "config.parse_configuration_file(argv1)\n",
    "\n",
    "# parse env-file for user-specific paths and environmental variables\n",
    "envs = configuration.Configuration()\n",
    "envs.parse_configuration_file(argv2)\n",
    "\n",
    "options = {section: eval('config.{:s}'.format(section)) for section in config.allSections}\n",
    "options.update({section: eval('envs.{:s}'.format(section)) for section in envs.allSections})\n",
    "start_date = datetime.strptime(options['numerical_settings']['startTime'], '%Y-%m-%d')\n",
    "end_date = datetime.strptime(options['numerical_settings']['endTime'], '%Y-%m-%d')\n",
    "options"
   ]
  },
  {
   "cell_type": "code",
   "execution_count": null,
   "metadata": {},
   "outputs": [],
   "source": [
    "# setup output dir\n",
    "cwd = os.getcwd() # note: this get changed by pcr initialization later on\n",
    "out_dir = envs.PCRpaths['outputDirectoryPCR']\n",
    "if not os.path.isdir(out_dir):\n",
    "    os.mkdir(out_dir)\n",
    "print(out_dir)\n",
    "print(cwd)"
   ]
  },
  {
   "cell_type": "code",
   "execution_count": null,
   "metadata": {
    "scrolled": true
   },
   "outputs": [],
   "source": [
    "# initialize PCR model\n",
    "PCR_configfile = os.path.join(cwd, options['hydrologic_model']['config_dir'], options['hydrologic_model']['config_file'])\n",
    "PCR_in_dir = options['PCRpaths']['inputDirectoryPCR']\n",
    "PCR_out_dir = os.path.join(out_dir, 'PCR')\n",
    "\n",
    "hydrologicModel = PCR_model()\n",
    "hydrologicModel.initialize_offline_forcing(PCR_configfile, start_date, end_date,\n",
    "                                           out_dir = PCR_out_dir, in_dir = PCR_in_dir)"
   ]
  },
  {
   "cell_type": "code",
   "execution_count": null,
   "metadata": {},
   "outputs": [],
   "source": [
    "# parsing the overwritten PCR-GLOBWB ini-file\n",
    "configPCR = configuration.Configuration()\n",
    "PCR_configfile_tmp = os.path.join(PCR_out_dir, 'tmp_' + os.path.basename(PCR_configfile))\n",
    "configPCR.parse_configuration_file(PCR_configfile_tmp)\n",
    "\n",
    "# retrieving informatino directly from PCR-GLOBWB ini-file\n",
    "inputDIR \t\t\t\t\t\t= configPCR.globalOptions['inputDir']\n",
    "clone_pcr \t\t\t\t\t\t= os.path.join(inputDIR, configPCR.globalOptions['cloneMap'])\n",
    "landmask_pcr \t\t\t\t\t= os.path.join(inputDIR, configPCR.globalOptions['landmask'])\n",
    "print(landmask_pcr)"
   ]
  },
  {
   "cell_type": "code",
   "execution_count": null,
   "metadata": {},
   "outputs": [],
   "source": [
    "DFM_engine = os.path.join(cwd, options['DFM_engine']['DFM_path'])\n",
    "DFM_model_dir = os.path.join(cwd, options['hydrodynamic_model']['model_dir'])\n",
    "DFM_config_fn = os.path.join(DFM_model_dir, options['hydrodynamic_model']['model_file'])\n",
    "DFM_out_dir = os.path.join(out_dir, 'DFM')\n",
    "\n",
    "print(DFM_engine)\n",
    "print(DFM_model_dir)\n",
    "print(DFM_config_fn)\n",
    "\n",
    "\n",
    "model = DFM_model(engine = DFM_engine)\n",
    "model.initialize_online_forcing(DFM_config_fn, DFM_model_dir,\n",
    "                               start_date, end_date, out_dir=DFM_out_dir)"
   ]
  },
  {
   "cell_type": "code",
   "execution_count": null,
   "metadata": {},
   "outputs": [],
   "source": [
    "coupledHydro2PCR, coupledPCR2hydro, zipPCRIndices = assignPCR2cells(landmask_pcr, xy_coords, verbose=True)\n",
    "    \n",
    "def PCR2DFM_1d_runoff_flux(PCR_BMI, DFM_bmi, zipPCRIndices, coupledPCR2hydro):\n",
    "    \"creates a 'get_runoff' function to get runoff from PCR model fit for CMF model\"\n",
    "    af_list =[]\n",
    "    for i, DFM_indices in coupledPCR2hydro:\n",
    "        area = DFM_bmi.get_var('ba')[DFM_indices]\n",
    "        area_fraction = area / np.sum(area)\n",
    "        af_list.append(area_fraction)\n",
    "    \n",
    "    def update_states():\n",
    "        tot_water_volume = PCR_BMI.get_total_water_volume() # m3/day\n",
    "        tot_water_volume_1d = tot_water_volume[zip(*zipPCRIndices)]\n",
    "        \n",
    "        delta_water = []\n",
    "        for i in xrange(len(total_water_volume)):\n",
    "            added_water_level = total_water_volume[i] / af_list[i] \n",
    "            delta_water.extend(added_water_level) # m / day\n",
    "        delta_water = delta_water * 1000.  #mm/day\n",
    "        \n",
    "        DFM_bmi.set_var_1d(delta_water)\n",
    "\n",
    "    return update_states\n",
    "\n"
   ]
  },
  {
   "cell_type": "code",
   "execution_count": null,
   "metadata": {},
   "outputs": [],
   "source": [
    "model.get_var('ba')\n",
    "af_list = []\n",
    "for i, DFM_indices in coupledPCR2hydro:\n",
    "    area = model.get_var('ba')[DFM_indices]\n",
    "    area_fraction = area / np.sum(area)\n",
    "    af_list.append(area_fraction)\n",
    "\n",
    "af_list\n",
    "    "
   ]
  },
  {
   "cell_type": "code",
   "execution_count": null,
   "metadata": {},
   "outputs": [],
   "source": [
    "import rasterio\n",
    "with rasterio.open(landmask_pcr) as src:\n",
    "    index = src.index\n",
    "    rowIndexPCR, colIndexPCR = index(model.coords_1d)"
   ]
  },
  {
   "cell_type": "code",
   "execution_count": null,
   "metadata": {},
   "outputs": [],
   "source": [
    "x_coords = model.get_var('xz') # x-coords of each cell centre point\n",
    "y_coords = model.get_var('yz') # y-coords of each cell centre point\n",
    "xy_coords = [[(xy)] for xy in zip(x_coords, y_coords)]"
   ]
  },
  {
   "cell_type": "code",
   "execution_count": null,
   "metadata": {},
   "outputs": [],
   "source": [
    "from coupling_PCR_FM.coupling_functions import assignPCR2cells\n",
    "coupledHydro2PCR, coupledPCR2hydro, zipPCRIndices = assignPCR2cells(landmask_pcr, xy_coords, verbose=True)"
   ]
  },
  {
   "cell_type": "code",
   "execution_count": null,
   "metadata": {},
   "outputs": [],
   "source": [
    "# initialize CMF model\n",
    "CMF_engine = os.path.join(cwd, options['CMF_engine']['CMF_path'])\n",
    "CMF_model_dir = os.path.join(cwd, options['routing_model']['model_dir'])\n",
    "CMF_config_fn = os.path.join(CMF_model_dir, options['routing_model']['model_file'])\n",
    "CMF_out_dir = os.path.join(out_dir, 'CMF')\n",
    "\n",
    "routingModel = CMF_model(CMF_engine)\n",
    "routingModel.initialize_online_forcing(CMF_config_fn, CMF_model_dir,\n",
    "                                       start_date, end_date, \n",
    "                                       out_dir = CMF_out_dir)"
   ]
  },
  {
   "cell_type": "code",
   "execution_count": null,
   "metadata": {},
   "outputs": [],
   "source": [
    "# set coupling function\n",
    "\n",
    "def PCR2CMF_runoff(PCR_BMI, CMF_bmi):\n",
    "    \"creates a 'get_runoff' function to get runoff from PCR model fit for CMF model\"\n",
    "    def update_states():\n",
    "        \"coupling runoff between CMFan PCR model\"\n",
    "        runoff = PCR_BMI.get_var('landSurfaceRunoff')\n",
    "        runoff = np.where(np.isnan(runoff), 0, runoff)\n",
    "        CMF_bmi.set_var(\"runoff\", runoff)\n",
    "    return update_states\n",
    "\n",
    "CFM_get_runoff = PCR2CMF_runoff(hydrologicModel, routingModel)\n",
    "routingModel.set_update_states(CFM_get_runoff)"
   ]
  },
  {
   "cell_type": "code",
   "execution_count": null,
   "metadata": {
    "scrolled": true
   },
   "outputs": [],
   "source": [
    "# run coupled model for 20 timesteps\n",
    "for i in range(20):\n",
    "    hydrologicModel.update()\n",
    "    routingModel.update_states()\n",
    "    routingModel.update()   "
   ]
  },
  {
   "cell_type": "code",
   "execution_count": null,
   "metadata": {
    "scrolled": true
   },
   "outputs": [],
   "source": [
    "%matplotlib inline\n",
    "import matplotlib.pyplot as plt\n",
    "\n",
    "# hydrologicModel.update()\n",
    "# routingModel.update_states()\n",
    "# routingModel.update() \n",
    "\n",
    "runoff = hydrologicModel.get_var('landSurfaceRunoff')\n",
    "outflw = routingModel.get_var('outflw')\n",
    "outflw = np.ma.masked_greater(outflw, 1.e19)\n",
    "rivsto = routingModel.get_var('rivsto_out')\n",
    "rivsto = np.ma.masked_greater(rivsto, 1.e19)\n",
    "\n",
    "fig = plt.figure(figsize=(15, 5))\n",
    "a=fig.add_subplot(1,3,1)\n",
    "imgplot = plt.imshow(runoff)\n",
    "a.set_title('PCR runoff')\n",
    "plt.colorbar(orientation ='horizontal')\n",
    "a=fig.add_subplot(1,3,2)\n",
    "imgplot = plt.imshow(outflw)\n",
    "a.set_title('CMF outflw')\n",
    "plt.colorbar(orientation='horizontal')\n",
    "a=fig.add_subplot(1,3,3)\n",
    "imgplot = plt.imshow(rivsto)\n",
    "a.set_title('CMF rivsto')\n",
    "plt.colorbar(orientation='horizontal')"
   ]
  }
 ],
 "metadata": {
  "kernelspec": {
   "display_name": "Python [conda env:glofrim]",
   "language": "python",
   "name": "conda-env-glofrim-py"
  },
  "language_info": {
   "codemirror_mode": {
    "name": "ipython",
    "version": 2
   },
   "file_extension": ".py",
   "mimetype": "text/x-python",
   "name": "python",
   "nbconvert_exporter": "python",
   "pygments_lexer": "ipython2",
   "version": "2.7.14"
  }
 },
 "nbformat": 4,
 "nbformat_minor": 2
}
