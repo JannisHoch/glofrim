{
 "cells": [
  {
   "cell_type": "code",
   "execution_count": null,
   "metadata": {},
   "outputs": [],
   "source": [
    "import netCDF4\n",
    "from distutils.util import strtobool\n",
    "import matplotlib\n",
    "import matplotlib.pyplot as plt\n",
    "import sys\n",
    "import os\n",
    "import pdb\n",
    "import platform\n",
    "import numpy as np\n",
    "import pyproj as pyproj\n",
    "import datetime\n",
    "import time\n",
    "import bmi.wrapper\n",
    "import pcrglobwb_bmi_v203 as pcrglobwb_bmi_v203\n",
    "from pcrglobwb_bmi_v203 import pcrglobwb_bmi\n",
    "from pcrglobwb_bmi_v203 import disclaimer\n",
    "# from coupling_PCR_FM import coupling_functions\n",
    "# from coupling_PCR_FM import model_functions\n",
    "from coupling_PCR_FM import configuration\n",
    "from coupling_PCR_FM import utils as utils"
   ]
  },
  {
   "cell_type": "code",
   "execution_count": null,
   "metadata": {},
   "outputs": [],
   "source": [
    "from coupling_PCR_FM.model_functions_v2 import PCR_model, CMF_model"
   ]
  },
  {
   "cell_type": "code",
   "execution_count": null,
   "metadata": {},
   "outputs": [],
   "source": [
    "argv1 = r'default_rename.set'\n",
    "argv2 = r'paths.env'\n",
    "\n",
    "# -------------------------------------------------------------------------------------------------\n",
    "# IMPORT MODEL SETTINGS FROM INI-FILE\n",
    "# -------------------------------------------------------------------------------------------------\n",
    "\n",
    "# parse set/ini-file with central/general settings for coupling framework\n",
    "config = configuration.Configuration()\n",
    "config.parse_configuration_file(argv1)\n",
    "\n",
    "# parse env-file for user-specific paths and environmental variables\n",
    "envs = configuration.Configuration()\n",
    "envs.parse_configuration_file(argv2)"
   ]
  },
  {
   "cell_type": "code",
   "execution_count": null,
   "metadata": {},
   "outputs": [],
   "source": [
    "# -------------------------------------------------------------------------------------------------\n",
    "# SPECIFY MODEL SETTINGS\n",
    "# -------------------------------------------------------------------------------------------------\n",
    "\n",
    "type_hydrodynamicModel = config.hydrodynamic_model['model_name']\n",
    "type_routingModel          = config.routing_model['model_name']\n",
    "type_hydrologicModel      = config.hydrologic_model['model_name']\n",
    "\n",
    "latlon = strtobool(config.general_settings['latlon'])\n",
    "if latlon == False:\n",
    "    inProj  = pyproj.Proj(init=config.hydrodynamic_model['model_projection'])\n",
    "\n",
    "use_Fluxes = strtobool(config.general_settings['use_Fluxes'])\n",
    "use_RFS = strtobool(config.general_settings['use_RFS'])\n",
    "verbose = strtobool(config.general_settings['verbose'])"
   ]
  },
  {
   "cell_type": "code",
   "execution_count": null,
   "metadata": {},
   "outputs": [],
   "source": [
    "# -------------------------------------------------------------------------------------------------\n",
    "# SPECIFY NUMERICAL SETTINGS\n",
    "# -------------------------------------------------------------------------------------------------\n",
    "\n",
    "startTime_env\t\t\t\t\t\t= config.numerical_settings['startTime']\n",
    "endTime_env\t\t\t\t\t\t\t= config.numerical_settings['endTime']\n",
    "nr_timesteps \t\t\t\t\t\t  = utils.determineSteps(startTime_env, endTime_env)\n",
    "update_step                           = int(config.numerical_settings['update_step'])\n",
    "\n",
    "secPerDay                             = 86400.\n",
    "end_time \t\t\t\t\t\t\t  = nr_timesteps * secPerDay\n",
    "fraction_timestep \t\t\t\t\t  = secPerDay / update_step\n",
    "\n",
    "threshold_inundated_depth             = float(config.numerical_settings['threshold_inundated_depth'])\n",
    "\n",
    "# other\n",
    "missing_value_landmask                = 255\n",
    "missing_value_pcr                     = -999"
   ]
  },
  {
   "cell_type": "code",
   "execution_count": null,
   "metadata": {},
   "outputs": [],
   "source": [
    "# -------------------------------------------------------------------------------------------------\n",
    "# GET ENVIRONMENT SETTINGS\n",
    "# -------------------------------------------------------------------------------------------------\n",
    "mainFolder = os.getcwd()\n",
    "inputDIR_env \t= envs.PCRpaths['inputDirectoryPCR']\n",
    "outputDIR_env \t= envs.PCRpaths['outputDirectoryPCR']\n",
    "DFM_path\t\t= envs.DFM_engine['DFM_path'] #absolute\n",
    "CMF_path\t\t= os.path.join(mainFolder, envs.CMF_engine['CMF_path']) #relative"
   ]
  },
  {
   "cell_type": "code",
   "execution_count": null,
   "metadata": {},
   "outputs": [],
   "source": [
    "# -------------------------------------------------------------------------------------------------\n",
    "# SET PATHS TO MODELS\n",
    "# -------------------------------------------------------------------------------------------------\n",
    "\n",
    "# get main folder (i.e. GitHub folder)\n",
    "\n",
    "\n",
    "# hydrodynamic model\n",
    "hydrodynamicModel_dir       \t= config.hydrodynamic_model['model_dir']\n",
    "hydrodynamicModel_dir           = os.path.join(mainFolder, hydrodynamicModel_dir)\n",
    "hydrodynamicModel_file      \t= config.hydrodynamic_model['model_file']\n",
    "hydrodynamicModel_proj\t\t    = config.hydrodynamic_model['model_projection']\n",
    "\n",
    "### ROUTING MODEL ###\n",
    "routingModel_dir       \t\t\t= config.routing_model['model_dir']\n",
    "routingModel_dir           \t\t= os.path.join(mainFolder, routingModel_dir)\n",
    "routingModel_file      \t\t\t= config.routing_model['model_file']\n",
    "routingModel_file_tmp\t\t\t= str('tmp_'+routingModel_file )\n",
    "routingModel_config\t   \t\t\t= os.path.join(mainFolder, os.path.join(routingModel_dir, routingModel_file))\n",
    "routingModel_config_tmp \t\t= os.path.join(mainFolder, os.path.join(routingModel_dir, routingModel_file_tmp))\n",
    "\n",
    "# hydrologic model\n",
    "hydrologicModel_dir\t\t\t\t= config.hydrologic_model['config_dir']\n",
    "hydrologicModel_file       \t\t= config.hydrologic_model['config_file']\n",
    "hydrologicModel_file_tmp\t\t= str('tmp_'+hydrologicModel_file)\n",
    "hydrologicModel_config\t        = os.path.join(mainFolder, os.path.join(hydrologicModel_dir, hydrologicModel_file))\n",
    "hydrologicModel_config_tmp \t\t= os.path.join(mainFolder, os.path.join(hydrologicModel_dir, hydrologicModel_file_tmp))\n",
    "\n",
    "# overwriting inputDIR and outputDIR in PCR-GLOBWB ini-file with respect to personal environment\n",
    "kwargs = dict(inputDir = inputDIR_env, outputDir = outputDIR_env)\n",
    "utils.write_ini(hydrologicModel_config_tmp, hydrologicModel_config, **kwargs)\n",
    "\n",
    "# parsing the overwritten PCR-GLOBWB ini-file\n",
    "configPCR \t\t\t\t\t\t= configuration.Configuration()\n",
    "configPCR.parse_configuration_file(hydrologicModel_config_tmp)\n",
    "\n",
    "# retrieving informatino directly from PCR-GLOBWB ini-file\n",
    "inputDIR \t\t\t\t\t\t= configPCR.globalOptions['inputDir']\n",
    "clone_pcr \t\t\t\t\t\t= os.path.join(inputDIR, configPCR.globalOptions['cloneMap'])\n",
    "landmask_pcr \t\t\t\t\t= os.path.join(inputDIR, configPCR.globalOptions['landmask'])"
   ]
  },
  {
   "cell_type": "markdown",
   "metadata": {},
   "source": [
    "# initialize new"
   ]
  },
  {
   "cell_type": "code",
   "execution_count": null,
   "metadata": {
    "scrolled": true
   },
   "outputs": [],
   "source": [
    "# overwriting inputDIR and outputDIR in PCR-GLOBWB ini-file with respect to personal environment\n",
    "kwargs = dict(inputDir = inputDIR_env, outputDir = outputDIR_env, startTime = startTime_env, endTime = endTime_env)\n",
    "utils.write_ini(hydrologicModel_config_tmp, hydrologicModel_config, **kwargs)\n",
    "\n",
    "hydrologicModel = PCR_model(hydrologicModel_config_tmp, missing_value_pcr)\n",
    "# hydrologicModel.spinup()"
   ]
  },
  {
   "cell_type": "code",
   "execution_count": null,
   "metadata": {},
   "outputs": [],
   "source": [
    "# overwriting nam-file\n",
    "# kwargs = dict(CINPMAT = 'bla')\n",
    "# utils.write_ini(routingModel_config_tmp, routingModel_config, **kwargs)\n",
    "\n",
    "routingModel = CMF_model(CMF_path, os.path.join(routingModel_dir, routingModel_file), routingModel_dir)"
   ]
  },
  {
   "cell_type": "code",
   "execution_count": null,
   "metadata": {},
   "outputs": [],
   "source": [
    "# coupling functions\n",
    "def PCR2CMF_runoff(PCR_BMI):\n",
    "    \"creates a 'get_runoff' function to get runoff from PCR model fit for CMF model\"\n",
    "    def get_runoff():\n",
    "        \"get runoff from PCR model fit for CMF model\"\n",
    "        runoff = PCR_BMI.get_var('landSurfaceRunoff')\n",
    "        runoff = np.where(np.isnan(runoff), 0, runoff)\n",
    "        return runoff\n",
    "    return get_runoff\n",
    "\n",
    "\n",
    "CFM_get_runoff = PCR2CMF_runoff(hydrologicModel)\n",
    "routingModel.set_options(get_runoff=CFM_get_runoff)"
   ]
  },
  {
   "cell_type": "code",
   "execution_count": null,
   "metadata": {
    "scrolled": true
   },
   "outputs": [],
   "source": [
    "for i in range(20):\n",
    "    hydrologicModel.run()\n",
    "    routingModel.run()"
   ]
  },
  {
   "cell_type": "code",
   "execution_count": null,
   "metadata": {
    "scrolled": true
   },
   "outputs": [],
   "source": [
    "%matplotlib inline\n",
    "import matplotlib.pyplot as plt\n",
    "\n",
    "runoff = hydrologicModel.get_var('landSurfaceRunoff')\n",
    "outflw = routingModel.get_var('outflw')\n",
    "\n",
    "fig, (ax1, ax2) = plt.subplots(1, 2)\n",
    "ax1.imshow(runoff)\n",
    "ax2.imshow(outflw)"
   ]
  },
  {
   "cell_type": "code",
   "execution_count": null,
   "metadata": {},
   "outputs": [],
   "source": [
    "np.nanmax(runoff)"
   ]
  }
 ],
 "metadata": {
  "kernelspec": {
   "display_name": "Python [conda env:glofrim]",
   "language": "python",
   "name": "conda-env-glofrim-py"
  },
  "language_info": {
   "codemirror_mode": {
    "name": "ipython",
    "version": 2
   },
   "file_extension": ".py",
   "mimetype": "text/x-python",
   "name": "python",
   "nbconvert_exporter": "python",
   "pygments_lexer": "ipython2",
   "version": "2.7.14"
  }
 },
 "nbformat": 4,
 "nbformat_minor": 2
}
