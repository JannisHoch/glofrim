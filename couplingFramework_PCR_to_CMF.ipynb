{
 "cells": [
  {
   "cell_type": "code",
   "execution_count": 1,
   "metadata": {},
   "outputs": [],
   "source": [
    "from netCDF4 import Dataset\n",
    "import rasterio\n",
    "import os\n",
    "from datetime import datetime\n",
    "import numpy as np"
   ]
  },
  {
   "cell_type": "code",
   "execution_count": 2,
   "metadata": {},
   "outputs": [],
   "source": [
    "# local libraries\n",
    "from coupling_PCR_FM.model_functions_v2 import PCR_model, CMF_model, DFM_model\n",
    "from coupling_PCR_FM.utils import config_to_dict, determineSteps\n",
    "%config Application.log_level=\"INFO\""
   ]
  },
  {
   "cell_type": "code",
   "execution_count": 3,
   "metadata": {},
   "outputs": [
    {
     "name": "stdout",
     "output_type": "stream",
     "text": [
      "2000-01-01 00:00:00\n",
      "2000-12-31 00:00:00\n",
      "365\n"
     ]
    }
   ],
   "source": [
    "# IMPORT MODEL SETTINGS FROM INI-FILE\n",
    "argv1 = r'default_rename.set'\n",
    "argv2 = r'paths.env'\n",
    "\n",
    "# parse set/ini-file with central/general settings for coupling framework\n",
    "config = config_to_dict(argv1)\n",
    "# parse env-file for user-specific paths and environmental variables\n",
    "envs = config_to_dict(argv2)\n",
    "# combine\n",
    "config.update(envs)\n",
    "options = config\n",
    "# parse dates\n",
    "start_date = datetime.strptime(options['numerical_settings']['startTime'], '%Y-%m-%d')\n",
    "end_date = datetime.strptime(options['numerical_settings']['endTime'], '%Y-%m-%d')\n",
    "print start_date\n",
    "print end_date\n",
    "timeSteps = determineSteps(start_date, end_date)\n",
    "print timeSteps"
   ]
  },
  {
   "cell_type": "code",
   "execution_count": 4,
   "metadata": {},
   "outputs": [
    {
     "name": "stdout",
     "output_type": "stream",
     "text": [
      "/home/jannis/PhD/code/GLOFRIMplusCAMA/output30min/PCR2CMF/\n",
      "/home/jannis/PhD/code/GLOFRIMplusCAMA/glofrim\n"
     ]
    }
   ],
   "source": [
    "# setup output dir\n",
    "cwd = os.getcwd() # note: this get changed by pcr initialization later on\n",
    "out_dir = options['PCRpaths']['outputDirectoryPCR']\n",
    "out_dir = out_dir + 'PCR2CMF/'\n",
    "if not os.path.isdir(out_dir):\n",
    "    os.mkdir(out_dir)\n",
    "print(out_dir)\n",
    "print(cwd)"
   ]
  },
  {
   "cell_type": "markdown",
   "metadata": {},
   "source": [
    "## create PCR model BMI object"
   ]
  },
  {
   "cell_type": "markdown",
   "metadata": {},
   "source": [
    "Note that we use a two step initializiation. in the first step the bmi object is initialized and the model config file is read into memory. This config file can then be changed offline before the model is initialized. This allows for change model input files and setting based on the model coupling."
   ]
  },
  {
   "cell_type": "code",
   "execution_count": 5,
   "metadata": {
    "scrolled": true
   },
   "outputs": [],
   "source": [
    "PCR_configfile = os.path.join(cwd, options['hydrologic_model']['config_dir'], options['hydrologic_model']['config_file'])\n",
    "PCR_in_dir = options['PCRpaths']['inputDirectoryPCR']\n",
    "PCR_out_dir = os.path.join(out_dir, 'PCR')\n",
    "\n",
    "PCR_bmi = PCR_model(PCR_configfile, PCR_in_dir, PCR_out_dir,\n",
    "                            start_date, end_date)\n"
   ]
  },
  {
   "cell_type": "markdown",
   "metadata": {},
   "source": [
    "The illustrate the two-step initialization, the model config file is shown"
   ]
  },
  {
   "cell_type": "code",
   "execution_count": 6,
   "metadata": {},
   "outputs": [
    {
     "data": {
      "text/plain": [
       "OrderedDict([(u'globalOptions',\n",
       "              OrderedDict([('inputDir',\n",
       "                            u'/home/jannis/PhD/code/GLOFRIMplusCAMA/glofrim/test_Elbe/PCR_Elbe/input30min'),\n",
       "                           ('cloneMap', u'clone_elbe_30min.map'),\n",
       "                           ('landmask', u'landmask_elbe_30min.map'),\n",
       "                           ('outputDir',\n",
       "                            u'/home/jannis/PhD/code/GLOFRIMplusCAMA/output30min/PCR2CMF/PCR'),\n",
       "                           ('institution',\n",
       "                            u'Department of Physical Geography, Utrecht University'),\n",
       "                           ('title', u'PCR-GLOBWB output'),\n",
       "                           ('description',\n",
       "                            u'test version by Edwin H. Sutanudjaja; adapted by J. Hoch'),\n",
       "                           ('startTime', '2000-01-01'),\n",
       "                           ('endTime', '2000-12-31'),\n",
       "                           ('maxSpinUpsInYears', u'1'),\n",
       "                           ('minConvForTotlSto', u'0.5'),\n",
       "                           ('minConvForSoilSto', u'0.5'),\n",
       "                           ('minConvForGwatSto', u'0.5'),\n",
       "                           ('minConvForChanSto', u'0.5'),\n",
       "                           ('ActivateCoupling', u'False'),\n",
       "                           ('ActivateFactorInfiltrationFloodplain', u'False'),\n",
       "                           ('ActivateZeroInfiltrationFloodplain', u'False')])),\n",
       "             (u'prefactorOptions',\n",
       "              OrderedDict([('linear_multiplier_for_refPotET', u'1.0'),\n",
       "                           ('linear_multiplier_for_degreeDayFactor', u'1.0'),\n",
       "                           ('linear_multiplier_for_minSoilDepthFrac', u'1.0'),\n",
       "                           ('log_10_multiplier_for_kSat', u'0.0'),\n",
       "                           ('linear_multiplier_for_storCap', u'1.25'),\n",
       "                           ('log_10_multiplier_for_recessionCoeff', u'1.0')])),\n",
       "             (u'meteoOptions',\n",
       "              OrderedDict([('precipitationNC',\n",
       "                            u'forcing/CRU-TS3.21/merged_1958_to_2010/CRU-TS3.21_ERA-40_ERA-Interim_daily_precipitation_1958_to_2010.nc'),\n",
       "                           ('temperatureNC',\n",
       "                            u'forcing/CRU-TS3.21/merged_1958_to_2010/CRU-TS3.21_ERA-40_ERA-Interim_daily_temperature_1958_to_2010.nc'),\n",
       "                           ('referenceETPotMethod', u'Input'),\n",
       "                           ('refETPotFileNC',\n",
       "                            u'forcing/CRU-TS3.21/merged_1958_to_2010/CRU-TS3.21_ERA-40_ERA-Interim_daily_referencePotET_1958_to_2010.nc')])),\n",
       "             (u'landSurfaceOptions',\n",
       "              OrderedDict([('debugWaterBalance', u'True'),\n",
       "                           ('numberOfUpperSoilLayers', u'2'),\n",
       "                           ('topographyNC',\n",
       "                            u'PCRGLOBWB20/input30min/landSurface/topo/topoProperties.nc'),\n",
       "                           ('soilPropertiesNC',\n",
       "                            u'PCRGLOBWB20/input30min/landSurface/soil/soilProperties.nc'),\n",
       "                           ('includeIrrigation', u'True'),\n",
       "                           ('historicalIrrigationArea',\n",
       "                            u'PCRGLOBWB20/input30min/landSurface/waterDemand/irrigated_areas/irrigationArea30ArcMin.nc'),\n",
       "                           ('includeDomesticWaterDemand', u'True'),\n",
       "                           ('includeIndustryWaterDemand', u'True'),\n",
       "                           ('domesticWaterDemandFile',\n",
       "                            u'PCRGLOBWB20/input30min/landSurface/waterDemand/domesticWaterDemand30ArcMin.nc'),\n",
       "                           ('industryWaterDemandFile',\n",
       "                            u'PCRGLOBWB20/input30min/landSurface/waterDemand/industryWaterDemand30ArcMin.nc'),\n",
       "                           ('limitAbstraction', u'False'),\n",
       "                           ('allocationSegmentsForGroundSurfaceWater',\n",
       "                            u'None')])),\n",
       "             (u'forestOptions',\n",
       "              OrderedDict([('name', u'forest'),\n",
       "                           ('debugWaterBalance', u'True'),\n",
       "                           ('snowModuleType', u'Simple'),\n",
       "                           ('freezingT', u'-0.0'),\n",
       "                           ('degreeDayFactor', u'0.0025'),\n",
       "                           ('snowWaterHoldingCap', u'0.1'),\n",
       "                           ('refreezingCoeff', u'0.05'),\n",
       "                           ('minTopWaterLayer', u'0.0'),\n",
       "                           ('minCropKC', u'0.2'),\n",
       "                           ('minInterceptCap', u'0.0002'),\n",
       "                           ('landCoverMapsNC',\n",
       "                            u'PCRGLOBWB20/input30min/landCover/forest/forestProperties.nc'),\n",
       "                           ('arnoBeta', u'None'),\n",
       "                           ('cropCoefficientNC',\n",
       "                            u'PCRGLOBWB20/input30min/landCover/forest/Global_CropCoefficientKc-Forest_30min.nc'),\n",
       "                           ('interceptCapNC',\n",
       "                            u'PCRGLOBWB20/input30min/landCover/forest/interceptCapInputForest366days.nc'),\n",
       "                           ('coverFractionNC',\n",
       "                            u'PCRGLOBWB20/input30min/landCover/forest/coverFractionInputForest366days.nc'),\n",
       "                           ('interceptStorIni',\n",
       "                            u'Elbe_IC_1999_30min/IC_Elbe_industrial/states/interceptStor_forest_1999-12-31.map'),\n",
       "                           ('snowCoverSWEIni',\n",
       "                            u'Elbe_IC_1999_30min/IC_Elbe_industrial/states/snowCoverSWE_forest_1999-12-31.map'),\n",
       "                           ('snowFreeWaterIni',\n",
       "                            u'Elbe_IC_1999_30min/IC_Elbe_industrial/states/snowFreeWater_forest_1999-12-31.map'),\n",
       "                           ('topWaterLayerIni',\n",
       "                            u'Elbe_IC_1999_30min/IC_Elbe_industrial/states/topWaterLayer_forest_1999-12-31.map'),\n",
       "                           ('storUppIni',\n",
       "                            u'Elbe_IC_1999_30min/IC_Elbe_industrial/states/storUpp_forest_1999-12-31.map'),\n",
       "                           ('storLowIni',\n",
       "                            u'Elbe_IC_1999_30min/IC_Elbe_industrial/states/storLow_forest_1999-12-31.map'),\n",
       "                           ('interflowIni',\n",
       "                            u'Elbe_IC_1999_30min/IC_Elbe_industrial/states/interflow_forest_1999-12-31.map')])),\n",
       "             (u'grasslandOptions',\n",
       "              OrderedDict([('name', u'grassland'),\n",
       "                           ('debugWaterBalance', u'True'),\n",
       "                           ('snowModuleType', u'Simple'),\n",
       "                           ('freezingT', u'-0.0'),\n",
       "                           ('degreeDayFactor', u'0.0025'),\n",
       "                           ('snowWaterHoldingCap', u'0.1'),\n",
       "                           ('refreezingCoeff', u'0.05'),\n",
       "                           ('minTopWaterLayer', u'0.0'),\n",
       "                           ('minCropKC', u'0.2'),\n",
       "                           ('minInterceptCap', u'0.0002'),\n",
       "                           ('landCoverMapsNC',\n",
       "                            u'PCRGLOBWB20/input30min/landCover/grassland/grasslandProperties.nc'),\n",
       "                           ('arnoBeta', u'None'),\n",
       "                           ('cropCoefficientNC',\n",
       "                            u'PCRGLOBWB20/input30min/landCover/grassland/Global_CropCoefficientKc-Grassland_30min.nc'),\n",
       "                           ('interceptCapNC',\n",
       "                            u'PCRGLOBWB20/input30min/landCover/grassland/interceptCapInputGrassland366days.nc'),\n",
       "                           ('coverFractionNC',\n",
       "                            u'PCRGLOBWB20/input30min/landCover/grassland/coverFractionInputGrassland366days.nc'),\n",
       "                           ('interceptStorIni',\n",
       "                            u'Elbe_IC_1999_30min/IC_Elbe_industrial/states/interceptStor_grassland_1999-12-31.map'),\n",
       "                           ('snowCoverSWEIni',\n",
       "                            u'Elbe_IC_1999_30min/IC_Elbe_industrial/states/snowCoverSWE_grassland_1999-12-31.map'),\n",
       "                           ('snowFreeWaterIni',\n",
       "                            u'Elbe_IC_1999_30min/IC_Elbe_industrial/states/snowFreeWater_grassland_1999-12-31.map'),\n",
       "                           ('topWaterLayerIni',\n",
       "                            u'Elbe_IC_1999_30min/IC_Elbe_industrial/states/topWaterLayer_grassland_1999-12-31.map'),\n",
       "                           ('storUppIni',\n",
       "                            u'Elbe_IC_1999_30min/IC_Elbe_industrial/states/storUpp_grassland_1999-12-31.map'),\n",
       "                           ('storLowIni',\n",
       "                            u'Elbe_IC_1999_30min/IC_Elbe_industrial/states/storLow_grassland_1999-12-31.map'),\n",
       "                           ('interflowIni',\n",
       "                            u'Elbe_IC_1999_30min/IC_Elbe_industrial/states/interflow_grassland_1999-12-31.map')])),\n",
       "             (u'irrPaddyOptions',\n",
       "              OrderedDict([('name', u'irrPaddy'),\n",
       "                           ('debugWaterBalance', u'True'),\n",
       "                           ('snowModuleType', u'Simple'),\n",
       "                           ('freezingT', u'-0.0'),\n",
       "                           ('degreeDayFactor', u'0.0025'),\n",
       "                           ('snowWaterHoldingCap', u'0.1'),\n",
       "                           ('refreezingCoeff', u'0.05'),\n",
       "                           ('landCoverMapsNC',\n",
       "                            u'PCRGLOBWB20/input30min/landCover/irrPaddy/paddyProperties.nc'),\n",
       "                           ('arnoBeta', u'None'),\n",
       "                           ('minTopWaterLayer', u'0.05'),\n",
       "                           ('minCropKC', u'0.2'),\n",
       "                           ('minInterceptCap', u'0.0002'),\n",
       "                           ('cropDeplFactor', u'0.2'),\n",
       "                           ('cropCoefficientNC',\n",
       "                            u'PCRGLOBWB20/input30min/landCover/irrPaddy/Global_CropCoefficientKc-IrrPaddy_30min.nc'),\n",
       "                           ('interceptStorIni',\n",
       "                            u'Elbe_IC_1999_30min/IC_Elbe_industrial/states/interceptStor_irrPaddy_1999-12-31.map'),\n",
       "                           ('snowCoverSWEIni',\n",
       "                            u'Elbe_IC_1999_30min/IC_Elbe_industrial/states/snowCoverSWE_irrPaddy_1999-12-31.map'),\n",
       "                           ('snowFreeWaterIni',\n",
       "                            u'Elbe_IC_1999_30min/IC_Elbe_industrial/states/snowFreeWater_irrPaddy_1999-12-31.map'),\n",
       "                           ('topWaterLayerIni',\n",
       "                            u'Elbe_IC_1999_30min/IC_Elbe_industrial/states/topWaterLayer_irrPaddy_1999-12-31.map'),\n",
       "                           ('storUppIni',\n",
       "                            u'Elbe_IC_1999_30min/IC_Elbe_industrial/states/storUpp_irrPaddy_1999-12-31.map'),\n",
       "                           ('storLowIni',\n",
       "                            u'Elbe_IC_1999_30min/IC_Elbe_industrial/states/storLow_irrPaddy_1999-12-31.map'),\n",
       "                           ('interflowIni',\n",
       "                            u'Elbe_IC_1999_30min/IC_Elbe_industrial/states/interflow_irrPaddy_1999-12-31.map')])),\n",
       "             (u'irrNonPaddyOptions',\n",
       "              OrderedDict([('name', u'irrNonPaddy'),\n",
       "                           ('debugWaterBalance', u'True'),\n",
       "                           ('snowModuleType', u'Simple'),\n",
       "                           ('freezingT', u'-0.0'),\n",
       "                           ('degreeDayFactor', u'0.0025'),\n",
       "                           ('snowWaterHoldingCap', u'0.1'),\n",
       "                           ('refreezingCoeff', u'0.05'),\n",
       "                           ('landCoverMapsNC',\n",
       "                            u'PCRGLOBWB20/input30min/landCover/irrNonPaddy/nonPaddyProperties.nc'),\n",
       "                           ('arnoBeta', u'None'),\n",
       "                           ('minTopWaterLayer', u'0.0'),\n",
       "                           ('minCropKC', u'0.2'),\n",
       "                           ('minInterceptCap', u'0.0002'),\n",
       "                           ('cropDeplFactor', u'0.5'),\n",
       "                           ('cropCoefficientNC',\n",
       "                            u'PCRGLOBWB20/input30min/landCover/irrNonPaddy/Global_CropCoefficientKc-IrrNonPaddy_30min.nc'),\n",
       "                           ('interceptStorIni',\n",
       "                            u'Elbe_IC_1999_30min/IC_Elbe_industrial/states/interceptStor_irrNonPaddy_1999-12-31.map'),\n",
       "                           ('snowCoverSWEIni',\n",
       "                            u'Elbe_IC_1999_30min/IC_Elbe_industrial/states/snowCoverSWE_irrNonPaddy_1999-12-31.map'),\n",
       "                           ('snowFreeWaterIni',\n",
       "                            u'Elbe_IC_1999_30min/IC_Elbe_industrial/states/snowFreeWater_irrNonPaddy_1999-12-31.map'),\n",
       "                           ('topWaterLayerIni',\n",
       "                            u'Elbe_IC_1999_30min/IC_Elbe_industrial/states/topWaterLayer_irrNonPaddy_1999-12-31.map'),\n",
       "                           ('storUppIni',\n",
       "                            u'Elbe_IC_1999_30min/IC_Elbe_industrial/states/storUpp_irrNonPaddy_1999-12-31.map'),\n",
       "                           ('storLowIni',\n",
       "                            u'Elbe_IC_1999_30min/IC_Elbe_industrial/states/storLow_irrNonPaddy_1999-12-31.map'),\n",
       "                           ('interflowIni',\n",
       "                            u'Elbe_IC_1999_30min/IC_Elbe_industrial/states/interflow_irrNonPaddy_1999-12-31.map')])),\n",
       "             (u'groundwaterOptions',\n",
       "              OrderedDict([('debugWaterBalance', u'True'),\n",
       "                           ('groundwaterPropertiesNC',\n",
       "                            u'PCRGLOBWB20/input30min/groundwater/groundwaterProperties.nc'),\n",
       "                           ('minRecessionCoeff', u'2.5e-4'),\n",
       "                           ('storGroundwaterIni',\n",
       "                            u'Elbe_IC_1999_30min/IC_Elbe_industrial/states/storGroundwater_1999-12-31.map'),\n",
       "                           ('storGroundwaterFossilIni',\n",
       "                            u'Elbe_IC_1999_30min/IC_Elbe_industrial/states/storGroundwaterFossil_1999-12-31.map'),\n",
       "                           ('avgTotalGroundwaterAbstractionIni',\n",
       "                            u'Elbe_IC_1999_30min/IC_Elbe_industrial/states/avgTotalGroundwaterAbstractionIni_1999-12-31.map')])),\n",
       "             (u'routingOptions',\n",
       "              OrderedDict([('debugWaterBalance', u'True'),\n",
       "                           ('lddMap', u'ldd_elbe_30min.map'),\n",
       "                           ('cellAreaMap',\n",
       "                            u'PCRGLOBWB20/input30min/routing/cellarea30min.map'),\n",
       "                           ('gradient',\n",
       "                            u'PCRGLOBWB20/input30min/routing/Global_ChannelGradient-RVB_30min.map'),\n",
       "                           ('manningsN', u'0.04'),\n",
       "                           ('constantChannelWidth', u'None'),\n",
       "                           ('minimumChannelWidth', u'None'),\n",
       "                           ('routingMethod', u'kinematicWave'),\n",
       "                           ('waterBodyInputNC',\n",
       "                            u'PCRGLOBWB20/input30min/routing/reservoirs/fromRensJune2013/reservoirparameterization/waterBodies30min.nc'),\n",
       "                           ('onlyNaturalWaterBodies', u'False'),\n",
       "                           ('cropCoefficientWaterNC',\n",
       "                            u'PCRGLOBWB20/input30min/routing/cropCoefficientForOpenWater.nc'),\n",
       "                           ('minCropWaterKC', u'0.20'),\n",
       "                           ('timestepsToAvgDischargeIni', u'0.0'),\n",
       "                           ('waterBodyStorageIni',\n",
       "                            u'Elbe_IC_1999_30min/IC_Elbe_industrial/states/waterBodyStorage_1999-12-31.map'),\n",
       "                           ('channelStorageIni',\n",
       "                            u'Elbe_IC_1999_30min/IC_Elbe_industrial/states/channelStorage_1999-12-31.map'),\n",
       "                           ('readAvlChannelStorageIni',\n",
       "                            u'Elbe_IC_1999_30min/IC_Elbe_industrial/states/readAvlChannelStorage_1999-12-31.map'),\n",
       "                           ('avgDischargeLongIni',\n",
       "                            u'Elbe_IC_1999_30min/IC_Elbe_industrial/states/avgDischargeLong_1999-12-31.map'),\n",
       "                           ('m2tDischargeLongIni',\n",
       "                            u'Elbe_IC_1999_30min/IC_Elbe_industrial/states//m2tDischargeLong_1999-12-31.map'),\n",
       "                           ('avgBaseflowLongIni',\n",
       "                            u'Elbe_IC_1999_30min/IC_Elbe_industrial/states/avgBaseflowLong_1999-12-31.map'),\n",
       "                           ('riverbedExchangeIni',\n",
       "                            u'Elbe_IC_1999_30min/IC_Elbe_industrial/states/riverbedExchange_1999-12-31.map'),\n",
       "                           ('avgLakeReservoirInflowShortIni',\n",
       "                            u'Elbe_IC_1999_30min/IC_Elbe_industrial/states/avgLakeReservoirInflowShort_1999-12-31.map'),\n",
       "                           ('avgLakeReservoirOutflowLongIni',\n",
       "                            u'Elbe_IC_1999_30min/IC_Elbe_industrial/states/avgLakeReservoirOutflowLong_1999-12-31.map'),\n",
       "                           ('avgDischargeShortIni',\n",
       "                            u'Elbe_IC_1999_30min/IC_Elbe_industrial/states//subDischarge_1999-12-31.map')])),\n",
       "             (u'reportingOptions',\n",
       "              OrderedDict([('outDailyTotNC', u'discharge,runoff'),\n",
       "                           ('outMonthTotNC', u'None'),\n",
       "                           ('outMonthAvgNC', u'None'),\n",
       "                           ('outMonthEndNC', u'None'),\n",
       "                           ('outAnnuaTotNC', u'None'),\n",
       "                           ('outAnnuaAvgNC', u'None'),\n",
       "                           ('outAnnuaEndNC', u'None')]))])"
      ]
     },
     "execution_count": 6,
     "metadata": {},
     "output_type": "execute_result"
    }
   ],
   "source": [
    "PCR_bmi.model_config"
   ]
  },
  {
   "cell_type": "markdown",
   "metadata": {},
   "source": [
    "## create CMF model BMi object"
   ]
  },
  {
   "cell_type": "code",
   "execution_count": 7,
   "metadata": {},
   "outputs": [
    {
     "name": "stderr",
     "output_type": "stream",
     "text": [
      "2018-03-06 15:23:57,869 - INFO - Loading library from path /home/jannis/PhD/code/GLOFRIMplusCAMA/glofrim/cama-flood_bmi/src/libcama.so\n"
     ]
    }
   ],
   "source": [
    "CMF_engine = os.path.join(cwd, options['CMF_engine']['CMF_path'])\n",
    "CMF_model_dir = os.path.join(cwd, options['routing_model']['model_dir'])\n",
    "CMF_config_fn = os.path.join(CMF_model_dir, options['routing_model']['model_file'])\n",
    "CMF_out_dir = os.path.join(out_dir, 'CMF')\n",
    "     \n",
    "CMF_bmi = CMF_model(CMF_engine, CMF_config_fn, CMF_model_dir, CMF_out_dir,\n",
    "                         start_date, end_date)"
   ]
  },
  {
   "cell_type": "markdown",
   "metadata": {},
   "source": [
    "## couple grids based on CMF inpmat file"
   ]
  },
  {
   "cell_type": "code",
   "execution_count": 8,
   "metadata": {},
   "outputs": [
    {
     "name": "stderr",
     "output_type": "stream",
     "text": [
      "2018-03-06 15:23:58,010 - INFO - Getting PCR model grid parameters.\n",
      "2018-03-06 15:23:58,013 - INFO - Getting CMF model grid parameters.\n",
      "2018-03-06 15:23:58,015 - INFO - Coupling PCR grid to CMF grid.\n",
      "2018-03-06 15:23:58,016 - INFO - ./generate_inpmat 0.5 7.0 17.0 55.0 48.0 NtoS\n",
      "2018-03-06 15:23:58,098 - INFO - Editing PCR ldd grid to deactivate routing in coupled cells.\n"
     ]
    }
   ],
   "source": [
    "# couple\n",
    "PCR_bmi.couple_grid_to_grid(CMF_bmi)"
   ]
  },
  {
   "cell_type": "markdown",
   "metadata": {},
   "source": [
    "## initialize models"
   ]
  },
  {
   "cell_type": "code",
   "execution_count": 9,
   "metadata": {},
   "outputs": [
    {
     "name": "stderr",
     "output_type": "stream",
     "text": [
      "2018-03-06 15:23:58,106 - INFO - removing tmp file diminfo_tmp.txt from model data dir\n",
      "2018-03-06 15:23:58,111 - INFO - removing tmp file inpmat-tmp.txt from model data dir\n",
      "2018-03-06 15:23:58,112 - INFO - removing tmp file inpmat-tmp.bin from model data dir\n",
      "2018-03-06 15:23:58,115 - INFO - Ini file for CMF written to /home/jannis/PhD/code/GLOFRIMplusCAMA/output30min/PCR2CMF/CMF/input_flood.nam\n",
      "2018-03-06 15:23:58,116 - INFO - Loading model /home/jannis/PhD/code/GLOFRIMplusCAMA/output30min/PCR2CMF/CMF/input_flood.nam in directory /home/jannis/PhD/code/GLOFRIMplusCAMA/output30min/PCR2CMF/CMF\n",
      "2018-03-06 15:23:58,123 - INFO - CMF initialized\n",
      "2018-03-06 15:23:58,128 - INFO - Ini file for PCR written to /home/jannis/PhD/code/GLOFRIMplusCAMA/output30min/PCR2CMF/PCR/setup_PCR_30min_Elbe.ini\n",
      "2018-03-06 15:23:58,136 - INFO - Model run started at 2018-03-06 15:23:58.129402\n",
      "2018-03-06 15:23:58,136 pcrglobwb_bmi_v203.configuration INFO Model run started at 2018-03-06 15:23:58.129402\n",
      "2018-03-06 15:23:58,138 - INFO - Logging output to /home/jannis/PhD/code/GLOFRIMplusCAMA/output30min/PCR2CMF/PCR/log/setup_PCR_30min_Elbe.ini_2018-03-06T15:23:58.129402.log\n",
      "2018-03-06 15:23:58,138 pcrglobwb_bmi_v203.configuration INFO Logging output to /home/jannis/PhD/code/GLOFRIMplusCAMA/output30min/PCR2CMF/PCR/log/setup_PCR_30min_Elbe.ini_2018-03-06T15:23:58.129402.log\n",
      "2018-03-06 15:23:58,139 - INFO - Note that avgSurfaceWaterInputLongIni is not used and not needed.\n",
      "2018-03-06 15:23:58,139 pcrglobwb_bmi_v203.configuration INFO Note that avgSurfaceWaterInputLongIni is not used and not needed.\n",
      "2018-03-06 15:23:58,140 - INFO - The initial condition \"subDischargeIni\" is not defined. Either \"avgDischargeShortIni\" or \"avgDischargeLongIni\" is used in this run. Note that the \"subDischargeIni\" is only relevant if kinematic wave approaches are used.\n",
      "2018-03-06 15:23:58,140 pcrglobwb_bmi_v203.configuration INFO The initial condition \"subDischargeIni\" is not defined. Either \"avgDischargeShortIni\" or \"avgDischargeLongIni\" is used in this run. Note that the \"subDischargeIni\" is only relevant if kinematic wave approaches are used.\n",
      "2018-03-06 15:23:58,141 - INFO - number of time steps :366\n",
      "2018-03-06 15:23:58,141 pcrglobwb_bmi_v203.currTimeStep INFO number of time steps :366\n",
      "2018-03-06 15:23:58,606 - INFO - No forcing downscaling is implemented.\n",
      "2018-03-06 15:23:58,606 pcrglobwb_bmi_v203.meteo INFO No forcing downscaling is implemented.\n",
      "2018-03-06 15:24:10,610 - INFO - Adjusting some model parameters based on given values in the ini/configuration file.\n",
      "2018-03-06 15:24:10,610 pcrglobwb_bmi_v203.deterministic_runner INFO Adjusting some model parameters based on given values in the ini/configuration file.\n",
      "2018-03-06 15:24:10,612 - INFO - \n",
      "\n",
      "Multiplier values used: \n",
      "For minSoilDepthFrac           : 1.0\n",
      "For kSat (log-scale)           : 0.0\n",
      "For recessionCoeff (log-scale) : 1.0\n",
      "For storCap                    : 1.25\n",
      "For degreeDayFactor            : 1.0\n",
      "For refPotET                   : 1.0\n",
      "\n",
      "2018-03-06 15:24:10,612 pcrglobwb_bmi_v203.deterministic_runner INFO \n",
      "\n",
      "Multiplier values used: \n",
      "For minSoilDepthFrac           : 1.0\n",
      "For kSat (log-scale)           : 0.0\n",
      "For recessionCoeff (log-scale) : 1.0\n",
      "For storCap                    : 1.25\n",
      "For degreeDayFactor            : 1.0\n",
      "For refPotET                   : 1.0\n",
      "\n",
      "2018-03-06 15:24:10,615 - INFO - Model initialized. Spin-up might be required.\n",
      "2018-03-06 15:24:10,615 pcrglobwb_bmi_v203.pcrglobwb_bmi INFO Model initialized. Spin-up might be required.\n",
      "2018-03-06 15:24:10,616 - INFO - PCR initialized\n",
      "2018-03-06 15:24:10,616 coupling_PCR_FM.model_functions_v2 INFO PCR initialized\n"
     ]
    }
   ],
   "source": [
    "# initialize model at CMF_out_dir after inpmat has been set in the grid_to_grid coupling function.\n",
    "CMF_bmi.initialize()\n",
    "# initialize model \n",
    "PCR_bmi.initialize()"
   ]
  },
  {
   "cell_type": "markdown",
   "metadata": {},
   "source": [
    "## run coupled PCR - CMF model"
   ]
  },
  {
   "cell_type": "code",
   "execution_count": 10,
   "metadata": {
    "scrolled": true
   },
   "outputs": [
    {
     "name": "stderr",
     "output_type": "stream",
     "text": [
      "2018-03-06 15:24:10,626 - INFO - reading forcings for time 2000-01-01\n",
      "2018-03-06 15:24:10,626 pcrglobwb_bmi_v203.pcrglobwb INFO reading forcings for time 2000-01-01\n",
      "2018-03-06 15:24:10,844 - INFO - updating model to time 2000-01-01\n",
      "2018-03-06 15:24:10,844 pcrglobwb_bmi_v203.pcrglobwb INFO updating model to time 2000-01-01\n",
      "2018-03-06 15:24:12,828 - INFO - PCR -> start_time: 2000-01-01, current_time 2000-01-01, timestep 1\n",
      "2018-03-06 15:24:12,828 coupling_PCR_FM.model_functions_v2 INFO PCR -> start_time: 2000-01-01, current_time 2000-01-01, timestep 1\n",
      "2018-03-06 15:24:13,061 - INFO - CMF -> start_time: 2000-01-01 00:00:00, current_time 2000-01-02 00:00:00, timestep 86400.0\n",
      "2018-03-06 15:24:13,061 coupling_PCR_FM.model_functions_v2 INFO CMF -> start_time: 2000-01-01 00:00:00, current_time 2000-01-02 00:00:00, timestep 86400.0\n",
      "2018-03-06 15:24:13,063 - INFO - reading forcings for time 2000-01-02\n",
      "2018-03-06 15:24:13,063 pcrglobwb_bmi_v203.pcrglobwb INFO reading forcings for time 2000-01-02\n",
      "2018-03-06 15:24:13,530 - INFO - updating model to time 2000-01-02\n",
      "2018-03-06 15:24:13,530 pcrglobwb_bmi_v203.pcrglobwb INFO updating model to time 2000-01-02\n",
      "2018-03-06 15:24:14,631 - INFO - PCR -> start_time: 2000-01-01, current_time 2000-01-02, timestep 2\n",
      "2018-03-06 15:24:14,631 coupling_PCR_FM.model_functions_v2 INFO PCR -> start_time: 2000-01-01, current_time 2000-01-02, timestep 2\n",
      "2018-03-06 15:24:14,726 - INFO - CMF -> start_time: 2000-01-01 00:00:00, current_time 2000-01-03 00:00:00, timestep 86400.0\n",
      "2018-03-06 15:24:14,726 coupling_PCR_FM.model_functions_v2 INFO CMF -> start_time: 2000-01-01 00:00:00, current_time 2000-01-03 00:00:00, timestep 86400.0\n",
      "2018-03-06 15:24:14,728 - INFO - reading forcings for time 2000-01-03\n",
      "2018-03-06 15:24:14,728 pcrglobwb_bmi_v203.pcrglobwb INFO reading forcings for time 2000-01-03\n",
      "2018-03-06 15:24:15,247 - INFO - updating model to time 2000-01-03\n",
      "2018-03-06 15:24:15,247 pcrglobwb_bmi_v203.pcrglobwb INFO updating model to time 2000-01-03\n",
      "2018-03-06 15:24:16,287 - INFO - PCR -> start_time: 2000-01-01, current_time 2000-01-03, timestep 3\n",
      "2018-03-06 15:24:16,287 coupling_PCR_FM.model_functions_v2 INFO PCR -> start_time: 2000-01-01, current_time 2000-01-03, timestep 3\n",
      "2018-03-06 15:24:16,490 - INFO - CMF -> start_time: 2000-01-01 00:00:00, current_time 2000-01-04 00:00:00, timestep 86400.0\n",
      "2018-03-06 15:24:16,490 coupling_PCR_FM.model_functions_v2 INFO CMF -> start_time: 2000-01-01 00:00:00, current_time 2000-01-04 00:00:00, timestep 86400.0\n",
      "2018-03-06 15:24:16,492 - INFO - reading forcings for time 2000-01-04\n",
      "2018-03-06 15:24:16,492 pcrglobwb_bmi_v203.pcrglobwb INFO reading forcings for time 2000-01-04\n",
      "2018-03-06 15:24:17,008 - INFO - updating model to time 2000-01-04\n",
      "2018-03-06 15:24:17,008 pcrglobwb_bmi_v203.pcrglobwb INFO updating model to time 2000-01-04\n",
      "2018-03-06 15:24:18,108 - INFO - PCR -> start_time: 2000-01-01, current_time 2000-01-04, timestep 4\n",
      "2018-03-06 15:24:18,108 coupling_PCR_FM.model_functions_v2 INFO PCR -> start_time: 2000-01-01, current_time 2000-01-04, timestep 4\n",
      "2018-03-06 15:24:18,158 - INFO - CMF -> start_time: 2000-01-01 00:00:00, current_time 2000-01-05 00:00:00, timestep 86400.0\n",
      "2018-03-06 15:24:18,158 coupling_PCR_FM.model_functions_v2 INFO CMF -> start_time: 2000-01-01 00:00:00, current_time 2000-01-05 00:00:00, timestep 86400.0\n",
      "2018-03-06 15:24:18,164 - INFO - reading forcings for time 2000-01-05\n",
      "2018-03-06 15:24:18,164 pcrglobwb_bmi_v203.pcrglobwb INFO reading forcings for time 2000-01-05\n",
      "2018-03-06 15:24:18,550 - INFO - updating model to time 2000-01-05\n",
      "2018-03-06 15:24:18,550 pcrglobwb_bmi_v203.pcrglobwb INFO updating model to time 2000-01-05\n",
      "2018-03-06 15:24:19,626 - INFO - PCR -> start_time: 2000-01-01, current_time 2000-01-05, timestep 5\n",
      "2018-03-06 15:24:19,626 coupling_PCR_FM.model_functions_v2 INFO PCR -> start_time: 2000-01-01, current_time 2000-01-05, timestep 5\n",
      "2018-03-06 15:24:19,705 - INFO - CMF -> start_time: 2000-01-01 00:00:00, current_time 2000-01-06 00:00:00, timestep 86400.0\n",
      "2018-03-06 15:24:19,705 coupling_PCR_FM.model_functions_v2 INFO CMF -> start_time: 2000-01-01 00:00:00, current_time 2000-01-06 00:00:00, timestep 86400.0\n",
      "2018-03-06 15:24:19,710 - INFO - reading forcings for time 2000-01-06\n",
      "2018-03-06 15:24:19,710 pcrglobwb_bmi_v203.pcrglobwb INFO reading forcings for time 2000-01-06\n",
      "2018-03-06 15:24:20,142 - INFO - updating model to time 2000-01-06\n",
      "2018-03-06 15:24:20,142 pcrglobwb_bmi_v203.pcrglobwb INFO updating model to time 2000-01-06\n",
      "2018-03-06 15:24:21,207 - INFO - PCR -> start_time: 2000-01-01, current_time 2000-01-06, timestep 6\n",
      "2018-03-06 15:24:21,207 coupling_PCR_FM.model_functions_v2 INFO PCR -> start_time: 2000-01-01, current_time 2000-01-06, timestep 6\n",
      "2018-03-06 15:24:21,261 - INFO - CMF -> start_time: 2000-01-01 00:00:00, current_time 2000-01-07 00:00:00, timestep 86400.0\n",
      "2018-03-06 15:24:21,261 coupling_PCR_FM.model_functions_v2 INFO CMF -> start_time: 2000-01-01 00:00:00, current_time 2000-01-07 00:00:00, timestep 86400.0\n",
      "2018-03-06 15:24:21,268 - INFO - reading forcings for time 2000-01-07\n",
      "2018-03-06 15:24:21,268 pcrglobwb_bmi_v203.pcrglobwb INFO reading forcings for time 2000-01-07\n",
      "2018-03-06 15:24:21,772 - INFO - updating model to time 2000-01-07\n",
      "2018-03-06 15:24:21,772 pcrglobwb_bmi_v203.pcrglobwb INFO updating model to time 2000-01-07\n",
      "2018-03-06 15:24:22,821 - INFO - PCR -> start_time: 2000-01-01, current_time 2000-01-07, timestep 7\n",
      "2018-03-06 15:24:22,821 coupling_PCR_FM.model_functions_v2 INFO PCR -> start_time: 2000-01-01, current_time 2000-01-07, timestep 7\n",
      "2018-03-06 15:24:22,901 - INFO - CMF -> start_time: 2000-01-01 00:00:00, current_time 2000-01-08 00:00:00, timestep 86400.0\n",
      "2018-03-06 15:24:22,901 coupling_PCR_FM.model_functions_v2 INFO CMF -> start_time: 2000-01-01 00:00:00, current_time 2000-01-08 00:00:00, timestep 86400.0\n",
      "2018-03-06 15:24:22,909 - INFO - reading forcings for time 2000-01-08\n",
      "2018-03-06 15:24:22,909 pcrglobwb_bmi_v203.pcrglobwb INFO reading forcings for time 2000-01-08\n",
      "2018-03-06 15:24:23,348 - INFO - updating model to time 2000-01-08\n",
      "2018-03-06 15:24:23,348 pcrglobwb_bmi_v203.pcrglobwb INFO updating model to time 2000-01-08\n",
      "2018-03-06 15:24:24,470 - INFO - PCR -> start_time: 2000-01-01, current_time 2000-01-08, timestep 8\n",
      "2018-03-06 15:24:24,470 coupling_PCR_FM.model_functions_v2 INFO PCR -> start_time: 2000-01-01, current_time 2000-01-08, timestep 8\n",
      "2018-03-06 15:24:24,574 - INFO - CMF -> start_time: 2000-01-01 00:00:00, current_time 2000-01-09 00:00:00, timestep 86400.0\n",
      "2018-03-06 15:24:24,574 coupling_PCR_FM.model_functions_v2 INFO CMF -> start_time: 2000-01-01 00:00:00, current_time 2000-01-09 00:00:00, timestep 86400.0\n",
      "2018-03-06 15:24:24,581 - INFO - reading forcings for time 2000-01-09\n",
      "2018-03-06 15:24:24,581 pcrglobwb_bmi_v203.pcrglobwb INFO reading forcings for time 2000-01-09\n",
      "2018-03-06 15:24:25,050 - INFO - updating model to time 2000-01-09\n",
      "2018-03-06 15:24:25,050 pcrglobwb_bmi_v203.pcrglobwb INFO updating model to time 2000-01-09\n",
      "2018-03-06 15:24:26,093 - INFO - PCR -> start_time: 2000-01-01, current_time 2000-01-09, timestep 9\n",
      "2018-03-06 15:24:26,093 coupling_PCR_FM.model_functions_v2 INFO PCR -> start_time: 2000-01-01, current_time 2000-01-09, timestep 9\n",
      "2018-03-06 15:24:26,397 - INFO - CMF -> start_time: 2000-01-01 00:00:00, current_time 2000-01-10 00:00:00, timestep 86400.0\n",
      "2018-03-06 15:24:26,397 coupling_PCR_FM.model_functions_v2 INFO CMF -> start_time: 2000-01-01 00:00:00, current_time 2000-01-10 00:00:00, timestep 86400.0\n",
      "2018-03-06 15:24:26,401 - INFO - reading forcings for time 2000-01-10\n",
      "2018-03-06 15:24:26,401 pcrglobwb_bmi_v203.pcrglobwb INFO reading forcings for time 2000-01-10\n",
      "2018-03-06 15:24:26,851 - INFO - updating model to time 2000-01-10\n",
      "2018-03-06 15:24:26,851 pcrglobwb_bmi_v203.pcrglobwb INFO updating model to time 2000-01-10\n",
      "2018-03-06 15:24:27,928 - INFO - PCR -> start_time: 2000-01-01, current_time 2000-01-10, timestep 10\n",
      "2018-03-06 15:24:27,928 coupling_PCR_FM.model_functions_v2 INFO PCR -> start_time: 2000-01-01, current_time 2000-01-10, timestep 10\n",
      "2018-03-06 15:24:27,987 - INFO - CMF -> start_time: 2000-01-01 00:00:00, current_time 2000-01-11 00:00:00, timestep 86400.0\n",
      "2018-03-06 15:24:27,987 coupling_PCR_FM.model_functions_v2 INFO CMF -> start_time: 2000-01-01 00:00:00, current_time 2000-01-11 00:00:00, timestep 86400.0\n"
     ]
    },
    {
     "name": "stderr",
     "output_type": "stream",
     "text": [
      "2018-03-06 15:24:27,993 - INFO - reading forcings for time 2000-01-11\n",
      "2018-03-06 15:24:27,993 pcrglobwb_bmi_v203.pcrglobwb INFO reading forcings for time 2000-01-11\n",
      "2018-03-06 15:24:28,448 - INFO - updating model to time 2000-01-11\n",
      "2018-03-06 15:24:28,448 pcrglobwb_bmi_v203.pcrglobwb INFO updating model to time 2000-01-11\n",
      "2018-03-06 15:24:29,519 - INFO - PCR -> start_time: 2000-01-01, current_time 2000-01-11, timestep 11\n",
      "2018-03-06 15:24:29,519 coupling_PCR_FM.model_functions_v2 INFO PCR -> start_time: 2000-01-01, current_time 2000-01-11, timestep 11\n",
      "2018-03-06 15:24:29,621 - INFO - CMF -> start_time: 2000-01-01 00:00:00, current_time 2000-01-12 00:00:00, timestep 86400.0\n",
      "2018-03-06 15:24:29,621 coupling_PCR_FM.model_functions_v2 INFO CMF -> start_time: 2000-01-01 00:00:00, current_time 2000-01-12 00:00:00, timestep 86400.0\n",
      "2018-03-06 15:24:29,626 - INFO - reading forcings for time 2000-01-12\n",
      "2018-03-06 15:24:29,626 pcrglobwb_bmi_v203.pcrglobwb INFO reading forcings for time 2000-01-12\n",
      "2018-03-06 15:24:29,991 - INFO - updating model to time 2000-01-12\n",
      "2018-03-06 15:24:29,991 pcrglobwb_bmi_v203.pcrglobwb INFO updating model to time 2000-01-12\n",
      "2018-03-06 15:24:31,085 - INFO - PCR -> start_time: 2000-01-01, current_time 2000-01-12, timestep 12\n",
      "2018-03-06 15:24:31,085 coupling_PCR_FM.model_functions_v2 INFO PCR -> start_time: 2000-01-01, current_time 2000-01-12, timestep 12\n",
      "2018-03-06 15:24:31,154 - INFO - CMF -> start_time: 2000-01-01 00:00:00, current_time 2000-01-13 00:00:00, timestep 86400.0\n",
      "2018-03-06 15:24:31,154 coupling_PCR_FM.model_functions_v2 INFO CMF -> start_time: 2000-01-01 00:00:00, current_time 2000-01-13 00:00:00, timestep 86400.0\n",
      "2018-03-06 15:24:31,160 - INFO - reading forcings for time 2000-01-13\n",
      "2018-03-06 15:24:31,160 pcrglobwb_bmi_v203.pcrglobwb INFO reading forcings for time 2000-01-13\n",
      "2018-03-06 15:24:31,555 - INFO - updating model to time 2000-01-13\n",
      "2018-03-06 15:24:31,555 pcrglobwb_bmi_v203.pcrglobwb INFO updating model to time 2000-01-13\n",
      "2018-03-06 15:24:32,670 - INFO - PCR -> start_time: 2000-01-01, current_time 2000-01-13, timestep 13\n",
      "2018-03-06 15:24:32,670 coupling_PCR_FM.model_functions_v2 INFO PCR -> start_time: 2000-01-01, current_time 2000-01-13, timestep 13\n",
      "2018-03-06 15:24:32,947 - INFO - CMF -> start_time: 2000-01-01 00:00:00, current_time 2000-01-14 00:00:00, timestep 86400.0\n",
      "2018-03-06 15:24:32,947 coupling_PCR_FM.model_functions_v2 INFO CMF -> start_time: 2000-01-01 00:00:00, current_time 2000-01-14 00:00:00, timestep 86400.0\n",
      "2018-03-06 15:24:32,950 - INFO - reading forcings for time 2000-01-14\n",
      "2018-03-06 15:24:32,950 pcrglobwb_bmi_v203.pcrglobwb INFO reading forcings for time 2000-01-14\n",
      "2018-03-06 15:24:33,384 - INFO - updating model to time 2000-01-14\n",
      "2018-03-06 15:24:33,384 pcrglobwb_bmi_v203.pcrglobwb INFO updating model to time 2000-01-14\n",
      "2018-03-06 15:24:34,453 - INFO - PCR -> start_time: 2000-01-01, current_time 2000-01-14, timestep 14\n",
      "2018-03-06 15:24:34,453 coupling_PCR_FM.model_functions_v2 INFO PCR -> start_time: 2000-01-01, current_time 2000-01-14, timestep 14\n",
      "2018-03-06 15:24:34,518 - INFO - CMF -> start_time: 2000-01-01 00:00:00, current_time 2000-01-15 00:00:00, timestep 86400.0\n",
      "2018-03-06 15:24:34,518 coupling_PCR_FM.model_functions_v2 INFO CMF -> start_time: 2000-01-01 00:00:00, current_time 2000-01-15 00:00:00, timestep 86400.0\n",
      "2018-03-06 15:24:34,525 - INFO - reading forcings for time 2000-01-15\n",
      "2018-03-06 15:24:34,525 pcrglobwb_bmi_v203.pcrglobwb INFO reading forcings for time 2000-01-15\n",
      "2018-03-06 15:24:34,960 - INFO - updating model to time 2000-01-15\n",
      "2018-03-06 15:24:34,960 pcrglobwb_bmi_v203.pcrglobwb INFO updating model to time 2000-01-15\n",
      "2018-03-06 15:24:36,053 - INFO - PCR -> start_time: 2000-01-01, current_time 2000-01-15, timestep 15\n",
      "2018-03-06 15:24:36,053 coupling_PCR_FM.model_functions_v2 INFO PCR -> start_time: 2000-01-01, current_time 2000-01-15, timestep 15\n",
      "2018-03-06 15:24:36,146 - INFO - CMF -> start_time: 2000-01-01 00:00:00, current_time 2000-01-16 00:00:00, timestep 86400.0\n",
      "2018-03-06 15:24:36,146 coupling_PCR_FM.model_functions_v2 INFO CMF -> start_time: 2000-01-01 00:00:00, current_time 2000-01-16 00:00:00, timestep 86400.0\n",
      "2018-03-06 15:24:36,153 - INFO - reading forcings for time 2000-01-16\n",
      "2018-03-06 15:24:36,153 pcrglobwb_bmi_v203.pcrglobwb INFO reading forcings for time 2000-01-16\n",
      "2018-03-06 15:24:36,606 - INFO - updating model to time 2000-01-16\n",
      "2018-03-06 15:24:36,606 pcrglobwb_bmi_v203.pcrglobwb INFO updating model to time 2000-01-16\n",
      "2018-03-06 15:24:37,755 - INFO - PCR -> start_time: 2000-01-01, current_time 2000-01-16, timestep 16\n",
      "2018-03-06 15:24:37,755 coupling_PCR_FM.model_functions_v2 INFO PCR -> start_time: 2000-01-01, current_time 2000-01-16, timestep 16\n",
      "2018-03-06 15:24:37,841 - INFO - CMF -> start_time: 2000-01-01 00:00:00, current_time 2000-01-17 00:00:00, timestep 86400.0\n",
      "2018-03-06 15:24:37,841 coupling_PCR_FM.model_functions_v2 INFO CMF -> start_time: 2000-01-01 00:00:00, current_time 2000-01-17 00:00:00, timestep 86400.0\n",
      "2018-03-06 15:24:37,849 - INFO - reading forcings for time 2000-01-17\n",
      "2018-03-06 15:24:37,849 pcrglobwb_bmi_v203.pcrglobwb INFO reading forcings for time 2000-01-17\n",
      "2018-03-06 15:24:38,289 - INFO - updating model to time 2000-01-17\n",
      "2018-03-06 15:24:38,289 pcrglobwb_bmi_v203.pcrglobwb INFO updating model to time 2000-01-17\n",
      "2018-03-06 15:24:39,382 - INFO - PCR -> start_time: 2000-01-01, current_time 2000-01-17, timestep 17\n",
      "2018-03-06 15:24:39,382 coupling_PCR_FM.model_functions_v2 INFO PCR -> start_time: 2000-01-01, current_time 2000-01-17, timestep 17\n",
      "2018-03-06 15:24:39,540 - INFO - CMF -> start_time: 2000-01-01 00:00:00, current_time 2000-01-18 00:00:00, timestep 86400.0\n",
      "2018-03-06 15:24:39,540 coupling_PCR_FM.model_functions_v2 INFO CMF -> start_time: 2000-01-01 00:00:00, current_time 2000-01-18 00:00:00, timestep 86400.0\n",
      "2018-03-06 15:24:39,544 - INFO - reading forcings for time 2000-01-18\n",
      "2018-03-06 15:24:39,544 pcrglobwb_bmi_v203.pcrglobwb INFO reading forcings for time 2000-01-18\n",
      "2018-03-06 15:24:40,054 - INFO - updating model to time 2000-01-18\n",
      "2018-03-06 15:24:40,054 pcrglobwb_bmi_v203.pcrglobwb INFO updating model to time 2000-01-18\n",
      "2018-03-06 15:24:41,078 - INFO - PCR -> start_time: 2000-01-01, current_time 2000-01-18, timestep 18\n",
      "2018-03-06 15:24:41,078 coupling_PCR_FM.model_functions_v2 INFO PCR -> start_time: 2000-01-01, current_time 2000-01-18, timestep 18\n",
      "2018-03-06 15:24:41,176 - INFO - CMF -> start_time: 2000-01-01 00:00:00, current_time 2000-01-19 00:00:00, timestep 86400.0\n",
      "2018-03-06 15:24:41,176 coupling_PCR_FM.model_functions_v2 INFO CMF -> start_time: 2000-01-01 00:00:00, current_time 2000-01-19 00:00:00, timestep 86400.0\n",
      "2018-03-06 15:24:41,182 - INFO - reading forcings for time 2000-01-19\n",
      "2018-03-06 15:24:41,182 pcrglobwb_bmi_v203.pcrglobwb INFO reading forcings for time 2000-01-19\n",
      "2018-03-06 15:24:41,590 - INFO - updating model to time 2000-01-19\n",
      "2018-03-06 15:24:41,590 pcrglobwb_bmi_v203.pcrglobwb INFO updating model to time 2000-01-19\n",
      "2018-03-06 15:24:42,666 - INFO - PCR -> start_time: 2000-01-01, current_time 2000-01-19, timestep 19\n",
      "2018-03-06 15:24:42,666 coupling_PCR_FM.model_functions_v2 INFO PCR -> start_time: 2000-01-01, current_time 2000-01-19, timestep 19\n",
      "2018-03-06 15:24:42,808 - INFO - CMF -> start_time: 2000-01-01 00:00:00, current_time 2000-01-20 00:00:00, timestep 86400.0\n",
      "2018-03-06 15:24:42,808 coupling_PCR_FM.model_functions_v2 INFO CMF -> start_time: 2000-01-01 00:00:00, current_time 2000-01-20 00:00:00, timestep 86400.0\n",
      "2018-03-06 15:24:42,815 - INFO - reading forcings for time 2000-01-20\n",
      "2018-03-06 15:24:42,815 pcrglobwb_bmi_v203.pcrglobwb INFO reading forcings for time 2000-01-20\n",
      "2018-03-06 15:24:43,277 - INFO - updating model to time 2000-01-20\n",
      "2018-03-06 15:24:43,277 pcrglobwb_bmi_v203.pcrglobwb INFO updating model to time 2000-01-20\n",
      "2018-03-06 15:24:44,373 - INFO - PCR -> start_time: 2000-01-01, current_time 2000-01-20, timestep 20\n",
      "2018-03-06 15:24:44,373 coupling_PCR_FM.model_functions_v2 INFO PCR -> start_time: 2000-01-01, current_time 2000-01-20, timestep 20\n",
      "2018-03-06 15:24:44,484 - INFO - CMF -> start_time: 2000-01-01 00:00:00, current_time 2000-01-21 00:00:00, timestep 86400.0\n"
     ]
    },
    {
     "name": "stderr",
     "output_type": "stream",
     "text": [
      "2018-03-06 15:24:44,484 coupling_PCR_FM.model_functions_v2 INFO CMF -> start_time: 2000-01-01 00:00:00, current_time 2000-01-21 00:00:00, timestep 86400.0\n"
     ]
    }
   ],
   "source": [
    "# run coupled model for 20 timesteps\n",
    "def update_states():\n",
    "    \"coupling runoff between CMFan PCR model\"\n",
    "    runoff = PCR_bmi.get_var('landSurfaceRunoff')\n",
    "    runoff = np.where(np.isnan(runoff), 0, runoff)\n",
    "    CMF_bmi.set_var(\"roffin\", runoff)\n",
    "        \n",
    "tStart = datetime.now()\n",
    "# for i in range(timeSteps):\n",
    "for i in range(20):\n",
    "    PCR_bmi.update()\n",
    "    update_states()\n",
    "    CMF_bmi.update()   \n",
    "tEnd = datetime.now()"
   ]
  },
  {
   "cell_type": "code",
   "execution_count": 11,
   "metadata": {},
   "outputs": [
    {
     "name": "stdout",
     "output_type": "stream",
     "text": [
      "start time coupling:  2018-03-06 15:24:10.626315\n",
      "end time coupling:  2018-03-06 15:24:44.495728\n",
      "average time per update PCR->CMF->DFM:  0:00:00.092792\n"
     ]
    }
   ],
   "source": [
    "print 'start time coupling: ', tStart\n",
    "print 'end time coupling: ', tEnd\n",
    "print 'average time per update PCR->CMF->DFM: ', abs((tEnd - tStart)) / timeSteps"
   ]
  },
  {
   "cell_type": "code",
   "execution_count": 12,
   "metadata": {
    "scrolled": true
   },
   "outputs": [
    {
     "data": {
      "text/plain": [
       "<matplotlib.colorbar.Colorbar at 0x7f1e651074d0>"
      ]
     },
     "execution_count": 12,
     "metadata": {},
     "output_type": "execute_result"
    },
    {
     "data": {
      "image/png": "[encoded data removed]",
      "text/plain": [
       "<matplotlib.figure.Figure at 0x7f1e656f8a10>"
      ]
     },
     "metadata": {},
     "output_type": "display_data"
    }
   ],
   "source": [
    "%matplotlib inline\n",
    "import matplotlib.pyplot as plt\n",
    "\n",
    "# PCR_bmi.update()\n",
    "# routingModel.update_states()\n",
    "# routingModel.update() \n",
    "\n",
    "runoff = PCR_bmi.get_var('landSurfaceRunoff')\n",
    "outflw = CMF_bmi.get_var('outflw')\n",
    "outflw = np.ma.masked_greater(outflw, 1.e19)\n",
    "rivsto = CMF_bmi.get_var('rivsto_out')\n",
    "rivsto = np.ma.masked_greater(rivsto, 1.e19)\n",
    "\n",
    "fig = plt.figure(figsize=(15, 5))\n",
    "a=fig.add_subplot(1,3,1)\n",
    "imgplot = plt.imshow(runoff)\n",
    "a.set_title('PCR runoff')\n",
    "plt.colorbar(orientation ='horizontal')\n",
    "a=fig.add_subplot(1,3,2)\n",
    "imgplot = plt.imshow(outflw)\n",
    "a.set_title('CMF outflw')\n",
    "plt.colorbar(orientation='horizontal')\n",
    "a=fig.add_subplot(1,3,3)\n",
    "imgplot = plt.imshow(rivsto)\n",
    "a.set_title('CMF rivsto')\n",
    "plt.colorbar(orientation='horizontal')"
   ]
  },
  {
   "cell_type": "code",
   "execution_count": 13,
   "metadata": {},
   "outputs": [
    {
     "name": "stderr",
     "output_type": "stream",
     "text": [
      "2018-03-06 15:24:45,720 - INFO - cd /home/jannis/PhD/code/GLOFRIMplusCAMA/glofrim\n",
      "2018-03-06 15:24:45,720 bmi.wrapper INFO cd /home/jannis/PhD/code/GLOFRIMplusCAMA/glofrim\n"
     ]
    }
   ],
   "source": [
    "# finalize model\n",
    "PCR_bmi.finalize()\n",
    "\n",
    "# finalize model\n",
    "CMF_bmi.finalize()"
   ]
  },
  {
   "cell_type": "code",
   "execution_count": null,
   "metadata": {},
   "outputs": [],
   "source": []
  }
 ],
 "metadata": {
  "anaconda-cloud": {},
  "kernelspec": {
   "display_name": "Python [default]",
   "language": "python",
   "name": "python2"
  },
  "language_info": {
   "codemirror_mode": {
    "name": "ipython",
    "version": 2
   },
   "file_extension": ".py",
   "mimetype": "text/x-python",
   "name": "python",
   "nbconvert_exporter": "python",
   "pygments_lexer": "ipython2",
   "version": "2.7.12"
  }
 },
 "nbformat": 4,
 "nbformat_minor": 2
}
